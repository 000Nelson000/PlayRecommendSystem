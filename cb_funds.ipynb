{
 "cells": [
  {
   "cell_type": "markdown",
   "metadata": {},
   "source": [
    "# 基於內容的推薦方法 (Content based)\n",
    "\n",
    "實驗利用基金屬性資料的推薦法\n",
    "\n",
    "## 概念: \n",
    "\n",
    "* 蒐集基金六種屬性\n",
    "        1. 投資區域\n",
    "        2. 基金類型\n",
    "        3. 配息頻率\n",
    "        4. 基金目前規模區間\n",
    "        5. 高收益債\n",
    "        6. 風險屬性\n",
    "        \n",
    "* 利用已買的基金屬性, 推算用戶**偏好**屬性**權重**\n",
    "    \n",
    "    \n",
    "    1. 已買 J12 (新興市場, 組合型, 10-100億元, 高風險), J23 (新興市場,平衡型, 100億元以上,高風險) ==> 特徵: 新興市場(2/2), 高風險(2/2), 組合型(1/2),平衡型(1/2),10-100億元(1/2),100億元(1/2)\n",
    "    \n",
    "    2. 候選基金中,計算分數 新興市場(2/2) + 高風險(2/2) + 組合型(1/2) + 平衡型(1/2) + 10-100億元(1/2) + 100億元以上(1/2) \n",
    "    \n",
    "    3. 排序"
   ]
  },
  {
   "cell_type": "code",
   "execution_count": 1,
   "metadata": {
    "collapsed": false
   },
   "outputs": [],
   "source": [
    "import pandas as pd\n",
    "import pypyodbc \n",
    "from tqdm import tqdm \n",
    "import numpy as np \n",
    "import pickle"
   ]
  },
  {
   "cell_type": "code",
   "execution_count": 2,
   "metadata": {
    "collapsed": true
   },
   "outputs": [],
   "source": [
    "conn = pypyodbc.connect(\"DRIVER={SQL Server};SERVER=dbm_public;UID=sa;PWD=01060728;DATABASE=test\")"
   ]
  },
  {
   "cell_type": "markdown",
   "metadata": {},
   "source": [
    "## 整理基金屬性"
   ]
  },
  {
   "cell_type": "code",
   "execution_count": 3,
   "metadata": {
    "collapsed": false
   },
   "outputs": [
    {
     "data": {
      "text/html": [
       "<div>\n",
       "<style>\n",
       "    .dataframe thead tr:only-child th {\n",
       "        text-align: right;\n",
       "    }\n",
       "\n",
       "    .dataframe thead th {\n",
       "        text-align: left;\n",
       "    }\n",
       "\n",
       "    .dataframe tbody tr th {\n",
       "        vertical-align: top;\n",
       "    }\n",
       "</style>\n",
       "<table border=\"1\" class=\"dataframe\">\n",
       "  <thead>\n",
       "    <tr style=\"text-align: right;\">\n",
       "      <th></th>\n",
       "      <th>基金代碼</th>\n",
       "      <th>投資區域</th>\n",
       "      <th>基金類型</th>\n",
       "      <th>配息頻率</th>\n",
       "      <th>基金目前規模區間</th>\n",
       "      <th>高收益債</th>\n",
       "      <th>風險屬性</th>\n",
       "    </tr>\n",
       "  </thead>\n",
       "  <tbody>\n",
       "    <tr>\n",
       "      <th>0</th>\n",
       "      <td>100</td>\n",
       "      <td>台灣</td>\n",
       "      <td>股票型</td>\n",
       "      <td>None</td>\n",
       "      <td>d.10~100億元台幣</td>\n",
       "      <td>None</td>\n",
       "      <td>None</td>\n",
       "    </tr>\n",
       "    <tr>\n",
       "      <th>1</th>\n",
       "      <td>101</td>\n",
       "      <td>台灣</td>\n",
       "      <td>股票型</td>\n",
       "      <td>None</td>\n",
       "      <td>c.5~10億元台幣</td>\n",
       "      <td>None</td>\n",
       "      <td>None</td>\n",
       "    </tr>\n",
       "    <tr>\n",
       "      <th>2</th>\n",
       "      <td>103</td>\n",
       "      <td>台灣</td>\n",
       "      <td>股票型</td>\n",
       "      <td>None</td>\n",
       "      <td>c.5~10億元台幣</td>\n",
       "      <td>None</td>\n",
       "      <td>None</td>\n",
       "    </tr>\n",
       "  </tbody>\n",
       "</table>\n",
       "</div>"
      ],
      "text/plain": [
       "  基金代碼 投資區域 基金類型  配息頻率      基金目前規模區間  高收益債  風險屬性\n",
       "0  100   台灣  股票型  None  d.10~100億元台幣  None  None\n",
       "1  101   台灣  股票型  None    c.5~10億元台幣  None  None\n",
       "2  103   台灣  股票型  None    c.5~10億元台幣  None  None"
      ]
     },
     "execution_count": 3,
     "metadata": {},
     "output_type": "execute_result"
    }
   ],
   "source": [
    "df_item_features = pd.read_sql(\"\"\"\n",
    "    select [基金代碼],\n",
    "        [投資區域],\n",
    "        [基金類型],\n",
    "        [配息頻率],\n",
    "        [基金目前規模區間],\n",
    "        [高收益債],\n",
    "        [風險屬性]\n",
    "    from ihong_基金推薦demo_基金特徵2\n",
    "\"\"\",conn)\n",
    "df_item_features.head(3)"
   ]
  },
  {
   "cell_type": "markdown",
   "metadata": {},
   "source": [
    "## 用戶購買資料"
   ]
  },
  {
   "cell_type": "code",
   "execution_count": 4,
   "metadata": {
    "collapsed": false
   },
   "outputs": [],
   "source": [
    "with open('./funds/sp_funds_datasets.pickle','rb') as f:\n",
    "    data = pickle.load(f)"
   ]
  },
  {
   "cell_type": "code",
   "execution_count": 5,
   "metadata": {
    "collapsed": false
   },
   "outputs": [],
   "source": [
    "test = data['test']\n",
    "train = data['train']\n",
    "user_idxs = data['user_idxs']\n",
    "idx_to_userid = data['idx_to_userid']\n",
    "userid_to_idx = data['userid_to_idx']\n",
    "idx_to_itemid = data['idx_to_itemid']\n",
    "itemid_to_idx = data['itemid_to_idx']\n",
    "\n",
    "fundid_names_df = pd.read_csv('./funds/fundid_to_name.csv',encoding='cp950')\n",
    "fundid_to_names = {}\n",
    "\n",
    "for d in fundid_names_df.to_dict('records'):\n",
    "    fundid_to_names[d['基金代碼']] = d['基金中文名稱']"
   ]
  },
  {
   "cell_type": "code",
   "execution_count": 6,
   "metadata": {
    "collapsed": false
   },
   "outputs": [
    {
     "data": {
      "text/html": [
       "<div>\n",
       "<style>\n",
       "    .dataframe thead tr:only-child th {\n",
       "        text-align: right;\n",
       "    }\n",
       "\n",
       "    .dataframe thead th {\n",
       "        text-align: left;\n",
       "    }\n",
       "\n",
       "    .dataframe tbody tr th {\n",
       "        vertical-align: top;\n",
       "    }\n",
       "</style>\n",
       "<table border=\"1\" class=\"dataframe\">\n",
       "  <thead>\n",
       "    <tr style=\"text-align: right;\">\n",
       "      <th></th>\n",
       "      <th>基金代碼</th>\n",
       "      <th>投資區域</th>\n",
       "      <th>基金類型</th>\n",
       "      <th>配息頻率</th>\n",
       "      <th>基金目前規模區間</th>\n",
       "      <th>高收益債</th>\n",
       "      <th>風險屬性</th>\n",
       "      <th>iidx</th>\n",
       "    </tr>\n",
       "  </thead>\n",
       "  <tbody>\n",
       "    <tr>\n",
       "      <th>0</th>\n",
       "      <td>100</td>\n",
       "      <td>台灣</td>\n",
       "      <td>股票型</td>\n",
       "      <td>None</td>\n",
       "      <td>d.10~100億元台幣</td>\n",
       "      <td>None</td>\n",
       "      <td>None</td>\n",
       "      <td>871.0</td>\n",
       "    </tr>\n",
       "    <tr>\n",
       "      <th>1</th>\n",
       "      <td>101</td>\n",
       "      <td>台灣</td>\n",
       "      <td>股票型</td>\n",
       "      <td>None</td>\n",
       "      <td>c.5~10億元台幣</td>\n",
       "      <td>None</td>\n",
       "      <td>None</td>\n",
       "      <td>1355.0</td>\n",
       "    </tr>\n",
       "    <tr>\n",
       "      <th>2</th>\n",
       "      <td>103</td>\n",
       "      <td>台灣</td>\n",
       "      <td>股票型</td>\n",
       "      <td>None</td>\n",
       "      <td>c.5~10億元台幣</td>\n",
       "      <td>None</td>\n",
       "      <td>None</td>\n",
       "      <td>198.0</td>\n",
       "    </tr>\n",
       "  </tbody>\n",
       "</table>\n",
       "</div>"
      ],
      "text/plain": [
       "  基金代碼 投資區域 基金類型  配息頻率      基金目前規模區間  高收益債  風險屬性    iidx\n",
       "0  100   台灣  股票型  None  d.10~100億元台幣  None  None   871.0\n",
       "1  101   台灣  股票型  None    c.5~10億元台幣  None  None  1355.0\n",
       "2  103   台灣  股票型  None    c.5~10億元台幣  None  None   198.0"
      ]
     },
     "execution_count": 6,
     "metadata": {},
     "output_type": "execute_result"
    }
   ],
   "source": [
    "df_item_features['iidx'] = df_item_features['基金代碼'].\\\n",
    "    apply(lambda row,mapper:mapper.get(row,np.nan),args=[itemid_to_idx])\n",
    "df_item_features.head(3)    "
   ]
  },
  {
   "cell_type": "markdown",
   "metadata": {
    "collapsed": false
   },
   "source": [
    "### 測試單一用戶購買的基金特徵    "
   ]
  },
  {
   "cell_type": "code",
   "execution_count": 7,
   "metadata": {
    "collapsed": false
   },
   "outputs": [
    {
     "data": {
      "text/html": [
       "<div>\n",
       "<style>\n",
       "    .dataframe thead tr:only-child th {\n",
       "        text-align: right;\n",
       "    }\n",
       "\n",
       "    .dataframe thead th {\n",
       "        text-align: left;\n",
       "    }\n",
       "\n",
       "    .dataframe tbody tr th {\n",
       "        vertical-align: top;\n",
       "    }\n",
       "</style>\n",
       "<table border=\"1\" class=\"dataframe\">\n",
       "  <thead>\n",
       "    <tr style=\"text-align: right;\">\n",
       "      <th></th>\n",
       "      <th>基金代碼</th>\n",
       "      <th>投資區域</th>\n",
       "      <th>基金類型</th>\n",
       "      <th>配息頻率</th>\n",
       "      <th>基金目前規模區間</th>\n",
       "      <th>高收益債</th>\n",
       "      <th>風險屬性</th>\n",
       "      <th>iidx</th>\n",
       "    </tr>\n",
       "  </thead>\n",
       "  <tbody>\n",
       "    <tr>\n",
       "      <th>422</th>\n",
       "      <td>63Z</td>\n",
       "      <td>中國</td>\n",
       "      <td>股票型</td>\n",
       "      <td>None</td>\n",
       "      <td>h.1~5兆元台幣</td>\n",
       "      <td>None</td>\n",
       "      <td>高風險</td>\n",
       "      <td>32.0</td>\n",
       "    </tr>\n",
       "    <tr>\n",
       "      <th>627</th>\n",
       "      <td>770</td>\n",
       "      <td>全球</td>\n",
       "      <td>股票型</td>\n",
       "      <td>None</td>\n",
       "      <td>h.1~5兆元台幣</td>\n",
       "      <td>None</td>\n",
       "      <td>None</td>\n",
       "      <td>75.0</td>\n",
       "    </tr>\n",
       "    <tr>\n",
       "      <th>664</th>\n",
       "      <td>78M</td>\n",
       "      <td>歐洲</td>\n",
       "      <td>股票型</td>\n",
       "      <td>None</td>\n",
       "      <td>h.1~5兆元台幣</td>\n",
       "      <td>None</td>\n",
       "      <td>None</td>\n",
       "      <td>61.0</td>\n",
       "    </tr>\n",
       "    <tr>\n",
       "      <th>667</th>\n",
       "      <td>78S</td>\n",
       "      <td>歐洲</td>\n",
       "      <td>股票型</td>\n",
       "      <td>None</td>\n",
       "      <td>h.1~5兆元台幣</td>\n",
       "      <td>None</td>\n",
       "      <td>None</td>\n",
       "      <td>14.0</td>\n",
       "    </tr>\n",
       "    <tr>\n",
       "      <th>754</th>\n",
       "      <td>83F</td>\n",
       "      <td>新興市場</td>\n",
       "      <td>股票型</td>\n",
       "      <td>None</td>\n",
       "      <td>h.1~5兆元台幣</td>\n",
       "      <td>None</td>\n",
       "      <td>高風險</td>\n",
       "      <td>1938.0</td>\n",
       "    </tr>\n",
       "    <tr>\n",
       "      <th>1541</th>\n",
       "      <td>MB4</td>\n",
       "      <td>全球</td>\n",
       "      <td>股票型</td>\n",
       "      <td>None</td>\n",
       "      <td>i.5~10兆元台幣</td>\n",
       "      <td>None</td>\n",
       "      <td>None</td>\n",
       "      <td>24.0</td>\n",
       "    </tr>\n",
       "    <tr>\n",
       "      <th>1736</th>\n",
       "      <td>T37</td>\n",
       "      <td>全球</td>\n",
       "      <td>平衡型</td>\n",
       "      <td>月配</td>\n",
       "      <td>i.&gt;10兆元台幣</td>\n",
       "      <td>高收益債</td>\n",
       "      <td>None</td>\n",
       "      <td>162.0</td>\n",
       "    </tr>\n",
       "    <tr>\n",
       "      <th>1911</th>\n",
       "      <td>Y38</td>\n",
       "      <td>美國</td>\n",
       "      <td>股票型</td>\n",
       "      <td>None</td>\n",
       "      <td>i.5~10兆元台幣</td>\n",
       "      <td>None</td>\n",
       "      <td>None</td>\n",
       "      <td>107.0</td>\n",
       "    </tr>\n",
       "  </tbody>\n",
       "</table>\n",
       "</div>"
      ],
      "text/plain": [
       "     基金代碼  投資區域 基金類型  配息頻率    基金目前規模區間  高收益債  風險屬性    iidx\n",
       "422   63Z    中國  股票型  None   h.1~5兆元台幣  None   高風險    32.0\n",
       "627   770    全球  股票型  None   h.1~5兆元台幣  None  None    75.0\n",
       "664   78M    歐洲  股票型  None   h.1~5兆元台幣  None  None    61.0\n",
       "667   78S    歐洲  股票型  None   h.1~5兆元台幣  None  None    14.0\n",
       "754   83F  新興市場  股票型  None   h.1~5兆元台幣  None   高風險  1938.0\n",
       "1541  MB4    全球  股票型  None  i.5~10兆元台幣  None  None    24.0\n",
       "1736  T37    全球  平衡型    月配   i.>10兆元台幣  高收益債  None   162.0\n",
       "1911  Y38    美國  股票型  None  i.5~10兆元台幣  None  None   107.0"
      ]
     },
     "execution_count": 7,
     "metadata": {},
     "output_type": "execute_result"
    }
   ],
   "source": [
    "test_uidx = 100\n",
    "user_pur_item_indx = train[test_uidx,].indices\n",
    "test_item_df = df_item_features[df_item_features['iidx'].isin(user_pur_item_indx)]\n",
    "test_item_df"
   ]
  },
  {
   "cell_type": "markdown",
   "metadata": {},
   "source": [
    "### 彙整成`dict`"
   ]
  },
  {
   "cell_type": "code",
   "execution_count": 8,
   "metadata": {
    "collapsed": true
   },
   "outputs": [],
   "source": [
    "from collections import defaultdict"
   ]
  },
  {
   "cell_type": "code",
   "execution_count": 9,
   "metadata": {
    "collapsed": false
   },
   "outputs": [
    {
     "data": {
      "text/plain": [
       "8"
      ]
     },
     "execution_count": 9,
     "metadata": {},
     "output_type": "execute_result"
    }
   ],
   "source": [
    "test_item_df.shape[0]"
   ]
  },
  {
   "cell_type": "code",
   "execution_count": 10,
   "metadata": {
    "collapsed": false,
    "scrolled": true
   },
   "outputs": [
    {
     "name": "stdout",
     "output_type": "stream",
     "text": [
      "----------------------------------------\n",
      "特徵:股票型\n",
      "權重:0.88\n",
      "----------------------------------------\n",
      "特徵:h.1~5兆元台幣\n",
      "權重:0.62\n",
      "----------------------------------------\n",
      "特徵:全球\n",
      "權重:0.38\n",
      "----------------------------------------\n",
      "特徵:高風險\n",
      "權重:0.25\n",
      "----------------------------------------\n",
      "特徵:歐洲\n",
      "權重:0.25\n",
      "----------------------------------------\n",
      "特徵:i.5~10兆元台幣\n",
      "權重:0.25\n",
      "----------------------------------------\n",
      "特徵:中國\n",
      "權重:0.12\n",
      "----------------------------------------\n",
      "特徵:新興市場\n",
      "權重:0.12\n",
      "----------------------------------------\n",
      "特徵:平衡型\n",
      "權重:0.12\n",
      "----------------------------------------\n",
      "特徵:月配\n",
      "權重:0.12\n",
      "----------------------------------------\n",
      "特徵:i.>10兆元台幣\n",
      "權重:0.12\n",
      "----------------------------------------\n",
      "特徵:高收益債\n",
      "權重:0.12\n",
      "----------------------------------------\n",
      "特徵:美國\n",
      "權重:0.12\n",
      "----------------------------------------\n"
     ]
    }
   ],
   "source": [
    "# defaultdict\n",
    "tmp = defaultdict(int)\n",
    "num_of_pur_by_user = test_item_df.shape[0]\n",
    "for idx, row in test_item_df.iterrows():\n",
    "    for e in row[1:-1].tolist():\n",
    "        if e:\n",
    "            tmp[e]+=1\n",
    "total = sum(tmp.values())\n",
    "tmp2 = {k:v/ num_of_pur_by_user for k,v in tmp.items()}\n",
    "print('----'*10)\n",
    "for k in sorted(tmp2,key=tmp2.get,reverse=True)[:20]:\n",
    "    print('特徵:{}'.format(k))\n",
    "    print('權重:{:.2f}'.format(tmp2[k]))\n",
    "    print('----'*10)"
   ]
  },
  {
   "cell_type": "markdown",
   "metadata": {},
   "source": [
    "### 所有用戶的購買特徵"
   ]
  },
  {
   "cell_type": "code",
   "execution_count": 11,
   "metadata": {
    "collapsed": false
   },
   "outputs": [
    {
     "name": "stderr",
     "output_type": "stream",
     "text": [
      "100%|███████████████████████████████████| 26324/26324 [00:36<00:00, 714.83it/s]\n"
     ]
    }
   ],
   "source": [
    "user_numbers = train.shape[0]\n",
    "users_pur_profile = {}\n",
    "for uidx in tqdm(range(user_numbers)):\n",
    "    user_pur_item_idxs = train[uidx,].indices\n",
    "    user_pur_items_df = df_item_features[df_item_features['iidx'].isin(user_pur_item_idxs)]\n",
    "    \n",
    "    user_profile = defaultdict(int)\n",
    "    num_of_pur_by_user = user_pur_items_df.shape[0]\n",
    "    for idx, row in user_pur_items_df.iterrows():\n",
    "        for e in row[1:-1].tolist():\n",
    "            if e:\n",
    "                user_profile[e] +=1\n",
    "#     total = sum(user_profile.values())\n",
    "    \n",
    "    user_profile = {k:v/ num_of_pur_by_user for k,v in user_profile.items()}\n",
    "    \n",
    "    users_pur_profile[uidx] = user_profile"
   ]
  },
  {
   "cell_type": "code",
   "execution_count": 12,
   "metadata": {
    "collapsed": false
   },
   "outputs": [
    {
     "name": "stdout",
     "output_type": "stream",
     "text": [
      "特徵:股票型,\t權重:0.88\n",
      "----------------------------------------\n",
      "特徵:h.1~5兆元台幣,\t權重:0.62\n",
      "----------------------------------------\n",
      "特徵:全球,\t權重:0.38\n",
      "----------------------------------------\n",
      "特徵:高風險,\t權重:0.25\n",
      "----------------------------------------\n",
      "特徵:歐洲,\t權重:0.25\n",
      "----------------------------------------\n",
      "特徵:i.5~10兆元台幣,\t權重:0.25\n",
      "----------------------------------------\n",
      "特徵:中國,\t權重:0.12\n",
      "----------------------------------------\n",
      "特徵:新興市場,\t權重:0.12\n",
      "----------------------------------------\n",
      "特徵:平衡型,\t權重:0.12\n",
      "----------------------------------------\n",
      "特徵:月配,\t權重:0.12\n",
      "----------------------------------------\n",
      "特徵:i.>10兆元台幣,\t權重:0.12\n",
      "----------------------------------------\n",
      "特徵:高收益債,\t權重:0.12\n",
      "----------------------------------------\n",
      "特徵:美國,\t權重:0.12\n",
      "----------------------------------------\n"
     ]
    }
   ],
   "source": [
    "test_uidx = 100\n",
    "for w in sorted(users_pur_profile[test_uidx],key=users_pur_profile[test_uidx].get, reverse=True):\n",
    "    print('特徵:{},\\t權重:{:.2f}'.format(w,users_pur_profile[test_uidx][w]))\n",
    "    print('--'*20)"
   ]
  },
  {
   "cell_type": "markdown",
   "metadata": {},
   "source": [
    "## 基於每個用戶的選購特徵作內容推薦"
   ]
  },
  {
   "cell_type": "code",
   "execution_count": 13,
   "metadata": {
    "collapsed": false
   },
   "outputs": [
    {
     "data": {
      "text/plain": [
       "基金代碼                 100\n",
       "投資區域                  台灣\n",
       "基金類型                 股票型\n",
       "配息頻率                None\n",
       "基金目前規模區間    d.10~100億元台幣\n",
       "高收益債                None\n",
       "風險屬性                None\n",
       "iidx                 871\n",
       "Name: 0, dtype: object"
      ]
     },
     "execution_count": 13,
     "metadata": {},
     "output_type": "execute_result"
    }
   ],
   "source": [
    "temp = next(df_item_features.iterrows())[1]\n",
    "temp"
   ]
  },
  {
   "cell_type": "code",
   "execution_count": 79,
   "metadata": {
    "collapsed": false
   },
   "outputs": [
    {
     "data": {
      "text/plain": [
       "26324"
      ]
     },
     "execution_count": 79,
     "metadata": {},
     "output_type": "execute_result"
    }
   ],
   "source": [
    "len(users_pur_profile.keys())"
   ]
  },
  {
   "cell_type": "code",
   "execution_count": 14,
   "metadata": {
    "collapsed": false
   },
   "outputs": [],
   "source": [
    "def get_cb_scores(uidx,df_item_features,user_pur_profile):\n",
    "    \"\"\"for a uidx calculate content based scores w.r.t user_pur_profile \"\"\"\n",
    "    scores = {}\n",
    "    for _, row in df_item_features.iterrows():\n",
    "        score = 0\n",
    "        iidx = row['iidx']\n",
    "        for key in row[1:-1]:\n",
    "            if user_pur_profile.get(key):\n",
    "                score += user_pur_profile.get(key)\n",
    "        scores[iidx] = score\n",
    "    return scores\n",
    "        "
   ]
  },
  {
   "cell_type": "code",
   "execution_count": 15,
   "metadata": {
    "collapsed": true
   },
   "outputs": [],
   "source": [
    "test_uidx = 100\n",
    "uidx100_cb_scores = get_cb_scores(test_uidx,df_item_features,users_pur_profile[test_uidx])\n"
   ]
  },
  {
   "cell_type": "markdown",
   "metadata": {},
   "source": [
    "### 觀察其中一個用戶的推薦結果"
   ]
  },
  {
   "cell_type": "code",
   "execution_count": 16,
   "metadata": {
    "collapsed": false
   },
   "outputs": [
    {
     "data": {
      "text/plain": [
       "{'全球', None, '高風險', '股票型', 'h.1~5兆元台幣'}"
      ]
     },
     "execution_count": 16,
     "metadata": {},
     "output_type": "execute_result"
    }
   ],
   "source": [
    "set(df_item_features[df_item_features['基金代碼'] =='IQ7'].loc[:,'投資區域':'風險屬性'].values.flatten())"
   ]
  },
  {
   "cell_type": "code",
   "execution_count": 17,
   "metadata": {
    "collapsed": false,
    "scrolled": false
   },
   "outputs": [
    {
     "name": "stdout",
     "output_type": "stream",
     "text": [
      "特徵:股票型,\t權重:0.88\n",
      "----------------------------------------\n",
      "特徵:h.1~5兆元台幣,\t權重:0.62\n",
      "----------------------------------------\n",
      "特徵:全球,\t權重:0.38\n",
      "----------------------------------------\n",
      "特徵:高風險,\t權重:0.25\n",
      "----------------------------------------\n",
      "特徵:歐洲,\t權重:0.25\n",
      "----------------------------------------\n",
      "特徵:i.5~10兆元台幣,\t權重:0.25\n",
      "----------------------------------------\n",
      "特徵:中國,\t權重:0.12\n",
      "----------------------------------------\n",
      "特徵:新興市場,\t權重:0.12\n",
      "----------------------------------------\n",
      "特徵:平衡型,\t權重:0.12\n",
      "----------------------------------------\n",
      "特徵:月配,\t權重:0.12\n",
      "----------------------------------------\n",
      "特徵:i.>10兆元台幣,\t權重:0.12\n",
      "----------------------------------------\n",
      "特徵:高收益債,\t權重:0.12\n",
      "----------------------------------------\n",
      "特徵:美國,\t權重:0.12\n",
      "----------------------------------------\n",
      "基金代碼:IO6\n",
      "\t 共同特徵:{'高風險', '股票型', 'h.1~5兆元台幣', '全球'}\n",
      "基金代碼:IQ7\n",
      "\t 共同特徵:{'高風險', '股票型', 'h.1~5兆元台幣', '全球'}\n",
      "基金代碼:X01\n",
      "\t 共同特徵:{'高風險', '股票型', 'h.1~5兆元台幣', '全球'}\n",
      "基金代碼:52L\n",
      "\t 共同特徵:{'股票型', '月配', 'h.1~5兆元台幣', '全球'}\n",
      "基金代碼:72A\n",
      "\t 共同特徵:{'股票型', '月配', 'h.1~5兆元台幣', '全球'}\n",
      "基金代碼:72B\n",
      "\t 共同特徵:{'股票型', '月配', 'h.1~5兆元台幣', '全球'}\n",
      "基金代碼:74Z\n",
      "\t 共同特徵:{'股票型', '月配', 'h.1~5兆元台幣', '全球'}\n",
      "基金代碼:75R\n",
      "\t 共同特徵:{'股票型', '月配', 'h.1~5兆元台幣', '全球'}\n",
      "基金代碼:75S\n",
      "\t 共同特徵:{'股票型', '月配', 'h.1~5兆元台幣', '全球'}\n",
      "基金代碼:77P\n",
      "\t 共同特徵:{'股票型', '月配', 'h.1~5兆元台幣', '全球'}\n"
     ]
    }
   ],
   "source": [
    "test_uidx = 100\n",
    "for w in sorted(users_pur_profile[test_uidx],key=users_pur_profile[test_uidx].get, reverse=True):\n",
    "    print('特徵:{},\\t權重:{:.2f}'.format(w,users_pur_profile[test_uidx][w]))\n",
    "    print('--'*20)\n",
    "\n",
    "uidx100_cb_scores = get_cb_scores(test_uidx,df_item_features,users_pur_profile[test_uidx])\n",
    "\n",
    "for iidx in sorted(uidx100_cb_scores,key=uidx100_cb_scores.get,reverse=True)[:10]: ## top 20 iidx\n",
    "    print('基金代碼:{}'.format(idx_to_itemid.get(iidx)))\n",
    "    fund_feat_set = set(df_item_features[df_item_features['iidx'] ==iidx].loc[:,'投資區域':'風險屬性'].values.flatten())\n",
    "    user_feat_set = set(users_pur_profile[test_uidx].keys())\n",
    "    union_feat_set = fund_feat_set.intersection(user_feat_set)\n",
    "    print('\\t 共同特徵:{}'.format(union_feat_set))"
   ]
  },
  {
   "cell_type": "markdown",
   "metadata": {},
   "source": [
    "## 評估內容推薦結果"
   ]
  },
  {
   "cell_type": "code",
   "execution_count": 21,
   "metadata": {
    "collapsed": false
   },
   "outputs": [],
   "source": [
    "## 在train set 裡面給出10個推薦基金, 評估recall \n",
    "def get_cb_rec_items(uidx,users_pur_profile,df_item_features,topN = 10):\n",
    "    \"\"\"\n",
    "    \n",
    "    params\n",
    "    ======\n",
    "    uidx : (int) user index \n",
    "    users_pur_profile : (dict) features scores for every useridx \n",
    "                        ex: {\n",
    "                                uidx1: {\n",
    "                                        feat1:score1,\n",
    "                                        feat2:score2,...\n",
    "                                    },\n",
    "                                uidx0:{\n",
    "                                        feat1:score1,\n",
    "                                        feat2:score2,...\n",
    "                                }\n",
    "                            }\n",
    "    df_item_features : (dataframe) all items features \n",
    "    topN : (int) numbers of recommended items\n",
    "    \n",
    "    return\n",
    "    ======\n",
    "    \n",
    "    (DataFrame) recommended topN funds, scores, reason(union features)\n",
    "    \"\"\"\n",
    "    uidx_cb_scores = get_cb_scores(uidx,df_item_features,users_pur_profile[test_uidx])\n",
    "    \n",
    "#     fundid_rec_topN = [idx_to_itemid.get(iidx) for iidx in \n",
    "#                        sorted(uidx_cb_scores,key=uidx100_cb_scores.get,reverse=True)[:topN]] ## topN iidx\n",
    "#     scores = [uidx_cb_scores.get(fundid) for fundid in fundid_rec_topN]\n",
    "    \n",
    "    fundid_rec_topN = []\n",
    "    scores = []\n",
    "    union_feat_sets = []\n",
    "    reasons = []\n",
    "    \n",
    "    for iidx in sorted(uidx_cb_scores,key=uidx_cb_scores.get,reverse=True)[:topN]:        \n",
    "        fundid = idx_to_itemid.get(iidx)\n",
    "        score = uidx_cb_scores.get(iidx)\n",
    "        \n",
    "        fund_feat_set = set(df_item_features[df_item_features['iidx'] ==iidx].loc[:,'投資區域':'風險屬性'].values.flatten())\n",
    "        user_feat_set = set(users_pur_profile[uidx].keys())\n",
    "        union_feat_set = fund_feat_set.intersection(user_feat_set)\n",
    "        \n",
    "        reason_list = [str(users_pur_profile[uidx][list(union_feat_set)[ii]])[:5] + '*' + list(union_feat_set)[ii] \\\n",
    "                       for ii in range(len(union_feat_set))]\n",
    "        reason_str = ' + '.join(reason_list)\n",
    "        reasons.append(reason_str)\n",
    "        \n",
    "        fundid_rec_topN.append(fundid)\n",
    "        scores.append(score)\n",
    "        union_feat_sets.append(union_feat_set)                \n",
    "        \n",
    "    return pd.DataFrame({'fundid':fundid_rec_topN, 'score':scores, 'tag_features':reasons})"
   ]
  },
  {
   "cell_type": "code",
   "execution_count": 57,
   "metadata": {
    "collapsed": false
   },
   "outputs": [
    {
     "data": {
      "text/plain": [
       "'0.375*全球'"
      ]
     },
     "execution_count": 57,
     "metadata": {},
     "output_type": "execute_result"
    }
   ],
   "source": [
    "str(users_pur_profile[100][list(union_feat_set)[3]]) + '*' + list(union_feat_set)[3] "
   ]
  },
  {
   "cell_type": "code",
   "execution_count": 67,
   "metadata": {
    "collapsed": false
   },
   "outputs": [
    {
     "data": {
      "text/plain": [
       "'0.375*全球'"
      ]
     },
     "execution_count": 67,
     "metadata": {},
     "output_type": "execute_result"
    }
   ],
   "source": [
    "str(users_pur_profile[100][list(union_feat_set)[3]])[:5] + '*' + list(union_feat_set)[3] "
   ]
  },
  {
   "cell_type": "code",
   "execution_count": 22,
   "metadata": {
    "collapsed": false
   },
   "outputs": [
    {
     "data": {
      "text/html": [
       "<div>\n",
       "<style>\n",
       "    .dataframe thead tr:only-child th {\n",
       "        text-align: right;\n",
       "    }\n",
       "\n",
       "    .dataframe thead th {\n",
       "        text-align: left;\n",
       "    }\n",
       "\n",
       "    .dataframe tbody tr th {\n",
       "        vertical-align: top;\n",
       "    }\n",
       "</style>\n",
       "<table border=\"1\" class=\"dataframe\">\n",
       "  <thead>\n",
       "    <tr style=\"text-align: right;\">\n",
       "      <th></th>\n",
       "      <th>fundid</th>\n",
       "      <th>score</th>\n",
       "      <th>tag_features</th>\n",
       "    </tr>\n",
       "  </thead>\n",
       "  <tbody>\n",
       "    <tr>\n",
       "      <th>0</th>\n",
       "      <td>IO6</td>\n",
       "      <td>2.125</td>\n",
       "      <td>0.25*高風險 + 0.875*股票型 + 0.625*h.1~5兆元台幣 + 0.375*全球</td>\n",
       "    </tr>\n",
       "    <tr>\n",
       "      <th>1</th>\n",
       "      <td>IQ7</td>\n",
       "      <td>2.125</td>\n",
       "      <td>0.25*高風險 + 0.875*股票型 + 0.625*h.1~5兆元台幣 + 0.375*全球</td>\n",
       "    </tr>\n",
       "    <tr>\n",
       "      <th>2</th>\n",
       "      <td>X01</td>\n",
       "      <td>2.125</td>\n",
       "      <td>0.25*高風險 + 0.875*股票型 + 0.625*h.1~5兆元台幣 + 0.375*全球</td>\n",
       "    </tr>\n",
       "    <tr>\n",
       "      <th>3</th>\n",
       "      <td>52L</td>\n",
       "      <td>2.000</td>\n",
       "      <td>0.875*股票型 + 0.125*月配 + 0.625*h.1~5兆元台幣 + 0.375*全球</td>\n",
       "    </tr>\n",
       "    <tr>\n",
       "      <th>4</th>\n",
       "      <td>72A</td>\n",
       "      <td>2.000</td>\n",
       "      <td>0.875*股票型 + 0.125*月配 + 0.625*h.1~5兆元台幣 + 0.375*全球</td>\n",
       "    </tr>\n",
       "    <tr>\n",
       "      <th>5</th>\n",
       "      <td>72B</td>\n",
       "      <td>2.000</td>\n",
       "      <td>0.875*股票型 + 0.125*月配 + 0.625*h.1~5兆元台幣 + 0.375*全球</td>\n",
       "    </tr>\n",
       "    <tr>\n",
       "      <th>6</th>\n",
       "      <td>74Z</td>\n",
       "      <td>2.000</td>\n",
       "      <td>0.875*股票型 + 0.125*月配 + 0.625*h.1~5兆元台幣 + 0.375*全球</td>\n",
       "    </tr>\n",
       "    <tr>\n",
       "      <th>7</th>\n",
       "      <td>75R</td>\n",
       "      <td>2.000</td>\n",
       "      <td>0.875*股票型 + 0.125*月配 + 0.625*h.1~5兆元台幣 + 0.375*全球</td>\n",
       "    </tr>\n",
       "    <tr>\n",
       "      <th>8</th>\n",
       "      <td>75S</td>\n",
       "      <td>2.000</td>\n",
       "      <td>0.875*股票型 + 0.125*月配 + 0.625*h.1~5兆元台幣 + 0.375*全球</td>\n",
       "    </tr>\n",
       "    <tr>\n",
       "      <th>9</th>\n",
       "      <td>77P</td>\n",
       "      <td>2.000</td>\n",
       "      <td>0.875*股票型 + 0.125*月配 + 0.625*h.1~5兆元台幣 + 0.375*全球</td>\n",
       "    </tr>\n",
       "  </tbody>\n",
       "</table>\n",
       "</div>"
      ],
      "text/plain": [
       "  fundid  score                                       tag_features\n",
       "0    IO6  2.125  0.25*高風險 + 0.875*股票型 + 0.625*h.1~5兆元台幣 + 0.375*全球\n",
       "1    IQ7  2.125  0.25*高風險 + 0.875*股票型 + 0.625*h.1~5兆元台幣 + 0.375*全球\n",
       "2    X01  2.125  0.25*高風險 + 0.875*股票型 + 0.625*h.1~5兆元台幣 + 0.375*全球\n",
       "3    52L  2.000  0.875*股票型 + 0.125*月配 + 0.625*h.1~5兆元台幣 + 0.375*全球\n",
       "4    72A  2.000  0.875*股票型 + 0.125*月配 + 0.625*h.1~5兆元台幣 + 0.375*全球\n",
       "5    72B  2.000  0.875*股票型 + 0.125*月配 + 0.625*h.1~5兆元台幣 + 0.375*全球\n",
       "6    74Z  2.000  0.875*股票型 + 0.125*月配 + 0.625*h.1~5兆元台幣 + 0.375*全球\n",
       "7    75R  2.000  0.875*股票型 + 0.125*月配 + 0.625*h.1~5兆元台幣 + 0.375*全球\n",
       "8    75S  2.000  0.875*股票型 + 0.125*月配 + 0.625*h.1~5兆元台幣 + 0.375*全球\n",
       "9    77P  2.000  0.875*股票型 + 0.125*月配 + 0.625*h.1~5兆元台幣 + 0.375*全球"
      ]
     },
     "execution_count": 22,
     "metadata": {},
     "output_type": "execute_result"
    }
   ],
   "source": [
    "get_cb_rec_items(100,users_pur_profile,df_item_features)"
   ]
  },
  {
   "cell_type": "code",
   "execution_count": 45,
   "metadata": {
    "collapsed": false
   },
   "outputs": [],
   "source": [
    "uidx_test,iidx_test = test.nonzero()"
   ]
  },
  {
   "cell_type": "code",
   "execution_count": 46,
   "metadata": {
    "collapsed": false
   },
   "outputs": [],
   "source": [
    "rec_fundids_given_uidx = get_cb_rec_items(100,users_pur_profile,df_item_features,10)"
   ]
  },
  {
   "cell_type": "code",
   "execution_count": 219,
   "metadata": {
    "collapsed": false
   },
   "outputs": [
    {
     "name": "stderr",
     "output_type": "stream",
     "text": [
      "5264it [45:59,  1.91it/s]\n"
     ]
    },
    {
     "name": "stdout",
     "output_type": "stream",
     "text": [
      "hit:553\n",
      "recall:0.10505319148936171\n"
     ]
    }
   ],
   "source": [
    "## calculate recall ##\n",
    "\n",
    "hit = 0 \n",
    "for index, uidx in tqdm(enumerate(uidx_test)):\n",
    "    rec_fundids = get_cb_rec_items(uidx,users_pur_profile,df_item_features,10)['fundid']\n",
    "    if iidx_test[index] in rec_fundids:\n",
    "        hit += 1\n",
    "print('hit:{}'.format(hit))\n",
    "print('recall:{:.2f} %'.format(100*hit/len(uidx_test)))"
   ]
  },
  {
   "cell_type": "code",
   "execution_count": 221,
   "metadata": {
    "collapsed": false
   },
   "outputs": [
    {
     "name": "stdout",
     "output_type": "stream",
     "text": [
      "recall:10.51%\n"
     ]
    }
   ],
   "source": [
    "print('recall:{:.2f}%'.format(100*hit/len(uidx_test)))"
   ]
  },
  {
   "cell_type": "markdown",
   "metadata": {},
   "source": [
    "## 推薦基金結果 - 內容推薦清單"
   ]
  },
  {
   "cell_type": "code",
   "execution_count": 23,
   "metadata": {
    "collapsed": false
   },
   "outputs": [],
   "source": [
    "rec_temp = get_cb_rec_items(1,users_pur_profile,df_item_features,10)\n",
    "rec_temp['model'] = 'content_based'\n",
    "rec_temp['rank'] = rec_temp.index + 1"
   ]
  },
  {
   "cell_type": "code",
   "execution_count": 46,
   "metadata": {
    "collapsed": false
   },
   "outputs": [],
   "source": [
    "rec_temp1 = get_cb_rec_items(20,users_pur_profile,df_item_features,10)\n",
    "rec_temp1['userid'] = idx_to_userid[20]\n",
    "rec_temp1['model'] = 'content_based'\n",
    "rec_temp1['rank'] = rec_temp1.index + 1"
   ]
  },
  {
   "cell_type": "code",
   "execution_count": 47,
   "metadata": {
    "collapsed": false
   },
   "outputs": [
    {
     "data": {
      "text/html": [
       "<div>\n",
       "<style>\n",
       "    .dataframe thead tr:only-child th {\n",
       "        text-align: right;\n",
       "    }\n",
       "\n",
       "    .dataframe thead th {\n",
       "        text-align: left;\n",
       "    }\n",
       "\n",
       "    .dataframe tbody tr th {\n",
       "        vertical-align: top;\n",
       "    }\n",
       "</style>\n",
       "<table border=\"1\" class=\"dataframe\">\n",
       "  <thead>\n",
       "    <tr style=\"text-align: right;\">\n",
       "      <th></th>\n",
       "      <th>fundid</th>\n",
       "      <th>score</th>\n",
       "      <th>tag_features</th>\n",
       "      <th>userid</th>\n",
       "      <th>model</th>\n",
       "      <th>rank</th>\n",
       "    </tr>\n",
       "  </thead>\n",
       "  <tbody>\n",
       "    <tr>\n",
       "      <th>0</th>\n",
       "      <td>IO6</td>\n",
       "      <td>2.125</td>\n",
       "      <td>0.235*高風險 + 0.176*股票型 + 0.176*h.1~5兆元台幣 + 0.35...</td>\n",
       "      <td>A1597233410</td>\n",
       "      <td>content_based</td>\n",
       "      <td>1</td>\n",
       "    </tr>\n",
       "    <tr>\n",
       "      <th>1</th>\n",
       "      <td>IQ7</td>\n",
       "      <td>2.125</td>\n",
       "      <td>0.235*高風險 + 0.176*股票型 + 0.176*h.1~5兆元台幣 + 0.35...</td>\n",
       "      <td>A1597233410</td>\n",
       "      <td>content_based</td>\n",
       "      <td>2</td>\n",
       "    </tr>\n",
       "    <tr>\n",
       "      <th>2</th>\n",
       "      <td>X01</td>\n",
       "      <td>2.125</td>\n",
       "      <td>0.235*高風險 + 0.176*股票型 + 0.176*h.1~5兆元台幣 + 0.35...</td>\n",
       "      <td>A1597233410</td>\n",
       "      <td>content_based</td>\n",
       "      <td>3</td>\n",
       "    </tr>\n",
       "    <tr>\n",
       "      <th>3</th>\n",
       "      <td>52L</td>\n",
       "      <td>2.000</td>\n",
       "      <td>0.176*股票型 + 0.470*月配 + 0.176*h.1~5兆元台幣 + 0.352*全球</td>\n",
       "      <td>A1597233410</td>\n",
       "      <td>content_based</td>\n",
       "      <td>4</td>\n",
       "    </tr>\n",
       "    <tr>\n",
       "      <th>4</th>\n",
       "      <td>72A</td>\n",
       "      <td>2.000</td>\n",
       "      <td>0.176*股票型 + 0.470*月配 + 0.176*h.1~5兆元台幣 + 0.352*全球</td>\n",
       "      <td>A1597233410</td>\n",
       "      <td>content_based</td>\n",
       "      <td>5</td>\n",
       "    </tr>\n",
       "    <tr>\n",
       "      <th>5</th>\n",
       "      <td>72B</td>\n",
       "      <td>2.000</td>\n",
       "      <td>0.176*股票型 + 0.470*月配 + 0.176*h.1~5兆元台幣 + 0.352*全球</td>\n",
       "      <td>A1597233410</td>\n",
       "      <td>content_based</td>\n",
       "      <td>6</td>\n",
       "    </tr>\n",
       "    <tr>\n",
       "      <th>6</th>\n",
       "      <td>74Z</td>\n",
       "      <td>2.000</td>\n",
       "      <td>0.176*股票型 + 0.470*月配 + 0.176*h.1~5兆元台幣 + 0.352*全球</td>\n",
       "      <td>A1597233410</td>\n",
       "      <td>content_based</td>\n",
       "      <td>7</td>\n",
       "    </tr>\n",
       "    <tr>\n",
       "      <th>7</th>\n",
       "      <td>75R</td>\n",
       "      <td>2.000</td>\n",
       "      <td>0.176*股票型 + 0.470*月配 + 0.176*h.1~5兆元台幣 + 0.352*全球</td>\n",
       "      <td>A1597233410</td>\n",
       "      <td>content_based</td>\n",
       "      <td>8</td>\n",
       "    </tr>\n",
       "    <tr>\n",
       "      <th>8</th>\n",
       "      <td>75S</td>\n",
       "      <td>2.000</td>\n",
       "      <td>0.176*股票型 + 0.470*月配 + 0.176*h.1~5兆元台幣 + 0.352*全球</td>\n",
       "      <td>A1597233410</td>\n",
       "      <td>content_based</td>\n",
       "      <td>9</td>\n",
       "    </tr>\n",
       "    <tr>\n",
       "      <th>9</th>\n",
       "      <td>77P</td>\n",
       "      <td>2.000</td>\n",
       "      <td>0.176*股票型 + 0.470*月配 + 0.176*h.1~5兆元台幣 + 0.352*全球</td>\n",
       "      <td>A1597233410</td>\n",
       "      <td>content_based</td>\n",
       "      <td>10</td>\n",
       "    </tr>\n",
       "  </tbody>\n",
       "</table>\n",
       "</div>"
      ],
      "text/plain": [
       "  fundid  score                                       tag_features  \\\n",
       "0    IO6  2.125  0.235*高風險 + 0.176*股票型 + 0.176*h.1~5兆元台幣 + 0.35...   \n",
       "1    IQ7  2.125  0.235*高風險 + 0.176*股票型 + 0.176*h.1~5兆元台幣 + 0.35...   \n",
       "2    X01  2.125  0.235*高風險 + 0.176*股票型 + 0.176*h.1~5兆元台幣 + 0.35...   \n",
       "3    52L  2.000  0.176*股票型 + 0.470*月配 + 0.176*h.1~5兆元台幣 + 0.352*全球   \n",
       "4    72A  2.000  0.176*股票型 + 0.470*月配 + 0.176*h.1~5兆元台幣 + 0.352*全球   \n",
       "5    72B  2.000  0.176*股票型 + 0.470*月配 + 0.176*h.1~5兆元台幣 + 0.352*全球   \n",
       "6    74Z  2.000  0.176*股票型 + 0.470*月配 + 0.176*h.1~5兆元台幣 + 0.352*全球   \n",
       "7    75R  2.000  0.176*股票型 + 0.470*月配 + 0.176*h.1~5兆元台幣 + 0.352*全球   \n",
       "8    75S  2.000  0.176*股票型 + 0.470*月配 + 0.176*h.1~5兆元台幣 + 0.352*全球   \n",
       "9    77P  2.000  0.176*股票型 + 0.470*月配 + 0.176*h.1~5兆元台幣 + 0.352*全球   \n",
       "\n",
       "        userid          model  rank  \n",
       "0  A1597233410  content_based     1  \n",
       "1  A1597233410  content_based     2  \n",
       "2  A1597233410  content_based     3  \n",
       "3  A1597233410  content_based     4  \n",
       "4  A1597233410  content_based     5  \n",
       "5  A1597233410  content_based     6  \n",
       "6  A1597233410  content_based     7  \n",
       "7  A1597233410  content_based     8  \n",
       "8  A1597233410  content_based     9  \n",
       "9  A1597233410  content_based    10  "
      ]
     },
     "execution_count": 47,
     "metadata": {},
     "output_type": "execute_result"
    }
   ],
   "source": [
    "rec_temp1"
   ]
  },
  {
   "cell_type": "code",
   "execution_count": 49,
   "metadata": {
    "collapsed": false
   },
   "outputs": [
    {
     "name": "stdout",
     "output_type": "stream",
     "text": [
      "{'fundid': 'IO6', 'score': 2.125, 'tag_features': '0.235*高風險 + 0.176*股票型 + 0.176*h.1~5兆元台幣 + 0.352*全球', 'userid': 'A1597233410', 'model': 'content_based', 'rank': 1}\n",
      "{'fundid': 'IQ7', 'score': 2.125, 'tag_features': '0.235*高風險 + 0.176*股票型 + 0.176*h.1~5兆元台幣 + 0.352*全球', 'userid': 'A1597233410', 'model': 'content_based', 'rank': 2}\n",
      "{'fundid': 'X01', 'score': 2.125, 'tag_features': '0.235*高風險 + 0.176*股票型 + 0.176*h.1~5兆元台幣 + 0.352*全球', 'userid': 'A1597233410', 'model': 'content_based', 'rank': 3}\n",
      "{'fundid': '52L', 'score': 2.0, 'tag_features': '0.176*股票型 + 0.470*月配 + 0.176*h.1~5兆元台幣 + 0.352*全球', 'userid': 'A1597233410', 'model': 'content_based', 'rank': 4}\n",
      "{'fundid': '72A', 'score': 2.0, 'tag_features': '0.176*股票型 + 0.470*月配 + 0.176*h.1~5兆元台幣 + 0.352*全球', 'userid': 'A1597233410', 'model': 'content_based', 'rank': 5}\n",
      "{'fundid': '72B', 'score': 2.0, 'tag_features': '0.176*股票型 + 0.470*月配 + 0.176*h.1~5兆元台幣 + 0.352*全球', 'userid': 'A1597233410', 'model': 'content_based', 'rank': 6}\n",
      "{'fundid': '74Z', 'score': 2.0, 'tag_features': '0.176*股票型 + 0.470*月配 + 0.176*h.1~5兆元台幣 + 0.352*全球', 'userid': 'A1597233410', 'model': 'content_based', 'rank': 7}\n",
      "{'fundid': '75R', 'score': 2.0, 'tag_features': '0.176*股票型 + 0.470*月配 + 0.176*h.1~5兆元台幣 + 0.352*全球', 'userid': 'A1597233410', 'model': 'content_based', 'rank': 8}\n",
      "{'fundid': '75S', 'score': 2.0, 'tag_features': '0.176*股票型 + 0.470*月配 + 0.176*h.1~5兆元台幣 + 0.352*全球', 'userid': 'A1597233410', 'model': 'content_based', 'rank': 9}\n",
      "{'fundid': '77P', 'score': 2.0, 'tag_features': '0.176*股票型 + 0.470*月配 + 0.176*h.1~5兆元台幣 + 0.352*全球', 'userid': 'A1597233410', 'model': 'content_based', 'rank': 10}\n"
     ]
    }
   ],
   "source": [
    "for row in rec_temp1.iterrows():\n",
    "    print(row[1].to_dict())"
   ]
  },
  {
   "cell_type": "code",
   "execution_count": 50,
   "metadata": {
    "collapsed": false
   },
   "outputs": [
    {
     "name": "stdout",
     "output_type": "stream",
     "text": [
      "INSERT INTO ihong_基金推薦demo_推薦清單(fundid,score,tag_features,userid,model,rank) VALUES (?,?,?,?,?,?)\n"
     ]
    },
    {
     "data": {
      "text/plain": [
       "<pypyodbc.Cursor at 0xa73a160>"
      ]
     },
     "execution_count": 50,
     "metadata": {},
     "output_type": "execute_result"
    }
   ],
   "source": [
    "# cursor = conn.cursor()\n",
    "insert_sql = \"INSERT INTO {0}({1}) VALUES ({2})\"\n",
    "tablename = 'ihong_基金推薦demo_推薦清單'\n",
    "num_quest = '?'+ ',?'*(len(row[1])-1)\n",
    "fields = ','.join(row[1].to_dict().keys())\n",
    "values = list(row[1].to_dict().values())\n",
    "print(insert_sql.format(tablename,fields,num_quest))\n",
    "cursor.execute(insert_sql.format(tablename, fields,num_quest), values)"
   ]
  },
  {
   "cell_type": "code",
   "execution_count": 62,
   "metadata": {
    "collapsed": false
   },
   "outputs": [
    {
     "name": "stderr",
     "output_type": "stream",
     "text": [
      "\n",
      "  0%|                                                | 0/26324 [00:00<?, ?it/s]\n",
      "  0%|                                      | 1/26324 [00:00<2:45:50,  2.65it/s]\n",
      "  0%|                                      | 2/26324 [00:00<2:41:29,  2.72it/s]\n",
      "  0%|                                      | 3/26324 [00:01<2:43:57,  2.68it/s]\n",
      "  0%|                                      | 4/26324 [00:01<2:40:10,  2.74it/s]\n",
      "  0%|                                      | 5/26324 [00:01<2:36:27,  2.80it/s]\n",
      "  0%|                                      | 6/26324 [00:02<2:37:25,  2.79it/s]\n",
      "100%|██████████████████████████████████| 26324/26324 [2:36:33<00:00,  2.87it/s]\n"
     ]
    }
   ],
   "source": [
    "## build data frame ##\n",
    "insert_sql = \"INSERT INTO {0}({1}) VALUES ({2})\"\n",
    "tablename = 'ihong_基金推薦demo_推薦清單'\n",
    "num_quest = '?'+ ',?'*(5)\n",
    "\n",
    "cursor = conn.cursor()\n",
    "\n",
    "for uidx in tqdm(range(train.shape[0])):\n",
    "    ## 結果(全清單)塞入資料庫\n",
    "    rec_fundids = get_cb_rec_items(uidx,users_pur_profile,df_item_features,10)\n",
    "    rec_fundids['userid'] = idx_to_userid[uidx]\n",
    "    rec_fundids['model'] = 'content_based'\n",
    "    rec_fundids['rank'] = rec_temp1.index + 1\n",
    "    \n",
    "    for row in rec_fundids.iterrows():\n",
    "        fields = ','.join(row[1].to_dict().keys())\n",
    "        values = list(row[1].to_dict().values())\n",
    "        cursor.execute(insert_sql.format(tablename, fields,num_quest), values)\n",
    "#     print('uidx:{} inserted'.format(uidx))\n",
    "cursor.commit()"
   ]
  }
 ],
 "metadata": {
  "anaconda-cloud": {},
  "kernelspec": {
   "display_name": "Python 3",
   "language": "python",
   "name": "python3"
  },
  "language_info": {
   "codemirror_mode": {
    "name": "ipython",
    "version": 3
   },
   "file_extension": ".py",
   "mimetype": "text/x-python",
   "name": "python",
   "nbconvert_exporter": "python",
   "pygments_lexer": "ipython3",
   "version": "3.6.0"
  }
 },
 "nbformat": 4,
 "nbformat_minor": 2
}
