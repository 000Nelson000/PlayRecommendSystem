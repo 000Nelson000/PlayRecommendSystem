{
 "cells": [
  {
   "cell_type": "markdown",
   "metadata": {},
   "source": [
    "# 基於內容的推薦方法 (Content based)\n",
    "\n",
    "實驗利用基金屬性資料的推薦法\n",
    "\n",
    "## 概念: \n",
    "\n",
    "* 蒐集基金六種屬性\n",
    "        1. 投資區域\n",
    "        2. 基金類型\n",
    "        3. 配息頻率\n",
    "        4. 基金目前規模區間\n",
    "        5. 高收益債\n",
    "        6. 風險屬性\n",
    "        \n",
    "* 利用已買的基金屬性, 推算用戶**偏好**屬性**權重**\n",
    "    \n",
    "    \n",
    "    1. 已買 J12 (新興市場, 組合型, 10-100億元, 高風險), J23 (新興市場,平衡型, 100億元以上,高風險) ==> 特徵: 新興市場(2/2), 高風險(2/2), 組合型(1/2),平衡型(1/2),10-100億元(1/2),100億元(1/2)\n",
    "    \n",
    "    2. 候選基金中,計算分數 新興市場(2/2) + 高風險(2/2) + 組合型(1/2) + 平衡型(1/2) + 10-100億元(1/2) + 100億元以上(1/2) \n",
    "    \n",
    "    3. 排序"
   ]
  },
  {
   "cell_type": "code",
   "execution_count": 1,
   "metadata": {
    "collapsed": false
   },
   "outputs": [],
   "source": [
    "import pandas as pd\n",
    "import pypyodbc \n",
    "from tqdm import tqdm \n",
    "import numpy as np \n",
    "import pickle"
   ]
  },
  {
   "cell_type": "code",
   "execution_count": 2,
   "metadata": {
    "collapsed": true
   },
   "outputs": [],
   "source": [
    "conn = pypyodbc.connect(\"DRIVER={SQL Server};SERVER=dbm_public;UID=sa;PWD=01060728;DATABASE=test\")"
   ]
  },
  {
   "cell_type": "markdown",
   "metadata": {},
   "source": [
    "## 整理基金屬性"
   ]
  },
  {
   "cell_type": "code",
   "execution_count": 94,
   "metadata": {
    "collapsed": false
   },
   "outputs": [
    {
     "data": {
      "text/html": [
       "<div>\n",
       "<style>\n",
       "    .dataframe thead tr:only-child th {\n",
       "        text-align: right;\n",
       "    }\n",
       "\n",
       "    .dataframe thead th {\n",
       "        text-align: left;\n",
       "    }\n",
       "\n",
       "    .dataframe tbody tr th {\n",
       "        vertical-align: top;\n",
       "    }\n",
       "</style>\n",
       "<table border=\"1\" class=\"dataframe\">\n",
       "  <thead>\n",
       "    <tr style=\"text-align: right;\">\n",
       "      <th></th>\n",
       "      <th>基金代碼</th>\n",
       "      <th>投資區域</th>\n",
       "      <th>基金類型</th>\n",
       "      <th>配息頻率</th>\n",
       "      <th>基金目前規模區間</th>\n",
       "      <th>高收益債</th>\n",
       "      <th>風險屬性</th>\n",
       "    </tr>\n",
       "  </thead>\n",
       "  <tbody>\n",
       "    <tr>\n",
       "      <th>0</th>\n",
       "      <td>100</td>\n",
       "      <td>台灣</td>\n",
       "      <td>股票型</td>\n",
       "      <td>None</td>\n",
       "      <td>d.10~100億元台幣</td>\n",
       "      <td>None</td>\n",
       "      <td>None</td>\n",
       "    </tr>\n",
       "    <tr>\n",
       "      <th>1</th>\n",
       "      <td>101</td>\n",
       "      <td>台灣</td>\n",
       "      <td>股票型</td>\n",
       "      <td>None</td>\n",
       "      <td>c.5~10億元台幣</td>\n",
       "      <td>None</td>\n",
       "      <td>None</td>\n",
       "    </tr>\n",
       "    <tr>\n",
       "      <th>2</th>\n",
       "      <td>103</td>\n",
       "      <td>台灣</td>\n",
       "      <td>股票型</td>\n",
       "      <td>None</td>\n",
       "      <td>c.5~10億元台幣</td>\n",
       "      <td>None</td>\n",
       "      <td>None</td>\n",
       "    </tr>\n",
       "  </tbody>\n",
       "</table>\n",
       "</div>"
      ],
      "text/plain": [
       "  基金代碼 投資區域 基金類型  配息頻率      基金目前規模區間  高收益債  風險屬性\n",
       "0  100   台灣  股票型  None  d.10~100億元台幣  None  None\n",
       "1  101   台灣  股票型  None    c.5~10億元台幣  None  None\n",
       "2  103   台灣  股票型  None    c.5~10億元台幣  None  None"
      ]
     },
     "execution_count": 94,
     "metadata": {},
     "output_type": "execute_result"
    }
   ],
   "source": [
    "df_item_features = pd.read_sql(\"\"\"\n",
    "    select [基金代碼],\n",
    "        [投資區域],\n",
    "        [基金類型],\n",
    "        [配息頻率],\n",
    "        [基金目前規模區間],\n",
    "        [高收益債],\n",
    "        [風險屬性]\n",
    "    from ihong_基金推薦demo_基金特徵2\n",
    "\"\"\",conn)\n",
    "df_item_features.head(3)"
   ]
  },
  {
   "cell_type": "markdown",
   "metadata": {},
   "source": [
    "## 用戶購買資料"
   ]
  },
  {
   "cell_type": "code",
   "execution_count": 5,
   "metadata": {
    "collapsed": false
   },
   "outputs": [],
   "source": [
    "with open('./funds/sp_funds_datasets.pickle','rb') as f:\n",
    "    data = pickle.load(f)"
   ]
  },
  {
   "cell_type": "code",
   "execution_count": 6,
   "metadata": {
    "collapsed": false
   },
   "outputs": [],
   "source": [
    "test = data['test']\n",
    "train = data['train']\n",
    "user_idxs = data['user_idxs']\n",
    "idx_to_userid = data['idx_to_userid']\n",
    "userid_to_idx = data['userid_to_idx']\n",
    "idx_to_itemid = data['idx_to_itemid']\n",
    "itemid_to_idx = data['itemid_to_idx']\n",
    "\n",
    "fundid_names_df = pd.read_csv('./funds/fundid_to_name.csv',encoding='cp950')\n",
    "fundid_to_names = {}\n",
    "\n",
    "for d in fundid_names_df.to_dict('records'):\n",
    "    fundid_to_names[d['基金代碼']] = d['基金中文名稱']"
   ]
  },
  {
   "cell_type": "code",
   "execution_count": 103,
   "metadata": {
    "collapsed": false
   },
   "outputs": [
    {
     "data": {
      "text/html": [
       "<div>\n",
       "<style>\n",
       "    .dataframe thead tr:only-child th {\n",
       "        text-align: right;\n",
       "    }\n",
       "\n",
       "    .dataframe thead th {\n",
       "        text-align: left;\n",
       "    }\n",
       "\n",
       "    .dataframe tbody tr th {\n",
       "        vertical-align: top;\n",
       "    }\n",
       "</style>\n",
       "<table border=\"1\" class=\"dataframe\">\n",
       "  <thead>\n",
       "    <tr style=\"text-align: right;\">\n",
       "      <th></th>\n",
       "      <th>基金代碼</th>\n",
       "      <th>投資區域</th>\n",
       "      <th>基金類型</th>\n",
       "      <th>配息頻率</th>\n",
       "      <th>基金目前規模區間</th>\n",
       "      <th>高收益債</th>\n",
       "      <th>風險屬性</th>\n",
       "      <th>iidx</th>\n",
       "    </tr>\n",
       "  </thead>\n",
       "  <tbody>\n",
       "    <tr>\n",
       "      <th>0</th>\n",
       "      <td>100</td>\n",
       "      <td>台灣</td>\n",
       "      <td>股票型</td>\n",
       "      <td>None</td>\n",
       "      <td>d.10~100億元台幣</td>\n",
       "      <td>None</td>\n",
       "      <td>None</td>\n",
       "      <td>871.0</td>\n",
       "    </tr>\n",
       "    <tr>\n",
       "      <th>1</th>\n",
       "      <td>101</td>\n",
       "      <td>台灣</td>\n",
       "      <td>股票型</td>\n",
       "      <td>None</td>\n",
       "      <td>c.5~10億元台幣</td>\n",
       "      <td>None</td>\n",
       "      <td>None</td>\n",
       "      <td>1355.0</td>\n",
       "    </tr>\n",
       "    <tr>\n",
       "      <th>2</th>\n",
       "      <td>103</td>\n",
       "      <td>台灣</td>\n",
       "      <td>股票型</td>\n",
       "      <td>None</td>\n",
       "      <td>c.5~10億元台幣</td>\n",
       "      <td>None</td>\n",
       "      <td>None</td>\n",
       "      <td>198.0</td>\n",
       "    </tr>\n",
       "  </tbody>\n",
       "</table>\n",
       "</div>"
      ],
      "text/plain": [
       "  基金代碼 投資區域 基金類型  配息頻率      基金目前規模區間  高收益債  風險屬性    iidx\n",
       "0  100   台灣  股票型  None  d.10~100億元台幣  None  None   871.0\n",
       "1  101   台灣  股票型  None    c.5~10億元台幣  None  None  1355.0\n",
       "2  103   台灣  股票型  None    c.5~10億元台幣  None  None   198.0"
      ]
     },
     "execution_count": 103,
     "metadata": {},
     "output_type": "execute_result"
    }
   ],
   "source": [
    "df_item_features['iidx'] = df_item_features['基金代碼'].\\\n",
    "    apply(lambda row,mapper:mapper.get(row,np.nan),args=[itemid_to_idx])\n",
    "df_item_features.head(3)    "
   ]
  },
  {
   "cell_type": "markdown",
   "metadata": {
    "collapsed": false
   },
   "source": [
    "### 測試單一用戶購買的基金特徵    "
   ]
  },
  {
   "cell_type": "code",
   "execution_count": 109,
   "metadata": {
    "collapsed": false
   },
   "outputs": [
    {
     "data": {
      "text/html": [
       "<div>\n",
       "<style>\n",
       "    .dataframe thead tr:only-child th {\n",
       "        text-align: right;\n",
       "    }\n",
       "\n",
       "    .dataframe thead th {\n",
       "        text-align: left;\n",
       "    }\n",
       "\n",
       "    .dataframe tbody tr th {\n",
       "        vertical-align: top;\n",
       "    }\n",
       "</style>\n",
       "<table border=\"1\" class=\"dataframe\">\n",
       "  <thead>\n",
       "    <tr style=\"text-align: right;\">\n",
       "      <th></th>\n",
       "      <th>基金代碼</th>\n",
       "      <th>投資區域</th>\n",
       "      <th>基金類型</th>\n",
       "      <th>配息頻率</th>\n",
       "      <th>基金目前規模區間</th>\n",
       "      <th>高收益債</th>\n",
       "      <th>風險屬性</th>\n",
       "      <th>iidx</th>\n",
       "    </tr>\n",
       "  </thead>\n",
       "  <tbody>\n",
       "    <tr>\n",
       "      <th>422</th>\n",
       "      <td>63Z</td>\n",
       "      <td>中國</td>\n",
       "      <td>股票型</td>\n",
       "      <td>None</td>\n",
       "      <td>h.1~5兆元台幣</td>\n",
       "      <td>None</td>\n",
       "      <td>高風險</td>\n",
       "      <td>32.0</td>\n",
       "    </tr>\n",
       "    <tr>\n",
       "      <th>627</th>\n",
       "      <td>770</td>\n",
       "      <td>全球</td>\n",
       "      <td>股票型</td>\n",
       "      <td>None</td>\n",
       "      <td>h.1~5兆元台幣</td>\n",
       "      <td>None</td>\n",
       "      <td>None</td>\n",
       "      <td>75.0</td>\n",
       "    </tr>\n",
       "    <tr>\n",
       "      <th>664</th>\n",
       "      <td>78M</td>\n",
       "      <td>歐洲</td>\n",
       "      <td>股票型</td>\n",
       "      <td>None</td>\n",
       "      <td>h.1~5兆元台幣</td>\n",
       "      <td>None</td>\n",
       "      <td>None</td>\n",
       "      <td>61.0</td>\n",
       "    </tr>\n",
       "    <tr>\n",
       "      <th>667</th>\n",
       "      <td>78S</td>\n",
       "      <td>歐洲</td>\n",
       "      <td>股票型</td>\n",
       "      <td>None</td>\n",
       "      <td>h.1~5兆元台幣</td>\n",
       "      <td>None</td>\n",
       "      <td>None</td>\n",
       "      <td>14.0</td>\n",
       "    </tr>\n",
       "    <tr>\n",
       "      <th>754</th>\n",
       "      <td>83F</td>\n",
       "      <td>新興市場</td>\n",
       "      <td>股票型</td>\n",
       "      <td>None</td>\n",
       "      <td>h.1~5兆元台幣</td>\n",
       "      <td>None</td>\n",
       "      <td>高風險</td>\n",
       "      <td>1938.0</td>\n",
       "    </tr>\n",
       "    <tr>\n",
       "      <th>1541</th>\n",
       "      <td>MB4</td>\n",
       "      <td>全球</td>\n",
       "      <td>股票型</td>\n",
       "      <td>None</td>\n",
       "      <td>i.5~10兆元台幣</td>\n",
       "      <td>None</td>\n",
       "      <td>None</td>\n",
       "      <td>24.0</td>\n",
       "    </tr>\n",
       "    <tr>\n",
       "      <th>1736</th>\n",
       "      <td>T37</td>\n",
       "      <td>全球</td>\n",
       "      <td>平衡型</td>\n",
       "      <td>月配</td>\n",
       "      <td>i.&gt;10兆元台幣</td>\n",
       "      <td>高收益債</td>\n",
       "      <td>None</td>\n",
       "      <td>162.0</td>\n",
       "    </tr>\n",
       "    <tr>\n",
       "      <th>1911</th>\n",
       "      <td>Y38</td>\n",
       "      <td>美國</td>\n",
       "      <td>股票型</td>\n",
       "      <td>None</td>\n",
       "      <td>i.5~10兆元台幣</td>\n",
       "      <td>None</td>\n",
       "      <td>None</td>\n",
       "      <td>107.0</td>\n",
       "    </tr>\n",
       "  </tbody>\n",
       "</table>\n",
       "</div>"
      ],
      "text/plain": [
       "     基金代碼  投資區域 基金類型  配息頻率    基金目前規模區間  高收益債  風險屬性    iidx\n",
       "422   63Z    中國  股票型  None   h.1~5兆元台幣  None   高風險    32.0\n",
       "627   770    全球  股票型  None   h.1~5兆元台幣  None  None    75.0\n",
       "664   78M    歐洲  股票型  None   h.1~5兆元台幣  None  None    61.0\n",
       "667   78S    歐洲  股票型  None   h.1~5兆元台幣  None  None    14.0\n",
       "754   83F  新興市場  股票型  None   h.1~5兆元台幣  None   高風險  1938.0\n",
       "1541  MB4    全球  股票型  None  i.5~10兆元台幣  None  None    24.0\n",
       "1736  T37    全球  平衡型    月配   i.>10兆元台幣  高收益債  None   162.0\n",
       "1911  Y38    美國  股票型  None  i.5~10兆元台幣  None  None   107.0"
      ]
     },
     "execution_count": 109,
     "metadata": {},
     "output_type": "execute_result"
    }
   ],
   "source": [
    "test_uidx = 100\n",
    "user_pur_item_indx = train[test_uidx,].indices\n",
    "test_item_df = df_item_features[df_item_features['iidx'].isin(user_pur_item_indx)]\n",
    "test_item_df"
   ]
  },
  {
   "cell_type": "markdown",
   "metadata": {},
   "source": [
    "### 彙整成`dict`"
   ]
  },
  {
   "cell_type": "code",
   "execution_count": 10,
   "metadata": {
    "collapsed": true
   },
   "outputs": [],
   "source": [
    "from collections import defaultdict"
   ]
  },
  {
   "cell_type": "code",
   "execution_count": 147,
   "metadata": {
    "collapsed": false
   },
   "outputs": [
    {
     "data": {
      "text/plain": [
       "8"
      ]
     },
     "execution_count": 147,
     "metadata": {},
     "output_type": "execute_result"
    }
   ],
   "source": [
    "test_item_df.shape[0]"
   ]
  },
  {
   "cell_type": "code",
   "execution_count": 148,
   "metadata": {
    "collapsed": false
   },
   "outputs": [
    {
     "name": "stdout",
     "output_type": "stream",
     "text": [
      "----------------------------------------\n",
      "特徵:股票型\n",
      "權重:0.88\n",
      "----------------------------------------\n",
      "特徵:h.1~5兆元台幣\n",
      "權重:0.62\n",
      "----------------------------------------\n",
      "特徵:全球\n",
      "權重:0.38\n",
      "----------------------------------------\n",
      "特徵:i.5~10兆元台幣\n",
      "權重:0.25\n",
      "----------------------------------------\n",
      "特徵:高風險\n",
      "權重:0.25\n",
      "----------------------------------------\n",
      "特徵:歐洲\n",
      "權重:0.25\n",
      "----------------------------------------\n",
      "特徵:平衡型\n",
      "權重:0.12\n",
      "----------------------------------------\n",
      "特徵:i.>10兆元台幣\n",
      "權重:0.12\n",
      "----------------------------------------\n",
      "特徵:中國\n",
      "權重:0.12\n",
      "----------------------------------------\n",
      "特徵:新興市場\n",
      "權重:0.12\n",
      "----------------------------------------\n",
      "特徵:月配\n",
      "權重:0.12\n",
      "----------------------------------------\n",
      "特徵:美國\n",
      "權重:0.12\n",
      "----------------------------------------\n",
      "特徵:高收益債\n",
      "權重:0.12\n",
      "----------------------------------------\n"
     ]
    }
   ],
   "source": [
    "# defaultdict\n",
    "tmp = defaultdict(int)\n",
    "num_of_pur_by_user = test_item_df.shape[0]\n",
    "for idx, row in test_item_df.iterrows():\n",
    "    for e in row[1:-1].tolist():\n",
    "        if e:\n",
    "            tmp[e]+=1\n",
    "total = sum(tmp.values())\n",
    "tmp2 = {k:v/ num_of_pur_by_user for k,v in tmp.items()}\n",
    "print('----'*10)\n",
    "for k in sorted(tmp2,key=tmp2.get,reverse=True)[:20]:\n",
    "    print('特徵:{}'.format(k))\n",
    "    print('權重:{:.2f}'.format(tmp2[k]))\n",
    "    print('----'*10)"
   ]
  },
  {
   "cell_type": "markdown",
   "metadata": {},
   "source": [
    "### 所有用戶的購買特徵"
   ]
  },
  {
   "cell_type": "code",
   "execution_count": 150,
   "metadata": {
    "collapsed": false
   },
   "outputs": [
    {
     "data": {
      "text/plain": [
       "{}"
      ]
     },
     "execution_count": 150,
     "metadata": {},
     "output_type": "execute_result"
    }
   ],
   "source": [
    "dict(defaultdict(int))"
   ]
  },
  {
   "cell_type": "code",
   "execution_count": 151,
   "metadata": {
    "collapsed": false
   },
   "outputs": [
    {
     "name": "stderr",
     "output_type": "stream",
     "text": [
      "100%|███████████████████████████████████| 26324/26324 [00:58<00:00, 448.41it/s]\n"
     ]
    }
   ],
   "source": [
    "user_numbers = train.shape[0]\n",
    "users_pur_profile = {}\n",
    "for uidx in tqdm(range(user_numbers)):\n",
    "    user_pur_item_idxs = train[uidx,].indices\n",
    "    user_pur_items_df = df_item_features[df_item_features['iidx'].isin(user_pur_item_idxs)]\n",
    "    \n",
    "    user_profile = defaultdict(int)\n",
    "    num_of_pur_by_user = user_pur_items_df.shape[0]\n",
    "    for idx, row in user_pur_items_df.iterrows():\n",
    "        for e in row[1:-1].tolist():\n",
    "            if e:\n",
    "                user_profile[e] +=1\n",
    "#     total = sum(user_profile.values())\n",
    "    \n",
    "    user_profile = {k:v/ num_of_pur_by_user for k,v in user_profile.items()}\n",
    "    \n",
    "    users_pur_profile[uidx] = user_profile"
   ]
  },
  {
   "cell_type": "code",
   "execution_count": 152,
   "metadata": {
    "collapsed": false
   },
   "outputs": [
    {
     "name": "stdout",
     "output_type": "stream",
     "text": [
      "特徵:股票型,\t權重:0.88\n",
      "----------------------------------------\n",
      "特徵:h.1~5兆元台幣,\t權重:0.62\n",
      "----------------------------------------\n",
      "特徵:全球,\t權重:0.38\n",
      "----------------------------------------\n",
      "特徵:i.5~10兆元台幣,\t權重:0.25\n",
      "----------------------------------------\n",
      "特徵:高風險,\t權重:0.25\n",
      "----------------------------------------\n",
      "特徵:歐洲,\t權重:0.25\n",
      "----------------------------------------\n",
      "特徵:平衡型,\t權重:0.12\n",
      "----------------------------------------\n",
      "特徵:i.>10兆元台幣,\t權重:0.12\n",
      "----------------------------------------\n",
      "特徵:中國,\t權重:0.12\n",
      "----------------------------------------\n",
      "特徵:新興市場,\t權重:0.12\n",
      "----------------------------------------\n",
      "特徵:月配,\t權重:0.12\n",
      "----------------------------------------\n",
      "特徵:美國,\t權重:0.12\n",
      "----------------------------------------\n",
      "特徵:高收益債,\t權重:0.12\n",
      "----------------------------------------\n"
     ]
    }
   ],
   "source": [
    "test_uidx = 100\n",
    "for w in sorted(users_pur_profile[test_uidx],key=users_pur_profile[test_uidx].get, reverse=True):\n",
    "    print('特徵:{},\\t權重:{:.2f}'.format(w,users_pur_profile[test_uidx][w]))\n",
    "    print('--'*20)"
   ]
  },
  {
   "cell_type": "markdown",
   "metadata": {},
   "source": [
    "## 基於每個用戶的選購特徵作內容推薦"
   ]
  },
  {
   "cell_type": "code",
   "execution_count": 153,
   "metadata": {
    "collapsed": false
   },
   "outputs": [
    {
     "data": {
      "text/plain": [
       "基金代碼                 100\n",
       "投資區域                  台灣\n",
       "基金類型                 股票型\n",
       "配息頻率                None\n",
       "基金目前規模區間    d.10~100億元台幣\n",
       "高收益債                None\n",
       "風險屬性                None\n",
       "iidx                 871\n",
       "Name: 0, dtype: object"
      ]
     },
     "execution_count": 153,
     "metadata": {},
     "output_type": "execute_result"
    }
   ],
   "source": [
    "temp = next(df_item_features.iterrows())[1]\n",
    "temp"
   ]
  },
  {
   "cell_type": "code",
   "execution_count": 79,
   "metadata": {
    "collapsed": false
   },
   "outputs": [
    {
     "data": {
      "text/plain": [
       "26324"
      ]
     },
     "execution_count": 79,
     "metadata": {},
     "output_type": "execute_result"
    }
   ],
   "source": [
    "len(users_pur_profile.keys())"
   ]
  },
  {
   "cell_type": "code",
   "execution_count": 154,
   "metadata": {
    "collapsed": false
   },
   "outputs": [],
   "source": [
    "def get_cb_scores(uidx,df_item_features,user_pur_profile):\n",
    "    \"\"\"for a uidx calculate content based scores w.r.t user_pur_profile \"\"\"\n",
    "    scores = {}\n",
    "    for _, row in df_item_features.iterrows():\n",
    "        score = 0\n",
    "        iidx = row['iidx']\n",
    "        for key in row[1:-1]:\n",
    "            if user_pur_profile.get(key):\n",
    "                score += user_pur_profile.get(key)\n",
    "        scores[iidx] = score\n",
    "    return scores\n",
    "        "
   ]
  },
  {
   "cell_type": "code",
   "execution_count": 155,
   "metadata": {
    "collapsed": true
   },
   "outputs": [],
   "source": [
    "test_uidx = 100\n",
    "uidx100_cb_scores = get_cb_scores(test_uidx,df_item_features,users_pur_profile[test_uidx])\n"
   ]
  },
  {
   "cell_type": "markdown",
   "metadata": {},
   "source": [
    "### 觀察其中一個用戶的推薦結果"
   ]
  },
  {
   "cell_type": "code",
   "execution_count": 156,
   "metadata": {
    "collapsed": false
   },
   "outputs": [
    {
     "data": {
      "text/plain": [
       "{None, 'h.1~5兆元台幣', '高風險', '全球', '股票型'}"
      ]
     },
     "execution_count": 156,
     "metadata": {},
     "output_type": "execute_result"
    }
   ],
   "source": [
    "set(df_item_features[df_item_features['基金代碼'] =='IQ7'].loc[:,'投資區域':'風險屬性'].values.flatten())"
   ]
  },
  {
   "cell_type": "code",
   "execution_count": 157,
   "metadata": {
    "collapsed": false,
    "scrolled": false
   },
   "outputs": [
    {
     "name": "stdout",
     "output_type": "stream",
     "text": [
      "特徵:股票型,\t權重:0.88\n",
      "----------------------------------------\n",
      "特徵:h.1~5兆元台幣,\t權重:0.62\n",
      "----------------------------------------\n",
      "特徵:全球,\t權重:0.38\n",
      "----------------------------------------\n",
      "特徵:i.5~10兆元台幣,\t權重:0.25\n",
      "----------------------------------------\n",
      "特徵:高風險,\t權重:0.25\n",
      "----------------------------------------\n",
      "特徵:歐洲,\t權重:0.25\n",
      "----------------------------------------\n",
      "特徵:平衡型,\t權重:0.12\n",
      "----------------------------------------\n",
      "特徵:i.>10兆元台幣,\t權重:0.12\n",
      "----------------------------------------\n",
      "特徵:中國,\t權重:0.12\n",
      "----------------------------------------\n",
      "特徵:新興市場,\t權重:0.12\n",
      "----------------------------------------\n",
      "特徵:月配,\t權重:0.12\n",
      "----------------------------------------\n",
      "特徵:美國,\t權重:0.12\n",
      "----------------------------------------\n",
      "特徵:高收益債,\t權重:0.12\n",
      "----------------------------------------\n",
      "基金代碼:IQ7\n",
      "\t 共同特徵:{'高風險', '全球', 'h.1~5兆元台幣', '股票型'}\n",
      "基金代碼:X01\n",
      "\t 共同特徵:{'高風險', '全球', 'h.1~5兆元台幣', '股票型'}\n",
      "基金代碼:IO6\n",
      "\t 共同特徵:{'高風險', '全球', 'h.1~5兆元台幣', '股票型'}\n",
      "基金代碼:L0I\n",
      "\t 共同特徵:{'月配', '全球', 'h.1~5兆元台幣', '股票型'}\n",
      "基金代碼:80E\n",
      "\t 共同特徵:{'月配', '全球', 'h.1~5兆元台幣', '股票型'}\n",
      "基金代碼:L0G\n",
      "\t 共同特徵:{'月配', '全球', 'h.1~5兆元台幣', '股票型'}\n",
      "基金代碼:80F\n",
      "\t 共同特徵:{'月配', '全球', 'h.1~5兆元台幣', '股票型'}\n",
      "基金代碼:77P\n",
      "\t 共同特徵:{'月配', '全球', 'h.1~5兆元台幣', '股票型'}\n",
      "基金代碼:L0J\n",
      "\t 共同特徵:{'月配', '全球', 'h.1~5兆元台幣', '股票型'}\n",
      "基金代碼:52L\n",
      "\t 共同特徵:{'月配', '全球', 'h.1~5兆元台幣', '股票型'}\n"
     ]
    }
   ],
   "source": [
    "test_uidx = 100\n",
    "for w in sorted(users_pur_profile[test_uidx],key=users_pur_profile[test_uidx].get, reverse=True):\n",
    "    print('特徵:{},\\t權重:{:.2f}'.format(w,users_pur_profile[test_uidx][w]))\n",
    "    print('--'*20)\n",
    "\n",
    "uidx100_cb_scores = get_cb_scores(test_uidx,df_item_features,users_pur_profile[test_uidx])\n",
    "\n",
    "for iidx in sorted(uidx100_cb_scores,key=uidx100_cb_scores.get,reverse=True)[:10]: ## top 20 iidx\n",
    "    print('基金代碼:{}'.format(idx_to_itemid.get(iidx)))\n",
    "    fund_feat_set = set(df_item_features[df_item_features['iidx'] ==iidx].loc[:,'投資區域':'風險屬性'].values.flatten())\n",
    "    user_feat_set = set(users_pur_profile[test_uidx].keys())\n",
    "    union_feat_set = fund_feat_set.intersection(user_feat_set)\n",
    "    print('\\t 共同特徵:{}'.format(union_feat_set))"
   ]
  },
  {
   "cell_type": "markdown",
   "metadata": {},
   "source": [
    "## 評估內容推薦結果"
   ]
  },
  {
   "cell_type": "code",
   "execution_count": 158,
   "metadata": {
    "collapsed": false
   },
   "outputs": [
    {
     "data": {
      "text/plain": [
       "<26324x2149 sparse matrix of type '<class 'numpy.float64'>'\n",
       "\twith 5264 stored elements in Compressed Sparse Row format>"
      ]
     },
     "execution_count": 158,
     "metadata": {},
     "output_type": "execute_result"
    }
   ],
   "source": [
    "## 在train set 裡面給出10個推薦基金, 評估recall \n",
    "def get_cb_rec_items(uidx,users_pur_profile,df_item_features,topN = 10):\n",
    "    \"\"\"\n",
    "    \n",
    "    params\n",
    "    ======\n",
    "    uidx : (int) user index \n",
    "    users_pur_profile : (dict) features scores for every useridx \n",
    "                        ex: {\n",
    "                                uidx1: \n",
    "                                    {\n",
    "                                        feat1:score1,\n",
    "                                        feat2:score2,...\n",
    "                                    },\n",
    "                            }\n",
    "    df_item_features : (dataframe) all items features \n",
    "    topN : (int) numbers of recommended items\n",
    "    \"\"\"\n",
    "    uidx_cb_scores = get_cb_scores(uidx,df_item_features,users_pur_profile[test_uidx])"
   ]
  }
 ],
 "metadata": {
  "anaconda-cloud": {},
  "kernelspec": {
   "display_name": "Python [default]",
   "language": "python",
   "name": "python3"
  },
  "language_info": {
   "codemirror_mode": {
    "name": "ipython",
    "version": 3
   },
   "file_extension": ".py",
   "mimetype": "text/x-python",
   "name": "python",
   "nbconvert_exporter": "python",
   "pygments_lexer": "ipython3",
   "version": "3.5.2"
  }
 },
 "nbformat": 4,
 "nbformat_minor": 2
}
