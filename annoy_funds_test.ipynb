{
 "cells": [
  {
   "cell_type": "markdown",
   "metadata": {},
   "source": [
    "Using annoy package to do nearest neighbor search instead of doing pairwise similarity calculation. We did this on our fund datasets."
   ]
  },
  {
   "cell_type": "code",
   "execution_count": 32,
   "metadata": {
    "collapsed": false
   },
   "outputs": [],
   "source": [
    "import annoy \n",
    "import lightfm\n",
    "import numpy as np \n",
    "import pandas as pd\n",
    "import pickle\n"
   ]
  },
  {
   "cell_type": "code",
   "execution_count": 2,
   "metadata": {
    "collapsed": true
   },
   "outputs": [],
   "source": [
    "with open('./funds/sp_funds_datasets.pickle','rb') as f:\n",
    "    data = pickle.load(f)"
   ]
  },
  {
   "cell_type": "code",
   "execution_count": 41,
   "metadata": {
    "collapsed": true
   },
   "outputs": [],
   "source": [
    "fundid_names_df = pd.read_csv('./funds/fundid_to_name.csv',encoding='cp950')\n",
    "fundid_to_names = {}\n",
    "\n",
    "for d in fundid_names_df.to_dict('records'):\n",
    "    fundid_to_names[d['基金代碼']] = d['基金中文名稱']"
   ]
  },
  {
   "cell_type": "code",
   "execution_count": 3,
   "metadata": {
    "collapsed": true
   },
   "outputs": [],
   "source": [
    "import random\n",
    "from annoy import AnnoyIndex"
   ]
  },
  {
   "cell_type": "code",
   "execution_count": 33,
   "metadata": {
    "collapsed": true
   },
   "outputs": [],
   "source": [
    "train = data['train']\n",
    "test = data['test']\n",
    "idx_to_itemid = data['idx_to_itemid']\n",
    "itemid_to_idx = data['itemid_to_idx']\n",
    "userid_to_idx = data['userid_to_idx']\n",
    "idx_to_userid = data['idx_to_userid']"
   ]
  },
  {
   "cell_type": "code",
   "execution_count": 6,
   "metadata": {
    "collapsed": false
   },
   "outputs": [
    {
     "data": {
      "text/plain": [
       "array([1, 0, 0, ..., 0, 0, 0], dtype=int32)"
      ]
     },
     "execution_count": 6,
     "metadata": {},
     "output_type": "execute_result"
    }
   ],
   "source": [
    "train[:,0].A.flatten()"
   ]
  },
  {
   "cell_type": "code",
   "execution_count": 37,
   "metadata": {
    "collapsed": false
   },
   "outputs": [
    {
     "name": "stdout",
     "output_type": "stream",
     "text": [
      "idx:0,\tcomplete\n",
      "idx:1000,\tcomplete\n",
      "idx:2000,\tcomplete\n"
     ]
    }
   ],
   "source": [
    "n_users, n_items = train.shape\n",
    "tn = AnnoyIndex(n_users,metric=\"hamming\") #length of item vectors ==> item vectors\n",
    "for idx in range(n_items):\n",
    "    v = train[:,idx].A.flatten()\n",
    "    tn.add_item(idx,v)\n",
    "    if idx % 1000==0 :\n",
    "        print('idx:{},\\tcomplete'.format(idx))"
   ]
  },
  {
   "cell_type": "code",
   "execution_count": 38,
   "metadata": {
    "collapsed": false
   },
   "outputs": [
    {
     "name": "stdout",
     "output_type": "stream",
     "text": [
      "build index,unchangeable.\n"
     ]
    },
    {
     "data": {
      "text/plain": [
       "True"
      ]
     },
     "execution_count": 38,
     "metadata": {},
     "output_type": "execute_result"
    }
   ],
   "source": [
    "print('build index,unchangeable.')\n",
    "tn.build(10)"
   ]
  },
  {
   "cell_type": "code",
   "execution_count": 39,
   "metadata": {
    "collapsed": false
   },
   "outputs": [
    {
     "data": {
      "text/plain": [
       "[331, 468, 1646, 273, 361, 397, 153, 175, 95, 881]"
      ]
     },
     "execution_count": 39,
     "metadata": {},
     "output_type": "execute_result"
    }
   ],
   "source": [
    "tn.get_nns_by_item(1,10)"
   ]
  },
  {
   "cell_type": "code",
   "execution_count": 73,
   "metadata": {
    "collapsed": false
   },
   "outputs": [],
   "source": [
    "def get_fundids_names(fundidxs,originidx):\n",
    "    originid = idx_to_itemid[originidx]\n",
    "    originname = fundid_to_names[originid]\n",
    "    print('origin fund:{}'.format(originname))\n",
    "    \n",
    "    print('\\n==========nearest neighbors==========\\n')\n",
    "    for idx in fundidxs:\n",
    "        itemid = idx_to_itemid[idx]\n",
    "        print('fund:{}'.format(fundid_to_names[itemid]))"
   ]
  },
  {
   "cell_type": "code",
   "execution_count": 89,
   "metadata": {
    "collapsed": false
   },
   "outputs": [
    {
     "name": "stdout",
     "output_type": "stream",
     "text": [
      "origin fund:(百元基金)貝萊德世界能源基金(美元)\n",
      "\n",
      "==========nearest neighbors==========\n",
      "\n",
      "fund:(百元基金)瀚亞大中華股票基金A\n",
      "fund:(百元基金)瀚亞全球新興市場債券基金 A\n",
      "fund:安本環球-歐元高收益債券基金A2累積(基本貨幣避險-美元)\n",
      "fund:柏瑞特別股息收益基金A(不配息)(美元)\n",
      "fund:(百元基金)貝萊德全球股票入息基金A2(美元)\n",
      "fund:聯博成熟市場多元收益基金AD月配級別美元\n",
      "fund:永豐新興高收雙債組合基金-月配類型\n",
      "fund:安本環球-歐元高收益債券基金A1月配息(基本貨幣避險-美元)\n",
      "fund:貝萊德全球股票收益基金A6(穩定配息)(美元)\n",
      "fund:摩根美國基金-JPM-A股累計(澳幣)\n"
     ]
    }
   ],
   "source": [
    "get_fundids_names(tn.get_nns_by_item(itemidx,10),itemidx)"
   ]
  },
  {
   "cell_type": "code",
   "execution_count": 46,
   "metadata": {
    "collapsed": false
   },
   "outputs": [],
   "source": [
    "def sample_recommendation(data,uidxs,print_len=3,recommended_len=10):\n",
    "    for uidx in uidxs:\n",
    "        print('useridx:{}'.format(uidx))\n",
    "        known_items_givenid = data['train'][uidx].indices\n",
    "        for item in known_items_givenid[:print_len]:\n",
    "            itemid = idx_to_itemid[item]\n",
    "            print('\\tknown positive items:{}'.format(fundid_to_names[itemid]))                \n",
    "#     test = data['test']"
   ]
  },
  {
   "cell_type": "code",
   "execution_count": 47,
   "metadata": {
    "collapsed": false
   },
   "outputs": [
    {
     "name": "stdout",
     "output_type": "stream",
     "text": [
      "useridx:0\n",
      "\tknown positive items:(百元基金)摩根美國複合收益債券基金-JPM-A股累計(美元)\n",
      "\tknown positive items:富達中國聚焦基金(年配)-配息帳戶-美元\n",
      "\tknown positive items:(百元基金)貝萊德歐洲價值型基金HEDGED A2(美元)\n",
      "useridx:1\n",
      "\tknown positive items:柏瑞印度股票基金A(美元)\n",
      "\tknown positive items:(百元基金)貝萊德歐洲價值型基金HEDGED A2(美元)\n",
      "\tknown positive items:瑞銀(盧森堡)生化股票基金(美元)\n"
     ]
    }
   ],
   "source": [
    "sample_recommendation(data,uidxs=[0,1])"
   ]
  },
  {
   "cell_type": "code",
   "execution_count": null,
   "metadata": {
    "collapsed": true
   },
   "outputs": [],
   "source": [
    "norms = np.linalg.norm(item_vectors, axis=1)\n",
    "max_norm = norms.max()\n",
    "extra_dimension = np.sqrt(max_norm ** 2 - norms ** 2)\n",
    "norm_data = np.append(\n",
    "    item_vectors, extra_dimension.reshape(norms.shape[0], 1), axis=1)\n",
    "\n",
    "f_member = norm_data.shape[1]\n",
    "t_member = AnnoyIndex(f_member)  # Length of item vector that will be indexed\n",
    "\n",
    "for i in range(norm_data.shape[0]):\n",
    "    v = norm_data[i]\n",
    "    t_member.add_item(i, v)\n",
    "\n",
    "t_member.build(10)"
   ]
  },
  {
   "cell_type": "code",
   "execution_count": 23,
   "metadata": {
    "collapsed": false
   },
   "outputs": [
    {
     "data": {
      "text/plain": [
       "True"
      ]
     },
     "execution_count": 23,
     "metadata": {},
     "output_type": "execute_result"
    }
   ],
   "source": [
    "from annoy import AnnoyIndex\n",
    "import random\n",
    "\n",
    "f = 40\n",
    "t = AnnoyIndex(f)  # Length of item vector that will be indexed\n",
    "for i in range(1000):\n",
    "    v = [random.gauss(0, 1) for z in range(f)]\n",
    "    t.add_item(i, v)\n",
    "\n",
    "t.build(10) # 10 trees"
   ]
  },
  {
   "cell_type": "code",
   "execution_count": 24,
   "metadata": {
    "collapsed": false
   },
   "outputs": [
    {
     "data": {
      "text/plain": [
       "[1, 637, 603, 366, 167, 404, 959, 326, 78, 205]"
      ]
     },
     "execution_count": 24,
     "metadata": {},
     "output_type": "execute_result"
    }
   ],
   "source": [
    "t.get_nns_by_item(1,10)"
   ]
  },
  {
   "cell_type": "code",
   "execution_count": null,
   "metadata": {
    "collapsed": true
   },
   "outputs": [],
   "source": []
  },
  {
   "cell_type": "code",
   "execution_count": null,
   "metadata": {
    "collapsed": true
   },
   "outputs": [],
   "source": []
  }
 ],
 "metadata": {
  "anaconda-cloud": {},
  "kernelspec": {
   "display_name": "Python [conda env:py36]",
   "language": "python",
   "name": "conda-env-py36-py"
  },
  "language_info": {
   "codemirror_mode": {
    "name": "ipython",
    "version": 3
   },
   "file_extension": ".py",
   "mimetype": "text/x-python",
   "name": "python",
   "nbconvert_exporter": "python",
   "pygments_lexer": "ipython3",
   "version": "3.6.3"
  }
 },
 "nbformat": 4,
 "nbformat_minor": 2
}
