{
 "cells": [
  {
   "cell_type": "code",
   "execution_count": 2,
   "metadata": {
    "collapsed": true
   },
   "outputs": [
    {
     "name": "stdout",
     "output_type": "stream",
     "text": [
      "Collecting lightfm\n",
      "  Downloading lightfm-1.13.tar.gz (247kB)\n",
      "\u001b[K    100% |████████████████████████████████| 256kB 1.7MB/s ta 0:00:01\n",
      "\u001b[?25hRequirement already satisfied: numpy in /home/ihong/anaconda3/lib/python3.6/site-packages (from lightfm)\n",
      "Requirement already satisfied: scipy>=0.17.0 in /home/ihong/anaconda3/lib/python3.6/site-packages (from lightfm)\n",
      "Requirement already satisfied: requests in /home/ihong/anaconda3/lib/python3.6/site-packages (from lightfm)\n",
      "Requirement already satisfied: chardet<3.1.0,>=3.0.2 in /home/ihong/anaconda3/lib/python3.6/site-packages (from requests->lightfm)\n",
      "Requirement already satisfied: idna<2.7,>=2.5 in /home/ihong/anaconda3/lib/python3.6/site-packages (from requests->lightfm)\n",
      "Requirement already satisfied: urllib3<1.23,>=1.21.1 in /home/ihong/anaconda3/lib/python3.6/site-packages (from requests->lightfm)\n",
      "Requirement already satisfied: certifi>=2017.4.17 in /home/ihong/anaconda3/lib/python3.6/site-packages (from requests->lightfm)\n",
      "Building wheels for collected packages: lightfm\n",
      "  Running setup.py bdist_wheel for lightfm ... \u001b[?25ldone\n",
      "\u001b[?25h  Stored in directory: /home/ihong/.cache/pip/wheels/41/7f/ad/977586201a266b5ba45d6e4a80e1e1858171cfe0fd014e41d9\n",
      "Successfully built lightfm\n",
      "Installing collected packages: lightfm\n",
      "Successfully installed lightfm-1.13\n"
     ]
    }
   ],
   "source": [
    "!pip install lightfm"
   ]
  },
  {
   "cell_type": "code",
   "execution_count": 1,
   "metadata": {
    "collapsed": true
   },
   "outputs": [],
   "source": [
    "import annoy \n",
    "import lightfm\n",
    "import numpy as np \n",
    "import pandas as pd\n",
    "import pickle\n"
   ]
  },
  {
   "cell_type": "code",
   "execution_count": 2,
   "metadata": {
    "collapsed": true
   },
   "outputs": [],
   "source": [
    "with open('./funds/sp_funds_datasets.pickle','rb') as f:\n",
    "    data = pickle.load(f)"
   ]
  },
  {
   "cell_type": "code",
   "execution_count": 3,
   "metadata": {
    "collapsed": true
   },
   "outputs": [],
   "source": [
    "import random\n",
    "from annoy import AnnoyIndex"
   ]
  },
  {
   "cell_type": "code",
   "execution_count": 4,
   "metadata": {
    "collapsed": true
   },
   "outputs": [],
   "source": [
    "train = data['train']\n",
    "test = data['test']\n",
    "idx_to_itemid = data['idx_to_itemid']\n",
    "itemid_to_idx = data['itemid_to_idx']\n",
    "userid_to_idx = data['userid_to_idx']\n",
    "idx_to_userid = data['idx_to_userid']"
   ]
  },
  {
   "cell_type": "code",
   "execution_count": 5,
   "metadata": {},
   "outputs": [
    {
     "data": {
      "text/plain": [
       "<1x2149 sparse matrix of type '<class 'numpy.int32'>'\n",
       "\twith 42 stored elements in Compressed Sparse Row format>"
      ]
     },
     "execution_count": 5,
     "metadata": {},
     "output_type": "execute_result"
    }
   ],
   "source": [
    "train[0,:]"
   ]
  },
  {
   "cell_type": "code",
   "execution_count": 6,
   "metadata": {},
   "outputs": [
    {
     "data": {
      "text/plain": [
       "array([1, 0, 0, ..., 0, 0, 0], dtype=int32)"
      ]
     },
     "execution_count": 6,
     "metadata": {},
     "output_type": "execute_result"
    }
   ],
   "source": [
    "train[:,0].A.flatten()"
   ]
  },
  {
   "cell_type": "code",
   "execution_count": 7,
   "metadata": {},
   "outputs": [
    {
     "name": "stdout",
     "output_type": "stream",
     "text": [
      "idx:0,\tv:[1 0 0 ..., 0 0 0]\n"
     ]
    }
   ],
   "source": [
    "n_users, n_items = train.shape\n",
    "t = AnnoyIndex(n_users) #length of item vectors ==> item vectors\n",
    "for idx in range(n_items):\n",
    "    v = train[:,idx].A.flatten()\n",
    "    if idx % 5000==0 :\n",
    "        print('idx:{},\\tv:{}'.format(idx,v))\n",
    "    t.add_item(idx,v)\n",
    "    "
   ]
  },
  {
   "cell_type": "code",
   "execution_count": 8,
   "metadata": {},
   "outputs": [
    {
     "data": {
      "text/plain": [
       "True"
      ]
     },
     "execution_count": 8,
     "metadata": {},
     "output_type": "execute_result"
    }
   ],
   "source": [
    "t.build(100)"
   ]
  },
  {
   "cell_type": "code",
   "execution_count": 9,
   "metadata": {},
   "outputs": [
    {
     "data": {
      "text/plain": [
       "[0, 20, 893, 1908, 844, 1758, 1629, 39, 810, 782]"
      ]
     },
     "execution_count": 9,
     "metadata": {},
     "output_type": "execute_result"
    }
   ],
   "source": [
    "t.get_nns_by_item(0,10)"
   ]
  },
  {
   "cell_type": "code",
   "execution_count": 10,
   "metadata": {},
   "outputs": [
    {
     "data": {
      "text/plain": [
       "True"
      ]
     },
     "execution_count": 10,
     "metadata": {},
     "output_type": "execute_result"
    }
   ],
   "source": [
    "from annoy import AnnoyIndex\n",
    "import random\n",
    "\n",
    "f = 40\n",
    "t = AnnoyIndex(f)  # Length of item vector that will be indexed\n",
    "for i in range(1000):\n",
    "    v = [random.gauss(0, 1) for z in range(f)]\n",
    "    t.add_item(i, v)\n",
    "\n",
    "t.build(10) # 10 trees"
   ]
  },
  {
   "cell_type": "code",
   "execution_count": 11,
   "metadata": {},
   "outputs": [
    {
     "data": {
      "text/plain": [
       "[1, 177, 60, 869, 183, 142, 789, 506, 568, 908]"
      ]
     },
     "execution_count": 11,
     "metadata": {},
     "output_type": "execute_result"
    }
   ],
   "source": [
    "t.get_nns_by_item(1,10)"
   ]
  },
  {
   "cell_type": "code",
   "execution_count": null,
   "metadata": {
    "collapsed": true
   },
   "outputs": [],
   "source": []
  }
 ],
 "metadata": {
  "kernelspec": {
   "display_name": "Python 3",
   "language": "python",
   "name": "python3"
  },
  "language_info": {
   "codemirror_mode": {
    "name": "ipython",
    "version": 3
   },
   "file_extension": ".py",
   "mimetype": "text/x-python",
   "name": "python",
   "nbconvert_exporter": "python",
   "pygments_lexer": "ipython3",
   "version": "3.6.3"
  }
 },
 "nbformat": 4,
 "nbformat_minor": 2
}
