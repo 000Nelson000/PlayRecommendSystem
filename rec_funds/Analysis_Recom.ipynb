{
 "cells": [
  {
   "cell_type": "markdown",
   "metadata": {},
   "source": [
    "# 基金推薦結果分析"
   ]
  },
  {
   "cell_type": "code",
   "execution_count": 1,
   "metadata": {
    "collapsed": true
   },
   "outputs": [],
   "source": [
    "from KNNmodel import *\n",
    "from rec_funds_offline_cal import *"
   ]
  },
  {
   "cell_type": "code",
   "execution_count": 2,
   "metadata": {
    "collapsed": true
   },
   "outputs": [],
   "source": [
    "import numpy as np"
   ]
  },
  {
   "cell_type": "code",
   "execution_count": 3,
   "metadata": {
    "collapsed": false
   },
   "outputs": [
    {
     "name": "stdout",
     "output_type": "stream",
     "text": [
      "Starting interactions info\n",
      "Number of rows: 31887\n",
      "Number of cols: 1952\n",
      "Sparsity: 0.18%\n",
      "Ending interactions info\n",
      "Number of rows: 17515\n",
      "Number of columns: 1911\n",
      "Sparsity: 0.29%\n"
     ]
    }
   ],
   "source": [
    "con = pypyodbc.connect(\n",
    "        \"DRIVER={SQL Server};SERVER=dbm_public;UID=sa;PWD=01060728;DATABASE=project2017\")\n",
    "data = load_data(con)\n",
    "train = data['eval_data']['train']\n",
    "test = data['eval_data']['test']\n",
    "users_feats_sp = data['users_feats']['sp']\n",
    "df_purchased = data['purchased_df']\n"
   ]
  },
  {
   "cell_type": "code",
   "execution_count": 4,
   "metadata": {
    "collapsed": true
   },
   "outputs": [],
   "source": [
    "idx_to_itemid = data['idx_to_itemid']\n",
    "idx_to_userid = data['idx_to_userid']\n",
    "userid_to_idx = data['userid_to_idx']\n",
    "itemid_to_idx = data['itemid_to_idx']"
   ]
  },
  {
   "cell_type": "code",
   "execution_count": 5,
   "metadata": {
    "collapsed": false
   },
   "outputs": [],
   "source": [
    "purchased_ui = data['purchased_ui']"
   ]
  },
  {
   "cell_type": "code",
   "execution_count": 6,
   "metadata": {
    "collapsed": false
   },
   "outputs": [
    {
     "data": {
      "text/plain": [
       "<17515x1911 sparse matrix of type '<class 'numpy.int32'>'\n",
       "\twith 79762 stored elements in Compressed Sparse Row format>"
      ]
     },
     "execution_count": 6,
     "metadata": {},
     "output_type": "execute_result"
    }
   ],
   "source": [
    "purchased_ui"
   ]
  },
  {
   "cell_type": "markdown",
   "metadata": {},
   "source": [
    "## 觀察user \n",
    "user1 ==> `idx=50` --> `uid = 'A2775267590'`\n",
    "    \n",
    "    僅買兩檔基金\n",
    "    \n",
    "user2 ==> `idx=100` --> `uid = 'Q1798038310'`\n",
    "    \n",
    "    共買61次38檔相異基金\n",
    "    \n",
    "user3 ==> `idx=6` ---> `uid = 'A1721889650'`\n",
    "    \n",
    "    買6檔相異基金\n"
   ]
  },
  {
   "cell_type": "code",
   "execution_count": 7,
   "metadata": {
    "collapsed": false
   },
   "outputs": [
    {
     "name": "stdout",
     "output_type": "stream",
     "text": [
      "uidx=50,\tuid=Q1798038310\n",
      "uidx=100,\tuid=T1750977470\n",
      "uidx=3, \tuid=F2794123860\n"
     ]
    }
   ],
   "source": [
    "print('uidx=50,\\tuid={}\\nuidx=100,\\tuid={}\\nuidx=3, \\tuid={}'\n",
    "      .format(idx_to_userid[50],idx_to_userid[100],idx_to_userid[3]))\n"
   ]
  },
  {
   "cell_type": "code",
   "execution_count": 8,
   "metadata": {
    "collapsed": false
   },
   "outputs": [
    {
     "data": {
      "text/plain": [
       "(4,)"
      ]
     },
     "execution_count": 8,
     "metadata": {},
     "output_type": "execute_result"
    }
   ],
   "source": [
    "df_purchased[df_purchased['身分證字號'] == idx_to_userid[6]]['基金代碼'].unique().shape"
   ]
  },
  {
   "cell_type": "markdown",
   "metadata": {},
   "source": [
    "##### 購買歷史紀錄"
   ]
  },
  {
   "cell_type": "code",
   "execution_count": 9,
   "metadata": {
    "collapsed": false
   },
   "outputs": [
    {
     "data": {
      "text/html": [
       "<div>\n",
       "<style>\n",
       "    .dataframe thead tr:only-child th {\n",
       "        text-align: right;\n",
       "    }\n",
       "\n",
       "    .dataframe thead th {\n",
       "        text-align: left;\n",
       "    }\n",
       "\n",
       "    .dataframe tbody tr th {\n",
       "        vertical-align: top;\n",
       "    }\n",
       "</style>\n",
       "<table border=\"1\" class=\"dataframe\">\n",
       "  <thead>\n",
       "    <tr style=\"text-align: right;\">\n",
       "      <th></th>\n",
       "      <th>身分證字號</th>\n",
       "      <th>憑證</th>\n",
       "      <th>基金代碼</th>\n",
       "      <th>商品投資屬性</th>\n",
       "      <th>申購登錄日</th>\n",
       "      <th>扣款次數</th>\n",
       "      <th>申購扣款金額_台幣</th>\n",
       "      <th>國內外基金註記</th>\n",
       "      <th>aum基金型態別</th>\n",
       "      <th>投資型態</th>\n",
       "      <th>投資地區</th>\n",
       "      <th>型態別</th>\n",
       "      <th>aum型態別</th>\n",
       "      <th>aum計算類別</th>\n",
       "      <th>uidxs</th>\n",
       "      <th>iidxs</th>\n",
       "      <th>uidxs_iidxs</th>\n",
       "    </tr>\n",
       "  </thead>\n",
       "  <tbody>\n",
       "    <tr>\n",
       "      <th>54</th>\n",
       "      <td>Q1798038310</td>\n",
       "      <td>016Y5351600135</td>\n",
       "      <td>Y53</td>\n",
       "      <td>RR4</td>\n",
       "      <td>20161108</td>\n",
       "      <td>1</td>\n",
       "      <td>3850.44</td>\n",
       "      <td>1.0</td>\n",
       "      <td>E</td>\n",
       "      <td>a.定時定額</td>\n",
       "      <td>a.境外基金</td>\n",
       "      <td>a.股票型</td>\n",
       "      <td>a.股票型</td>\n",
       "      <td>國外股票型</td>\n",
       "      <td>50</td>\n",
       "      <td>45</td>\n",
       "      <td>50_45</td>\n",
       "    </tr>\n",
       "    <tr>\n",
       "      <th>29876</th>\n",
       "      <td>Q1798038310</td>\n",
       "      <td>016465C1700195</td>\n",
       "      <td>465</td>\n",
       "      <td>RR4</td>\n",
       "      <td>20171023</td>\n",
       "      <td>1</td>\n",
       "      <td>302130.00</td>\n",
       "      <td>0.0</td>\n",
       "      <td>E</td>\n",
       "      <td>b.單筆申購</td>\n",
       "      <td>b.國內基金</td>\n",
       "      <td>a.股票型</td>\n",
       "      <td>a.股票型</td>\n",
       "      <td>國內股票型</td>\n",
       "      <td>50</td>\n",
       "      <td>133</td>\n",
       "      <td>50_133</td>\n",
       "    </tr>\n",
       "  </tbody>\n",
       "</table>\n",
       "</div>"
      ],
      "text/plain": [
       "             身分證字號              憑證 基金代碼 商品投資屬性     申購登錄日  扣款次數  申購扣款金額_台幣  \\\n",
       "54     Q1798038310  016Y5351600135  Y53    RR4  20161108     1    3850.44   \n",
       "29876  Q1798038310  016465C1700195  465    RR4  20171023     1  302130.00   \n",
       "\n",
       "       國內外基金註記 aum基金型態別    投資型態    投資地區    型態別 aum型態別 aum計算類別  uidxs  iidxs  \\\n",
       "54         1.0        E  a.定時定額  a.境外基金  a.股票型  a.股票型   國外股票型     50     45   \n",
       "29876      0.0        E  b.單筆申購  b.國內基金  a.股票型  a.股票型   國內股票型     50    133   \n",
       "\n",
       "      uidxs_iidxs  \n",
       "54          50_45  \n",
       "29876      50_133  "
      ]
     },
     "execution_count": 9,
     "metadata": {},
     "output_type": "execute_result"
    }
   ],
   "source": [
    "user1_purchased = df_purchased[df_purchased['身分證字號'] == idx_to_userid[50]]\n",
    "user1_purchased"
   ]
  },
  {
   "cell_type": "code",
   "execution_count": 10,
   "metadata": {
    "collapsed": false
   },
   "outputs": [
    {
     "data": {
      "text/plain": [
       "array(['J12', '865', '836'], dtype=object)"
      ]
     },
     "execution_count": 10,
     "metadata": {},
     "output_type": "execute_result"
    }
   ],
   "source": [
    "user2_purchased = df_purchased[df_purchased['身分證字號']==idx_to_userid[100]]['基金代碼'].unique()\n",
    "\n",
    "user2_purchased"
   ]
  },
  {
   "cell_type": "code",
   "execution_count": 11,
   "metadata": {
    "collapsed": false
   },
   "outputs": [
    {
     "data": {
      "text/plain": [
       "array(['DA7', 'K21', '58J', 'X23'], dtype=object)"
      ]
     },
     "execution_count": 11,
     "metadata": {},
     "output_type": "execute_result"
    }
   ],
   "source": [
    "user3_purchased = df_purchased[df_purchased['身分證字號']==idx_to_userid[6]]['基金代碼'].unique()\n",
    "user3_purchased"
   ]
  },
  {
   "cell_type": "markdown",
   "metadata": {},
   "source": [
    "##### 購買基金種類與AUM級距"
   ]
  },
  {
   "cell_type": "code",
   "execution_count": 12,
   "metadata": {
    "collapsed": false
   },
   "outputs": [
    {
     "data": {
      "text/plain": [
       "國內債券型                    0\n",
       "國內其他型                    0\n",
       "國內股票型                    1\n",
       "國內貨幣型                    0\n",
       "國外債券型                    0\n",
       "國外其他型                    0\n",
       "國外股票型                    1\n",
       "國外貨幣型                    0\n",
       "aum<10萬                  0\n",
       "aum10~50萬                0\n",
       "aum50~100萬               1\n",
       "aum100~300萬              0\n",
       "aum>300萬                 0\n",
       "userid         Q1798038310\n",
       "Name: 50, dtype: object"
      ]
     },
     "execution_count": 12,
     "metadata": {},
     "output_type": "execute_result"
    }
   ],
   "source": [
    "data['users_feats']['df'].iloc[50,:]"
   ]
  },
  {
   "cell_type": "code",
   "execution_count": 13,
   "metadata": {
    "collapsed": false
   },
   "outputs": [
    {
     "data": {
      "text/plain": [
       "國內債券型                    0\n",
       "國內其他型                    0\n",
       "國內股票型                    0\n",
       "國內貨幣型                    0\n",
       "國外債券型                    0\n",
       "國外其他型                    0\n",
       "國外股票型                    3\n",
       "國外貨幣型                    0\n",
       "aum<10萬                  0\n",
       "aum10~50萬                0\n",
       "aum50~100萬               0\n",
       "aum100~300萬              0\n",
       "aum>300萬                 1\n",
       "userid         T1750977470\n",
       "Name: 100, dtype: object"
      ]
     },
     "execution_count": 13,
     "metadata": {},
     "output_type": "execute_result"
    }
   ],
   "source": [
    "data['users_feats']['df'].iloc[100,:]"
   ]
  },
  {
   "cell_type": "code",
   "execution_count": 14,
   "metadata": {
    "collapsed": false
   },
   "outputs": [
    {
     "data": {
      "text/plain": [
       "國內債券型                    0\n",
       "國內其他型                    2\n",
       "國內股票型                    0\n",
       "國內貨幣型                    0\n",
       "國外債券型                    1\n",
       "國外其他型                    0\n",
       "國外股票型                    0\n",
       "國外貨幣型                    0\n",
       "aum<10萬                  0\n",
       "aum10~50萬                1\n",
       "aum50~100萬               0\n",
       "aum100~300萬              0\n",
       "aum>300萬                 0\n",
       "userid         L2752440930\n",
       "Name: 6, dtype: object"
      ]
     },
     "execution_count": 14,
     "metadata": {},
     "output_type": "execute_result"
    }
   ],
   "source": [
    "data['users_feats']['df'].iloc[6,:]"
   ]
  },
  {
   "cell_type": "markdown",
   "metadata": {},
   "source": [
    "## 建立模型\n",
    "### UBCF\n"
   ]
  },
  {
   "cell_type": "code",
   "execution_count": 15,
   "metadata": {
    "collapsed": false
   },
   "outputs": [
    {
     "name": "stdout",
     "output_type": "stream",
     "text": [
      "similarity (jaccard) matrix built (ubcf), \n",
      "sparsity of similarity: 11.34 %\n",
      "-- start building topK user array...\n"
     ]
    },
    {
     "name": "stderr",
     "output_type": "stream",
     "text": [
      "100%|███████████████████████████████| 17515/17515 [00:13<00:00, 1324.39users/s]\n"
     ]
    },
    {
     "name": "stdout",
     "output_type": "stream",
     "text": [
      "-- end building topK user array---\n",
      "start building prediction rating...\n"
     ]
    },
    {
     "name": "stderr",
     "output_type": "stream",
     "text": [
      "100%|████████████████████████████████| 17515/17515 [00:33<00:00, 525.49users/s]\n"
     ]
    },
    {
     "name": "stdout",
     "output_type": "stream",
     "text": [
      "ubcf rating matrix built...\n",
      "\n",
      "arrange purchased data in rating matrix...\n",
      "remove=True\n"
     ]
    },
    {
     "name": "stderr",
     "output_type": "stream",
     "text": [
      "100%|████████████████████████████| 1908986/1908986 [00:02<00:00, 933560.09it/s]\n"
     ]
    },
    {
     "name": "stdout",
     "output_type": "stream",
     "text": [
      "numbers of rows : 17515\n",
      "numbers of cols: 1911\n",
      "sparsity of rating: 5.70 %\n",
      "save into *.rating attribute...\n",
      "****\n",
      "time cost for building ubcf (jaccard) model: 0:01:18\n"
     ]
    }
   ],
   "source": [
    "# model_u = KNNmodel(purchased_ui,kind = 'ubcf')\n",
    "dt_u,model_u = build_model(purchased_ui,kind ='ubcf',topK=100)"
   ]
  },
  {
   "cell_type": "markdown",
   "metadata": {},
   "source": [
    "* 推薦基金"
   ]
  },
  {
   "cell_type": "code",
   "execution_count": 16,
   "metadata": {
    "collapsed": true
   },
   "outputs": [],
   "source": [
    "uids = np.arange(purchased_ui.shape[0])\n",
    "predall_u = model_u.predict(uids,topN=10)\n",
    "predall_itemid_u, predall_rating_u = get_itemids_ratings_np(model_u,\n",
    "                                                            predall_u,idx_to_itemid)"
   ]
  },
  {
   "cell_type": "markdown",
   "metadata": {},
   "source": [
    "- User1"
   ]
  },
  {
   "cell_type": "code",
   "execution_count": 128,
   "metadata": {
    "collapsed": false
   },
   "outputs": [
    {
     "data": {
      "text/plain": [
       "array([ 0.01059757,  0.00756969,  0.00756969,  0.00756969,  0.00756969,\n",
       "        0.00605575,  0.00605575,  0.00605575,  0.0048446 ,  0.00454292])"
      ]
     },
     "execution_count": 128,
     "metadata": {},
     "output_type": "execute_result"
    }
   ],
   "source": [
    "predall_rating_u[50]"
   ]
  },
  {
   "cell_type": "code",
   "execution_count": 129,
   "metadata": {
    "collapsed": false
   },
   "outputs": [
    {
     "data": {
      "text/plain": [
       "array(['X01', 'Y38', 'T34', 'MU7', 'T38', 'UN8', '460', '68C', '423', 'Y13'], dtype=object)"
      ]
     },
     "execution_count": 129,
     "metadata": {},
     "output_type": "execute_result"
    }
   ],
   "source": [
    "predall_itemid_u[50]"
   ]
  },
  {
   "cell_type": "markdown",
   "metadata": {},
   "source": [
    "- user2"
   ]
  },
  {
   "cell_type": "code",
   "execution_count": 145,
   "metadata": {
    "collapsed": false
   },
   "outputs": [
    {
     "data": {
      "text/plain": [
       "array([ 0.06197649,  0.04211997,  0.04075031,  0.03401511,  0.02814265,\n",
       "        0.02547057,  0.02430714,  0.02328923,  0.02312483,  0.02280029])"
      ]
     },
     "execution_count": 145,
     "metadata": {},
     "output_type": "execute_result"
    }
   ],
   "source": [
    "predall_rating_u[100]"
   ]
  },
  {
   "cell_type": "code",
   "execution_count": 104,
   "metadata": {
    "collapsed": false
   },
   "outputs": [
    {
     "data": {
      "text/plain": [
       "array(['MU7', '770', 'MU5', 'J11', 'J83', 'J1F', 'AE7', 'IQ4', '832', 'L0C'], dtype=object)"
      ]
     },
     "execution_count": 104,
     "metadata": {},
     "output_type": "execute_result"
    }
   ],
   "source": [
    "predall_itemid_u[100]"
   ]
  },
  {
   "cell_type": "markdown",
   "metadata": {},
   "source": [
    "- user3"
   ]
  },
  {
   "cell_type": "code",
   "execution_count": 225,
   "metadata": {
    "collapsed": false
   },
   "outputs": [
    {
     "data": {
      "text/plain": [
       "array([ 0.00664923,  0.00564468,  0.00533488,  0.00281366,  0.00222435,\n",
       "        0.00183865,  0.00168323,  0.00160577,  0.00158142,  0.001555  ])"
      ]
     },
     "execution_count": 225,
     "metadata": {},
     "output_type": "execute_result"
    }
   ],
   "source": [
    "predall_rating_u[6]"
   ]
  },
  {
   "cell_type": "code",
   "execution_count": 224,
   "metadata": {
    "collapsed": false
   },
   "outputs": [
    {
     "data": {
      "text/plain": [
       "array(['X01', 'Y57', '770', 'MU7', 'Y53', 'AE7', 'MU5', 'L0C', 'T38', '83Y'], dtype=object)"
      ]
     },
     "execution_count": 224,
     "metadata": {},
     "output_type": "execute_result"
    }
   ],
   "source": [
    "predall_itemid_u[6]"
   ]
  },
  {
   "cell_type": "markdown",
   "metadata": {},
   "source": [
    "##### 最相似的top K 人"
   ]
  },
  {
   "cell_type": "code",
   "execution_count": 155,
   "metadata": {
    "collapsed": false
   },
   "outputs": [
    {
     "data": {
      "text/plain": [
       "array([   50,  5302, 13850, 15234,  9024, 15149, 11134, 19840, 19197,\n",
       "       15016,  9052,  9051,  9033,  5433, 14875, 15157,  9015, 19885,\n",
       "        1629, 14645, 20419, 14603,  5802, 14587,  5890,  5906, 15151,\n",
       "       19824, 19933,  4562, 20494, 10795,  9393, 18843,  9369, 16186,\n",
       "       16145, 10836,  4407, 15885, 18856,   125, 20453, 10907, 20470,\n",
       "       19745, 20466, 15512, 15421, 15390, 15362, 15300, 11981,  5231,\n",
       "        5907, 18603, 16303, 11311, 20098,   471, 20128, 13171, 19178,\n",
       "       20146,   426, 12966,  1544, 20174, 20178,  7507, 12798, 11781,\n",
       "       19026, 12640,  8430, 12587, 12406,  1503, 11931, 12218, 12073,\n",
       "       20356, 13453,  6875, 19185, 19189,  6011,  8892, 14312, 11357,\n",
       "       14177,  6214, 14134, 14128, 14123, 14106,  6785,  6272, 14048, 14033], dtype=int64)"
      ]
     },
     "execution_count": 155,
     "metadata": {},
     "output_type": "execute_result"
    }
   ],
   "source": [
    "# uid =50\n",
    "topK = 100\n",
    "np.argsort(model_u.sim[50,:].A)[0,:-topK-1:-1]"
   ]
  },
  {
   "cell_type": "code",
   "execution_count": 162,
   "metadata": {
    "collapsed": false
   },
   "outputs": [
    {
     "data": {
      "text/plain": [
       "array([  100,  4244,  6599,  4493,  1941,   211,  1663,  4050,  4047,\n",
       "        2145,  3258,  2262,  1321,  2525,   512,  1592,  8633,  2258,\n",
       "        1664,  4323,  2551,  1802,  3274,  1085,  5239,  1594,   275,\n",
       "        7710,  3154,  7142,  7531,  3686,  9439,  1906,  8130,  2416,\n",
       "        1017,  2663,  3829,  5005,  3788,  3076,  2350,  9183,  5543,\n",
       "       11930,  2917,  2695,  3113, 10698,  1458, 11894,   173,   809,\n",
       "        2194,  8414,   691,  3312,   970, 10362,  6811,  1819,  1406,\n",
       "        3040,  2156,  2368,  4238,   169, 12070,  1437,    14,  2310,\n",
       "       11348,  4185,  2676, 12903,  5958,  6769,  2377,  5378,  3172,\n",
       "        2794,  2879,  1849,   576,   396,   568,  1067,   537,   547,\n",
       "        2008,  9156,  7513,  2540,    63,  6476,  9225,  1159,  7652,    84], dtype=int64)"
      ]
     },
     "execution_count": 162,
     "metadata": {},
     "output_type": "execute_result"
    }
   ],
   "source": [
    "np.argsort(model_u.sim[100,:].A)[0,:-topK-1:-1]"
   ]
  },
  {
   "cell_type": "code",
   "execution_count": 226,
   "metadata": {
    "collapsed": false
   },
   "outputs": [
    {
     "data": {
      "text/plain": [
       "array([    6,  5698,  8911,  2829, 11530,  6928,  1379,  5724, 15297,\n",
       "       11297,     1,  8617, 13358, 19439,  1901,   115,  1300,  9341,\n",
       "       13760, 12393, 13980,  3929,  9329, 14087,  3138,  5467, 17941,\n",
       "       15853,  2652, 17743, 13425,  8862,  3857, 12754, 19226, 20312,\n",
       "        9433,  6448, 10875, 17889, 16008, 17921, 15513, 18837,  7473,\n",
       "        5883, 12417,  5935, 10053, 14670,  2449, 12157,  4749, 16637,\n",
       "       12195, 19756,  5035,  6797, 18862,  1973, 12130,  4887, 19684,\n",
       "        4396, 10746,  5284, 11721,  9940, 15782,  1655,  1854, 14878,\n",
       "       17090,  5540,  7597, 12356, 13545,  7277, 15233, 20473, 17297,\n",
       "        6720,  8434,  6164, 18697,  1193, 11558,  7480,  9833,  6220,\n",
       "        3446,  4717,  4299, 19234, 12563, 18544, 11321, 19723, 13346, 13912], dtype=int64)"
      ]
     },
     "execution_count": 226,
     "metadata": {},
     "output_type": "execute_result"
    }
   ],
   "source": [
    "np.argsort(model_u.sim[6,:].A)[0,:-topK-1:-1]"
   ]
  },
  {
   "cell_type": "markdown",
   "metadata": {},
   "source": [
    "相似度"
   ]
  },
  {
   "cell_type": "code",
   "execution_count": 140,
   "metadata": {
    "collapsed": false
   },
   "outputs": [
    {
     "data": {
      "text/plain": [
       "array([ 0.01059757,  0.00756969,  0.00756969,  0.00756969,  0.00756969,\n",
       "        0.00605575,  0.00605575,  0.00605575,  0.0048446 ,  0.00454292])"
      ]
     },
     "execution_count": 140,
     "metadata": {},
     "output_type": "execute_result"
    }
   ],
   "source": [
    "predall_rating_u[50]"
   ]
  },
  {
   "cell_type": "code",
   "execution_count": 165,
   "metadata": {
    "collapsed": false
   },
   "outputs": [
    {
     "data": {
      "text/plain": [
       "array([ 0.06197649,  0.04211997,  0.04075031,  0.03401511,  0.02814265,\n",
       "        0.02547057,  0.02430714,  0.02328923,  0.02312483,  0.02280029])"
      ]
     },
     "execution_count": 165,
     "metadata": {},
     "output_type": "execute_result"
    }
   ],
   "source": [
    "predall_rating_u[100]"
   ]
  },
  {
   "cell_type": "code",
   "execution_count": 141,
   "metadata": {
    "collapsed": false
   },
   "outputs": [
    {
     "data": {
      "text/plain": [
       "<1x100 sparse matrix of type '<class 'numpy.float32'>'\n",
       "\twith 73 stored elements in Compressed Sparse Row format>"
      ]
     },
     "execution_count": 141,
     "metadata": {},
     "output_type": "execute_result"
    }
   ],
   "source": []
  },
  {
   "cell_type": "markdown",
   "metadata": {},
   "source": [
    "##### 統計這些人買了什麼?"
   ]
  },
  {
   "cell_type": "code",
   "execution_count": 81,
   "metadata": {
    "collapsed": false
   },
   "outputs": [],
   "source": [
    "topK = 100\n",
    "most_sim_to_user1 = np.argsort(model_u.sim[50,:].A[0])[:-topK-1:-1]"
   ]
  },
  {
   "cell_type": "code",
   "execution_count": 21,
   "metadata": {
    "collapsed": false
   },
   "outputs": [],
   "source": [
    "def getUid(x):\n",
    "    return idx_to_userid.get(x)"
   ]
  },
  {
   "cell_type": "code",
   "execution_count": 85,
   "metadata": {
    "collapsed": false
   },
   "outputs": [],
   "source": [
    "most_sim_to_user1_id = list(map(getUid,list(most_sim_to_user1)))"
   ]
  },
  {
   "cell_type": "code",
   "execution_count": 175,
   "metadata": {
    "collapsed": false
   },
   "outputs": [
    {
     "data": {
      "text/plain": [
       "基金代碼\n",
       "Y53    90\n",
       "465    24\n",
       "X01     7\n",
       "MU7     5\n",
       "Y38     5\n",
       "T34     5\n",
       "T38     5\n",
       "460     4\n",
       "UN8     4\n",
       "68C     4\n",
       "55R     3\n",
       "423     3\n",
       "Y79     3\n",
       "770     2\n",
       "83Y     2\n",
       "J1F     2\n",
       "MB0     2\n",
       "H37     2\n",
       "FL7     2\n",
       "N31     2\n",
       "Name: 基金代碼, dtype: int64"
      ]
     },
     "execution_count": 175,
     "metadata": {},
     "output_type": "execute_result"
    }
   ],
   "source": [
    "group_user1 = df_purchased[df_purchased['身分證字號'].isin(most_sim_to_user1_id)].groupby(['基金代碼'])['基金代碼'].count()\n",
    "group_user1.sort_values(ascending=False).head(20)\n",
    "\n",
    "## 推: 'X01', 'Y38', 'T34', 'MU7', 'T38', 'UN8', '460', '68C', '423', 'Y13'"
   ]
  },
  {
   "cell_type": "markdown",
   "metadata": {},
   "source": [
    "____"
   ]
  },
  {
   "cell_type": "markdown",
   "metadata": {},
   "source": [
    "# note1:\n",
    "\n",
    "    - 買的少的用戶，參考的(相似的)用戶也買得少!!\n",
    "    - 買的多的用戶，參考的用戶也買較多"
   ]
  },
  {
   "cell_type": "code",
   "execution_count": 173,
   "metadata": {
    "collapsed": false
   },
   "outputs": [
    {
     "data": {
      "text/plain": [
       "232"
      ]
     },
     "execution_count": 173,
     "metadata": {},
     "output_type": "execute_result"
    }
   ],
   "source": [
    "group_user1.sum() # 100個用戶僅買232次基金"
   ]
  },
  {
   "cell_type": "code",
   "execution_count": 174,
   "metadata": {
    "collapsed": false
   },
   "outputs": [
    {
     "data": {
      "text/plain": [
       "4445"
      ]
     },
     "execution_count": 174,
     "metadata": {},
     "output_type": "execute_result"
    }
   ],
   "source": [
    "group_user2.sum()"
   ]
  },
  {
   "cell_type": "code",
   "execution_count": 103,
   "metadata": {
    "collapsed": false
   },
   "outputs": [
    {
     "data": {
      "text/plain": [
       "基金代碼\n",
       "X01    378\n",
       "Y38    282\n",
       "J84    170\n",
       "Y53    168\n",
       "MU7    126\n",
       "389     88\n",
       "MU5     87\n",
       "63Z     84\n",
       "FL7     83\n",
       "770     81\n",
       "Name: 基金代碼, dtype: int64"
      ]
     },
     "execution_count": 103,
     "metadata": {},
     "output_type": "execute_result"
    }
   ],
   "source": [
    "most_sim_to_user2 = np.argsort(model_u.sim[100,:].A[0])[:-topK-1:-1]\n",
    "most_sim_to_user2_id = list(map(getUid,list(most_sim_to_user2)))\n",
    "group_user2 = df_purchased[df_purchased['身分證字號'].isin(most_sim_to_user2_id)].groupby(['基金代碼'])['基金代碼'].count()\n",
    "group_user2.sort_values(ascending=False).head(10)"
   ]
  },
  {
   "cell_type": "code",
   "execution_count": 116,
   "metadata": {
    "collapsed": false
   },
   "outputs": [
    {
     "data": {
      "text/plain": [
       "基金代碼\n",
       "X01    378\n",
       "Y38    282\n",
       "J84    170\n",
       "Y53    168\n",
       "MU7    126\n",
       "389     88\n",
       "MU5     87\n",
       "63Z     84\n",
       "FL7     83\n",
       "770     81\n",
       "V01     67\n",
       "J0Z     66\n",
       "J11     66\n",
       "J83     58\n",
       "IN3     55\n",
       "J1F     53\n",
       "L0C     50\n",
       "AE7     49\n",
       "832     49\n",
       "IQ4     45\n",
       "Name: 基金代碼, dtype: int64"
      ]
     },
     "execution_count": 116,
     "metadata": {},
     "output_type": "execute_result"
    }
   ],
   "source": [
    "## 移除用戶2買\n",
    "group_user2[~group_user2.isin(user2_purchased)].sort_values(ascending=False).head(20)\n",
    "## predicted: \n",
    "## MU7', '770', 'MU5', 'J11', 'J83', 'J1F', 'AE7', 'IQ4', '832', 'L0C'"
   ]
  },
  {
   "cell_type": "code",
   "execution_count": 233,
   "metadata": {
    "collapsed": false
   },
   "outputs": [
    {
     "data": {
      "text/plain": [
       "基金代碼\n",
       "T34    88\n",
       "L17    81\n",
       "Y38    74\n",
       "V01    31\n",
       "X01    13\n",
       "Y57    13\n",
       "J88    13\n",
       "770    13\n",
       "882    13\n",
       "Y49     9\n",
       "Name: 基金代碼, dtype: int64"
      ]
     },
     "execution_count": 233,
     "metadata": {},
     "output_type": "execute_result"
    }
   ],
   "source": [
    "most_sim_to_user3 = np.argsort(model_u.sim[6,:].A[0])[:-topK-1:-1]\n",
    "most_sim_to_user3_id = list(map(getUid,list(most_sim_to_user3)))\n",
    "group_user3 = df_purchased[df_purchased['身分證字號'].isin(most_sim_to_user3_id)].groupby(['基金代碼'])['基金代碼'].count()\n",
    "# group_user3.sort_values(ascending=False).head(10)\n",
    "group_user3[~group_user3.isin(user3_purchased)].sort_values(ascending=False).head(10)"
   ]
  },
  {
   "cell_type": "code",
   "execution_count": 234,
   "metadata": {
    "collapsed": false
   },
   "outputs": [
    {
     "data": {
      "text/plain": [
       "493"
      ]
     },
     "execution_count": 234,
     "metadata": {},
     "output_type": "execute_result"
    }
   ],
   "source": [
    "group_user3.sum()"
   ]
  },
  {
   "cell_type": "markdown",
   "metadata": {},
   "source": [
    "# note2\n",
    "\n",
    "    - 相似用戶重複買基金會**劇烈**影響結果"
   ]
  },
  {
   "cell_type": "code",
   "execution_count": 243,
   "metadata": {
    "collapsed": false
   },
   "outputs": [
    {
     "data": {
      "text/plain": [
       "基金代碼\n",
       "Y53    90\n",
       "465    24\n",
       "X01     7\n",
       "MU7     5\n",
       "Y38     5\n",
       "T34     5\n",
       "T38     5\n",
       "460     4\n",
       "UN8     4\n",
       "68C     4\n",
       "55R     3\n",
       "423     3\n",
       "Y79     3\n",
       "770     2\n",
       "83Y     2\n",
       "J1F     2\n",
       "MB0     2\n",
       "H37     2\n",
       "FL7     2\n",
       "N31     2\n",
       "Name: 基金代碼, dtype: int64"
      ]
     },
     "execution_count": 243,
     "metadata": {},
     "output_type": "execute_result"
    }
   ],
   "source": [
    "group_user1.sort_values(ascending=False).head(20)"
   ]
  },
  {
   "cell_type": "code",
   "execution_count": 245,
   "metadata": {
    "collapsed": false
   },
   "outputs": [
    {
     "data": {
      "text/html": [
       "<div>\n",
       "<style>\n",
       "    .dataframe thead tr:only-child th {\n",
       "        text-align: right;\n",
       "    }\n",
       "\n",
       "    .dataframe thead th {\n",
       "        text-align: left;\n",
       "    }\n",
       "\n",
       "    .dataframe tbody tr th {\n",
       "        vertical-align: top;\n",
       "    }\n",
       "</style>\n",
       "<table border=\"1\" class=\"dataframe\">\n",
       "  <thead>\n",
       "    <tr style=\"text-align: right;\">\n",
       "      <th></th>\n",
       "      <th>身分證字號</th>\n",
       "      <th>憑證</th>\n",
       "      <th>基金代碼</th>\n",
       "      <th>商品投資屬性</th>\n",
       "      <th>申購登錄日</th>\n",
       "      <th>扣款次數</th>\n",
       "      <th>申購扣款金額_台幣</th>\n",
       "      <th>國內外基金註記</th>\n",
       "      <th>aum基金型態別</th>\n",
       "      <th>投資型態</th>\n",
       "      <th>投資地區</th>\n",
       "      <th>型態別</th>\n",
       "      <th>aum型態別</th>\n",
       "      <th>aum計算類別</th>\n",
       "      <th>uidxs</th>\n",
       "      <th>iidxs</th>\n",
       "      <th>uidxs_iidxs</th>\n",
       "    </tr>\n",
       "  </thead>\n",
       "  <tbody>\n",
       "    <tr>\n",
       "      <th>8388</th>\n",
       "      <td>P2728788800</td>\n",
       "      <td>138X0751600067</td>\n",
       "      <td>X07</td>\n",
       "      <td>RR4</td>\n",
       "      <td>20161024</td>\n",
       "      <td>3</td>\n",
       "      <td>11468.76</td>\n",
       "      <td>1.0</td>\n",
       "      <td>E</td>\n",
       "      <td>a.定時定額</td>\n",
       "      <td>a.境外基金</td>\n",
       "      <td>a.股票型</td>\n",
       "      <td>a.股票型</td>\n",
       "      <td>國外股票型</td>\n",
       "      <td>5320</td>\n",
       "      <td>62</td>\n",
       "      <td>5320_62</td>\n",
       "    </tr>\n",
       "    <tr>\n",
       "      <th>135751</th>\n",
       "      <td>P2728788800</td>\n",
       "      <td>138Y7641600270</td>\n",
       "      <td>Y76</td>\n",
       "      <td>RR2</td>\n",
       "      <td>20161021</td>\n",
       "      <td>1</td>\n",
       "      <td>62465.00</td>\n",
       "      <td>1.0</td>\n",
       "      <td>B</td>\n",
       "      <td>b.單筆申購</td>\n",
       "      <td>a.境外基金</td>\n",
       "      <td>b.債券型</td>\n",
       "      <td>b.債券型</td>\n",
       "      <td>國外債券型</td>\n",
       "      <td>5320</td>\n",
       "      <td>1196</td>\n",
       "      <td>5320_1196</td>\n",
       "    </tr>\n",
       "  </tbody>\n",
       "</table>\n",
       "</div>"
      ],
      "text/plain": [
       "              身分證字號              憑證 基金代碼 商品投資屬性     申購登錄日  扣款次數  申購扣款金額_台幣  \\\n",
       "8388    P2728788800  138X0751600067  X07    RR4  20161024     3   11468.76   \n",
       "135751  P2728788800  138Y7641600270  Y76    RR2  20161021     1   62465.00   \n",
       "\n",
       "        國內外基金註記 aum基金型態別    投資型態    投資地區    型態別 aum型態別 aum計算類別  uidxs  iidxs  \\\n",
       "8388        1.0        E  a.定時定額  a.境外基金  a.股票型  a.股票型   國外股票型   5320     62   \n",
       "135751      1.0        B  b.單筆申購  a.境外基金  b.債券型  b.債券型   國外債券型   5320   1196   \n",
       "\n",
       "       uidxs_iidxs  \n",
       "8388       5320_62  \n",
       "135751   5320_1196  "
      ]
     },
     "execution_count": 245,
     "metadata": {},
     "output_type": "execute_result"
    }
   ],
   "source": [
    "df_purchased[df_purchased['身分證字號']==idx_to_userid[5320]]\n",
    "## ## 推: 'X01', 'Y38', 'T34', 'MU7', 'T38', 'UN8', '460', '68C', '423', 'Y13'"
   ]
  },
  {
   "cell_type": "code",
   "execution_count": 246,
   "metadata": {
    "collapsed": false
   },
   "outputs": [
    {
     "data": {
      "text/plain": [
       "array(['X01', 'Y38', 'T34', 'MU7', 'T38', 'UN8', '460', '68C', '423', 'Y13'], dtype=object)"
      ]
     },
     "execution_count": 246,
     "metadata": {},
     "output_type": "execute_result"
    }
   ],
   "source": [
    "predall_itemid_u[50]"
   ]
  },
  {
   "cell_type": "markdown",
   "metadata": {},
   "source": [
    "_______"
   ]
  },
  {
   "cell_type": "markdown",
   "metadata": {},
   "source": [
    "# 舊資料測試"
   ]
  },
  {
   "cell_type": "code",
   "execution_count": 3,
   "metadata": {
    "collapsed": true
   },
   "outputs": [],
   "source": [
    "con = pypyodbc.connect(\n",
    "        \"DRIVER={SQL Server};SERVER=dbm_public;UID=sa;PWD=01060728;DATABASE=test\")\n"
   ]
  },
  {
   "cell_type": "code",
   "execution_count": 4,
   "metadata": {
    "collapsed": false
   },
   "outputs": [],
   "source": [
    "df_gt2 = pd.read_sql(\"select * from ihong_基金推薦demo_申購紀錄\",con)"
   ]
  },
  {
   "cell_type": "code",
   "execution_count": 5,
   "metadata": {
    "collapsed": false
   },
   "outputs": [],
   "source": [
    "purchased_ui, userid_to_idx,\\\n",
    "idx_to_userid, itemid_to_idx,idx_to_itemid = df_to_spmatrix(df_gt2,'身分證字號','基金代碼')\n"
   ]
  },
  {
   "cell_type": "code",
   "execution_count": 8,
   "metadata": {
    "collapsed": false
   },
   "outputs": [
    {
     "name": "stdout",
     "output_type": "stream",
     "text": [
      "similarity (jaccard) matrix built (ubcf), \n",
      "sparsity of similarity: 13.44 %\n",
      "-- start building topK user array...\n"
     ]
    },
    {
     "name": "stderr",
     "output_type": "stream",
     "text": [
      "100%|████████████████████████████████| 26324/26324 [00:28<00:00, 936.97users/s]\n"
     ]
    },
    {
     "name": "stdout",
     "output_type": "stream",
     "text": [
      "-- end building topK user array---\n",
      "start building prediction rating...\n"
     ]
    },
    {
     "name": "stderr",
     "output_type": "stream",
     "text": [
      "100%|████████████████████████████████| 26324/26324 [00:51<00:00, 514.40users/s]\n"
     ]
    },
    {
     "name": "stdout",
     "output_type": "stream",
     "text": [
      "ubcf rating matrix built...\n",
      "\n",
      "arrange purchased data in rating matrix...\n",
      "remove=True\n"
     ]
    },
    {
     "name": "stderr",
     "output_type": "stream",
     "text": [
      "100%|████████████████████████████| 3127487/3127487 [00:03<00:00, 957662.31it/s]\n"
     ]
    },
    {
     "name": "stdout",
     "output_type": "stream",
     "text": [
      "numbers of rows : 26324\n",
      "numbers of cols: 2149\n",
      "sparsity of rating: 5.53 %\n",
      "save into *.rating attribute...\n",
      "****\n",
      "time cost for building ubcf (jaccard) model: 0:02:44\n"
     ]
    }
   ],
   "source": [
    "dt_u,model_u = build_model(purchased_ui,kind ='ubcf',topK=100)"
   ]
  },
  {
   "cell_type": "markdown",
   "metadata": {},
   "source": [
    "# 觀察幾種用戶\n",
    "\n",
    "1. 成交基金種類少 (user1: `idx = 172`,user1id:`A2722197450`)\n",
    "    - 相異基金2, 憑證數 2\n",
    "2. 成交基金種類多多 (user2: `idx=0`,user2id:`A1220335170`)\n",
    "    - 相異基金42, 憑證數 59\n",
    "3. 成交基金種類一般 (user3: `idx=10`,user3id:`A1273453200`) \n",
    "    - 相異基金10 , 憑證數14"
   ]
  },
  {
   "cell_type": "code",
   "execution_count": 13,
   "metadata": {
    "collapsed": false
   },
   "outputs": [
    {
     "name": "stdout",
     "output_type": "stream",
     "text": [
      "uid:A2722197450,\t憑證數:2\n",
      "uid:A1220335170,\t憑證數:59\n",
      "uid:A1273453200,\t憑證數:14\n"
     ]
    }
   ],
   "source": [
    "for uidx in [172,0,10]:\n",
    "    print('uid:{},\\t憑證數:{}'.format(idx_to_userid[uidx],\n",
    "        df_gt2[df_gt2['身分證字號']==idx_to_userid[uidx]]['基金代碼'].count()))"
   ]
  },
  {
   "cell_type": "code",
   "execution_count": 14,
   "metadata": {
    "collapsed": false
   },
   "outputs": [
    {
     "data": {
      "text/html": [
       "<div>\n",
       "<style>\n",
       "    .dataframe thead tr:only-child th {\n",
       "        text-align: right;\n",
       "    }\n",
       "\n",
       "    .dataframe thead th {\n",
       "        text-align: left;\n",
       "    }\n",
       "\n",
       "    .dataframe tbody tr th {\n",
       "        vertical-align: top;\n",
       "    }\n",
       "</style>\n",
       "<table border=\"1\" class=\"dataframe\">\n",
       "  <thead>\n",
       "    <tr style=\"text-align: right;\">\n",
       "      <th></th>\n",
       "      <th>申購登錄年</th>\n",
       "      <th>身分證字號</th>\n",
       "      <th>基金中文名稱</th>\n",
       "      <th>憑證</th>\n",
       "      <th>db分類</th>\n",
       "      <th>投資型態</th>\n",
       "      <th>自然人身分</th>\n",
       "      <th>購買次數</th>\n",
       "      <th>idn</th>\n",
       "      <th>基金代碼</th>\n",
       "    </tr>\n",
       "  </thead>\n",
       "  <tbody>\n",
       "    <tr>\n",
       "      <th>372</th>\n",
       "      <td>2015</td>\n",
       "      <td>A2722197450</td>\n",
       "      <td>63Z_貝萊德中國Ａ２（美元）</td>\n",
       "      <td>01163Z11500420</td>\n",
       "      <td>a.一般身分</td>\n",
       "      <td>a.定時定額</td>\n",
       "      <td>a.自然人</td>\n",
       "      <td>7</td>\n",
       "      <td>578414</td>\n",
       "      <td>63Z</td>\n",
       "    </tr>\n",
       "    <tr>\n",
       "      <th>64485</th>\n",
       "      <td>2016</td>\n",
       "      <td>A2722197450</td>\n",
       "      <td>FL7_富蘭克林華美中國A股</td>\n",
       "      <td>011FL731600037</td>\n",
       "      <td>a.一般身分</td>\n",
       "      <td>a.定時定額</td>\n",
       "      <td>a.自然人</td>\n",
       "      <td>58</td>\n",
       "      <td>578414</td>\n",
       "      <td>FL7</td>\n",
       "    </tr>\n",
       "  </tbody>\n",
       "</table>\n",
       "</div>"
      ],
      "text/plain": [
       "       申購登錄年        身分證字號           基金中文名稱              憑證    db分類    投資型態  \\\n",
       "372     2015  A2722197450  63Z_貝萊德中國Ａ２（美元）  01163Z11500420  a.一般身分  a.定時定額   \n",
       "64485   2016  A2722197450   FL7_富蘭克林華美中國A股  011FL731600037  a.一般身分  a.定時定額   \n",
       "\n",
       "       自然人身分  購買次數     idn 基金代碼  \n",
       "372    a.自然人     7  578414  63Z  \n",
       "64485  a.自然人    58  578414  FL7  "
      ]
     },
     "execution_count": 14,
     "metadata": {},
     "output_type": "execute_result"
    }
   ],
   "source": [
    "uidx=172\n",
    "df_gt2[df_gt2['身分證字號']==idx_to_userid[uidx]]"
   ]
  },
  {
   "cell_type": "code",
   "execution_count": 43,
   "metadata": {
    "collapsed": false
   },
   "outputs": [
    {
     "data": {
      "text/html": [
       "<div>\n",
       "<style>\n",
       "    .dataframe thead tr:only-child th {\n",
       "        text-align: right;\n",
       "    }\n",
       "\n",
       "    .dataframe thead th {\n",
       "        text-align: left;\n",
       "    }\n",
       "\n",
       "    .dataframe tbody tr th {\n",
       "        vertical-align: top;\n",
       "    }\n",
       "</style>\n",
       "<table border=\"1\" class=\"dataframe\">\n",
       "  <thead>\n",
       "    <tr style=\"text-align: right;\">\n",
       "      <th></th>\n",
       "      <th>申購登錄年</th>\n",
       "      <th>身分證字號</th>\n",
       "      <th>基金中文名稱</th>\n",
       "      <th>憑證</th>\n",
       "      <th>db分類</th>\n",
       "      <th>投資型態</th>\n",
       "      <th>自然人身分</th>\n",
       "      <th>購買次數</th>\n",
       "      <th>idn</th>\n",
       "      <th>基金代碼</th>\n",
       "    </tr>\n",
       "  </thead>\n",
       "  <tbody>\n",
       "    <tr>\n",
       "      <th>20</th>\n",
       "      <td>2015</td>\n",
       "      <td>A1273453200</td>\n",
       "      <td>L16_聯博全球高收益債券A2股</td>\n",
       "      <td>009L1641500526</td>\n",
       "      <td>a.一般身分</td>\n",
       "      <td>b.單筆申購</td>\n",
       "      <td>a.自然人</td>\n",
       "      <td>1</td>\n",
       "      <td>225268</td>\n",
       "      <td>L16</td>\n",
       "    </tr>\n",
       "    <tr>\n",
       "      <th>66</th>\n",
       "      <td>2015</td>\n",
       "      <td>A1273453200</td>\n",
       "      <td>J0A_摩根多重收益-JPM(美元對沖)A股(累計)</td>\n",
       "      <td>009J0A41500513</td>\n",
       "      <td>a.一般身分</td>\n",
       "      <td>b.單筆申購</td>\n",
       "      <td>a.自然人</td>\n",
       "      <td>1</td>\n",
       "      <td>225268</td>\n",
       "      <td>J0A</td>\n",
       "    </tr>\n",
       "    <tr>\n",
       "      <th>78</th>\n",
       "      <td>2015</td>\n",
       "      <td>A1273453200</td>\n",
       "      <td>JA7_駿利環球生命科技A 累計（美元）</td>\n",
       "      <td>009JA741500834</td>\n",
       "      <td>a.一般身分</td>\n",
       "      <td>b.單筆申購</td>\n",
       "      <td>a.自然人</td>\n",
       "      <td>1</td>\n",
       "      <td>225268</td>\n",
       "      <td>JA7</td>\n",
       "    </tr>\n",
       "    <tr>\n",
       "      <th>65028</th>\n",
       "      <td>2016</td>\n",
       "      <td>A1273453200</td>\n",
       "      <td>AE7_柏瑞印度股票基金A</td>\n",
       "      <td>009AE751600133</td>\n",
       "      <td>a.一般身分</td>\n",
       "      <td>a.定時定額</td>\n",
       "      <td>a.自然人</td>\n",
       "      <td>1</td>\n",
       "      <td>225268</td>\n",
       "      <td>AE7</td>\n",
       "    </tr>\n",
       "    <tr>\n",
       "      <th>65036</th>\n",
       "      <td>2016</td>\n",
       "      <td>A1273453200</td>\n",
       "      <td>66R_鋒裕美元綜合債券AXD(美元)</td>\n",
       "      <td>00966R41600201</td>\n",
       "      <td>a.一般身分</td>\n",
       "      <td>b.單筆申購</td>\n",
       "      <td>a.自然人</td>\n",
       "      <td>1</td>\n",
       "      <td>225268</td>\n",
       "      <td>66R</td>\n",
       "    </tr>\n",
       "    <tr>\n",
       "      <th>65057</th>\n",
       "      <td>2016</td>\n",
       "      <td>A1273453200</td>\n",
       "      <td>Y79_富蘭克林坦伯頓全球亞洲小型企業累積型美元</td>\n",
       "      <td>009Y7951600101</td>\n",
       "      <td>a.一般身分</td>\n",
       "      <td>a.定時定額</td>\n",
       "      <td>a.自然人</td>\n",
       "      <td>8</td>\n",
       "      <td>225268</td>\n",
       "      <td>Y79</td>\n",
       "    </tr>\n",
       "    <tr>\n",
       "      <th>65126</th>\n",
       "      <td>2016</td>\n",
       "      <td>A1273453200</td>\n",
       "      <td>677_鋒裕策略收益AXD(美元配息)</td>\n",
       "      <td>00967741600564</td>\n",
       "      <td>a.一般身分</td>\n",
       "      <td>b.單筆申購</td>\n",
       "      <td>a.自然人</td>\n",
       "      <td>1</td>\n",
       "      <td>225268</td>\n",
       "      <td>677</td>\n",
       "    </tr>\n",
       "    <tr>\n",
       "      <th>65697</th>\n",
       "      <td>2016</td>\n",
       "      <td>A1273453200</td>\n",
       "      <td>677_鋒裕策略收益AXD(美元配息)</td>\n",
       "      <td>00967741600460</td>\n",
       "      <td>a.一般身分</td>\n",
       "      <td>b.單筆申購</td>\n",
       "      <td>a.自然人</td>\n",
       "      <td>1</td>\n",
       "      <td>225268</td>\n",
       "      <td>677</td>\n",
       "    </tr>\n",
       "    <tr>\n",
       "      <th>66480</th>\n",
       "      <td>2016</td>\n",
       "      <td>A1273453200</td>\n",
       "      <td>677_鋒裕策略收益AXD(美元配息)</td>\n",
       "      <td>00967741600641</td>\n",
       "      <td>a.一般身分</td>\n",
       "      <td>b.單筆申購</td>\n",
       "      <td>a.自然人</td>\n",
       "      <td>1</td>\n",
       "      <td>225268</td>\n",
       "      <td>677</td>\n",
       "    </tr>\n",
       "    <tr>\n",
       "      <th>66484</th>\n",
       "      <td>2016</td>\n",
       "      <td>A1273453200</td>\n",
       "      <td>AE7_柏瑞印度股票基金A(美元)</td>\n",
       "      <td>009AE751600133</td>\n",
       "      <td>a.一般身分</td>\n",
       "      <td>a.定時定額</td>\n",
       "      <td>a.自然人</td>\n",
       "      <td>5</td>\n",
       "      <td>225268</td>\n",
       "      <td>AE7</td>\n",
       "    </tr>\n",
       "    <tr>\n",
       "      <th>101295</th>\n",
       "      <td>2017</td>\n",
       "      <td>A1273453200</td>\n",
       "      <td>Y53_坦伯頓全球天然資源A股(美元)</td>\n",
       "      <td>009Y5341700305</td>\n",
       "      <td>a.一般身分</td>\n",
       "      <td>b.單筆申購</td>\n",
       "      <td>a.自然人</td>\n",
       "      <td>1</td>\n",
       "      <td>225268</td>\n",
       "      <td>Y53</td>\n",
       "    </tr>\n",
       "    <tr>\n",
       "      <th>101318</th>\n",
       "      <td>2017</td>\n",
       "      <td>A1273453200</td>\n",
       "      <td>Y53_坦伯頓全球天然資源A股(美元)</td>\n",
       "      <td>009Y5341700173</td>\n",
       "      <td>a.一般身分</td>\n",
       "      <td>b.單筆申購</td>\n",
       "      <td>a.自然人</td>\n",
       "      <td>1</td>\n",
       "      <td>225268</td>\n",
       "      <td>Y53</td>\n",
       "    </tr>\n",
       "    <tr>\n",
       "      <th>101618</th>\n",
       "      <td>2017</td>\n",
       "      <td>A1273453200</td>\n",
       "      <td>83F_路博邁投資基金-NB新興市場股票T累積類股(美元)</td>\n",
       "      <td>00983F41700088</td>\n",
       "      <td>a.一般身分</td>\n",
       "      <td>b.單筆申購</td>\n",
       "      <td>a.自然人</td>\n",
       "      <td>1</td>\n",
       "      <td>225268</td>\n",
       "      <td>83F</td>\n",
       "    </tr>\n",
       "    <tr>\n",
       "      <th>104187</th>\n",
       "      <td>2017</td>\n",
       "      <td>A1273453200</td>\n",
       "      <td>61R_富達亞洲高收益(累積)-配權帳戶-美元</td>\n",
       "      <td>00961R41700017</td>\n",
       "      <td>a.一般身分</td>\n",
       "      <td>b.單筆申購</td>\n",
       "      <td>a.自然人</td>\n",
       "      <td>1</td>\n",
       "      <td>225268</td>\n",
       "      <td>61R</td>\n",
       "    </tr>\n",
       "  </tbody>\n",
       "</table>\n",
       "</div>"
      ],
      "text/plain": [
       "        申購登錄年        身分證字號                         基金中文名稱              憑證  \\\n",
       "20       2015  A1273453200               L16_聯博全球高收益債券A2股  009L1641500526   \n",
       "66       2015  A1273453200     J0A_摩根多重收益-JPM(美元對沖)A股(累計)  009J0A41500513   \n",
       "78       2015  A1273453200           JA7_駿利環球生命科技A 累計（美元）  009JA741500834   \n",
       "65028    2016  A1273453200                  AE7_柏瑞印度股票基金A  009AE751600133   \n",
       "65036    2016  A1273453200            66R_鋒裕美元綜合債券AXD(美元)  00966R41600201   \n",
       "65057    2016  A1273453200       Y79_富蘭克林坦伯頓全球亞洲小型企業累積型美元  009Y7951600101   \n",
       "65126    2016  A1273453200            677_鋒裕策略收益AXD(美元配息)  00967741600564   \n",
       "65697    2016  A1273453200            677_鋒裕策略收益AXD(美元配息)  00967741600460   \n",
       "66480    2016  A1273453200            677_鋒裕策略收益AXD(美元配息)  00967741600641   \n",
       "66484    2016  A1273453200              AE7_柏瑞印度股票基金A(美元)  009AE751600133   \n",
       "101295   2017  A1273453200            Y53_坦伯頓全球天然資源A股(美元)  009Y5341700305   \n",
       "101318   2017  A1273453200            Y53_坦伯頓全球天然資源A股(美元)  009Y5341700173   \n",
       "101618   2017  A1273453200  83F_路博邁投資基金-NB新興市場股票T累積類股(美元)  00983F41700088   \n",
       "104187   2017  A1273453200        61R_富達亞洲高收益(累積)-配權帳戶-美元  00961R41700017   \n",
       "\n",
       "          db分類    投資型態  自然人身分  購買次數     idn 基金代碼  \n",
       "20      a.一般身分  b.單筆申購  a.自然人     1  225268  L16  \n",
       "66      a.一般身分  b.單筆申購  a.自然人     1  225268  J0A  \n",
       "78      a.一般身分  b.單筆申購  a.自然人     1  225268  JA7  \n",
       "65028   a.一般身分  a.定時定額  a.自然人     1  225268  AE7  \n",
       "65036   a.一般身分  b.單筆申購  a.自然人     1  225268  66R  \n",
       "65057   a.一般身分  a.定時定額  a.自然人     8  225268  Y79  \n",
       "65126   a.一般身分  b.單筆申購  a.自然人     1  225268  677  \n",
       "65697   a.一般身分  b.單筆申購  a.自然人     1  225268  677  \n",
       "66480   a.一般身分  b.單筆申購  a.自然人     1  225268  677  \n",
       "66484   a.一般身分  a.定時定額  a.自然人     5  225268  AE7  \n",
       "101295  a.一般身分  b.單筆申購  a.自然人     1  225268  Y53  \n",
       "101318  a.一般身分  b.單筆申購  a.自然人     1  225268  Y53  \n",
       "101618  a.一般身分  b.單筆申購  a.自然人     1  225268  83F  \n",
       "104187  a.一般身分  b.單筆申購  a.自然人     1  225268  61R  "
      ]
     },
     "execution_count": 43,
     "metadata": {},
     "output_type": "execute_result"
    }
   ],
   "source": [
    "uidx=10\n",
    "df_gt2[df_gt2['身分證字號']==idx_to_userid[uidx]]"
   ]
  },
  {
   "cell_type": "code",
   "execution_count": 21,
   "metadata": {
    "collapsed": false
   },
   "outputs": [],
   "source": [
    "def getUid(x):\n",
    "    return idx_to_userid.get(x)"
   ]
  },
  {
   "cell_type": "code",
   "execution_count": 18,
   "metadata": {
    "collapsed": true
   },
   "outputs": [],
   "source": [
    "uids = np.arange(purchased_ui.shape[0])\n",
    "predall_u = model_u.predict(uids,topN=10)\n",
    "predall_itemid_u, predall_rating_u = get_itemids_ratings_np(model_u,\n",
    "                                                            predall_u,idx_to_itemid)"
   ]
  },
  {
   "cell_type": "code",
   "execution_count": 19,
   "metadata": {
    "collapsed": false
   },
   "outputs": [],
   "source": [
    "topK = 100\n",
    "most_sim_to_user1 = np.argsort(model_u.sim[172,:].A[0])[:-topK-1:-1]\n",
    "most_sim_to_user2 = np.argsort(model_u.sim[0,:].A[0])[:-topK-1:-1]\n",
    "most_sim_to_user3 = np.argsort(model_u.sim[10,:].A[0])[:-topK-1:-1]"
   ]
  },
  {
   "cell_type": "code",
   "execution_count": 22,
   "metadata": {
    "collapsed": false
   },
   "outputs": [],
   "source": [
    "most_sim_to_user1_id = list(map(getUid,list(most_sim_to_user1)))\n",
    "most_sim_to_user2_id = list(map(getUid,list(most_sim_to_user2)))\n",
    "most_sim_to_user3_id = list(map(getUid,list(most_sim_to_user3)))"
   ]
  },
  {
   "cell_type": "code",
   "execution_count": 23,
   "metadata": {
    "collapsed": false
   },
   "outputs": [
    {
     "name": "stdout",
     "output_type": "stream",
     "text": [
      "user1 sim group 憑證數 286\n",
      "user2 sim group 憑證數 5549\n",
      "user3 sim group 憑證數 732\n"
     ]
    }
   ],
   "source": [
    "print('user1 sim group 憑證數',df_gt2[df_gt2['身分證字號'].isin(most_sim_to_user1_id)]['基金代碼'].count())\n",
    "print('user2 sim group 憑證數',df_gt2[df_gt2['身分證字號'].isin(most_sim_to_user2_id)]['基金代碼'].count())\n",
    "print('user3 sim group 憑證數',df_gt2[df_gt2['身分證字號'].isin(most_sim_to_user3_id)]['基金代碼'].count())"
   ]
  },
  {
   "cell_type": "code",
   "execution_count": 53,
   "metadata": {
    "collapsed": false
   },
   "outputs": [
    {
     "data": {
      "text/html": [
       "<div>\n",
       "<style>\n",
       "    .dataframe thead tr:only-child th {\n",
       "        text-align: right;\n",
       "    }\n",
       "\n",
       "    .dataframe thead th {\n",
       "        text-align: left;\n",
       "    }\n",
       "\n",
       "    .dataframe tbody tr th {\n",
       "        vertical-align: top;\n",
       "    }\n",
       "</style>\n",
       "<table border=\"1\" class=\"dataframe\">\n",
       "  <thead>\n",
       "    <tr style=\"text-align: right;\">\n",
       "      <th></th>\n",
       "      <th>申購登錄年</th>\n",
       "      <th>身分證字號</th>\n",
       "      <th>基金中文名稱</th>\n",
       "      <th>憑證</th>\n",
       "      <th>db分類</th>\n",
       "      <th>自然人身分</th>\n",
       "      <th>購買次數</th>\n",
       "      <th>idn</th>\n",
       "      <th>基金代碼</th>\n",
       "    </tr>\n",
       "    <tr>\n",
       "      <th>投資型態</th>\n",
       "      <th></th>\n",
       "      <th></th>\n",
       "      <th></th>\n",
       "      <th></th>\n",
       "      <th></th>\n",
       "      <th></th>\n",
       "      <th></th>\n",
       "      <th></th>\n",
       "      <th></th>\n",
       "    </tr>\n",
       "  </thead>\n",
       "  <tbody>\n",
       "    <tr>\n",
       "      <th>a.定時定額</th>\n",
       "      <td>138</td>\n",
       "      <td>138</td>\n",
       "      <td>138</td>\n",
       "      <td>138</td>\n",
       "      <td>138</td>\n",
       "      <td>138</td>\n",
       "      <td>138</td>\n",
       "      <td>138</td>\n",
       "      <td>138</td>\n",
       "    </tr>\n",
       "    <tr>\n",
       "      <th>b.單筆申購</th>\n",
       "      <td>148</td>\n",
       "      <td>148</td>\n",
       "      <td>148</td>\n",
       "      <td>148</td>\n",
       "      <td>148</td>\n",
       "      <td>148</td>\n",
       "      <td>148</td>\n",
       "      <td>148</td>\n",
       "      <td>148</td>\n",
       "    </tr>\n",
       "  </tbody>\n",
       "</table>\n",
       "</div>"
      ],
      "text/plain": [
       "        申購登錄年  身分證字號  基金中文名稱   憑證  db分類  自然人身分  購買次數  idn  基金代碼\n",
       "投資型態                                                           \n",
       "a.定時定額    138    138     138  138   138    138   138  138   138\n",
       "b.單筆申購    148    148     148  148   148    148   148  148   148"
      ]
     },
     "execution_count": 53,
     "metadata": {},
     "output_type": "execute_result"
    }
   ],
   "source": [
    "df_gt2[df_gt2['身分證字號'].isin(most_sim_to_user1_id)].groupby('投資型態').count()"
   ]
  },
  {
   "cell_type": "code",
   "execution_count": 54,
   "metadata": {
    "collapsed": false
   },
   "outputs": [
    {
     "data": {
      "text/plain": [
       "0.5174825174825175"
      ]
     },
     "execution_count": 54,
     "metadata": {},
     "output_type": "execute_result"
    }
   ],
   "source": [
    "148/(138+148)"
   ]
  },
  {
   "cell_type": "code",
   "execution_count": 24,
   "metadata": {
    "collapsed": true
   },
   "outputs": [],
   "source": [
    "## 買啥??推薦什麼??\n",
    "user1_purchased = df_gt2[df_gt2['身分證字號']==idx_to_userid[172]]['基金代碼'].unique()\n",
    "user2_purchased = df_gt2[df_gt2['身分證字號']==idx_to_userid[0]]['基金代碼'].unique()\n",
    "user3_purchased = df_gt2[df_gt2['身分證字號']==idx_to_userid[10]]['基金代碼'].unique()"
   ]
  },
  {
   "cell_type": "code",
   "execution_count": 29,
   "metadata": {
    "collapsed": false
   },
   "outputs": [
    {
     "name": "stdout",
     "output_type": "stream",
     "text": [
      "(73,)\n",
      "(530,)\n",
      "(160,)\n"
     ]
    }
   ],
   "source": [
    "most_sim_toUsers = [most_sim_to_user1_id,most_sim_to_user2_id,most_sim_to_user3_id]\n",
    "for most_sim_to_userX in most_sim_toUsers:\n",
    "    print(df_gt2[df_gt2['身分證字號'].isin(most_sim_to_userX)]['基金代碼'].unique().shape)"
   ]
  },
  {
   "cell_type": "code",
   "execution_count": 30,
   "metadata": {
    "collapsed": false
   },
   "outputs": [
    {
     "name": "stdout",
     "output_type": "stream",
     "text": [
      "user1買買:['63Z' 'FL7']\n",
      "====\n",
      "group 1 愛買\n",
      "====\n",
      " 基金代碼\n",
      "UN8    23\n",
      "J01    10\n",
      "IQ4     6\n",
      "J84     5\n",
      "V01     5\n",
      "72C     4\n",
      "363     4\n",
      "78S     4\n",
      "T32     4\n",
      "J99     3\n",
      "770     3\n",
      "L50     3\n",
      "J21     3\n",
      "J0Z     3\n",
      "H02     2\n",
      "776     2\n",
      "61O     2\n",
      "L0V     2\n",
      "MB0     2\n",
      "J0Y     2\n",
      "Name: 基金代碼, dtype: int64\n",
      "====\n",
      "推啥\n",
      "====\n",
      " ['UN8' 'V01' 'IQ4' '363' 'J01' 'J0Z' 'J84' '770' 'J21' 'L50']\n"
     ]
    }
   ],
   "source": [
    "group_user1 = df_gt2[df_gt2['身分證字號'].isin(most_sim_to_user1_id)].groupby(['基金代碼'])['基金代碼'].count()\n",
    "print('user1買買:{}'.format(user1_purchased))\n",
    "print('====\\ngroup 1 愛買\\n====\\n',group_user1[~group_user1.index.isin(user1_purchased)].sort_values(ascending=False).head(20))\n",
    "print('====\\n推啥\\n====\\n',predall_itemid_u[172])"
   ]
  },
  {
   "cell_type": "code",
   "execution_count": 32,
   "metadata": {
    "collapsed": false
   },
   "outputs": [
    {
     "data": {
      "text/plain": [
       "基金代碼\n",
       "63Z    95\n",
       "FL7    37\n",
       "UN8    23\n",
       "J01    10\n",
       "IQ4     6\n",
       "V01     5\n",
       "J84     5\n",
       "T32     4\n",
       "72C     4\n",
       "78S     4\n",
       "363     4\n",
       "J99     3\n",
       "770     3\n",
       "J21     3\n",
       "J0Z     3\n",
       "Name: 基金代碼, dtype: int64"
      ]
     },
     "execution_count": 32,
     "metadata": {},
     "output_type": "execute_result"
    }
   ],
   "source": [
    "group_user1.sort_values(ascending=False).head(15)"
   ]
  },
  {
   "cell_type": "code",
   "execution_count": 368,
   "metadata": {
    "collapsed": false
   },
   "outputs": [
    {
     "name": "stdout",
     "output_type": "stream",
     "text": [
      "user1買買\n",
      "====\n",
      "['J94' 'F79' '74T' '776' 'T34' '78S' 'J0L' 'MB4' '63Z' 'J0Z' 'V01' '59V'\n",
      " '78F' '315' '396' 'X01' '832' 'L0S' '287' 'IQ4' 'J99' 'L03' 'J1F' '369'\n",
      " 'MB0' 'Y57' 'J88' 'L96' '366' 'JA7' 'Y48' 'F0K' 'Y53' 'L98' '675' '460'\n",
      " '768' '865' '371' '83B' 'J87' '676']\n",
      "====\n",
      "group 2 愛買\n",
      "====\n",
      " 基金代碼\n",
      "AE7    153\n",
      "J84    103\n",
      "Y38    100\n",
      "UN8     87\n",
      "GJ8     76\n",
      "78M     62\n",
      "J0A     59\n",
      "MU7     57\n",
      "83F     54\n",
      "FL7     52\n",
      "J21     52\n",
      "L91     47\n",
      "J11     47\n",
      "Y37     45\n",
      "MU5     44\n",
      "F0O     41\n",
      "L02     41\n",
      "389     39\n",
      "L0C     33\n",
      "IN3     32\n",
      "Name: 基金代碼, dtype: int64\n",
      "====\n",
      "推啥\n",
      "====\n",
      " ['AE7' 'J84' '83F' '78M' 'J21' 'GJ8' 'Y38' 'UN8' 'MU7' '770']\n"
     ]
    }
   ],
   "source": [
    "group_user2 = df_gt2[df_gt2['身分證字號'].isin(most_sim_to_user2_id)].groupby(['基金代碼'])['基金代碼'].count()\n",
    "print('user1買買\\n====\\n{}'.format(user2_purchased))\n",
    "print('====\\ngroup 2 愛買\\n====\\n',group_user2[~group_user2.index.isin(user2_purchased)].sort_values(ascending=False).head(20))\n",
    "print('====\\n推啥\\n====\\n',predall_itemid_u[0])"
   ]
  },
  {
   "cell_type": "code",
   "execution_count": 48,
   "metadata": {
    "collapsed": false
   },
   "outputs": [
    {
     "name": "stdout",
     "output_type": "stream",
     "text": [
      "user3買買\n",
      "====\n",
      "['L16' 'J0A' 'JA7' 'AE7' '66R' 'Y79' '677' 'Y53' '83F' '61R']\n",
      "====\n",
      "group 3\n",
      "====\n",
      " 基金代碼\n",
      "MC5    17\n",
      "UN8    15\n",
      "J0Z    14\n",
      "T34    12\n",
      "J99    12\n",
      "Y49    12\n",
      "Y38    11\n",
      "J77     9\n",
      "V01     9\n",
      "676     8\n",
      "Name: 基金代碼, dtype: int64\n",
      "====\n",
      "推啥\n",
      "====\n",
      " ['MC5' 'J0Z' 'UN8' 'J99' 'T34' 'J77' 'Y49' '460' 'GJ8' '78F']\n"
     ]
    }
   ],
   "source": [
    "group_user3 = df_gt2[df_gt2['身分證字號'].isin(most_sim_to_user3_id)].groupby(['基金代碼'])['基金代碼'].count()\n",
    "print('user3買買\\n====\\n{}'.format(user3_purchased))\n",
    "print('====\\ngroup 3\\n====\\n',group_user3[~group_user3.index.isin(user3_purchased)].sort_values(ascending=False).head(10))\n",
    "print('====\\n推啥\\n====\\n',predall_itemid_u[10])"
   ]
  },
  {
   "cell_type": "code",
   "execution_count": 52,
   "metadata": {
    "collapsed": true
   },
   "outputs": [
    {
     "data": {
      "text/plain": [
       "['A1273453200',\n",
       " 'A1223015020',\n",
       " 'N2728361930',\n",
       " 'A1790492990',\n",
       " 'T2791722840',\n",
       " 'Q1252029670',\n",
       " 'A1737207470',\n",
       " 'Q2771310540',\n",
       " 'A2756188840',\n",
       " 'R1774758250',\n",
       " 'H1294772250',\n",
       " 'A1777607290',\n",
       " 'N1757135720',\n",
       " 'P1790047070',\n",
       " 'A2709813460',\n",
       " 'D2729857730',\n",
       " 'A2927110310',\n",
       " 'J1220307830',\n",
       " 'D2295962280',\n",
       " 'N1253486830',\n",
       " 'X2722585330',\n",
       " 'A2753649760',\n",
       " 'F2270086040',\n",
       " 'N2721279460',\n",
       " 'Q2771973530',\n",
       " 'A2799461330',\n",
       " 'R1255782970',\n",
       " 'A1579915700',\n",
       " 'W1222583300',\n",
       " 'N2797385470',\n",
       " 'H1727112310',\n",
       " 'Q2279311440',\n",
       " 'J2298019310',\n",
       " 'A2750171860',\n",
       " 'F1758790200',\n",
       " 'B2771856850',\n",
       " 'A2791271270',\n",
       " 'H2728323350',\n",
       " 'N1729141200',\n",
       " 'K1725675900',\n",
       " 'X2722784670',\n",
       " 'P1790543910',\n",
       " 'Q2793733620',\n",
       " 'G1721632060',\n",
       " 'A2739028630',\n",
       " 'J1223361240',\n",
       " 'Q2797541090',\n",
       " 'A1751742870',\n",
       " 'T1290876740',\n",
       " 'E2724140690',\n",
       " 'A2739475270',\n",
       " 'A2727875310',\n",
       " 'P2772162400',\n",
       " 'A2274207410',\n",
       " 'F1258572680',\n",
       " 'J2726236780',\n",
       " 'F2722760220',\n",
       " 'E1755654960',\n",
       " 'Y1229248060',\n",
       " 'D2797434760',\n",
       " 'A1299536670',\n",
       " 'A1789044830',\n",
       " 'E1229042310',\n",
       " 'F1293627140',\n",
       " 'M1720046300',\n",
       " 'R2773732740',\n",
       " 'F2759499850',\n",
       " 'A2593003480',\n",
       " 'V2728504410',\n",
       " 'F2275419330',\n",
       " 'A2755601020',\n",
       " 'A2923613740',\n",
       " 'F1258690910',\n",
       " 'M2777519440',\n",
       " 'H1729452410',\n",
       " 'A2799574630',\n",
       " 'F1779514850',\n",
       " 'D1295381020',\n",
       " 'M2720267830',\n",
       " 'J2727700130',\n",
       " 'C1792415200',\n",
       " 'F2797971260',\n",
       " 'A2725640080',\n",
       " 'A2774374270',\n",
       " 'A1924943030',\n",
       " 'J2724380080',\n",
       " 'H1791197190',\n",
       " 'H2755389230',\n",
       " 'F1740789640',\n",
       " 'A1720392510',\n",
       " 'G2721864940',\n",
       " 'B2723159500',\n",
       " 'K2723248280',\n",
       " 'F2785988510',\n",
       " 'A2293661380',\n",
       " 'F2717915960',\n",
       " 'N1771185060',\n",
       " 'F2777050530',\n",
       " 'C1792166080',\n",
       " 'A2599848180']"
      ]
     },
     "execution_count": 52,
     "metadata": {},
     "output_type": "execute_result"
    }
   ],
   "source": [
    "most_sim_to_user3_id"
   ]
  }
 ],
 "metadata": {
  "anaconda-cloud": {},
  "kernelspec": {
   "display_name": "Python [conda root]",
   "language": "python",
   "name": "conda-root-py"
  },
  "language_info": {
   "codemirror_mode": {
    "name": "ipython",
    "version": 3
   },
   "file_extension": ".py",
   "mimetype": "text/x-python",
   "name": "python",
   "nbconvert_exporter": "python",
   "pygments_lexer": "ipython3",
   "version": "3.5.2"
  }
 },
 "nbformat": 4,
 "nbformat_minor": 1
}
