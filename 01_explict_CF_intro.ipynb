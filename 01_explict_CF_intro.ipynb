{
 "cells": [
  {
   "cell_type": "code",
   "execution_count": 5,
   "metadata": {
    "collapsed": false
   },
   "outputs": [
    {
     "name": "stdout",
     "output_type": "stream",
     "text": [
      "tt0114709\n"
     ]
    }
   ],
   "source": [
    "#%% \n",
    "# =============================================================================\n",
    "# validation \n",
    "# =============================================================================\n",
    "import requests\n",
    "import json\n",
    "from bs4 import BeautifulSoup as BS\n",
    "from IPython.display import display, Image\n",
    "#'https://api.themoviedb.org/3/movie/550?api_key='\n",
    "## extract id\n",
    "response = requests.get('http://www.imdb.com/find?q=Toy%20Story(1995)')\n",
    "soup = BS(response.text,\"lxml\")\n",
    "id_href = soup.select('.result_text')[0].a['href']\n",
    "print(id_href.split('/')[-2]) # extract id--imdb\n",
    "\n",
    "## get baseurl structure, w185 corresponds to size of movie poster.\n",
    "## query themoviedb api (https://www.themoviedb.org)\n",
    "headers = {'Accept': 'application/json'}\n",
    "payload = {'api_key': 'cf8a234e722de1a4f390ce5b62c5b327'} \n",
    "response = requests.get(\"http://api.themoviedb.org/3/configuration\", params=payload, headers=headers)\n",
    "response = response.json()\n",
    "base_url = response['images']['base_url'] + 'w185'\n",
    "\n",
    "\n",
    "# %%\n",
    "\n",
    "def get_poster(imdb_url, base_url):\n",
    "    # Get IMDB movie ID\n",
    "    response = requests.get(imdb_url)\n",
    "    soup = BS(response.text,\"lxml\")\n",
    "    id_href = soup.select('.result_text')[0].a['href']    \n",
    "    movie_id = id_href.split('/')[-2]\n",
    "    \n",
    "    # Query themoviedb.org API for movie poster path.\n",
    "    movie_url = 'http://api.themoviedb.org/3/movie/{:}/images'.format(movie_id)\n",
    "    headers = {'Accept': 'application/json'}\n",
    "    payload = {'api_key': 'cf8a234e722de1a4f390ce5b62c5b327'} \n",
    "    response = requests.get(movie_url, \n",
    "                            params=payload, \n",
    "                            headers=headers)\n",
    "    try:\n",
    "        file_path = response.json()['posters'][0]['file_path']\n",
    "    except:\n",
    "        # IMDB movie ID is sometimes no good. Need to get correct one.\n",
    "        movie_title = imdb_url.split('?')[-1].split('(')[0]\n",
    "        payload['query'] = movie_title\n",
    "        response = requests.get('http://api.themoviedb.org/3/search/movie', params=payload, headers=headers)\n",
    "        movie_id = json.loads(response.text)['results'][0]['id']\n",
    "        payload.pop('query', None)\n",
    "        movie_url = 'http://api.themoviedb.org/3/movie/{:}/images'.format(movie_id)\n",
    "        response = requests.get(movie_url, params=payload, headers=headers)\n",
    "        file_path = json.loads(response.text)['posters'][0]['file_path']\n",
    "        \n",
    "    return base_url + file_path\n",
    "\n",
    "\n",
    "toy_story = 'http://www.imdb.com/find?q=Toy%20Story(1995)'\n",
    "imag_url = get_poster(toy_story,base_url)\n",
    "img = Image(url = imag_url)"
   ]
  },
  {
   "cell_type": "code",
   "execution_count": 6,
   "metadata": {
    "collapsed": false
   },
   "outputs": [
    {
     "data": {
      "text/html": [
       "<img src=\"http://image.tmdb.org/t/p/w185/uMZqKhT4YA6mqo2yczoznv7IDmv.jpg\"/>"
      ],
      "text/plain": [
       "<IPython.core.display.Image object>"
      ]
     },
     "metadata": {},
     "output_type": "display_data"
    }
   ],
   "source": [
    "display(img)"
   ]
  },
  {
   "cell_type": "code",
   "execution_count": null,
   "metadata": {
    "collapsed": true
   },
   "outputs": [],
   "source": []
  }
 ],
 "metadata": {
  "anaconda-cloud": {},
  "kernelspec": {
   "display_name": "Python [conda root]",
   "language": "python",
   "name": "conda-root-py"
  },
  "language_info": {
   "codemirror_mode": {
    "name": "ipython",
    "version": 3
   },
   "file_extension": ".py",
   "mimetype": "text/x-python",
   "name": "python",
   "nbconvert_exporter": "python",
   "pygments_lexer": "ipython3",
   "version": "3.5.2"
  }
 },
 "nbformat": 4,
 "nbformat_minor": 1
}
