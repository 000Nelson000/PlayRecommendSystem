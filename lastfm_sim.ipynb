{
 "cells": [
  {
   "cell_type": "markdown",
   "metadata": {},
   "source": [
    "# Play around music datasets \n",
    "- [blog](http://www.benfrederickson.com/distance-metrics/)\n",
    "- lastfm datasets can be found [here](http://www.dtic.upf.edu/~ocelma/MusicRecommendationDataset/lastfm-360K.html)"
   ]
  },
  {
   "cell_type": "code",
   "execution_count": 20,
   "metadata": {
    "collapsed": true
   },
   "outputs": [],
   "source": [
    "import os \n",
    "import numpy as np "
   ]
  },
  {
   "cell_type": "code",
   "execution_count": 2,
   "metadata": {
    "collapsed": true
   },
   "outputs": [],
   "source": [
    "def clean_dataset(filename):\n",
    "    \"\"\" so - i lied a little in the post about it being a one line operation\n",
    "    to read in the dataset with pandas.\n",
    "\n",
    "    it *should* be a one line operation, but there are a bunch of malformed\n",
    "    lines in the dataset that trips up pandas. So lets read in the thing one\n",
    "    line at a time, and strip out the bad data. After this runs it will be a\n",
    "    one-liner to read in. honest this time \"\"\"\n",
    "\n",
    "\n",
    "    with open(filename + \".cleaned\", \"w\",encoding='utf8') as output:\n",
    "        for i, line in enumerate(open(filename,'r',encoding='utf8')):\n",
    "            tokens = line.strip().split(\"\\t\")\n",
    "            if len(tokens) != 4:\n",
    "                print(\"wrong # of tokens\", i)\n",
    "                continue\n",
    "\n",
    "\n",
    "            if not tokens[3].isdigit():\n",
    "                print(\"non integer play count\", i)\n",
    "                continue\n",
    "\n",
    "\n",
    "            if tokens[2] == '\"\"':\n",
    "                print(\"invalid artist id\", tokens[2])\n",
    "                continue\n",
    "\n",
    "\n",
    "            # some lines contain carriage returns (without newlines), which\n",
    "            # randomly messes pandas up\n",
    "            line = line.replace('\\r', '')\n",
    "#             print(line)\n",
    "\n",
    "\n",
    "            output.write(line)\n",
    "\n",
    "\n",
    "    os.rename(filename, filename + \".messy\")\n",
    "    os.rename(filename + \".cleaned\", filename)"
   ]
  },
  {
   "cell_type": "code",
   "execution_count": 3,
   "metadata": {
    "collapsed": true
   },
   "outputs": [
    {
     "ename": "FileExistsError",
     "evalue": "[WinError 183] 當檔案已存在時，無法建立該檔案。: './lastfm-dataset-360k/usersha1-artmbid-artname-plays.tsv' -> './lastfm-dataset-360k/usersha1-artmbid-artname-plays.tsv.messy'",
     "output_type": "error",
     "traceback": [
      "\u001b[1;31m---------------------------------------------------------------------------\u001b[0m",
      "\u001b[1;31mFileExistsError\u001b[0m                           Traceback (most recent call last)",
      "\u001b[1;32m<ipython-input-3-5eec95af722a>\u001b[0m in \u001b[0;36m<module>\u001b[1;34m()\u001b[0m\n\u001b[1;32m----> 1\u001b[1;33m \u001b[0mclean_dataset\u001b[0m\u001b[1;33m(\u001b[0m\u001b[1;34m'./lastfm-dataset-360k/usersha1-artmbid-artname-plays.tsv'\u001b[0m\u001b[1;33m)\u001b[0m\u001b[1;33m\u001b[0m\u001b[0m\n\u001b[0m",
      "\u001b[1;32m<ipython-input-2-d8824edf1d64>\u001b[0m in \u001b[0;36mclean_dataset\u001b[1;34m(filename)\u001b[0m\n\u001b[0;32m     36\u001b[0m \u001b[1;33m\u001b[0m\u001b[0m\n\u001b[0;32m     37\u001b[0m \u001b[1;33m\u001b[0m\u001b[0m\n\u001b[1;32m---> 38\u001b[1;33m     \u001b[0mos\u001b[0m\u001b[1;33m.\u001b[0m\u001b[0mrename\u001b[0m\u001b[1;33m(\u001b[0m\u001b[0mfilename\u001b[0m\u001b[1;33m,\u001b[0m \u001b[0mfilename\u001b[0m \u001b[1;33m+\u001b[0m \u001b[1;34m\".messy\"\u001b[0m\u001b[1;33m)\u001b[0m\u001b[1;33m\u001b[0m\u001b[0m\n\u001b[0m\u001b[0;32m     39\u001b[0m     \u001b[0mos\u001b[0m\u001b[1;33m.\u001b[0m\u001b[0mrename\u001b[0m\u001b[1;33m(\u001b[0m\u001b[0mfilename\u001b[0m \u001b[1;33m+\u001b[0m \u001b[1;34m\".cleaned\"\u001b[0m\u001b[1;33m,\u001b[0m \u001b[0mfilename\u001b[0m\u001b[1;33m)\u001b[0m\u001b[1;33m\u001b[0m\u001b[0m\n",
      "\u001b[1;31mFileExistsError\u001b[0m: [WinError 183] 當檔案已存在時，無法建立該檔案。: './lastfm-dataset-360k/usersha1-artmbid-artname-plays.tsv' -> './lastfm-dataset-360k/usersha1-artmbid-artname-plays.tsv.messy'"
     ]
    }
   ],
   "source": [
    "clean_dataset('./lastfm-dataset-360k/usersha1-artmbid-artname-plays.tsv')"
   ]
  },
  {
   "cell_type": "code",
   "execution_count": 1,
   "metadata": {
    "collapsed": true
   },
   "outputs": [],
   "source": [
    "import pandas as pd \n",
    "data = pd.read_table(\"./lastfm-dataset-360k/usersha1-artmbid-artname-plays.tsv\", \n",
    "                         usecols=[0, 2, 3], \n",
    "                         names=['user', 'artist', 'plays'])"
   ]
  },
  {
   "cell_type": "code",
   "execution_count": 125,
   "metadata": {},
   "outputs": [
    {
     "data": {
      "text/html": [
       "<div>\n",
       "<style>\n",
       "    .dataframe thead tr:only-child th {\n",
       "        text-align: right;\n",
       "    }\n",
       "\n",
       "    .dataframe thead th {\n",
       "        text-align: left;\n",
       "    }\n",
       "\n",
       "    .dataframe tbody tr th {\n",
       "        vertical-align: top;\n",
       "    }\n",
       "</style>\n",
       "<table border=\"1\" class=\"dataframe\">\n",
       "  <thead>\n",
       "    <tr style=\"text-align: right;\">\n",
       "      <th></th>\n",
       "      <th>user</th>\n",
       "      <th>artist</th>\n",
       "      <th>plays</th>\n",
       "    </tr>\n",
       "  </thead>\n",
       "  <tbody>\n",
       "    <tr>\n",
       "      <th>0</th>\n",
       "      <td>00000c289a1829a808ac09c00daf10bc3c4e223b</td>\n",
       "      <td>betty blowtorch</td>\n",
       "      <td>2137</td>\n",
       "    </tr>\n",
       "    <tr>\n",
       "      <th>1</th>\n",
       "      <td>00000c289a1829a808ac09c00daf10bc3c4e223b</td>\n",
       "      <td>die Ärzte</td>\n",
       "      <td>1099</td>\n",
       "    </tr>\n",
       "    <tr>\n",
       "      <th>2</th>\n",
       "      <td>00000c289a1829a808ac09c00daf10bc3c4e223b</td>\n",
       "      <td>melissa etheridge</td>\n",
       "      <td>897</td>\n",
       "    </tr>\n",
       "    <tr>\n",
       "      <th>3</th>\n",
       "      <td>00000c289a1829a808ac09c00daf10bc3c4e223b</td>\n",
       "      <td>elvenking</td>\n",
       "      <td>717</td>\n",
       "    </tr>\n",
       "    <tr>\n",
       "      <th>4</th>\n",
       "      <td>00000c289a1829a808ac09c00daf10bc3c4e223b</td>\n",
       "      <td>juliette &amp; the licks</td>\n",
       "      <td>706</td>\n",
       "    </tr>\n",
       "  </tbody>\n",
       "</table>\n",
       "</div>"
      ],
      "text/plain": [
       "                                       user                artist  plays\n",
       "0  00000c289a1829a808ac09c00daf10bc3c4e223b       betty blowtorch   2137\n",
       "1  00000c289a1829a808ac09c00daf10bc3c4e223b             die Ärzte   1099\n",
       "2  00000c289a1829a808ac09c00daf10bc3c4e223b     melissa etheridge    897\n",
       "3  00000c289a1829a808ac09c00daf10bc3c4e223b             elvenking    717\n",
       "4  00000c289a1829a808ac09c00daf10bc3c4e223b  juliette & the licks    706"
      ]
     },
     "execution_count": 125,
     "metadata": {},
     "output_type": "execute_result"
    }
   ],
   "source": [
    "data.head()"
   ]
  },
  {
   "cell_type": "code",
   "execution_count": 134,
   "metadata": {},
   "outputs": [],
   "source": [
    "temp = data[data['artist'].str.contains('bon jovi')]\n",
    "# temp['artist'].cat.codes ## 52978"
   ]
  },
  {
   "cell_type": "code",
   "execution_count": 4,
   "metadata": {},
   "outputs": [
    {
     "data": {
      "text/html": [
       "<div>\n",
       "<style>\n",
       "    .dataframe thead tr:only-child th {\n",
       "        text-align: right;\n",
       "    }\n",
       "\n",
       "    .dataframe thead th {\n",
       "        text-align: left;\n",
       "    }\n",
       "\n",
       "    .dataframe tbody tr th {\n",
       "        vertical-align: top;\n",
       "    }\n",
       "</style>\n",
       "<table border=\"1\" class=\"dataframe\">\n",
       "  <thead>\n",
       "    <tr style=\"text-align: right;\">\n",
       "      <th></th>\n",
       "      <th>user</th>\n",
       "      <th>artist</th>\n",
       "      <th>plays</th>\n",
       "    </tr>\n",
       "  </thead>\n",
       "  <tbody>\n",
       "    <tr>\n",
       "      <th>0</th>\n",
       "      <td>00000c289a1829a808ac09c00daf10bc3c4e223b</td>\n",
       "      <td>betty blowtorch</td>\n",
       "      <td>2137</td>\n",
       "    </tr>\n",
       "    <tr>\n",
       "      <th>1</th>\n",
       "      <td>00000c289a1829a808ac09c00daf10bc3c4e223b</td>\n",
       "      <td>die Ärzte</td>\n",
       "      <td>1099</td>\n",
       "    </tr>\n",
       "    <tr>\n",
       "      <th>2</th>\n",
       "      <td>00000c289a1829a808ac09c00daf10bc3c4e223b</td>\n",
       "      <td>melissa etheridge</td>\n",
       "      <td>897</td>\n",
       "    </tr>\n",
       "    <tr>\n",
       "      <th>3</th>\n",
       "      <td>00000c289a1829a808ac09c00daf10bc3c4e223b</td>\n",
       "      <td>elvenking</td>\n",
       "      <td>717</td>\n",
       "    </tr>\n",
       "    <tr>\n",
       "      <th>4</th>\n",
       "      <td>00000c289a1829a808ac09c00daf10bc3c4e223b</td>\n",
       "      <td>juliette &amp; the licks</td>\n",
       "      <td>706</td>\n",
       "    </tr>\n",
       "  </tbody>\n",
       "</table>\n",
       "</div>"
      ],
      "text/plain": [
       "                                       user                artist  plays\n",
       "0  00000c289a1829a808ac09c00daf10bc3c4e223b       betty blowtorch   2137\n",
       "1  00000c289a1829a808ac09c00daf10bc3c4e223b             die Ärzte   1099\n",
       "2  00000c289a1829a808ac09c00daf10bc3c4e223b     melissa etheridge    897\n",
       "3  00000c289a1829a808ac09c00daf10bc3c4e223b             elvenking    717\n",
       "4  00000c289a1829a808ac09c00daf10bc3c4e223b  juliette & the licks    706"
      ]
     },
     "execution_count": 4,
     "metadata": {},
     "output_type": "execute_result"
    }
   ],
   "source": [
    "data.head(5)"
   ]
  },
  {
   "cell_type": "code",
   "execution_count": 2,
   "metadata": {
    "collapsed": true
   },
   "outputs": [],
   "source": [
    "# map each artist and user to a unique numeric value\n",
    "data['user'] = data['user'].astype(\"category\")\n",
    "data['artist'] = data['artist'].astype(\"category\")"
   ]
  },
  {
   "cell_type": "code",
   "execution_count": 3,
   "metadata": {},
   "outputs": [
    {
     "data": {
      "text/plain": [
       "user      category\n",
       "artist    category\n",
       "plays        int64\n",
       "dtype: object"
      ]
     },
     "execution_count": 3,
     "metadata": {},
     "output_type": "execute_result"
    }
   ],
   "source": [
    "data.dtypes"
   ]
  },
  {
   "cell_type": "code",
   "execution_count": 4,
   "metadata": {
    "collapsed": true
   },
   "outputs": [],
   "source": [
    "from scipy.sparse import coo_matrix"
   ]
  },
  {
   "cell_type": "code",
   "execution_count": 5,
   "metadata": {},
   "outputs": [],
   "source": [
    "# create a sparse matrix of all the artist/user/play triples\n",
    "plays = coo_matrix((data['plays'].astype(float), \n",
    "                   (data['artist'].cat.codes, \n",
    "                    data['user'].cat.codes)))"
   ]
  },
  {
   "cell_type": "code",
   "execution_count": 6,
   "metadata": {},
   "outputs": [],
   "source": [
    "plays_T = plays.T"
   ]
  },
  {
   "cell_type": "code",
   "execution_count": 11,
   "metadata": {},
   "outputs": [
    {
     "data": {
      "text/plain": [
       "119921.0"
      ]
     },
     "execution_count": 11,
     "metadata": {},
     "output_type": "execute_result"
    }
   ],
   "source": [
    "plays.getcol(1).sum()"
   ]
  },
  {
   "cell_type": "markdown",
   "metadata": {},
   "source": [
    "_____"
   ]
  },
  {
   "cell_type": "markdown",
   "metadata": {},
   "source": [
    "# Distance Metric\n",
    "## KNN "
   ]
  },
  {
   "cell_type": "code",
   "execution_count": 10,
   "metadata": {},
   "outputs": [
    {
     "data": {
      "text/plain": [
       "<358868x292363 sparse matrix of type '<class 'numpy.float64'>'\n",
       "\twith 17535652 stored elements in COOrdinate format>"
      ]
     },
     "execution_count": 10,
     "metadata": {},
     "output_type": "execute_result"
    }
   ],
   "source": [
    "## user - artist matrix\n",
    "plays_T"
   ]
  },
  {
   "cell_type": "code",
   "execution_count": 11,
   "metadata": {
    "collapsed": true
   },
   "outputs": [],
   "source": [
    "from scipy.sparse import csr_matrix \n",
    "from sklearn.preprocessing import normalize"
   ]
  },
  {
   "cell_type": "code",
   "execution_count": 13,
   "metadata": {},
   "outputs": [],
   "source": [
    "plays_t_csr = csr_matrix(plays_T)"
   ]
  },
  {
   "cell_type": "code",
   "execution_count": 14,
   "metadata": {
    "collapsed": true
   },
   "outputs": [],
   "source": [
    "from KNNmodel import *"
   ]
  },
  {
   "cell_type": "code",
   "execution_count": 16,
   "metadata": {},
   "outputs": [
    {
     "name": "stdout",
     "output_type": "stream",
     "text": [
      "similarity (jaccard) matrix built (ibcf), \n",
      "sparsity of similarity: 0.22 %\n",
      "Wall time: 4min 9s\n"
     ]
    }
   ],
   "source": [
    "model_i = KNNmodel(plays_t_csr,kind='ibcf')\n",
    "%time model_i.jaccard_sim()\n",
    "# model_i.fit(topK=100,remove=True)"
   ]
  },
  {
   "cell_type": "code",
   "execution_count": 18,
   "metadata": {
    "collapsed": true
   },
   "outputs": [
    {
     "name": "stderr",
     "output_type": "stream",
     "text": [
      "  0%|                               | 909/292363 [06:16<33:30:43,  2.42items/s]"
     ]
    },
    {
     "ename": "KeyboardInterrupt",
     "evalue": "",
     "output_type": "error",
     "traceback": [
      "\u001b[1;31m---------------------------------------------------------------------------\u001b[0m",
      "\u001b[1;31mKeyboardInterrupt\u001b[0m                         Traceback (most recent call last)",
      "\u001b[1;32m<ipython-input-18-af4ce75c3050>\u001b[0m in \u001b[0;36m<module>\u001b[1;34m()\u001b[0m\n\u001b[1;32m----> 1\u001b[1;33m \u001b[0mmodel_i\u001b[0m\u001b[1;33m.\u001b[0m\u001b[0mfit\u001b[0m\u001b[1;33m(\u001b[0m\u001b[1;33m)\u001b[0m\u001b[1;33m\u001b[0m\u001b[0m\n\u001b[0m",
      "\u001b[1;32mC:\\Info_Center\\DBMTeam\\DBM個人資料\\Ihong\\RS\\PlayRecommendSystem\\KNNmodel.py\u001b[0m in \u001b[0;36mfit\u001b[1;34m(self, topK, normalize, remove, user_features)\u001b[0m\n\u001b[0;32m    212\u001b[0m \u001b[1;31m#                topk_item = topK_items[item,:] # shape: (topK,)\u001b[0m\u001b[1;33m\u001b[0m\u001b[1;33m\u001b[0m\u001b[0m\n\u001b[0;32m    213\u001b[0m                 pred[:, item] = rating[:, topk_item].dot(\n\u001b[1;32m--> 214\u001b[1;33m                     sim[topk_item, item])\n\u001b[0m\u001b[0;32m    215\u001b[0m \u001b[1;31m#                pred[:,item] /= np.sum(np.abs(sim[:,item])) # extremely slow\u001b[0m\u001b[1;33m\u001b[0m\u001b[1;33m\u001b[0m\u001b[0m\n\u001b[0;32m    216\u001b[0m \u001b[1;33m\u001b[0m\u001b[0m\n",
      "\u001b[1;31mKeyboardInterrupt\u001b[0m: "
     ]
    }
   ],
   "source": [
    "model_i.fit() ## 30 min at public(at least), 15GB memory cost..... not a good way "
   ]
  },
  {
   "cell_type": "markdown",
   "metadata": {},
   "source": [
    "上面方法極大缺點\n",
    "- 記憶體開銷太大\n",
    "- 效能太差"
   ]
  },
  {
   "cell_type": "code",
   "execution_count": 19,
   "metadata": {},
   "outputs": [],
   "source": [
    "def jaccard(plays):\n",
    "    plays = csr_matrix(plays)\n",
    "    plays.data = np.ones(len(plays.data))\n",
    "\n",
    "    rows_sum = plays.getnnz(axis=1).astype('int16')  #\n",
    "    ab = plays.dot(plays.T).astype('float16') # mat x t(mat)        \n",
    "    # for rows\n",
    "    aa = np.repeat(rows_sum, ab.getnnz(axis=1))\n",
    "    # for columns\n",
    "    bb = rows_sum[ab.indices]\n",
    "\n",
    "    similarities = ab.tocoo(copy=True)\n",
    "    similarities.data /= (aa + bb - ab.data)\n",
    "    return similarities"
   ]
  },
  {
   "cell_type": "code",
   "execution_count": 20,
   "metadata": {},
   "outputs": [
    {
     "name": "stderr",
     "output_type": "stream",
     "text": [
      "C:\\Program Files\\Anaconda3\\envs\\py36\\lib\\site-packages\\ipykernel\\__main__.py:13: RuntimeWarning: invalid value encountered in true_divide\n"
     ]
    },
    {
     "name": "stdout",
     "output_type": "stream",
     "text": [
      "Wall time: 1min 9s\n"
     ]
    }
   ],
   "source": [
    "%time sim_jac = jaccard(plays)"
   ]
  },
  {
   "cell_type": "code",
   "execution_count": 15,
   "metadata": {},
   "outputs": [
    {
     "data": {
      "text/plain": [
       "113"
      ]
     },
     "execution_count": 15,
     "metadata": {},
     "output_type": "execute_result"
    }
   ],
   "source": [
    "import gc\n",
    "# del model_i\n",
    "gc.collect()"
   ]
  },
  {
   "cell_type": "markdown",
   "metadata": {},
   "source": [
    "## ANN"
   ]
  },
  {
   "cell_type": "code",
   "execution_count": 14,
   "metadata": {
    "collapsed": true
   },
   "outputs": [],
   "source": [
    "import annoy "
   ]
  },
  {
   "cell_type": "markdown",
   "metadata": {},
   "source": [
    "### 暴力法 "
   ]
  },
  {
   "cell_type": "markdown",
   "metadata": {},
   "source": [
    "如果把每個用戶聽過的歌手紀錄視為用戶向量\n",
    "- user_vec\n",
    "- 測試樂手之間的最近相似度"
   ]
  },
  {
   "cell_type": "code",
   "execution_count": 32,
   "metadata": {},
   "outputs": [
    {
     "data": {
      "text/plain": [
       "<292363x358868 sparse matrix of type '<class 'numpy.float64'>'\n",
       "\twith 17535577 stored elements in COOrdinate format>"
      ]
     },
     "execution_count": 32,
     "metadata": {},
     "output_type": "execute_result"
    }
   ],
   "source": [
    "#  artist x users\n",
    "plays"
   ]
  },
  {
   "cell_type": "code",
   "execution_count": 60,
   "metadata": {
    "collapsed": true
   },
   "outputs": [],
   "source": [
    "from tqdm import tqdm"
   ]
  },
  {
   "cell_type": "code",
   "execution_count": 62,
   "metadata": {},
   "outputs": [
    {
     "name": "stderr",
     "output_type": "stream",
     "text": [
      "  3%|▉                                 | 8466/292363 [08:45<4:53:53, 16.10it/s]"
     ]
    },
    {
     "ename": "KeyboardInterrupt",
     "evalue": "",
     "output_type": "error",
     "traceback": [
      "\u001b[1;31m---------------------------------------------------------------------------\u001b[0m",
      "\u001b[1;31mKeyboardInterrupt\u001b[0m                         Traceback (most recent call last)",
      "\u001b[1;32m<ipython-input-62-c92867ca6aba>\u001b[0m in \u001b[0;36m<module>\u001b[1;34m()\u001b[0m\n\u001b[0;32m      5\u001b[0m \u001b[1;32mfor\u001b[0m \u001b[0mi\u001b[0m \u001b[1;32min\u001b[0m \u001b[0mtqdm\u001b[0m\u001b[1;33m(\u001b[0m\u001b[0mrange\u001b[0m\u001b[1;33m(\u001b[0m\u001b[0mplays\u001b[0m\u001b[1;33m.\u001b[0m\u001b[0mshape\u001b[0m\u001b[1;33m[\u001b[0m\u001b[1;36m0\u001b[0m\u001b[1;33m]\u001b[0m\u001b[1;33m)\u001b[0m\u001b[1;33m)\u001b[0m\u001b[1;33m:\u001b[0m\u001b[1;33m\u001b[0m\u001b[0m\n\u001b[0;32m      6\u001b[0m     \u001b[0mv\u001b[0m \u001b[1;33m=\u001b[0m \u001b[0mplays_csr\u001b[0m\u001b[1;33m[\u001b[0m\u001b[0mi\u001b[0m\u001b[1;33m]\u001b[0m\u001b[1;33m.\u001b[0m\u001b[0mA\u001b[0m\u001b[1;33m.\u001b[0m\u001b[0mravel\u001b[0m\u001b[1;33m(\u001b[0m\u001b[1;33m)\u001b[0m\u001b[1;33m\u001b[0m\u001b[0m\n\u001b[1;32m----> 7\u001b[1;33m     \u001b[0mindex\u001b[0m\u001b[1;33m.\u001b[0m\u001b[0madd_item\u001b[0m\u001b[1;33m(\u001b[0m\u001b[0mi\u001b[0m\u001b[1;33m,\u001b[0m\u001b[0mv\u001b[0m\u001b[1;33m)\u001b[0m\u001b[1;33m\u001b[0m\u001b[0m\n\u001b[0m\u001b[0;32m      8\u001b[0m \u001b[0mindex\u001b[0m\u001b[1;33m.\u001b[0m\u001b[0mbuild\u001b[0m\u001b[1;33m(\u001b[0m\u001b[0mtreecount\u001b[0m\u001b[1;33m)\u001b[0m\u001b[1;33m\u001b[0m\u001b[0m\n\u001b[0;32m      9\u001b[0m \u001b[1;33m\u001b[0m\u001b[0m\n",
      "\u001b[1;31mKeyboardInterrupt\u001b[0m: "
     ]
    }
   ],
   "source": [
    "treecount = 20\n",
    "plays_csr = csr_matrix(plays)\n",
    "f = plays.shape[1] # length of artist vector\n",
    "index = annoy.AnnoyIndex(f)\n",
    "for i in tqdm(range(plays.shape[0])):\n",
    "    v = plays_csr[i].A.ravel()\n",
    "    index.add_item(i,v)\n",
    "index.build(treecount)\n",
    "\n",
    "# app_top_related.get_related(10)"
   ]
  },
  {
   "cell_type": "markdown",
   "metadata": {},
   "source": [
    "不可思議的緩慢= ="
   ]
  },
  {
   "cell_type": "code",
   "execution_count": 63,
   "metadata": {
    "collapsed": true
   },
   "outputs": [],
   "source": [
    "del index"
   ]
  },
  {
   "cell_type": "code",
   "execution_count": 65,
   "metadata": {},
   "outputs": [
    {
     "data": {
      "text/plain": [
       "0"
      ]
     },
     "execution_count": 65,
     "metadata": {},
     "output_type": "execute_result"
    }
   ],
   "source": [
    "gc.collect()"
   ]
  },
  {
   "cell_type": "markdown",
   "metadata": {},
   "source": [
    "___"
   ]
  },
  {
   "cell_type": "markdown",
   "metadata": {},
   "source": [
    "# 降維\n",
    "\n",
    "- SVD     \n",
    "- ALS\n",
    "- learning to rank"
   ]
  },
  {
   "cell_type": "markdown",
   "metadata": {},
   "source": [
    "### SVD"
   ]
  },
  {
   "cell_type": "code",
   "execution_count": 7,
   "metadata": {},
   "outputs": [],
   "source": [
    "from implicit.nearest_neighbours import bm25_weight\n",
    "from scipy.sparse.linalg import svds, eigs\n",
    "import scipy"
   ]
  },
  {
   "cell_type": "markdown",
   "metadata": {},
   "source": [
    "對原始資料直接svd下去"
   ]
  },
  {
   "cell_type": "code",
   "execution_count": 8,
   "metadata": {},
   "outputs": [
    {
     "name": "stdout",
     "output_type": "stream",
     "text": [
      "Wall time: 43.5 s\n"
     ]
    }
   ],
   "source": [
    "%time artist_factors, _, user_factors = svds(plays, 50)"
   ]
  },
  {
   "cell_type": "code",
   "execution_count": 30,
   "metadata": {
    "collapsed": true
   },
   "outputs": [],
   "source": [
    "user_factors = user_factors.T"
   ]
  },
  {
   "cell_type": "markdown",
   "metadata": {},
   "source": [
    "最近鄰樂手"
   ]
  },
  {
   "cell_type": "code",
   "execution_count": 10,
   "metadata": {
    "collapsed": true
   },
   "outputs": [],
   "source": [
    "artist_id_to_name = {}\n",
    "artist_name_to_id = {}\n",
    "temp = data['artist'][:100]"
   ]
  },
  {
   "cell_type": "code",
   "execution_count": 37,
   "metadata": {
    "collapsed": true
   },
   "outputs": [],
   "source": [
    "user_id_to_name = {}\n",
    "user_name_to_id = {}"
   ]
  },
  {
   "cell_type": "code",
   "execution_count": 11,
   "metadata": {},
   "outputs": [],
   "source": [
    "for name,idx in zip(data['artist'],data['artist'].cat.codes):\n",
    "    artist_id_to_name[idx] = name\n",
    "    artist_name_to_id[name] = idx"
   ]
  },
  {
   "cell_type": "code",
   "execution_count": 38,
   "metadata": {
    "collapsed": true
   },
   "outputs": [],
   "source": [
    "for name,idx in zip(data['user'], data['user'].cat.codes):\n",
    "    user_id_to_name[idx] = name\n",
    "    user_name_to_id[name] = idx"
   ]
  },
  {
   "cell_type": "code",
   "execution_count": 12,
   "metadata": {
    "collapsed": true
   },
   "outputs": [],
   "source": [
    "class ApproximateTopRelated(object):\n",
    "    def __init__(self, artist_factors, treecount=20):\n",
    "        index = annoy.AnnoyIndex(artist_factors.shape[1], 'angular')\n",
    "        for i, row in enumerate(artist_factors):\n",
    "            index.add_item(i, row)\n",
    "        index.build(treecount)\n",
    "        self.index = index\n",
    "\n",
    "    def get_related(self, artistid, N=10):\n",
    "        neighbours = self.index.get_nns_by_item(artistid, N)\n",
    "        return sorted(((other, 1 - self.index.get_distance(artistid, other))\n",
    "                      for other in neighbours), key=lambda x: -x[1])"
   ]
  },
  {
   "cell_type": "code",
   "execution_count": 16,
   "metadata": {},
   "outputs": [
    {
     "name": "stdout",
     "output_type": "stream",
     "text": [
      "Wall time: 48.3 s\n"
     ]
    }
   ],
   "source": [
    "%time music_related_approx = ApproximateTopRelated(artist_factors)"
   ]
  },
  {
   "cell_type": "code",
   "execution_count": 17,
   "metadata": {},
   "outputs": [
    {
     "data": {
      "text/plain": [
       "[(10, 1.0),\n",
       " (247053, 0.6462267637252808),\n",
       " (236128, 0.439098596572876),\n",
       " (240000, 0.42191368341445923),\n",
       " (152707, 0.41935133934020996),\n",
       " (173284, 0.4040932059288025),\n",
       " (159423, 0.4029509425163269),\n",
       " (287434, 0.40109145641326904),\n",
       " (286940, 0.40109091997146606),\n",
       " (92895, 0.39022666215896606)]"
      ]
     },
     "execution_count": 17,
     "metadata": {},
     "output_type": "execute_result"
    }
   ],
   "source": [
    "music_related_approx.get_related(10)"
   ]
  },
  {
   "cell_type": "code",
   "execution_count": 18,
   "metadata": {
    "collapsed": true
   },
   "outputs": [],
   "source": [
    "def print_related_artist(nameid,related_approx):\n",
    "    print('樂手:{}'.format(artist_id_to_name[nameid]))\n",
    "    print('===='*10)\n",
    "    for idx, score in related_approx:\n",
    "        print('相似樂手:{},\\n\\t分數:{:.2f}'.format(artist_id_to_name[idx],score))"
   ]
  },
  {
   "cell_type": "code",
   "execution_count": 19,
   "metadata": {},
   "outputs": [
    {
     "name": "stdout",
     "output_type": "stream",
     "text": [
      "樂手:bon jovi\n",
      "========================================\n",
      "相似樂手:bon jovi,\n",
      "\t分數:1.00\n",
      "相似樂手:bon jovi/jennifer nettles,\n",
      "\t分數:0.62\n",
      "相似樂手:the republic,\n",
      "\t分數:0.61\n",
      "相似樂手:hiroshi miyauchi,\n",
      "\t分數:0.60\n",
      "相似樂手:cc productions,\n",
      "\t分數:0.56\n",
      "相似樂手:hans harden,\n",
      "\t分數:0.54\n",
      "相似樂手:trøste og bære,\n",
      "\t分數:0.54\n",
      "相似樂手:dænsebændet,\n",
      "\t分數:0.54\n",
      "相似樂手:torgeir og kjendisene,\n",
      "\t分數:0.53\n",
      "相似樂手:kay rush,\n",
      "\t分數:0.53\n"
     ]
    }
   ],
   "source": [
    "artistid = artist_name_to_id['bon jovi'] ## bon jovi\n",
    "print_related_artist(artistid,music_related_approx.get_related(artistid))"
   ]
  },
  {
   "cell_type": "markdown",
   "metadata": {},
   "source": [
    "要看用戶的推薦清單，可以使用微軟研究出的trick\n",
    "\n",
    "* [xbox推薦的trick](https://www.microsoft.com/en-us/research/wp-content/uploads/2016/02/XboxInnerProduct.pdf)\n",
    "\n",
    "<p>Basically we add a nomalizing factor to each item vector - making their distances equal with each other. Then when we query with a user vector, we add a 0 to the end, and the result is proportional to the inner producct of the user and item vectors. This is a sneaky way to do an aproximate maximum inner product search."
   ]
  },
  {
   "cell_type": "code",
   "execution_count": null,
   "metadata": {
    "collapsed": true
   },
   "outputs": [],
   "source": [
    "class Approx_Trick_related:\n",
    "    def __init__(self, ):\n",
    "        pass\n",
    "    def get_related(self, artistid, N=10):\n",
    "        neighbours = self.index.get_nns_by_item(artistid, N)\n",
    "        return sorted(((other, 1 - self.index.get_distance(artistid, other))\n",
    "                      for other in neighbours), key=lambda x: -x[1])"
   ]
  },
  {
   "cell_type": "code",
   "execution_count": 22,
   "metadata": {
    "collapsed": true
   },
   "outputs": [],
   "source": [
    "norms = np.linalg.norm(artist_factors, axis=1)\n",
    "max_norm = norms.max()\n",
    "extra_dimension = np.sqrt(max_norm ** 2 - norms ** 2)\n",
    "norm_data = np.append(\n",
    "    artist_factors, extra_dimension.reshape(norms.shape[0], 1), axis=1)"
   ]
  },
  {
   "cell_type": "code",
   "execution_count": 23,
   "metadata": {
    "collapsed": true
   },
   "outputs": [
    {
     "name": "stdout",
     "output_type": "stream",
     "text": [
      "0 complete\n",
      "1000 complete\n",
      "2000 complete\n",
      "3000 complete\n",
      "4000 complete\n",
      "5000 complete\n",
      "6000 complete\n",
      "7000 complete\n",
      "8000 complete\n",
      "9000 complete\n",
      "10000 complete\n",
      "11000 complete\n",
      "12000 complete\n",
      "13000 complete\n",
      "14000 complete\n",
      "15000 complete\n",
      "16000 complete\n",
      "17000 complete\n",
      "18000 complete\n",
      "19000 complete\n",
      "20000 complete\n",
      "21000 complete\n",
      "22000 complete\n",
      "23000 complete\n",
      "24000 complete\n",
      "25000 complete\n",
      "26000 complete\n",
      "27000 complete\n",
      "28000 complete\n",
      "29000 complete\n",
      "30000 complete\n",
      "31000 complete\n",
      "32000 complete\n",
      "33000 complete\n",
      "34000 complete\n",
      "35000 complete\n",
      "36000 complete\n",
      "37000 complete\n",
      "38000 complete\n",
      "39000 complete\n",
      "40000 complete\n",
      "41000 complete\n",
      "42000 complete\n",
      "43000 complete\n",
      "44000 complete\n",
      "45000 complete\n",
      "46000 complete\n",
      "47000 complete\n",
      "48000 complete\n",
      "49000 complete\n",
      "50000 complete\n",
      "51000 complete\n",
      "52000 complete\n",
      "53000 complete\n",
      "54000 complete\n",
      "55000 complete\n",
      "56000 complete\n",
      "57000 complete\n",
      "58000 complete\n",
      "59000 complete\n",
      "60000 complete\n",
      "61000 complete\n",
      "62000 complete\n",
      "63000 complete\n",
      "64000 complete\n",
      "65000 complete\n",
      "66000 complete\n",
      "67000 complete\n",
      "68000 complete\n",
      "69000 complete\n",
      "70000 complete\n",
      "71000 complete\n",
      "72000 complete\n",
      "73000 complete\n",
      "74000 complete\n",
      "75000 complete\n",
      "76000 complete\n",
      "77000 complete\n",
      "78000 complete\n",
      "79000 complete\n",
      "80000 complete\n",
      "81000 complete\n",
      "82000 complete\n",
      "83000 complete\n",
      "84000 complete\n",
      "85000 complete\n",
      "86000 complete\n",
      "87000 complete\n",
      "88000 complete\n",
      "89000 complete\n",
      "90000 complete\n",
      "91000 complete\n",
      "92000 complete\n",
      "93000 complete\n",
      "94000 complete\n",
      "95000 complete\n",
      "96000 complete\n",
      "97000 complete\n",
      "98000 complete\n",
      "99000 complete\n",
      "100000 complete\n",
      "101000 complete\n",
      "102000 complete\n",
      "103000 complete\n",
      "104000 complete\n",
      "105000 complete\n",
      "106000 complete\n",
      "107000 complete\n",
      "108000 complete\n",
      "109000 complete\n",
      "110000 complete\n",
      "111000 complete\n",
      "112000 complete\n",
      "113000 complete\n",
      "114000 complete\n",
      "115000 complete\n",
      "116000 complete\n",
      "117000 complete\n",
      "118000 complete\n",
      "119000 complete\n",
      "120000 complete\n",
      "121000 complete\n",
      "122000 complete\n",
      "123000 complete\n",
      "124000 complete\n",
      "125000 complete\n",
      "126000 complete\n",
      "127000 complete\n",
      "128000 complete\n",
      "129000 complete\n",
      "130000 complete\n",
      "131000 complete\n",
      "132000 complete\n",
      "133000 complete\n",
      "134000 complete\n",
      "135000 complete\n",
      "136000 complete\n",
      "137000 complete\n",
      "138000 complete\n",
      "139000 complete\n",
      "140000 complete\n",
      "141000 complete\n",
      "142000 complete\n",
      "143000 complete\n",
      "144000 complete\n",
      "145000 complete\n",
      "146000 complete\n",
      "147000 complete\n",
      "148000 complete\n",
      "149000 complete\n",
      "150000 complete\n",
      "151000 complete\n",
      "152000 complete\n",
      "153000 complete\n",
      "154000 complete\n",
      "155000 complete\n",
      "156000 complete\n",
      "157000 complete\n",
      "158000 complete\n",
      "159000 complete\n",
      "160000 complete\n",
      "161000 complete\n",
      "162000 complete\n",
      "163000 complete\n",
      "164000 complete\n",
      "165000 complete\n",
      "166000 complete\n",
      "167000 complete\n",
      "168000 complete\n",
      "169000 complete\n",
      "170000 complete\n",
      "171000 complete\n",
      "172000 complete\n",
      "173000 complete\n",
      "174000 complete\n",
      "175000 complete\n",
      "176000 complete\n",
      "177000 complete\n",
      "178000 complete\n",
      "179000 complete\n",
      "180000 complete\n",
      "181000 complete\n",
      "182000 complete\n",
      "183000 complete\n",
      "184000 complete\n",
      "185000 complete\n",
      "186000 complete\n",
      "187000 complete\n",
      "188000 complete\n",
      "189000 complete\n",
      "190000 complete\n",
      "191000 complete\n",
      "192000 complete\n",
      "193000 complete\n",
      "194000 complete\n",
      "195000 complete\n",
      "196000 complete\n",
      "197000 complete\n",
      "198000 complete\n",
      "199000 complete\n",
      "200000 complete\n",
      "201000 complete\n",
      "202000 complete\n",
      "203000 complete\n",
      "204000 complete\n",
      "205000 complete\n",
      "206000 complete\n",
      "207000 complete\n",
      "208000 complete\n",
      "209000 complete\n",
      "210000 complete\n",
      "211000 complete\n",
      "212000 complete\n",
      "213000 complete\n",
      "214000 complete\n",
      "215000 complete\n",
      "216000 complete\n",
      "217000 complete\n",
      "218000 complete\n",
      "219000 complete\n",
      "220000 complete\n",
      "221000 complete\n",
      "222000 complete\n",
      "223000 complete\n",
      "224000 complete\n",
      "225000 complete\n",
      "226000 complete\n",
      "227000 complete\n",
      "228000 complete\n",
      "229000 complete\n",
      "230000 complete\n",
      "231000 complete\n",
      "232000 complete\n",
      "233000 complete\n",
      "234000 complete\n",
      "235000 complete\n",
      "236000 complete\n",
      "237000 complete\n",
      "238000 complete\n",
      "239000 complete\n",
      "240000 complete\n",
      "241000 complete\n",
      "242000 complete\n",
      "243000 complete\n",
      "244000 complete\n",
      "245000 complete\n",
      "246000 complete\n",
      "247000 complete\n",
      "248000 complete\n",
      "249000 complete\n",
      "250000 complete\n",
      "251000 complete\n",
      "252000 complete\n",
      "253000 complete\n",
      "254000 complete\n",
      "255000 complete\n",
      "256000 complete\n",
      "257000 complete\n",
      "258000 complete\n",
      "259000 complete\n",
      "260000 complete\n",
      "261000 complete\n",
      "262000 complete\n",
      "263000 complete\n",
      "264000 complete\n",
      "265000 complete\n",
      "266000 complete\n",
      "267000 complete\n",
      "268000 complete\n",
      "269000 complete\n",
      "270000 complete\n",
      "271000 complete\n",
      "272000 complete\n",
      "273000 complete\n",
      "274000 complete\n",
      "275000 complete\n",
      "276000 complete\n",
      "277000 complete\n",
      "278000 complete\n",
      "279000 complete\n",
      "280000 complete\n",
      "281000 complete\n",
      "282000 complete\n",
      "283000 complete\n",
      "284000 complete\n",
      "285000 complete\n",
      "286000 complete\n",
      "287000 complete\n",
      "288000 complete\n",
      "289000 complete\n",
      "290000 complete\n",
      "291000 complete\n",
      "292000 complete\n"
     ]
    },
    {
     "data": {
      "text/plain": [
       "True"
      ]
     },
     "execution_count": 23,
     "metadata": {},
     "output_type": "execute_result"
    }
   ],
   "source": [
    "f_member = norm_data.shape[1]\n",
    "t_member = annoy.AnnoyIndex(f_member,'angular')  # Length of item vector that will be indexed\n",
    "\n",
    "for i in range(norm_data.shape[0]):\n",
    "    v = norm_data[i]\n",
    "    t_member.add_item(i, v)\n",
    "\n",
    "t_member.build(20)"
   ]
  },
  {
   "cell_type": "code",
   "execution_count": 44,
   "metadata": {
    "collapsed": true
   },
   "outputs": [
    {
     "data": {
      "text/html": [
       "<div>\n",
       "<style>\n",
       "    .dataframe thead tr:only-child th {\n",
       "        text-align: right;\n",
       "    }\n",
       "\n",
       "    .dataframe thead th {\n",
       "        text-align: left;\n",
       "    }\n",
       "\n",
       "    .dataframe tbody tr th {\n",
       "        vertical-align: top;\n",
       "    }\n",
       "</style>\n",
       "<table border=\"1\" class=\"dataframe\">\n",
       "  <thead>\n",
       "    <tr style=\"text-align: right;\">\n",
       "      <th></th>\n",
       "      <th>user</th>\n",
       "      <th>artist</th>\n",
       "      <th>plays</th>\n",
       "    </tr>\n",
       "  </thead>\n",
       "  <tbody>\n",
       "    <tr>\n",
       "      <th>506</th>\n",
       "      <td>000163263d2a41a3966a3746855b8b75b7d7aa83</td>\n",
       "      <td>david &amp; the citizens</td>\n",
       "      <td>2373</td>\n",
       "    </tr>\n",
       "    <tr>\n",
       "      <th>507</th>\n",
       "      <td>000163263d2a41a3966a3746855b8b75b7d7aa83</td>\n",
       "      <td>kent</td>\n",
       "      <td>1724</td>\n",
       "    </tr>\n",
       "    <tr>\n",
       "      <th>508</th>\n",
       "      <td>000163263d2a41a3966a3746855b8b75b7d7aa83</td>\n",
       "      <td>säkert!</td>\n",
       "      <td>798</td>\n",
       "    </tr>\n",
       "    <tr>\n",
       "      <th>509</th>\n",
       "      <td>000163263d2a41a3966a3746855b8b75b7d7aa83</td>\n",
       "      <td>detektivbyrån</td>\n",
       "      <td>753</td>\n",
       "    </tr>\n",
       "    <tr>\n",
       "      <th>510</th>\n",
       "      <td>000163263d2a41a3966a3746855b8b75b7d7aa83</td>\n",
       "      <td>lars winnerbäck</td>\n",
       "      <td>750</td>\n",
       "    </tr>\n",
       "    <tr>\n",
       "      <th>511</th>\n",
       "      <td>000163263d2a41a3966a3746855b8b75b7d7aa83</td>\n",
       "      <td>raymond &amp; maria</td>\n",
       "      <td>737</td>\n",
       "    </tr>\n",
       "    <tr>\n",
       "      <th>512</th>\n",
       "      <td>000163263d2a41a3966a3746855b8b75b7d7aa83</td>\n",
       "      <td>coldplay</td>\n",
       "      <td>639</td>\n",
       "    </tr>\n",
       "    <tr>\n",
       "      <th>513</th>\n",
       "      <td>000163263d2a41a3966a3746855b8b75b7d7aa83</td>\n",
       "      <td>placebo</td>\n",
       "      <td>626</td>\n",
       "    </tr>\n",
       "    <tr>\n",
       "      <th>514</th>\n",
       "      <td>000163263d2a41a3966a3746855b8b75b7d7aa83</td>\n",
       "      <td>snow patrol</td>\n",
       "      <td>611</td>\n",
       "    </tr>\n",
       "    <tr>\n",
       "      <th>515</th>\n",
       "      <td>000163263d2a41a3966a3746855b8b75b7d7aa83</td>\n",
       "      <td>tegan and sara</td>\n",
       "      <td>606</td>\n",
       "    </tr>\n",
       "    <tr>\n",
       "      <th>516</th>\n",
       "      <td>000163263d2a41a3966a3746855b8b75b7d7aa83</td>\n",
       "      <td>the knife</td>\n",
       "      <td>543</td>\n",
       "    </tr>\n",
       "    <tr>\n",
       "      <th>517</th>\n",
       "      <td>000163263d2a41a3966a3746855b8b75b7d7aa83</td>\n",
       "      <td>death cab for cutie</td>\n",
       "      <td>531</td>\n",
       "    </tr>\n",
       "    <tr>\n",
       "      <th>518</th>\n",
       "      <td>000163263d2a41a3966a3746855b8b75b7d7aa83</td>\n",
       "      <td>tiger lou</td>\n",
       "      <td>487</td>\n",
       "    </tr>\n",
       "    <tr>\n",
       "      <th>519</th>\n",
       "      <td>000163263d2a41a3966a3746855b8b75b7d7aa83</td>\n",
       "      <td>håkan hellström</td>\n",
       "      <td>463</td>\n",
       "    </tr>\n",
       "    <tr>\n",
       "      <th>520</th>\n",
       "      <td>000163263d2a41a3966a3746855b8b75b7d7aa83</td>\n",
       "      <td>david fridlund</td>\n",
       "      <td>425</td>\n",
       "    </tr>\n",
       "    <tr>\n",
       "      <th>521</th>\n",
       "      <td>000163263d2a41a3966a3746855b8b75b7d7aa83</td>\n",
       "      <td>the ark</td>\n",
       "      <td>381</td>\n",
       "    </tr>\n",
       "    <tr>\n",
       "      <th>522</th>\n",
       "      <td>000163263d2a41a3966a3746855b8b75b7d7aa83</td>\n",
       "      <td>alice in videoland</td>\n",
       "      <td>377</td>\n",
       "    </tr>\n",
       "    <tr>\n",
       "      <th>523</th>\n",
       "      <td>000163263d2a41a3966a3746855b8b75b7d7aa83</td>\n",
       "      <td>timo räisänen</td>\n",
       "      <td>370</td>\n",
       "    </tr>\n",
       "    <tr>\n",
       "      <th>524</th>\n",
       "      <td>000163263d2a41a3966a3746855b8b75b7d7aa83</td>\n",
       "      <td>the cardigans</td>\n",
       "      <td>353</td>\n",
       "    </tr>\n",
       "    <tr>\n",
       "      <th>525</th>\n",
       "      <td>000163263d2a41a3966a3746855b8b75b7d7aa83</td>\n",
       "      <td>arctic monkeys</td>\n",
       "      <td>352</td>\n",
       "    </tr>\n",
       "    <tr>\n",
       "      <th>526</th>\n",
       "      <td>000163263d2a41a3966a3746855b8b75b7d7aa83</td>\n",
       "      <td>bloc party</td>\n",
       "      <td>346</td>\n",
       "    </tr>\n",
       "    <tr>\n",
       "      <th>527</th>\n",
       "      <td>000163263d2a41a3966a3746855b8b75b7d7aa83</td>\n",
       "      <td>oasis</td>\n",
       "      <td>300</td>\n",
       "    </tr>\n",
       "    <tr>\n",
       "      <th>528</th>\n",
       "      <td>000163263d2a41a3966a3746855b8b75b7d7aa83</td>\n",
       "      <td>panic at the disco</td>\n",
       "      <td>300</td>\n",
       "    </tr>\n",
       "    <tr>\n",
       "      <th>529</th>\n",
       "      <td>000163263d2a41a3966a3746855b8b75b7d7aa83</td>\n",
       "      <td>sahara hotnights</td>\n",
       "      <td>266</td>\n",
       "    </tr>\n",
       "    <tr>\n",
       "      <th>530</th>\n",
       "      <td>000163263d2a41a3966a3746855b8b75b7d7aa83</td>\n",
       "      <td>radiohead</td>\n",
       "      <td>252</td>\n",
       "    </tr>\n",
       "    <tr>\n",
       "      <th>531</th>\n",
       "      <td>000163263d2a41a3966a3746855b8b75b7d7aa83</td>\n",
       "      <td>vapnet</td>\n",
       "      <td>247</td>\n",
       "    </tr>\n",
       "    <tr>\n",
       "      <th>532</th>\n",
       "      <td>000163263d2a41a3966a3746855b8b75b7d7aa83</td>\n",
       "      <td>laleh</td>\n",
       "      <td>239</td>\n",
       "    </tr>\n",
       "    <tr>\n",
       "      <th>533</th>\n",
       "      <td>000163263d2a41a3966a3746855b8b75b7d7aa83</td>\n",
       "      <td>patrick wolf</td>\n",
       "      <td>237</td>\n",
       "    </tr>\n",
       "    <tr>\n",
       "      <th>534</th>\n",
       "      <td>000163263d2a41a3966a3746855b8b75b7d7aa83</td>\n",
       "      <td>franz ferdinand</td>\n",
       "      <td>229</td>\n",
       "    </tr>\n",
       "    <tr>\n",
       "      <th>535</th>\n",
       "      <td>000163263d2a41a3966a3746855b8b75b7d7aa83</td>\n",
       "      <td>markus krunegård</td>\n",
       "      <td>226</td>\n",
       "    </tr>\n",
       "    <tr>\n",
       "      <th>536</th>\n",
       "      <td>000163263d2a41a3966a3746855b8b75b7d7aa83</td>\n",
       "      <td>the kooks</td>\n",
       "      <td>225</td>\n",
       "    </tr>\n",
       "    <tr>\n",
       "      <th>537</th>\n",
       "      <td>000163263d2a41a3966a3746855b8b75b7d7aa83</td>\n",
       "      <td>the killers</td>\n",
       "      <td>210</td>\n",
       "    </tr>\n",
       "    <tr>\n",
       "      <th>538</th>\n",
       "      <td>000163263d2a41a3966a3746855b8b75b7d7aa83</td>\n",
       "      <td>deportees</td>\n",
       "      <td>204</td>\n",
       "    </tr>\n",
       "    <tr>\n",
       "      <th>539</th>\n",
       "      <td>000163263d2a41a3966a3746855b8b75b7d7aa83</td>\n",
       "      <td>r.e.m.</td>\n",
       "      <td>199</td>\n",
       "    </tr>\n",
       "    <tr>\n",
       "      <th>540</th>\n",
       "      <td>000163263d2a41a3966a3746855b8b75b7d7aa83</td>\n",
       "      <td>arcade fire</td>\n",
       "      <td>198</td>\n",
       "    </tr>\n",
       "    <tr>\n",
       "      <th>541</th>\n",
       "      <td>000163263d2a41a3966a3746855b8b75b7d7aa83</td>\n",
       "      <td>the strokes</td>\n",
       "      <td>195</td>\n",
       "    </tr>\n",
       "    <tr>\n",
       "      <th>542</th>\n",
       "      <td>000163263d2a41a3966a3746855b8b75b7d7aa83</td>\n",
       "      <td>slagsmålsklubben</td>\n",
       "      <td>193</td>\n",
       "    </tr>\n",
       "    <tr>\n",
       "      <th>543</th>\n",
       "      <td>000163263d2a41a3966a3746855b8b75b7d7aa83</td>\n",
       "      <td>hot chip</td>\n",
       "      <td>186</td>\n",
       "    </tr>\n",
       "    <tr>\n",
       "      <th>544</th>\n",
       "      <td>000163263d2a41a3966a3746855b8b75b7d7aa83</td>\n",
       "      <td>millencolin</td>\n",
       "      <td>184</td>\n",
       "    </tr>\n",
       "    <tr>\n",
       "      <th>545</th>\n",
       "      <td>000163263d2a41a3966a3746855b8b75b7d7aa83</td>\n",
       "      <td>the sounds</td>\n",
       "      <td>173</td>\n",
       "    </tr>\n",
       "    <tr>\n",
       "      <th>546</th>\n",
       "      <td>000163263d2a41a3966a3746855b8b75b7d7aa83</td>\n",
       "      <td>mew</td>\n",
       "      <td>171</td>\n",
       "    </tr>\n",
       "    <tr>\n",
       "      <th>547</th>\n",
       "      <td>000163263d2a41a3966a3746855b8b75b7d7aa83</td>\n",
       "      <td>the beatles</td>\n",
       "      <td>170</td>\n",
       "    </tr>\n",
       "    <tr>\n",
       "      <th>548</th>\n",
       "      <td>000163263d2a41a3966a3746855b8b75b7d7aa83</td>\n",
       "      <td>green day</td>\n",
       "      <td>168</td>\n",
       "    </tr>\n",
       "    <tr>\n",
       "      <th>549</th>\n",
       "      <td>000163263d2a41a3966a3746855b8b75b7d7aa83</td>\n",
       "      <td>kings of convenience</td>\n",
       "      <td>167</td>\n",
       "    </tr>\n",
       "    <tr>\n",
       "      <th>550</th>\n",
       "      <td>000163263d2a41a3966a3746855b8b75b7d7aa83</td>\n",
       "      <td>muse</td>\n",
       "      <td>167</td>\n",
       "    </tr>\n",
       "    <tr>\n",
       "      <th>551</th>\n",
       "      <td>000163263d2a41a3966a3746855b8b75b7d7aa83</td>\n",
       "      <td>hoobastank</td>\n",
       "      <td>165</td>\n",
       "    </tr>\n",
       "    <tr>\n",
       "      <th>552</th>\n",
       "      <td>000163263d2a41a3966a3746855b8b75b7d7aa83</td>\n",
       "      <td>firefox ak</td>\n",
       "      <td>153</td>\n",
       "    </tr>\n",
       "    <tr>\n",
       "      <th>553</th>\n",
       "      <td>000163263d2a41a3966a3746855b8b75b7d7aa83</td>\n",
       "      <td>mando diao</td>\n",
       "      <td>148</td>\n",
       "    </tr>\n",
       "    <tr>\n",
       "      <th>554</th>\n",
       "      <td>000163263d2a41a3966a3746855b8b75b7d7aa83</td>\n",
       "      <td>the tough alliance</td>\n",
       "      <td>148</td>\n",
       "    </tr>\n",
       "    <tr>\n",
       "      <th>555</th>\n",
       "      <td>000163263d2a41a3966a3746855b8b75b7d7aa83</td>\n",
       "      <td>shout out louds</td>\n",
       "      <td>145</td>\n",
       "    </tr>\n",
       "    <tr>\n",
       "      <th>556</th>\n",
       "      <td>000163263d2a41a3966a3746855b8b75b7d7aa83</td>\n",
       "      <td>the decemberists</td>\n",
       "      <td>144</td>\n",
       "    </tr>\n",
       "    <tr>\n",
       "      <th>557</th>\n",
       "      <td>000163263d2a41a3966a3746855b8b75b7d7aa83</td>\n",
       "      <td>madonna</td>\n",
       "      <td>141</td>\n",
       "    </tr>\n",
       "    <tr>\n",
       "      <th>558</th>\n",
       "      <td>000163263d2a41a3966a3746855b8b75b7d7aa83</td>\n",
       "      <td>keane</td>\n",
       "      <td>140</td>\n",
       "    </tr>\n",
       "  </tbody>\n",
       "</table>\n",
       "</div>"
      ],
      "text/plain": [
       "                                         user                artist  plays\n",
       "506  000163263d2a41a3966a3746855b8b75b7d7aa83  david & the citizens   2373\n",
       "507  000163263d2a41a3966a3746855b8b75b7d7aa83                  kent   1724\n",
       "508  000163263d2a41a3966a3746855b8b75b7d7aa83               säkert!    798\n",
       "509  000163263d2a41a3966a3746855b8b75b7d7aa83         detektivbyrån    753\n",
       "510  000163263d2a41a3966a3746855b8b75b7d7aa83       lars winnerbäck    750\n",
       "511  000163263d2a41a3966a3746855b8b75b7d7aa83       raymond & maria    737\n",
       "512  000163263d2a41a3966a3746855b8b75b7d7aa83              coldplay    639\n",
       "513  000163263d2a41a3966a3746855b8b75b7d7aa83               placebo    626\n",
       "514  000163263d2a41a3966a3746855b8b75b7d7aa83           snow patrol    611\n",
       "515  000163263d2a41a3966a3746855b8b75b7d7aa83        tegan and sara    606\n",
       "516  000163263d2a41a3966a3746855b8b75b7d7aa83             the knife    543\n",
       "517  000163263d2a41a3966a3746855b8b75b7d7aa83   death cab for cutie    531\n",
       "518  000163263d2a41a3966a3746855b8b75b7d7aa83             tiger lou    487\n",
       "519  000163263d2a41a3966a3746855b8b75b7d7aa83       håkan hellström    463\n",
       "520  000163263d2a41a3966a3746855b8b75b7d7aa83        david fridlund    425\n",
       "521  000163263d2a41a3966a3746855b8b75b7d7aa83               the ark    381\n",
       "522  000163263d2a41a3966a3746855b8b75b7d7aa83    alice in videoland    377\n",
       "523  000163263d2a41a3966a3746855b8b75b7d7aa83         timo räisänen    370\n",
       "524  000163263d2a41a3966a3746855b8b75b7d7aa83         the cardigans    353\n",
       "525  000163263d2a41a3966a3746855b8b75b7d7aa83        arctic monkeys    352\n",
       "526  000163263d2a41a3966a3746855b8b75b7d7aa83            bloc party    346\n",
       "527  000163263d2a41a3966a3746855b8b75b7d7aa83                 oasis    300\n",
       "528  000163263d2a41a3966a3746855b8b75b7d7aa83    panic at the disco    300\n",
       "529  000163263d2a41a3966a3746855b8b75b7d7aa83      sahara hotnights    266\n",
       "530  000163263d2a41a3966a3746855b8b75b7d7aa83             radiohead    252\n",
       "531  000163263d2a41a3966a3746855b8b75b7d7aa83                vapnet    247\n",
       "532  000163263d2a41a3966a3746855b8b75b7d7aa83                 laleh    239\n",
       "533  000163263d2a41a3966a3746855b8b75b7d7aa83          patrick wolf    237\n",
       "534  000163263d2a41a3966a3746855b8b75b7d7aa83       franz ferdinand    229\n",
       "535  000163263d2a41a3966a3746855b8b75b7d7aa83      markus krunegård    226\n",
       "536  000163263d2a41a3966a3746855b8b75b7d7aa83             the kooks    225\n",
       "537  000163263d2a41a3966a3746855b8b75b7d7aa83           the killers    210\n",
       "538  000163263d2a41a3966a3746855b8b75b7d7aa83             deportees    204\n",
       "539  000163263d2a41a3966a3746855b8b75b7d7aa83                r.e.m.    199\n",
       "540  000163263d2a41a3966a3746855b8b75b7d7aa83           arcade fire    198\n",
       "541  000163263d2a41a3966a3746855b8b75b7d7aa83           the strokes    195\n",
       "542  000163263d2a41a3966a3746855b8b75b7d7aa83      slagsmålsklubben    193\n",
       "543  000163263d2a41a3966a3746855b8b75b7d7aa83              hot chip    186\n",
       "544  000163263d2a41a3966a3746855b8b75b7d7aa83           millencolin    184\n",
       "545  000163263d2a41a3966a3746855b8b75b7d7aa83            the sounds    173\n",
       "546  000163263d2a41a3966a3746855b8b75b7d7aa83                   mew    171\n",
       "547  000163263d2a41a3966a3746855b8b75b7d7aa83           the beatles    170\n",
       "548  000163263d2a41a3966a3746855b8b75b7d7aa83             green day    168\n",
       "549  000163263d2a41a3966a3746855b8b75b7d7aa83  kings of convenience    167\n",
       "550  000163263d2a41a3966a3746855b8b75b7d7aa83                  muse    167\n",
       "551  000163263d2a41a3966a3746855b8b75b7d7aa83            hoobastank    165\n",
       "552  000163263d2a41a3966a3746855b8b75b7d7aa83            firefox ak    153\n",
       "553  000163263d2a41a3966a3746855b8b75b7d7aa83            mando diao    148\n",
       "554  000163263d2a41a3966a3746855b8b75b7d7aa83    the tough alliance    148\n",
       "555  000163263d2a41a3966a3746855b8b75b7d7aa83       shout out louds    145\n",
       "556  000163263d2a41a3966a3746855b8b75b7d7aa83      the decemberists    144\n",
       "557  000163263d2a41a3966a3746855b8b75b7d7aa83               madonna    141\n",
       "558  000163263d2a41a3966a3746855b8b75b7d7aa83                 keane    140"
      ]
     },
     "execution_count": 44,
     "metadata": {},
     "output_type": "execute_result"
    }
   ],
   "source": [
    "data[data['user'] == user_id_to_name[user_id]].head(100)"
   ]
  },
  {
   "cell_type": "code",
   "execution_count": 43,
   "metadata": {},
   "outputs": [
    {
     "name": "stdout",
     "output_type": "stream",
     "text": [
      "coldplay\n",
      "death cab for cutie\n",
      "depeche mode\n",
      "oasis\n",
      "muse\n",
      "arctic monkeys\n",
      "red hot chili peppers\n",
      "the killers\n",
      "placebo\n",
      "bright eyes\n",
      "the cure\n",
      "bloc party\n",
      "metallica\n",
      "sufjan stevens\n",
      "bruce springsteen & the e street band\n",
      "interpol\n",
      "elliott smith\n",
      "tegan and sara\n",
      "modest mouse\n",
      "fall out boy\n",
      "the strokes\n",
      "kent\n",
      "sigur rós\n",
      "snow patrol\n",
      "radiohead\n",
      "brand new\n",
      "jack johnson\n",
      "the kooks\n",
      "kings of leon\n",
      "madonna\n",
      "the shins\n",
      "franz ferdinand\n",
      "paramore\n",
      "jimmy eat world\n",
      "bruce springsteen\n",
      "my chemical romance\n",
      "the libertines\n",
      "foo fighters\n",
      "iron & wine\n",
      "arcade fire\n",
      "the postal service\n",
      "daft punk\n",
      "the decemberists\n",
      "moby\n",
      "keane\n",
      "björk\n",
      "garbage\n",
      "incubus\n",
      "blink-182\n",
      "the white stripes\n",
      "kanye west\n",
      "rilo kiley\n",
      "stars\n",
      "damien rice\n",
      "beck\n",
      "john mayer\n",
      "dashboard confessional\n",
      "air\n",
      "metric\n",
      "feist\n",
      "the used\n",
      "of montreal\n",
      "travis\n",
      "johnny cash\n",
      "jason mraz\n",
      "mando diao\n",
      "david bowie\n",
      "joy division\n",
      "regina spektor\n",
      "manic street preachers\n",
      "blur\n",
      "kaiser chiefs\n",
      "röyksopp\n",
      "broken social scene\n",
      "babyshambles\n",
      "the national\n",
      "ryan adams\n",
      "editors\n",
      "minus the bear\n",
      "the mountain goats\n",
      "explosions in the sky\n",
      "maxïmo park\n",
      "beirut\n",
      "in flames\n",
      "mew\n",
      "amy winehouse\n",
      "alkaline trio\n",
      "maroon 5\n",
      "massive attack\n",
      "gorillaz\n",
      "the knife\n",
      "wilco\n",
      "saves the day\n",
      "patrick wolf\n",
      "boards of canada\n",
      "spoon\n",
      "john frusciante\n",
      "portishead\n",
      "motion city soundtrack\n",
      "mgmt\n"
     ]
    }
   ],
   "source": [
    "user_id = 10\n",
    "topn = 100 \n",
    "rec_item_for_uid = t_member.get_nns_by_vector(np.append(user_factors[user_id],0),topn)\n",
    "\n",
    "print('\\n'.join([artist_id_to_name[artistid] for artistid in rec_item_for_uid]))"
   ]
  },
  {
   "cell_type": "markdown",
   "metadata": {},
   "source": [
    "### ALS"
   ]
  },
  {
   "cell_type": "markdown",
   "metadata": {},
   "source": [
    "### lightfm"
   ]
  },
  {
   "cell_type": "code",
   "execution_count": null,
   "metadata": {
    "collapsed": true
   },
   "outputs": [],
   "source": []
  },
  {
   "cell_type": "markdown",
   "metadata": {},
   "source": [
    "* bm25\n",
    "* tfidf"
   ]
  },
  {
   "cell_type": "code",
   "execution_count": null,
   "metadata": {
    "collapsed": true
   },
   "outputs": [],
   "source": []
  },
  {
   "cell_type": "markdown",
   "metadata": {},
   "source": [
    "# Distance Metric"
   ]
  },
  {
   "cell_type": "markdown",
   "metadata": {},
   "source": [
    "## set base \n",
    "- jaccard"
   ]
  },
  {
   "cell_type": "code",
   "execution_count": 75,
   "metadata": {},
   "outputs": [],
   "source": [
    "# create a dictionary of artist name to the set of their users\n",
    "artist_sets = dict((artist, set(users)) for artist, users in data.groupby('artist')['user'])"
   ]
  },
  {
   "cell_type": "code",
   "execution_count": 76,
   "metadata": {
    "collapsed": true
   },
   "outputs": [],
   "source": [
    "def overlap(a, b):\n",
    "    return len(a.intersection(b))"
   ]
  },
  {
   "cell_type": "code",
   "execution_count": 77,
   "metadata": {
    "collapsed": true
   },
   "outputs": [],
   "source": [
    "def jaccard(a, b):\n",
    "    intersection = float(len(a.intersection(b)))\n",
    "    return intersection / (len(a) + len(b) - intersection)"
   ]
  },
  {
   "cell_type": "code",
   "execution_count": 36,
   "metadata": {},
   "outputs": [],
   "source": [
    "fan_jayz = artist_sets.get('jay-z')\n",
    "fan_coldplay = artist_sets.get('coldplay')\n",
    "fan_kanyeWest = artist_sets.get('kanye west')"
   ]
  },
  {
   "cell_type": "code",
   "execution_count": 38,
   "metadata": {},
   "outputs": [
    {
     "data": {
      "text/plain": [
       "2297"
      ]
     },
     "execution_count": 38,
     "metadata": {},
     "output_type": "execute_result"
    }
   ],
   "source": [
    "overlap(fan_jayz,fan_coldplay) # overlapy fans of jayz and coldplay"
   ]
  },
  {
   "cell_type": "code",
   "execution_count": 39,
   "metadata": {},
   "outputs": [
    {
     "data": {
      "text/plain": [
       "8061"
      ]
     },
     "execution_count": 39,
     "metadata": {},
     "output_type": "execute_result"
    }
   ],
   "source": [
    "overlap(fan_coldplay,fan_kanyeWest)"
   ]
  },
  {
   "cell_type": "code",
   "execution_count": 46,
   "metadata": {},
   "outputs": [
    {
     "name": "stdout",
     "output_type": "stream",
     "text": [
      "similarity (kanyeWest, coldplay):0.094\n",
      "similarity (jayz, coldplay):0.030\n"
     ]
    }
   ],
   "source": [
    "print('similarity (kanyeWest, coldplay):{:.3f}'.format(jaccard(fan_kanyeWest,fan_coldplay)))\n",
    "print('similarity (jayz, coldplay):{:.3f}'.format(jaccard(fan_jayz,fan_coldplay)))"
   ]
  },
  {
   "cell_type": "code",
   "execution_count": 72,
   "metadata": {},
   "outputs": [
    {
     "ename": "NameError",
     "evalue": "name 'jaccard' is not defined",
     "output_type": "error",
     "traceback": [
      "\u001b[1;31m---------------------------------------------------------------------------\u001b[0m",
      "\u001b[1;31mNameError\u001b[0m                                 Traceback (most recent call last)",
      "\u001b[1;32m<ipython-input-72-bfe15314c0df>\u001b[0m in \u001b[0;36m<module>\u001b[1;34m()\u001b[0m\n\u001b[0;32m      1\u001b[0m \u001b[0mfan_lennon\u001b[0m \u001b[1;33m=\u001b[0m \u001b[0martist_sets\u001b[0m\u001b[1;33m.\u001b[0m\u001b[0mget\u001b[0m\u001b[1;33m(\u001b[0m\u001b[1;34m'john lennon'\u001b[0m\u001b[1;33m)\u001b[0m\u001b[1;33m\u001b[0m\u001b[0m\n\u001b[0;32m      2\u001b[0m \u001b[0mfan_beatles\u001b[0m \u001b[1;33m=\u001b[0m \u001b[0martist_sets\u001b[0m\u001b[1;33m.\u001b[0m\u001b[0mget\u001b[0m\u001b[1;33m(\u001b[0m\u001b[1;34m'beatles'\u001b[0m\u001b[1;33m)\u001b[0m\u001b[1;33m\u001b[0m\u001b[0m\n\u001b[1;32m----> 3\u001b[1;33m \u001b[0mprint\u001b[0m\u001b[1;33m(\u001b[0m\u001b[1;34m'similarity (John Lennon, Beatles) :{:.3f}'\u001b[0m\u001b[1;33m.\u001b[0m\u001b[0mformat\u001b[0m\u001b[1;33m(\u001b[0m\u001b[0mjaccard\u001b[0m\u001b[1;33m(\u001b[0m\u001b[0mfan_lennon\u001b[0m\u001b[1;33m,\u001b[0m\u001b[0mfan_beatles\u001b[0m\u001b[1;33m)\u001b[0m\u001b[1;33m)\u001b[0m\u001b[1;33m)\u001b[0m\u001b[1;33m\u001b[0m\u001b[0m\n\u001b[0m",
      "\u001b[1;31mNameError\u001b[0m: name 'jaccard' is not defined"
     ]
    }
   ],
   "source": [
    "fan_lennon = artist_sets.get('john lennon')\n",
    "fan_beatles = artist_sets.get('beatles')\n",
    "print('similarity (John Lennon, Beatles) :{:.3f}'.format(jaccard(fan_lennon,fan_beatles)))"
   ]
  },
  {
   "cell_type": "markdown",
   "metadata": {},
   "source": [
    "## count metters\n",
    "- cosine "
   ]
  },
  {
   "cell_type": "code",
   "execution_count": 10,
   "metadata": {
    "collapsed": true
   },
   "outputs": [],
   "source": [
    "from collections import defaultdict\n",
    "from scipy.sparse import csr_matrix"
   ]
  },
  {
   "cell_type": "markdown",
   "metadata": {},
   "source": [
    "Computing this angle is pretty easy. The first step is to represent each artist as a sparse vector of the play counts for each user:"
   ]
  },
  {
   "cell_type": "code",
   "execution_count": 11,
   "metadata": {
    "collapsed": true
   },
   "outputs": [],
   "source": [
    "import numpy as np \n"
   ]
  },
  {
   "cell_type": "code",
   "execution_count": 17,
   "metadata": {
    "collapsed": true
   },
   "outputs": [],
   "source": [
    "# map each username to a unique numeric value\n",
    "userids = defaultdict(lambda: len(userids))\n",
    "data['userid'] = data['user'].map(userids.__getitem__)\n",
    "\n",
    "# map each artist to a sparse vector of their users\n",
    "artists = dict((artist, csr_matrix(\n",
    "                (group['plays'], (np.zeros(len(group)), group['userid'])),\n",
    "                shape=[1, len(userids)]))\n",
    "        for artist, group in data.groupby('artist'))"
   ]
  },
  {
   "cell_type": "code",
   "execution_count": null,
   "metadata": {
    "collapsed": true
   },
   "outputs": [],
   "source": []
  },
  {
   "cell_type": "code",
   "execution_count": 50,
   "metadata": {},
   "outputs": [],
   "source": [
    "def cosine(a, b):\n",
    "    return np.dot(a, b.T)[0, 0] / (norm2(a) * norm2(b))\n",
    "\n",
    "def norm2(v):\n",
    "    return np.sqrt((v.data ** 2).sum())"
   ]
  },
  {
   "cell_type": "code",
   "execution_count": 120,
   "metadata": {},
   "outputs": [
    {
     "name": "stdout",
     "output_type": "stream",
     "text": [
      "<1x358868 sparse matrix of type '<class 'numpy.int64'>'\n",
      "\twith 77254 stored elements in Compressed Sparse Row format>\n",
      "<1x358868 sparse matrix of type '<class 'numpy.int64'>'\n",
      "\twith 5617 stored elements in Compressed Sparse Row format>\n"
     ]
    }
   ],
   "source": [
    "print(repr(artists['radiohead']))\n",
    "print(repr(artists['thom yorke']))"
   ]
  },
  {
   "cell_type": "code",
   "execution_count": 127,
   "metadata": {},
   "outputs": [
    {
     "name": "stdout",
     "output_type": "stream",
     "text": [
      "similarity between radiohead, thom yorke:0.45\n",
      "similarity between radiohead, samarah:0.40\n"
     ]
    }
   ],
   "source": [
    "print('similarity between radiohead, thom yorke:{:.2f}'.format(cosine(artists['radiohead'],artists['thom yorke'])))\n",
    "print('similarity between radiohead, samarah:{:.2f}'.format(cosine(artists['radiohead'],artists['samarah'])))"
   ]
  },
  {
   "cell_type": "code",
   "execution_count": 130,
   "metadata": {},
   "outputs": [],
   "source": [
    "SMOOTHING = 20\n",
    "\n",
    "def smoothed_cosine(a, b):\n",
    "    # calculate set intersection by converting to binary and taking the dot product\n",
    "    overlap = np.dot(binarize(a), binarize(b).T)[0, 0]\n",
    "\n",
    "    # smooth cosine by discounting by set intersection\n",
    "    return (overlap / (SMOOTHING + overlap)) * cosine(a, b)\n",
    "\n",
    "def binarize(artist):\n",
    "    ret = csr_matrix(artist)\n",
    "    ret.data  = np.ones(len(artist.data))\n",
    "    return ret"
   ]
  },
  {
   "cell_type": "code",
   "execution_count": 131,
   "metadata": {},
   "outputs": [
    {
     "name": "stdout",
     "output_type": "stream",
     "text": [
      "smooth-similarity between radiohead, thom yorke:0.45\n",
      "smooth-similarity between radiohead, samarah:0.02\n"
     ]
    }
   ],
   "source": [
    "print('smooth-similarity between radiohead, thom yorke:{:.2f}'.format(smoothed_cosine(artists['radiohead'],artists['thom yorke'])))\n",
    "print('smooth-similarity between radiohead, samarah:{:.2f}'.format(smoothed_cosine(artists['radiohead'],artists['samarah'])))"
   ]
  },
  {
   "cell_type": "markdown",
   "metadata": {},
   "source": [
    "## Method for Information retrival\n",
    "- tfidf \n",
    "- bm25"
   ]
  },
  {
   "cell_type": "code",
   "execution_count": 18,
   "metadata": {},
   "outputs": [],
   "source": [
    "# calculate IDF for each user\n",
    "N = len(artists)\n",
    "idf = [1. + np.log(N / (1. + p)) for p in data.groupby('userid').size()]"
   ]
  },
  {
   "cell_type": "code",
   "execution_count": 51,
   "metadata": {},
   "outputs": [],
   "source": [
    "# weights a sparse vector by tfidf\n",
    "def tfidf_weight(artist, idf):\n",
    "    ret = csr_matrix(artist)\n",
    "    ret.data = np.array([np.sqrt(plays) * idf[userid] for plays, userid in zip(artist.data, artist.indices)])\n",
    "    return ret\n",
    "\n",
    "# tfidf distance is just the cosine between tfidf weighted vectors\n",
    "def tfidf(a, b, idf):\n",
    "    return cosine(tfidf_weight(a, idf), tfidf_weight(b, idf))"
   ]
  },
  {
   "cell_type": "code",
   "execution_count": 28,
   "metadata": {},
   "outputs": [
    {
     "data": {
      "text/plain": [
       "<1x358868 sparse matrix of type '<class 'numpy.float64'>'\n",
       "\twith 66658 stored elements in Compressed Sparse Row format>"
      ]
     },
     "execution_count": 28,
     "metadata": {},
     "output_type": "execute_result"
    }
   ],
   "source": [
    "tfidf_weight(artists['coldplay'],idf)"
   ]
  },
  {
   "cell_type": "code",
   "execution_count": 54,
   "metadata": {},
   "outputs": [
    {
     "name": "stdout",
     "output_type": "stream",
     "text": [
      "tfidf-cos similarity between radiohead, thom yorke:0.35\n",
      "tfidf-cos similarity between radiohead, samarah:0.06\n"
     ]
    }
   ],
   "source": [
    "print('tfidf-cos similarity between radiohead, thom yorke:{:.2f}'.format(tfidf(artists['radiohead'],artists['thom yorke'],idf)))\n",
    "print('tfidf-cos similarity between radiohead, samarah:{:.2f}'.format(tfidf(artists['radiohead'],artists['samarah'],idf)))\n",
    "\n",
    "# tfidf(artists['radiohead'],artists['samarah'],idf)"
   ]
  },
  {
   "cell_type": "markdown",
   "metadata": {},
   "source": [
    "* bm25"
   ]
  },
  {
   "cell_type": "code",
   "execution_count": 55,
   "metadata": {
    "collapsed": true
   },
   "outputs": [],
   "source": [
    "def bm25_tf_weight(plays):\n",
    "    return plays * (K1 + 1.0) / (K1 + plays)"
   ]
  },
  {
   "cell_type": "code",
   "execution_count": 68,
   "metadata": {},
   "outputs": [],
   "source": [
    "K1 = 1.2; B=10\n",
    "def bm25(a, b, idf, average_plays):\n",
    "    return np.dot(bm25_weight(a, idf, average_plays),\n",
    "               bm25_weight(b, idf, average_plays).T)[0, 0]\n",
    "\n",
    "\n",
    "def bm25_weight(artist, idf, average_plays):\n",
    "    ret = csr_matrix(artist)\n",
    "    length_norm = (1.0 - B) + B * artist.sum() / average_plays\n",
    "    ret.data = np.array([(plays * (K1 + 1.0) / (K1 * length_norm + plays)) * idf[userid]\n",
    "                      for plays, userid in zip(artist.data, artist.indices)])\n",
    "    return ret "
   ]
  },
  {
   "cell_type": "code",
   "execution_count": 69,
   "metadata": {},
   "outputs": [
    {
     "data": {
      "text/plain": [
       "0.0047395542942066599"
      ]
     },
     "execution_count": 69,
     "metadata": {},
     "output_type": "execute_result"
    }
   ],
   "source": [
    "bm25(artists['coldplay'],artists['thom yorke'],idf=idf, average_plays=10)"
   ]
  },
  {
   "cell_type": "code",
   "execution_count": 82,
   "metadata": {},
   "outputs": [],
   "source": [
    "from sklearn.preprocessing import normalize"
   ]
  },
  {
   "cell_type": "code",
   "execution_count": 84,
   "metadata": {},
   "outputs": [],
   "source": [
    "normalized = normalize(plays)\n",
    "cos_sim = normalized.dot(normalized.T)"
   ]
  },
  {
   "cell_type": "code",
   "execution_count": null,
   "metadata": {
    "collapsed": true
   },
   "outputs": [],
   "source": []
  }
 ],
 "metadata": {
  "anaconda-cloud": {},
  "kernelspec": {
   "display_name": "Python 3",
   "language": "python",
   "name": "python3"
  },
  "language_info": {
   "codemirror_mode": {
    "name": "ipython",
    "version": 3
   },
   "file_extension": ".py",
   "mimetype": "text/x-python",
   "name": "python",
   "nbconvert_exporter": "python",
   "pygments_lexer": "ipython3",
   "version": "3.6.3"
  }
 },
 "nbformat": 4,
 "nbformat_minor": 2
}
