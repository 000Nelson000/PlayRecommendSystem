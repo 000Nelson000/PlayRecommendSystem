{
 "cells": [
  {
   "cell_type": "markdown",
   "metadata": {},
   "source": [
    "算法抄襲自:\n",
    "[github repo](https://github.com/lesterlitch/misc/blob/master/Light%2Bfm%2Bannoy%2Band%2Bproduct%2Bsearch%2Bexample.ipynb)"
   ]
  },
  {
   "cell_type": "code",
   "execution_count": 1,
   "metadata": {
    "collapsed": false
   },
   "outputs": [
    {
     "name": "stderr",
     "output_type": "stream",
     "text": [
      "C:\\Program Files\\Anaconda3\\envs\\py36\\lib\\site-packages\\lightfm\\_lightfm_fast.py:9: UserWarning: LightFM was compiled without OpenMP support. Only a single thread will be used.\n",
      "  warnings.warn('LightFM was compiled without OpenMP support. '\n"
     ]
    }
   ],
   "source": [
    "from scipy import sparse as sp\n",
    "from lightfm import LightFM\n",
    "from lightfm.evaluation import precision_at_k,recall_at_k,auc_score\n",
    "import copy\n",
    "import itertools\n",
    "import numpy as np \n",
    "import lightfm\n",
    "import pickle \n",
    "import pandas as pd "
   ]
  },
  {
   "cell_type": "code",
   "execution_count": 4,
   "metadata": {
    "collapsed": false
   },
   "outputs": [],
   "source": [
    "#fundid_names_df.to_csv('./funds/fundid_to_name.csv',index=False)\n",
    "\n",
    "with open('./funds-dataset/sp_funds_datasets.pickle','rb') as f:\n",
    "    data = pickle.load(f)\n",
    "    \n",
    "test = data['test']\n",
    "train = data['train']\n",
    "user_idxs = data['user_idxs']\n",
    "idx_to_userid = data['idx_to_userid']\n",
    "userid_to_idx = data['userid_to_idx']\n",
    "idx_to_itemid = data['idx_to_itemid']\n",
    "itemid_to_idx = data['itemid_to_idx']\n",
    "\n",
    "fundid_names_df = pd.read_csv('./funds-dataset/fundid_to_name.csv',encoding='cp950')\n",
    "fundid_to_names = {}\n",
    "\n",
    "for d in fundid_names_df.to_dict('records'):\n",
    "    fundid_to_names[d['基金代碼']] = d['基金中文名稱']\n",
    "#%% "
   ]
  },
  {
   "cell_type": "code",
   "execution_count": 5,
   "metadata": {
    "collapsed": false
   },
   "outputs": [
    {
     "name": "stdout",
     "output_type": "stream",
     "text": [
      "Recall: train 21.57%, test 19.74%\n",
      "Precision: train 9.64% , test 1.97%.\n",
      "AUC: train 0.92, test 0.91.\n"
     ]
    }
   ],
   "source": [
    "model = LightFM(learning_rate=0.01, loss='warp')\n",
    "model.fit(train, epochs=10)\n",
    "\n",
    "train_precision = precision_at_k(model, train, k=10).mean()\n",
    "test_precision = precision_at_k(model, test, k=10).mean()\n",
    "train_recall = recall_at_k(model,train,k=10).mean()\n",
    "test_recall = recall_at_k(model,test,k=10).mean()\n",
    "\n",
    "train_auc = auc_score(model, train).mean()\n",
    "test_auc = auc_score(model, test).mean()\n",
    "print('Recall: train {:.2f}%, test {:.2f}%'.format(100*train_recall,100*test_recall))\n",
    "print('Precision: train {:.2f}% , test {:.2f}%.'.format(100*train_precision, 100*test_precision))\n",
    "print('AUC: train {:.2f}, test {:.2f}.'.format(train_auc, test_auc))"
   ]
  },
  {
   "cell_type": "code",
   "execution_count": 7,
   "metadata": {
    "collapsed": true
   },
   "outputs": [],
   "source": [
    "def sample_recommendation_original(model, data, user_ids, print_output=True):\n",
    "    \n",
    "    train = data['train']\n",
    "    test = data['test']\n",
    "    assert isinstance(train,sp.csr_matrix) and isinstance(test,sp.csr_matrix)\n",
    "        \n",
    "    n_users, n_items = train.shape\n",
    "\n",
    "    for user_id in user_ids:\n",
    "        \n",
    "        known_positives_itemids = [ \n",
    "                idx_to_itemid[e] for e in train[user_id].indices\n",
    "                ]\n",
    "        known_positives_item_names = [\n",
    "                fundid_to_names[e] for e in known_positives_itemids\n",
    "                ]\n",
    "        scores = model.predict(user_id, np.arange(n_items))\n",
    "        top_items_ids = [idx_to_itemid[e] for e in np.argsort(-scores)]\n",
    "        if print_output == True:\n",
    "            print(\"User %s\" % user_id)\n",
    "            print(\"     Known positives:\")\n",
    "\n",
    "            for x in known_positives_item_names[:3]:\n",
    "                print(\"        %s\" % x)\n",
    "\n",
    "            print(\"     Recommended:\")\n",
    "\n",
    "            for x in top_items_ids[:3]:\n",
    "                print(\"        %s\" % fundid_to_names[x])"
   ]
  },
  {
   "cell_type": "code",
   "execution_count": 8,
   "metadata": {
    "collapsed": false
   },
   "outputs": [
    {
     "name": "stdout",
     "output_type": "stream",
     "text": [
      "User 0\n",
      "     Known positives:\n",
      "        (百元基金)摩根美國複合收益債券基金-JPM-A股累計(美元)\n",
      "        富達中國聚焦基金(年配)-配息帳戶-美元\n",
      "        (百元基金)貝萊德歐洲價值型基金HEDGED A2(美元)\n",
      "     Recommended:\n",
      "        (百元基金)貝萊德中國基金A2(美元)\n",
      "        柏瑞印度股票基金A(美元)\n",
      "        瑞銀(盧森堡)生化股票基金(美元)\n",
      "User 1\n",
      "     Known positives:\n",
      "        柏瑞印度股票基金A(美元)\n",
      "        (百元基金)貝萊德歐洲價值型基金HEDGED A2(美元)\n",
      "        瑞銀(盧森堡)生化股票基金(美元)\n",
      "     Recommended:\n",
      "        安聯收益成長基金-AM(穩定月收類股)(美元)\n",
      "        瑞銀(盧森堡)生化股票基金(美元)\n",
      "        (百元基金)貝萊德中國基金A2(美元)\n",
      "User 2\n",
      "     Known positives:\n",
      "        摩根日本(日圓)基金\n",
      "        (百元基金)貝萊德世界能源基金(美元)\n",
      "        (百元基金)貝萊德中國基金A2(美元)\n",
      "     Recommended:\n",
      "        (百元基金)貝萊德中國基金A2(美元)\n",
      "        (百元基金)永豐滬深300紅利指數基金\n",
      "        安聯收益成長基金-AM(穩定月收類股)(美元)\n"
     ]
    }
   ],
   "source": [
    "sample_recommendation_original(model,data,range(3))"
   ]
  },
  {
   "cell_type": "markdown",
   "metadata": {},
   "source": [
    "_____"
   ]
  },
  {
   "cell_type": "markdown",
   "metadata": {},
   "source": [
    "Now we'll do an Annoy example showing how we can do user recommendations using a neat trick outlined by the \n",
    "[Xbox recomendations team]( https://www.microsoft.com/en-us/research/wp-content/uploads/2016/02/XboxInnerProduct.pdf)"
   ]
  },
  {
   "cell_type": "code",
   "execution_count": 13,
   "metadata": {
    "collapsed": true
   },
   "outputs": [],
   "source": [
    "def sample_recommendation_annoy(model,data,user_ids,print_output=True):\n",
    "    train = data['train']\n",
    "    test = data['test']\n",
    "    n_users, n_items = train.shape\n",
    "\n",
    "    for user_id in user_ids:\n",
    "        \n",
    "        known_positives_itemids = [ \n",
    "                idx_to_itemid[e] for e in train[user_id].indices\n",
    "                ]\n",
    "        known_positives_item_names = [\n",
    "                fundid_to_names[e] for e in known_positives_itemids\n",
    "                ]\n",
    "        \n",
    "        top_items_ids = [idx_to_itemid[e] for e in t_member.get_nns_by_vector(\n",
    "            np.append(user_vectors[user_id], 0), 50)]\n",
    "        \n",
    "        if print_output == True:\n",
    "            print(\"User %s\" % user_id)\n",
    "            print(\"     Known positives:\")\n",
    "\n",
    "            for x in known_positives_item_names[:3]:\n",
    "                print(\"        %s\" % x)\n",
    "\n",
    "            print(\"     Recommended:\")\n",
    "\n",
    "            for x in top_items_ids[:3]:\n",
    "                print(\"        %s\" % fundid_to_names[x])"
   ]
  },
  {
   "cell_type": "code",
   "execution_count": 14,
   "metadata": {
    "collapsed": false
   },
   "outputs": [
    {
     "name": "stdout",
     "output_type": "stream",
     "text": [
      "User 0\n",
      "     Known positives:\n",
      "        (百元基金)摩根美國複合收益債券基金-JPM-A股累計(美元)\n",
      "        富達中國聚焦基金(年配)-配息帳戶-美元\n",
      "        (百元基金)貝萊德歐洲價值型基金HEDGED A2(美元)\n",
      "     Recommended:\n",
      "        (百元基金)摩根日本(日圓)基金-累積(美元對沖)\n",
      "        柏瑞印度股票基金A(美元)\n",
      "        (百元基金)富蘭克林坦伯頓全球生技領航基金(美元)\n",
      "User 1\n",
      "     Known positives:\n",
      "        柏瑞印度股票基金A(美元)\n",
      "        (百元基金)貝萊德歐洲價值型基金HEDGED A2(美元)\n",
      "        瑞銀(盧森堡)生化股票基金(美元)\n",
      "     Recommended:\n",
      "        柏瑞印度股票基金A(美元)\n",
      "        (百元基金)富蘭克林坦伯頓全球生技領航基金(美元)\n",
      "        (百元基金)摩根日本(日圓)基金-累積(美元對沖)\n",
      "User 2\n",
      "     Known positives:\n",
      "        摩根日本(日圓)基金\n",
      "        (百元基金)貝萊德世界能源基金(美元)\n",
      "        (百元基金)貝萊德中國基金A2(美元)\n",
      "     Recommended:\n",
      "        (百元基金)摩根日本(日圓)基金-累積(美元對沖)\n",
      "        (百元基金)摩根印度基金\n",
      "        鋒裕歐洲潛力基金A2(美元對沖)\n"
     ]
    }
   ],
   "source": [
    "sample_recommendation_annoy(model,data,user_ids=[0,1,2])"
   ]
  },
  {
   "cell_type": "code",
   "execution_count": 9,
   "metadata": {
    "collapsed": true
   },
   "outputs": [],
   "source": [
    "import annoy \n",
    "from annoy import AnnoyIndex"
   ]
  },
  {
   "cell_type": "code",
   "execution_count": 10,
   "metadata": {
    "collapsed": false
   },
   "outputs": [],
   "source": [
    "item_vectors = model.item_embeddings"
   ]
  },
  {
   "cell_type": "code",
   "execution_count": 25,
   "metadata": {
    "collapsed": false
   },
   "outputs": [
    {
     "data": {
      "text/plain": [
       "(2149, 10)"
      ]
     },
     "execution_count": 25,
     "metadata": {},
     "output_type": "execute_result"
    }
   ],
   "source": [
    "item_vectors.shape"
   ]
  },
  {
   "cell_type": "code",
   "execution_count": 28,
   "metadata": {
    "collapsed": false
   },
   "outputs": [
    {
     "data": {
      "text/plain": [
       "array([ 0.46629167,  1.59448087,  1.2161541 , ...,  0.44345409,\n",
       "        0.38055053,  0.37847042], dtype=float32)"
      ]
     },
     "execution_count": 28,
     "metadata": {},
     "output_type": "execute_result"
    }
   ],
   "source": [
    "np.sqrt(max_norm)"
   ]
  },
  {
   "cell_type": "code",
   "execution_count": 30,
   "metadata": {
    "collapsed": false
   },
   "outputs": [
    {
     "data": {
      "text/plain": [
       "(2149, 11)"
      ]
     },
     "execution_count": 30,
     "metadata": {},
     "output_type": "execute_result"
    }
   ],
   "source": [
    "norm_data.shape"
   ]
  },
  {
   "cell_type": "code",
   "execution_count": 63,
   "metadata": {
    "collapsed": false
   },
   "outputs": [],
   "source": [
    "norms = np.linalg.norm(item_vectors, axis=-1)\n",
    "# self.factors = artist_factors / norms[:, numpy.newaxis]"
   ]
  },
  {
   "cell_type": "code",
   "execution_count": 67,
   "metadata": {
    "collapsed": false
   },
   "outputs": [
    {
     "data": {
      "text/plain": [
       "array([[ 0.46629167],\n",
       "       [ 1.59448087],\n",
       "       [ 1.2161541 ],\n",
       "       ..., \n",
       "       [ 0.44345409],\n",
       "       [ 0.38055053],\n",
       "       [ 0.37847042]], dtype=float32)"
      ]
     },
     "execution_count": 67,
     "metadata": {},
     "output_type": "execute_result"
    }
   ],
   "source": [
    "norms[:,np.newaxis]"
   ]
  },
  {
   "cell_type": "code",
   "execution_count": 56,
   "metadata": {
    "collapsed": false
   },
   "outputs": [],
   "source": [
    "class ApproximateTopRelated(object):\n",
    "    def __init__(self, artist_factors, treecount=20):\n",
    "        index = annoy.AnnoyIndex(artist_factors.shape[1], 'angular')\n",
    "        for i, row in enumerate(artist_factors):\n",
    "            index.add_item(i, row)\n",
    "        index.build(treecount)\n",
    "        self.index = index\n",
    "\n",
    "    def get_related(self, artistid, N=10):\n",
    "        neighbours = self.index.get_nns_by_item(artistid, N)\n",
    "        return sorted(((other, 1 - self.index.get_distance(artistid, other))\n",
    "                      for other in neighbours), key=lambda x: -x[1])"
   ]
  },
  {
   "cell_type": "code",
   "execution_count": 57,
   "metadata": {
    "collapsed": false
   },
   "outputs": [
    {
     "data": {
      "text/plain": [
       "[(10, 1.0),\n",
       " (505, 0.3794142007827759),\n",
       " (157, 0.33101195096969604),\n",
       " (1138, 0.2974626421928406),\n",
       " (511, 0.2875285744667053),\n",
       " (1298, 0.2798996567726135),\n",
       " (412, 0.26625990867614746),\n",
       " (1031, 0.2592926025390625),\n",
       " (255, 0.24641066789627075),\n",
       " (1295, 0.2387155294418335)]"
      ]
     },
     "execution_count": 57,
     "metadata": {},
     "output_type": "execute_result"
    }
   ],
   "source": [
    "approx_related = ApproximateTopRelated(item_vectors)\n",
    "approx_related.get_related(10)"
   ]
  },
  {
   "cell_type": "code",
   "execution_count": 111,
   "metadata": {
    "collapsed": false
   },
   "outputs": [
    {
     "data": {
      "text/plain": [
       "True"
      ]
     },
     "execution_count": 111,
     "metadata": {},
     "output_type": "execute_result"
    }
   ],
   "source": [
    "norms = np.linalg.norm(item_vectors, axis=1)\n",
    "max_norm = norms.max()\n",
    "extra_dimension = np.sqrt(max_norm ** 2 - norms ** 2)\n",
    "norm_data = np.append(\n",
    "    item_vectors, extra_dimension.reshape(norms.shape[0], 1), axis=1)\n",
    "\n",
    "\n",
    "f_member = norm_data.shape[1]\n",
    "t_member = AnnoyIndex(f_member,'angular')  # Length of item vector that will be indexed\n",
    "\n",
    "for i in range(norm_data.shape[0]):\n",
    "    v = norm_data[i]\n",
    "    t_member.add_item(i, v)\n",
    "\n",
    "t_member.build(200)"
   ]
  },
  {
   "cell_type": "code",
   "execution_count": 84,
   "metadata": {
    "collapsed": false
   },
   "outputs": [
    {
     "data": {
      "text/plain": [
       "[17, 178, 55, 1, 810, 35, 363, 781, 5, 841]"
      ]
     },
     "execution_count": 84,
     "metadata": {},
     "output_type": "execute_result"
    }
   ],
   "source": [
    "user_id = 10\n",
    "topn = 10 \n",
    "t_member.get_nns_by_vector(user_vectors[user_id],topn)"
   ]
  },
  {
   "cell_type": "markdown",
   "metadata": {},
   "source": [
    "recall, precision on annoy "
   ]
  },
  {
   "cell_type": "code",
   "execution_count": 112,
   "metadata": {
    "collapsed": true
   },
   "outputs": [],
   "source": [
    "def eval_recommendation_test(model,test,topn=10,annoy=True):\n",
    "    n_users,n_items = test.shape\n",
    "    hr = 0\n",
    "    n_test = 0\n",
    "    for user_id in range(n_users):\n",
    "        if test[user_id].indices:\n",
    "            if annoy:\n",
    "                top_items_idxs = t_member.get_nns_by_vector(np.append(user_vectors[user_id],0),topn)\n",
    "            else:\n",
    "                scores = model.predict(user_id, np.arange(n_items))\n",
    "                top_items_idxs = np.argsort(-scores)[:topn]\n",
    "                \n",
    "            test_fundidx = test[user_id].indices\n",
    "            hr += np.any(np.intersect1d(test_fundidx,top_items_idxs))\n",
    "            n_test += 1\n",
    "    return hr/n_test"
   ]
  },
  {
   "cell_type": "code",
   "execution_count": 115,
   "metadata": {
    "collapsed": false
   },
   "outputs": [
    {
     "name": "stdout",
     "output_type": "stream",
     "text": [
      "Wall time: 4.72 s\n",
      "Wall time: 7.03 s\n"
     ]
    }
   ],
   "source": [
    "%time rat10_annoy = eval_recommendation_test(model,test,annoy=True)\n",
    "%time rat10 = eval_recommendation_test(model,test,annoy=False)"
   ]
  },
  {
   "cell_type": "code",
   "execution_count": 116,
   "metadata": {
    "collapsed": false
   },
   "outputs": [
    {
     "name": "stdout",
     "output_type": "stream",
     "text": [
      "recall:19.74% at topn=10, without approximation \n",
      "recall:9.29% at topn=10, with approximation \n"
     ]
    }
   ],
   "source": [
    "print('recall:{:.2f}% at topn=10, without approximation '.format(rat10*100))\n",
    "print('recall:{:.2f}% at topn=10, with approximation '.format(rat10_annoy*100))"
   ]
  },
  {
   "cell_type": "markdown",
   "metadata": {},
   "source": [
    "_____"
   ]
  },
  {
   "cell_type": "code",
   "execution_count": null,
   "metadata": {
    "collapsed": true
   },
   "outputs": [],
   "source": [
    "def nearest_items_Annoy(itemid, index, n=10, print_output=True):\n",
    "    nn = index.get_nns_by_item(itemid, 10)\n",
    "    if print_output == True:\n",
    "        print('Closest to %s : \\n' % movielens['item_labels'][movie_id])\n",
    "    titles = [movielens['item_labels'][i] for i in nn]\n",
    "    if print_output == True:\n",
    "        print(\"\\n\".join(titles))\n",
    "\n"
   ]
  },
  {
   "cell_type": "code",
   "execution_count": 117,
   "metadata": {
    "collapsed": false
   },
   "outputs": [
    {
     "data": {
      "text/plain": [
       "True"
      ]
     },
     "execution_count": 117,
     "metadata": {},
     "output_type": "execute_result"
    }
   ],
   "source": [
    "f = item_vectors.shape[1]  # Length of item vector that will be indexed\n",
    "t = AnnoyIndex(f)\n",
    "for i in range(item_vectors.shape[0]):\n",
    "    v = item_vectors[i]\n",
    "    t.add_item(i, v)\n",
    "\n",
    "t.build(10)  # 10 trees"
   ]
  },
  {
   "cell_type": "code",
   "execution_count": 121,
   "metadata": {
    "collapsed": false
   },
   "outputs": [
    {
     "name": "stdout",
     "output_type": "stream",
     "text": [
      "fund:(百元基金)摩根美國複合收益債券基金-JPM-A股累計(美元)\n"
     ]
    },
    {
     "data": {
      "text/plain": [
       "['(百元基金)摩根美國複合收益債券基金-JPM-A股累計(美元)',\n",
       " '(百元基金)貝萊德新興歐洲基金(美元)',\n",
       " '富達歐洲平衡基金(累積)-配息帳戶-美元避險',\n",
       " '(百元基金)摩根多重收益基金-JPM-A股累計(美元對沖)',\n",
       " '第一金中國世紀基金(人民幣)',\n",
       " '富達全球入息基金(累積)-配息帳戶-美元',\n",
       " '(百元基金)摩根新興市場債券基金-JPM-A股累計(美元)',\n",
       " '(百元基金)富蘭克林坦伯頓全球新興國家固定收益基金(季配權)',\n",
       " '(百元基金)施羅德環球股息A基金(累積)(美元)',\n",
       " '亨德森遠見泛歐地產股票基金A2(美元避險)']"
      ]
     },
     "execution_count": 121,
     "metadata": {},
     "output_type": "execute_result"
    }
   ],
   "source": [
    "itemid = 0\n",
    "print('fund:{}'.format(fundid_to_names[idx_to_itemid[itemid]]))\n",
    "[fundid_to_names[idx_to_itemid[e]] for e in t.get_nns_by_item(0,10)]"
   ]
  },
  {
   "cell_type": "code",
   "execution_count": null,
   "metadata": {
    "collapsed": true
   },
   "outputs": [],
   "source": []
  }
 ],
 "metadata": {
  "anaconda-cloud": {},
  "kernelspec": {
   "display_name": "Python [conda env:py36]",
   "language": "python",
   "name": "conda-env-py36-py"
  },
  "language_info": {
   "codemirror_mode": {
    "name": "ipython",
    "version": 3
   },
   "file_extension": ".py",
   "mimetype": "text/x-python",
   "name": "python",
   "nbconvert_exporter": "python",
   "pygments_lexer": "ipython3",
   "version": "3.6.3"
  }
 },
 "nbformat": 4,
 "nbformat_minor": 1
}
