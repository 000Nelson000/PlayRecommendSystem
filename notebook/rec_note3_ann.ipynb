{
 "cells": [
  {
   "cell_type": "markdown",
   "metadata": {},
   "source": [
    "# 最近鄰算法 Approximation Nearest Neighbors\n",
    "\n",
    "用例子來說明原理還是最好的:\n",
    "\n",
    "如果有500萬個商品，每個商品的特徵向量表示$\\in \\textbf{R}^{100}$，我們想要尋找其中一個商品最鄰近的前十個。"
   ]
  },
  {
   "cell_type": "code",
   "execution_count": 1,
   "metadata": {
    "collapsed": true
   },
   "outputs": [],
   "source": [
    "import numpy as np\n",
    "import gc\n",
    "from tqdm import tqdm\n",
    "\n",
    "items = int(5*1e6) #500萬\n",
    "factor = 100\n",
    "x = np.random.rand(items,factor) ## 記憶體~4GB\n",
    "\n",
    "class TopRelated:\n",
    "    ## 利用向量內積，查找最鄰近的物品(cosine based)\n",
    "    def __init__(self, items_factors):\n",
    "        ## 初始化需要正規化物品向量\n",
    "        norms = np.linalg.norm(items_factors, axis=1)\n",
    "        self.factors = items_factors / norms[:, np.newaxis]\n",
    "\n",
    "    def get_related(self, itemid, N=10):\n",
    "        scores = self.factors.dot(self.factors[itemid]) # cosine \n",
    "        best = np.argpartition(scores, -N)[-N:] # partion --> 小於此的放在左側\n",
    "        return sorted(zip(best, scores[best]), key=lambda x: -x[1])"
   ]
  },
  {
   "cell_type": "code",
   "execution_count": 44,
   "metadata": {
    "collapsed": false
   },
   "outputs": [
    {
     "name": "stdout",
     "output_type": "stream",
     "text": [
      "Wall time: 266 ms\n"
     ]
    },
    {
     "data": {
      "text/plain": [
       "[(100, 1.0),\n",
       " (2266144, 0.85922529002190373),\n",
       " (1367840, 0.85190470560078513),\n",
       " (4827941, 0.85175188853230699),\n",
       " (4158610, 0.85165288118765758),\n",
       " (3025845, 0.85092234565859126),\n",
       " (4118586, 0.85018339949723798),\n",
       " (2610570, 0.84982956620805683),\n",
       " (333249, 0.84958760878590689),\n",
       " (4265367, 0.84917002416086451)]"
      ]
     },
     "execution_count": 44,
     "metadata": {},
     "output_type": "execute_result"
    }
   ],
   "source": [
    "top_related = TopRelated(x)\n",
    "%time top_related.get_related(100)"
   ]
  },
  {
   "cell_type": "markdown",
   "metadata": {},
   "source": [
    "對每個item計算最鄰近的10個item需要耗時280ms,估計對500萬個items計算需要至少 380hr"
   ]
  },
  {
   "cell_type": "code",
   "execution_count": 23,
   "metadata": {
    "collapsed": false
   },
   "outputs": [
    {
     "data": {
      "text/plain": [
       "388.89"
      ]
     },
     "execution_count": 23,
     "metadata": {},
     "output_type": "execute_result"
    }
   ],
   "source": [
    "round(items *0.28 /3600,2)# hour"
   ]
  },
  {
   "cell_type": "markdown",
   "metadata": {},
   "source": [
    "如果我們需要對海量的商品尋找最接近的，透過線性的查找(暴力法)會非常耗時。這時候可以透過近似近鄰(ANN)方法來幫助，先看怎麼使用套件[annoy](https://github.com/spotify/annoy)套件作者是超級大大(自己google)專案有三千多星!!用他應該一定沒錯啦"
   ]
  },
  {
   "cell_type": "code",
   "execution_count": 8,
   "metadata": {
    "collapsed": false
   },
   "outputs": [],
   "source": [
    "import annoy\n",
    "class ApproximateTopRelated:\n",
    "    def __init__(self, items_factors, treecount=20):\n",
    "        index = annoy.AnnoyIndex(items_factors.shape[1], 'angular')\n",
    "        for i, row in tqdm(enumerate(items_factors)):\n",
    "            index.add_item(i, row)\n",
    "        index.build(treecount)\n",
    "        self.index = index\n",
    "\n",
    "    def get_related(self, itemid, N=10):\n",
    "        neighbours = self.index.get_nns_by_item(itemid, N)\n",
    "        return sorted(((other, 1 - self.index.get_distance(itemid, other))\n",
    "                      for other in neighbours), key=lambda x: -x[1])"
   ]
  },
  {
   "cell_type": "code",
   "execution_count": 9,
   "metadata": {
    "collapsed": false
   },
   "outputs": [
    {
     "name": "stderr",
     "output_type": "stream",
     "text": [
      "5000000it [01:08, 72851.61it/s]\n"
     ]
    },
    {
     "name": "stdout",
     "output_type": "stream",
     "text": [
      "Wall time: 13min 15s\n"
     ]
    }
   ],
   "source": [
    "%time app_top_related = ApproximateTopRelated(x)"
   ]
  },
  {
   "cell_type": "code",
   "execution_count": 10,
   "metadata": {
    "collapsed": false
   },
   "outputs": [
    {
     "name": "stdout",
     "output_type": "stream",
     "text": [
      "Wall time: 0 ns\n"
     ]
    },
    {
     "data": {
      "text/plain": [
       "[(100, 1.0),\n",
       " (3164034, 0.4320356249809265),\n",
       " (1034936, 0.42606252431869507),\n",
       " (118226, 0.40478748083114624),\n",
       " (3624813, 0.4044606685638428),\n",
       " (2921124, 0.39136600494384766),\n",
       " (847370, 0.38512957096099854),\n",
       " (4961798, 0.37953001260757446),\n",
       " (122976, 0.37684887647628784),\n",
       " (416312, 0.37207216024398804)]"
      ]
     },
     "execution_count": 10,
     "metadata": {},
     "output_type": "execute_result"
    }
   ],
   "source": [
    "%time app_top_related.get_related(100)"
   ]
  },
  {
   "cell_type": "code",
   "execution_count": 20,
   "metadata": {
    "collapsed": false
   },
   "outputs": [
    {
     "data": {
      "text/plain": [
       "1516869461.8291452"
      ]
     },
     "execution_count": 20,
     "metadata": {},
     "output_type": "execute_result"
    }
   ],
   "source": [
    "import time "
   ]
  },
  {
   "cell_type": "code",
   "execution_count": 51,
   "metadata": {
    "collapsed": false
   },
   "outputs": [
    {
     "name": "stdout",
     "output_type": "stream",
     "text": [
      "time elapse :999.8614735603333s\n"
     ]
    }
   ],
   "source": [
    "t0 = time.time()\n",
    "for i in range(items):\n",
    "    app_top_related.get_related(i)\n",
    "t1 = time.time()\n",
    "print('time elapse :{}s'.format(t1-t0))"
   ]
  }
 ],
 "metadata": {
  "anaconda-cloud": {},
  "kernelspec": {
   "display_name": "Python [conda env:py36]",
   "language": "python",
   "name": "conda-env-py36-py"
  },
  "language_info": {
   "codemirror_mode": {
    "name": "ipython",
    "version": 3
   },
   "file_extension": ".py",
   "mimetype": "text/x-python",
   "name": "python",
   "nbconvert_exporter": "python",
   "pygments_lexer": "ipython3",
   "version": "3.6.3"
  }
 },
 "nbformat": 4,
 "nbformat_minor": 1
}
