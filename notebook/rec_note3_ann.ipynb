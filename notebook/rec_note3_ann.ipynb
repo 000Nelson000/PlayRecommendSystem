{
 "cells": [
  {
   "cell_type": "markdown",
   "metadata": {},
   "source": [
    "# 近似最近鄰 Approximation Nearest Neighbors\n",
    "\n",
    "這邊想討論的是，當商品的數量大到一個**等級**(可能是需要十萬以上..)的時候，去比對每個點來找最近鄰的方法會非常的低效。用例子來說明原理還是最好的:\n",
    "\n",
    "如果有500萬個商品，每個商品的特徵向量表示$\\in \\textbf{R}^{100}$，我們想要尋找其中一個商品最鄰近的前十個。"
   ]
  },
  {
   "cell_type": "code",
   "execution_count": 1,
   "metadata": {
    "collapsed": true
   },
   "outputs": [],
   "source": [
    "import numpy as np\n",
    "from tqdm import tqdm\n",
    "\n",
    "items = int(5*1e6) #500萬\n",
    "factor = 100\n",
    "x = np.random.rand(items,factor) ## 記憶體~4GB\n",
    "\n",
    "class TopRelated:\n",
    "    ## 利用向量內積，查找最鄰近的物品(cosine based)\n",
    "    def __init__(self, items_factors):\n",
    "        ## 初始化需要正規化物品向量\n",
    "        norms = np.linalg.norm(items_factors, axis=1)\n",
    "        self.factors = items_factors / norms[:, np.newaxis]\n",
    "\n",
    "    def get_related(self, itemid, N=10):\n",
    "        scores = self.factors.dot(self.factors[itemid]) # cosine \n",
    "        best = np.argpartition(scores, -N)[-N:] # partion --> 小於此的放在左側\n",
    "        return sorted(zip(best, scores[best]), key=lambda x: -x[1])"
   ]
  },
  {
   "cell_type": "code",
   "execution_count": 44,
   "metadata": {
    "collapsed": false
   },
   "outputs": [
    {
     "name": "stdout",
     "output_type": "stream",
     "text": [
      "Wall time: 266 ms\n"
     ]
    },
    {
     "data": {
      "text/plain": [
       "[(100, 1.0),\n",
       " (2266144, 0.85922529002190373),\n",
       " (1367840, 0.85190470560078513),\n",
       " (4827941, 0.85175188853230699),\n",
       " (4158610, 0.85165288118765758),\n",
       " (3025845, 0.85092234565859126),\n",
       " (4118586, 0.85018339949723798),\n",
       " (2610570, 0.84982956620805683),\n",
       " (333249, 0.84958760878590689),\n",
       " (4265367, 0.84917002416086451)]"
      ]
     },
     "execution_count": 44,
     "metadata": {},
     "output_type": "execute_result"
    }
   ],
   "source": [
    "top_related = TopRelated(x)\n",
    "%time top_related.get_related(100)"
   ]
  },
  {
   "cell_type": "markdown",
   "metadata": {},
   "source": [
    "對每個item計算最鄰近的10個item需要耗時280ms,估計對500萬個items計算需要至少 380hr"
   ]
  },
  {
   "cell_type": "code",
   "execution_count": 23,
   "metadata": {
    "collapsed": false
   },
   "outputs": [
    {
     "data": {
      "text/plain": [
       "388.89"
      ]
     },
     "execution_count": 23,
     "metadata": {},
     "output_type": "execute_result"
    }
   ],
   "source": [
    "round(items *0.28 /3600,2)# hour"
   ]
  },
  {
   "cell_type": "markdown",
   "metadata": {},
   "source": [
    "如果我們需要對海量的商品尋找最接近的，透過線性的查找(暴力法)會非常耗時。這時候可以透過近似近鄰(ANN)方法來幫助...\n",
    "\n",
    "* 先看怎麼使用套件[annoy](https://github.com/spotify/annoy)。套件作者是超級大大(自己google一下)這個專案有**三千多星!!!!**\n",
    "\n",
    "* 熟悉一下用法，之後會講原理。"
   ]
  },
  {
   "cell_type": "code",
   "execution_count": 20,
   "metadata": {
    "collapsed": true
   },
   "outputs": [],
   "source": [
    "import annoy\n",
    "class ApproximateTopRelated:\n",
    "    def __init__(self, items_factors, treecount=20):\n",
    "        index = annoy.AnnoyIndex(items_factors.shape[1], 'angular')\n",
    "        for i, row in tqdm(enumerate(items_factors)):\n",
    "            index.add_item(i, row)\n",
    "        index.build(treecount)\n",
    "        self.index = index\n",
    "\n",
    "    def get_related(self, itemid, N=10):\n",
    "        neighbours = self.index.get_nns_by_item(itemid, N)\n",
    "        return sorted(((other, 1 - self.index.get_distance(itemid, other))\n",
    "                      for other in neighbours), key=lambda x: -x[1])"
   ]
  },
  {
   "cell_type": "code",
   "execution_count": 9,
   "metadata": {
    "collapsed": false
   },
   "outputs": [
    {
     "name": "stderr",
     "output_type": "stream",
     "text": [
      "5000000it [01:08, 72851.61it/s]\n"
     ]
    },
    {
     "name": "stdout",
     "output_type": "stream",
     "text": [
      "Wall time: 13min 15s\n"
     ]
    }
   ],
   "source": [
    "## 不要在自己的本機/筆電執行，耗用8G以上記憶體\n",
    "%time app_top_related = ApproximateTopRelated(x)"
   ]
  },
  {
   "cell_type": "markdown",
   "metadata": {},
   "source": [
    "annoy使用的時候需要先建立一個索引二元樹，然後根據此樹作\n",
    "1. 查找\n",
    "2. 意外分支\n",
    "3. random tree\n",
    "\n",
    "建立這個index耗時13分15秒，而透過建立出來的index來查找最近的物品，幾乎是不太耗時的。"
   ]
  },
  {
   "cell_type": "code",
   "execution_count": 10,
   "metadata": {
    "collapsed": false
   },
   "outputs": [
    {
     "name": "stdout",
     "output_type": "stream",
     "text": [
      "Wall time: 0 ns\n"
     ]
    },
    {
     "data": {
      "text/plain": [
       "[(100, 1.0),\n",
       " (3164034, 0.4320356249809265),\n",
       " (1034936, 0.42606252431869507),\n",
       " (118226, 0.40478748083114624),\n",
       " (3624813, 0.4044606685638428),\n",
       " (2921124, 0.39136600494384766),\n",
       " (847370, 0.38512957096099854),\n",
       " (4961798, 0.37953001260757446),\n",
       " (122976, 0.37684887647628784),\n",
       " (416312, 0.37207216024398804)]"
      ]
     },
     "execution_count": 10,
     "metadata": {},
     "output_type": "execute_result"
    }
   ],
   "source": [
    "%time app_top_related.get_related(100)"
   ]
  },
  {
   "cell_type": "code",
   "execution_count": 51,
   "metadata": {
    "collapsed": false
   },
   "outputs": [
    {
     "name": "stdout",
     "output_type": "stream",
     "text": [
      "time elapse :999.8614735603333s\n"
     ]
    }
   ],
   "source": [
    "t0 = time.time()\n",
    "for i in range(items):\n",
    "    app_top_related.get_related(i)\n",
    "t1 = time.time()\n",
    "print('time elapse :{}s'.format(t1-t0))"
   ]
  },
  {
   "cell_type": "markdown",
   "metadata": {},
   "source": [
    "與之前相比500萬個商品查找所有的（近似）最近鄰只需要耗時約`13 + 16 = 29 分`與直接計算所有商品間的內積並排序，效能上至少相差數百倍。"
   ]
  },
  {
   "cell_type": "markdown",
   "metadata": {},
   "source": [
    "# 近似最近鄰\n",
    "抄襲自annoy作者的[blog](https://erikbern.com/2015/10/01/nearest-neighbors-and-vector-models-part-2-how-to-search-in-high-dimensional-spaces.html),可以的話看原文講的非常清楚，這裡只是做個中文筆記而已。\n",
    "____\n",
    "\n",
    "## 建立二元樹\n",
    "\n",
    "如果有資料點如下，\n",
    "![ann1](./img/ann1.png)    \n",
    "想要建立一種資料結構，使得搜尋最鄰近的點複雜度不高於$\\mathcal{O}(\\log{}n)$ \n",
    "\n",
    "1. 隨意任選兩點，切出一與兩點等距之超平面\n",
    "    \n",
    "2. 在新切出的二平面中，繼續任選兩點切出等具超平面\n",
    "    \n",
    "3. 持續切割平面直到，使任平面中所含的點不大於_k_\n",
    "\n",
    "## 搜尋過程\n",
    "\n",
    "初始的紅色小點代表查詢的位置\n",
    "![ann2](./img/ann2.png)\n",
    "\n",
    "1. 按照二元樹找尋最鄰近每個節點(node)的位置，此時查詢的長度不會超過$\\log{}n$\n",
    "2. 允許**例外**發生，使用priority Queue設計一閥值，大於此值node可以走不同的分支。\n",
    "\n",
    "## 隨機樹\n",
    "\n",
    "除此之外允許產生隨機的二元樹狀結構(random tree)\n",
    "\n",
    "![ann3](./img/ann3.png)\n",
    "(ps.看原始網頁有[動圖](https://erikbern.com/assets/2015/09/animated.gif))\n",
    "1. 針對一個點同時搜尋不同的樹\n",
    "> We can search all trees at the same time using one single priority queue.\n",
    "2. 根據幾棵樹找到的鄰近點再做point-wise計算\n",
    "3. 取前N名(topN)"
   ]
  },
  {
   "cell_type": "markdown",
   "metadata": {},
   "source": [
    "# 實作3D模型資料"
   ]
  },
  {
   "cell_type": "markdown",
   "metadata": {},
   "source": [
    "讀資料/清資料(again...)"
   ]
  },
  {
   "cell_type": "code",
   "execution_count": 8,
   "metadata": {
    "collapsed": false
   },
   "outputs": [],
   "source": [
    "import numpy as np \n",
    "import pandas as pd\n",
    "import csv\n",
    "import sys\n",
    "from tqdm import tqdm\n",
    "sys.path.append('../')\n",
    "from rec_helper import *"
   ]
  },
  {
   "cell_type": "code",
   "execution_count": 9,
   "metadata": {
    "collapsed": false
   },
   "outputs": [
    {
     "name": "stdout",
     "output_type": "stream",
     "text": [
      "modelname    632832\n",
      "mid          632832\n",
      "uid          632832\n",
      "dtype: int64\n",
      "modelname    632677\n",
      "mid          632677\n",
      "uid          632677\n",
      "dtype: int64\n",
      "Starting interactions info\n",
      "Number of rows: 62583\n",
      "Number of cols: 28806\n",
      "Sparsity: 0.04%\n",
      "Ending interactions info\n",
      "Number of rows: 13496\n",
      "Number of columns: 13618\n",
      "Sparsity: 0.25%\n"
     ]
    }
   ],
   "source": [
    "df = pd.read_csv('../rec-a-sketch/model_likes_anon.psv',\n",
    "                 sep='|',quotechar='\\\\',quoting=csv.QUOTE_MINIMAL)\n",
    "print(df.count())\n",
    "df.drop_duplicates(inplace=True)\n",
    "print(df.count())\n",
    "df = threshold_interaction(df,rowname='uid',colname='mid',row_min=5,col_min=10)\n",
    "inter,uid_to_idx,idx_to_uid,mid_to_idx,idx_to_mid=df_to_spmatrix(df,'uid','mid')\n",
    "train,test, user_idxs = train_test_split(inter,split_count=1,fraction=0.2)"
   ]
  },
  {
   "cell_type": "markdown",
   "metadata": {},
   "source": [
    "## implicit套件\n",
    "用來計算items_embedding\n",
    "\n",
    "1. 比較ann與暴力法效能\n",
    "2. 人眼看一下相似性結果"
   ]
  },
  {
   "cell_type": "code",
   "execution_count": 11,
   "metadata": {
    "collapsed": false
   },
   "outputs": [],
   "source": [
    "import implicit\n",
    "model = implicit.als.AlternatingLeastSquares(factors=50,regularization=0.01)\n",
    "train64 = train.astype(np.float64)\n",
    "model.fit(train64.T)"
   ]
  },
  {
   "cell_type": "code",
   "execution_count": 23,
   "metadata": {
    "collapsed": false
   },
   "outputs": [
    {
     "name": "stderr",
     "output_type": "stream",
     "text": [
      "100%|██████████████████████████████████| 13618/13618 [00:04<00:00, 3350.27it/s]\n"
     ]
    }
   ],
   "source": [
    "for i in tqdm(range(train.shape[1])):\n",
    "    model.similar_items(i)"
   ]
  },
  {
   "cell_type": "code",
   "execution_count": 28,
   "metadata": {
    "collapsed": false
   },
   "outputs": [
    {
     "name": "stderr",
     "output_type": "stream",
     "text": [
      "13618it [00:00, 108942.13it/s]\n",
      "100%|█████████████████████████████████| 13618/13618 [00:01<00:00, 12816.39it/s]\n"
     ]
    }
   ],
   "source": [
    "approx_topRelated_item = ApproximateTopRelated(model.item_factors)\n",
    "for i in tqdm(range(train.shape[1])):\n",
    "    approx_topRelated_item.get_related(i)"
   ]
  },
  {
   "cell_type": "markdown",
   "metadata": {},
   "source": [
    "直接呼叫套件下的`similar_items`方法:\n",
    "   > 3,350 items/s\n",
    "   \n",
    "使用近似鄰近法\n",
    " > 12,816 items/s"
   ]
  },
  {
   "cell_type": "code",
   "execution_count": 54,
   "metadata": {
    "collapsed": true
   },
   "outputs": [],
   "source": [
    "# approx_top_related_items = approx_topRelated_item.get_related(20)\n",
    "# top_related_items = top_related.get_related(20)"
   ]
  },
  {
   "cell_type": "code",
   "execution_count": 67,
   "metadata": {
    "collapsed": false
   },
   "outputs": [],
   "source": [
    "import requests\n",
    "from IPython.display import HTML, display\n",
    "def get_thumbnails(top_related_items, idx, idx_to_mid, N=10):\n",
    "#     row = sim[idx, :].A.ravel()\n",
    "    topNitems,scores = zip(*top_related_items.get_related(idx))\n",
    "    thumbs = []\n",
    "    for x in topNitems:         \n",
    "        response = requests.get('https://sketchfab.com/i/models/{}'.format(idx_to_mid[x])).json()\n",
    "        thumb = [x['url'] for x in response['thumbnails']['images']]\n",
    "#         print(thumb)\n",
    "#         thumb = [x['url'] for x in response['thumbnails']['images'] if x['width'] == 200 and x['height']==200]\n",
    "        if not thumb:\n",
    "            print('no thumbnail')\n",
    "        else:\n",
    "            thumb = thumb[-2]\n",
    "        thumbs.append(thumb)\n",
    "    return thumbs"
   ]
  },
  {
   "cell_type": "code",
   "execution_count": 68,
   "metadata": {
    "collapsed": true
   },
   "outputs": [],
   "source": [
    "def display_item(thumbs,origin_id,N=5):\n",
    "    try: \n",
    "        print('原圖======')\n",
    "        thumb_html = '<img src='+ '\\\"'+thumbs[0]+'\\\">' \n",
    "        \n",
    "    except TypeError:\n",
    "        print('oops, 找不到小圖!!!')\n",
    "        response = requests.get('https://sketchfab.com/i/models/{}'.format(idx_to_mid[origin_id])).json()\n",
    "        thumb = [x['url'] for x in response['thumbnails']['images']][-2]\n",
    "        thumb_html = '<img src= \"{}\"/>'.format(thumb)\n",
    "        print('稍大的圖====')\n",
    "    for url in thumbs[1:]:        \n",
    "        if url:\n",
    "            thumb_html += \"\"\" <img style='width:120px;margin:0px;float:left;border:1px solid black;' src='{}' />\"\"\".format(url)            \n",
    "    return thumb_html"
   ]
  },
  {
   "cell_type": "code",
   "execution_count": 69,
   "metadata": {
    "collapsed": true
   },
   "outputs": [],
   "source": [
    "itemid = 0\n",
    "\n",
    "related_items_url = get_thumbnails(top_related,itemid,idx_to_mid)\n",
    "approx_related_items_url = get_thumbnails(approx_topRelated_item,itemid,idx_to_mid)"
   ]
  },
  {
   "cell_type": "code",
   "execution_count": 70,
   "metadata": {
    "collapsed": false
   },
   "outputs": [
    {
     "name": "stdout",
     "output_type": "stream",
     "text": [
      "暴力法--------\n",
      "原圖======\n"
     ]
    },
    {
     "data": {
      "text/html": [
       "<img src=\"https://media.sketchfab.com/urls/5dcebcfaedbd4e7b8a27bd1ae55f1ac3/dist/thumbnails/42158696f2c24e63b5c22b57f7b79739/256x144.jpeg\"> <img style='width:120px;margin:0px;float:left;border:1px solid black;' src='https://media.sketchfab.com/urls/9120703a4aee4c2cb0313a9ca3e1e1a3/dist/thumbnails/52eb1132bd61459eb0983bd1e3fd256c/256x144.jpeg' /> <img style='width:120px;margin:0px;float:left;border:1px solid black;' src='https://media.sketchfab.com/urls/efe433deeeba4588bc089bba71fef9a5/dist/thumbnails/8bbd97ec0c3f481787694ca8d33211c4/854.jpeg' /> <img style='width:120px;margin:0px;float:left;border:1px solid black;' src='https://media.sketchfab.com/urls/18d38b440a9647059983c0e064b54948/dist/thumbnails/4cf3dbf1096d4d299c6181ec8f67a149/100x100.jpeg' /> <img style='width:120px;margin:0px;float:left;border:1px solid black;' src='https://media.sketchfab.com/urls/07f6a9a06db44bdb89b67a41f1fd72c2/dist/thumbnails/55ab6aa136e64643a5afa9f472bfdea0/864x486.jpeg' /> <img style='width:120px;margin:0px;float:left;border:1px solid black;' src='https://media.sketchfab.com/urls/5d2f4e1c07bf4c61a6d49c3b10907b5b/dist/thumbnails/6d8396c874994608a66e437076aeca4d/854.jpeg' /> <img style='width:120px;margin:0px;float:left;border:1px solid black;' src='https://media.sketchfab.com/urls/f628b75a1a4c40188fa8d6de224276ec/dist/thumbnails/43b1aac22a5443e39e4299032e3dddf8/bd729eb3c67e4976914927a113a1dcfc.jpeg' /> <img style='width:120px;margin:0px;float:left;border:1px solid black;' src='https://media.sketchfab.com/urls/6a6600c5890a42ed8fb53eda479af371/dist/thumbnails/d51643ffb847445886444324756fde8d/854.jpeg' /> <img style='width:120px;margin:0px;float:left;border:1px solid black;' src='https://media.sketchfab.com/urls/93d3937e89ba48ea93623e0252387c0a/dist/thumbnails/bdd20344d9934036b8216fe4ce00e88e/640.jpeg' /> <img style='width:120px;margin:0px;float:left;border:1px solid black;' src='https://media.sketchfab.com/urls/82367f6a22644f6f88b462077611559e/dist/thumbnails/9041c2a16d43466aaf81ee145ed20d3f/864x486.jpeg' />"
      ],
      "text/plain": [
       "<IPython.core.display.HTML object>"
      ]
     },
     "execution_count": 70,
     "metadata": {},
     "output_type": "execute_result"
    }
   ],
   "source": [
    "print('暴力法--------')\n",
    "HTML(display_item(related_items_url,itemid))"
   ]
  },
  {
   "cell_type": "code",
   "execution_count": 71,
   "metadata": {
    "collapsed": false
   },
   "outputs": [
    {
     "name": "stdout",
     "output_type": "stream",
     "text": [
      "近似法--------\n",
      "原圖======\n"
     ]
    },
    {
     "data": {
      "text/html": [
       "<img src=\"https://media.sketchfab.com/urls/5dcebcfaedbd4e7b8a27bd1ae55f1ac3/dist/thumbnails/42158696f2c24e63b5c22b57f7b79739/256x144.jpeg\"> <img style='width:120px;margin:0px;float:left;border:1px solid black;' src='https://media.sketchfab.com/urls/9120703a4aee4c2cb0313a9ca3e1e1a3/dist/thumbnails/52eb1132bd61459eb0983bd1e3fd256c/256x144.jpeg' /> <img style='width:120px;margin:0px;float:left;border:1px solid black;' src='https://media.sketchfab.com/urls/efe433deeeba4588bc089bba71fef9a5/dist/thumbnails/8bbd97ec0c3f481787694ca8d33211c4/854.jpeg' /> <img style='width:120px;margin:0px;float:left;border:1px solid black;' src='https://media.sketchfab.com/urls/18d38b440a9647059983c0e064b54948/dist/thumbnails/4cf3dbf1096d4d299c6181ec8f67a149/100x100.jpeg' /> <img style='width:120px;margin:0px;float:left;border:1px solid black;' src='https://media.sketchfab.com/urls/5d2f4e1c07bf4c61a6d49c3b10907b5b/dist/thumbnails/6d8396c874994608a66e437076aeca4d/854.jpeg' /> <img style='width:120px;margin:0px;float:left;border:1px solid black;' src='https://media.sketchfab.com/urls/93d3937e89ba48ea93623e0252387c0a/dist/thumbnails/bdd20344d9934036b8216fe4ce00e88e/640.jpeg' /> <img style='width:120px;margin:0px;float:left;border:1px solid black;' src='https://media.sketchfab.com/urls/82367f6a22644f6f88b462077611559e/dist/thumbnails/9041c2a16d43466aaf81ee145ed20d3f/864x486.jpeg' /> <img style='width:120px;margin:0px;float:left;border:1px solid black;' src='https://media.sketchfab.com/urls/461ded4e36b3454f92654e14a8d524b7/dist/thumbnails/746423aebb3147f4b854473419ba4800/854.jpeg' /> <img style='width:120px;margin:0px;float:left;border:1px solid black;' src='https://media.sketchfab.com/urls/0ad160d8515949169e2f09e912879a20/dist/thumbnails/6e85aeecf94c4ebb90b7127b7b9e819d/854.jpeg' /> <img style='width:120px;margin:0px;float:left;border:1px solid black;' src='https://media.sketchfab.com/urls/ebc929ad5e814a22a9acf295a3d2c73b/dist/thumbnails/0ccc5d368b57471a9e1161e69e94500e/854.jpeg' />"
      ],
      "text/plain": [
       "<IPython.core.display.HTML object>"
      ]
     },
     "execution_count": 71,
     "metadata": {},
     "output_type": "execute_result"
    }
   ],
   "source": [
    "print('近似法--------')\n",
    "HTML(display_item(approx_related_items_url,itemid))"
   ]
  },
  {
   "cell_type": "markdown",
   "metadata": {},
   "source": [
    "# 小結\n",
    "結果來看近似的結果與實際差異並不太大，當然跟喵喵才觀察一兩個物品的有關係。如果商品的數量很大，在乎在線上搜尋的即時性，可以改用近似近鄰法加速搜尋，不過在小樣本如果更在乎準確性，大可不必使用這個技巧。\n",
    "\n",
    "另外如果我們要對用戶做推薦，勢必會計算向量內積$\\textbf{X}_u \\cdot \\textbf{y}_i$然後對所有商品重排序，這個在線上也不太可行。因此微軟在弄[xbox遊戲推薦](https://www.microsoft.com/en-us/research/publication/speeding-up-the-xbox-recommender-system-using-a-euclidean-transformation-for-inner-product-spaces/)的問題時，提出一種高效的手法。這部分有機會再談嚕..."
   ]
  },
  {
   "cell_type": "code",
   "execution_count": null,
   "metadata": {
    "collapsed": true
   },
   "outputs": [],
   "source": []
  }
 ],
 "metadata": {
  "anaconda-cloud": {},
  "kernelspec": {
   "display_name": "Python [conda env:py36]",
   "language": "python",
   "name": "conda-env-py36-py"
  },
  "language_info": {
   "codemirror_mode": {
    "name": "ipython",
    "version": 3
   },
   "file_extension": ".py",
   "mimetype": "text/x-python",
   "name": "python",
   "nbconvert_exporter": "python",
   "pygments_lexer": "ipython3",
   "version": "3.6.3"
  }
 },
 "nbformat": 4,
 "nbformat_minor": 1
}
