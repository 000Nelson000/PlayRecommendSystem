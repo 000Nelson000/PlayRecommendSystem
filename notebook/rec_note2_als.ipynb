{
 "cells": [
  {
   "cell_type": "markdown",
   "metadata": {},
   "source": [
    "# 推薦模型 - 矩陣分解\n",
    "\n",
    "在之前的介紹裡面，相似度關係是利用交易資料所形成的向量空間，而對兩兩用戶(或物品)來求得的。但是實務上使用這個方法會碰到問題：\n",
    "\n",
    "1. 維度過於龐大與稀疏，例如電子商務網站會有上百萬個用品。而單一用戶往往只有很少量(數個）與物品的交互關係(交易紀錄interaction data)\n",
    "2. 計算用戶（或物品)的兩兩關係會隨著用戶(物品）增加而耗時成指數增加\n",
    "\n",
    "利用稀疏矩陣可以適度的解決1的問題，最鄰近法(相似度模型)knn還可以使用。但隨著用戶來到`10^6`以上，就會有相似度矩陣過於龐大，且由於必定有買家是購買熱絡的用戶，使得相似矩陣不再稀疏的問題存在。\n",
    "\n",
    "## 矩陣分解\n",
    "\n",
    "在矩陣分解的想法裡面，把用戶與物品的交易矩陣，用一種線性關係來逼近，\n",
    "\n",
    "$$r_{ui} = \\textbf{x}_u^T \\cdot \\textbf{y}_i $$\n",
    "\n",
    "代表的意思為，用戶購買某商品的背後，有一種隱性特徵來決定購買的權重。而每個商品有關於這個隱性特徵的比例。這樣的線性關係，恰恰決定了用戶對某商品的打分。\n",
    "\n",
    "- 舉例來說: 小明會給**超人特攻隊** `評分=5`, 原因可能是這部片背後有三種特徵: $\\textbf{y}_{超人特攻隊}=$ `{ 恐怖：0, 喜劇：2, 卡通:3 }`,而小明對這三種特徵的喜好程度分別是: $\\textbf{x}_{小明}$ = `{喜愛恐怖:0, 喜愛喜劇:0.9, 喜愛卡通: 1}`。按照矩陣分解的想法：\n",
    "\n",
    "$$r_{小明-超人特攻隊} = \\textbf{x}_{小明}^T \\cdot \\textbf{y}_{超人特攻隊} = 1.8 + 3 = 4.8 \\approx 5$$\n",
    "\n",
    "- 損失函數可寫成 \n",
    "$$\n",
    "L = \\sum_{u,i \\in S} \\left(r_{ui} - \\textbf{x}_u \\cdot \\textbf{y}_i\\right)^2 + \\lambda_x \\sum_u \\left\\Vert \\textbf{x}_u \\right\\Vert ^2  + \\lambda_y \\sum_i \\left\\Vert \\textbf{y}_i \\right\\Vert ^2 $$\n",
    "\n",
    "### explicit ALS 算法\n",
    "\n",
    "- 要最小化此損失函數，可以先固定 $\\textbf{y}_i$為常數對另一變數$\\textbf{x}_u$進行微分，並另其為0求得關係..."
   ]
  },
  {
   "cell_type": "code",
   "execution_count": null,
   "metadata": {
    "collapsed": true
   },
   "outputs": [],
   "source": []
  }
 ],
 "metadata": {
  "kernelspec": {
   "display_name": "Python 3",
   "language": "python",
   "name": "python3"
  },
  "language_info": {
   "codemirror_mode": {
    "name": "ipython",
    "version": 3
   },
   "file_extension": ".py",
   "mimetype": "text/x-python",
   "name": "python",
   "nbconvert_exporter": "python",
   "pygments_lexer": "ipython3",
   "version": "3.6.3"
  }
 },
 "nbformat": 4,
 "nbformat_minor": 2
}
