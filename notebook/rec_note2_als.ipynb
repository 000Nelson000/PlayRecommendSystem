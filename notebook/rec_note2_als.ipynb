{
 "cells": [
  {
   "cell_type": "markdown",
   "metadata": {},
   "source": [
    "# 推薦模型 - 矩陣分解\n",
    "\n",
    "在之前的介紹裡面，相似度關係是利用交易資料所形成的向量空間，而對兩兩用戶(或物品)來求得的。但是實務上使用這個方法會碰到問題：\n",
    "\n",
    "1. 維度過於龐大與稀疏，例如電子商務網站會有上百萬個用品。而單一用戶往往只有很少量(數個）與物品的交互關係(交易紀錄interaction data)此時會形成[維度災難](https://zh.wikipedia.org/wiki/%E7%BB%B4%E6%95%B0%E7%81%BE%E9%9A%BE)，亦即在維度過大的情況下，所有的東西(人)相似度趨近於0(距離無窮遠)\n",
    "2. 計算用戶（或物品)的兩兩關係會隨著用戶(物品）增加而耗時成指數增加\n",
    "\n",
    "矩陣分解目的是解決**維度災難**的手法\n",
    "## 矩陣分解\n",
    "\n",
    "在矩陣分解的想法裡面，把用戶與物品的交易矩陣，用一種線性關係來逼近，\n",
    "\n",
    "$$r_{ui} = \\textbf{x}_u^T \\cdot \\textbf{y}_i $$\n",
    "\n",
    "代表的意思為，用戶購買某商品的背後，有一種隱性特徵來決定購買的權重。而每個商品有關於這個隱性特徵的比例。這樣的線性關係，恰恰決定了用戶對某商品的打分。\n",
    "\n",
    "- 舉例來說: 小明會給**超人特攻隊** `評分=5`, 原因可能是這部片背後有三種特徵: $\\textbf{y}_{超人特攻隊}=$ `{ 恐怖：0, 喜劇：2, 卡通:3 }`,而小明對這三種特徵的喜好程度分別是: $\\textbf{x}_{小明}$ = `{喜愛恐怖:0, 喜愛喜劇:0.9, 喜愛卡通: 1}`。按照矩陣分解的想法：\n",
    "\n",
    "$$r_{小明-超人特攻隊} = \\textbf{x}_{小明}^T \\cdot \\textbf{y}_{超人特攻隊} = 1.8 + 3 = 4.8 \\approx 5$$\n",
    "\n",
    "- 損失函數可寫成 \n",
    "$$\n",
    "L = \\sum_{u,i \\in S} \\left(r_{ui} - \\textbf{x}_u \\cdot \\textbf{y}_i\\right)^2 + \\lambda_x \\sum_u \\left\\Vert \\textbf{x}_u \\right\\Vert ^2  + \\lambda_y \\sum_i \\left\\Vert \\textbf{y}_i \\right\\Vert ^2 $$\n",
    "\n",
    "> 集合$s$表示有評分的物件(交互作用),$x_u,y_i$分別表示用戶$u$(物品$i$)的向量表示,$\\lambda_x,\\lambda_y$表示regularization\n",
    "\n",
    "## explicit ALS 算法\n",
    "\n",
    "- 要最小化此損失函數，可以先固定 $\\textbf{y}_i$為常數對另一變數$\\textbf{x}_u$進行微分，並另其為0求得關係...\n",
    "- 相似的固定 $\\textbf{x}_u$為常數，對另一變數$\\textbf{y}_i$進行微分。\n",
    "- 重複上述動作直到收斂\n",
    "\n",
    "上述過程稱為Alternative Least Square (ALS)算法，由於物標函數是評價分數(1-5)的明顯用戶回饋分數，所以稱為explicit ALS算法。概念上的框架是基於矩陣分解，而針對兩組方程用交互迭代的方式取得收斂。"
   ]
  },
  {
   "cell_type": "markdown",
   "metadata": {},
   "source": [
    "## Implicit ALS 算法\n",
    "\n",
    "其實很常見的狀況是無從知道到底用戶對商品的評價是什麼，只能隱約猜測有買過的東西，對其偏好(preference)程度較高。但是對於沒有買過的商品，沒有購買存有兩種可能性\n",
    "1. 不喜歡此類商品\n",
    "2. 未察覺此商品\n",
    "\n",
    "在此篇[論文](http://yifanhu.net/PUB/cf.pdf)中提出信心程度的想法，將explicit ALS做進一步的改良。\n",
    "\n",
    "\n",
    "\\begin{equation}\n",
    "L = \\sum_{u,i \\in all} c_{ui}\\left(p_{ui} - \\textbf{x}_u \\cdot \\textbf{y}_i\\right)^2 + \\lambda_x \\sum_u \\left\\Vert \\textbf{x}_u \\right\\Vert ^2  + \\lambda_y \\sum_i \\left\\Vert \\textbf{y}_i \\right\\Vert ^2 \n",
    "\\end{equation}\n",
    "\n",
    "\n",
    "其中$p_{ui}$為喜歡或不喜歡${0,1}$之偏好，而$c_{ui}$代表說明用戶$u$對商品$i$之說明喜歡(或不喜歡)的信心程度，數值愈高代表信心程度愈大。與之前僅考慮有交互作用($\\in S$)的情況不同，需要考慮所有未購買的狀況($\\in all_{ui}$)。類似explicit解法，可以透過固定其中一個變數$\\textbf{Y}_i$，微分後為零求得解析解(此解代表能使目標函數最小化)\n",
    "\n",
    "\n",
    "$$\n",
    "\\textbf{X}_u = \\left( \\textbf{Y}^T\\textbf{C}^u\\textbf{Y}  + \\lambda \\textbf{I}\\right)^{-1} \\textbf{Y}^T\\textbf{C}^uP(u)\n",
    "$$\n",
    "\n",
    ">若用戶有$m$個,商品有$n$個\n",
    "\n",
    "> $\\textbf{X}_u$代表用戶u的特徵向量($\\in f\\times 1$)\n",
    "\n",
    "> $\\textbf{Y}$為物品特徵向量縱向堆疊(`vstack`)的矩陣($\\in f\\times n$)\n",
    "\n",
    "> $\\textbf{C}^u$為對角線上才有值的$n \\times n$矩陣\n",
    "\n",
    "> $P(u)\\in\\mathbf{R}^{n\\times 1}$包含每個用戶的喜好(1 or 0)二元結果\n",
    "\n",
    "同理可以取得\n",
    "$$\n",
    "\\textbf{Y}_i = \\left( \\textbf{X}^T\\textbf{C}^i\\textbf{X}  + \\lambda \\textbf{I}\\right)^{-1} \\textbf{X}^T\\textbf{C}^iP(i)\n",
    "$$\n",
    "\n",
    "\n",
    "\n",
    "### 計算效能:\n",
    "\n",
    "在上式中每個用戶的特徵向量$\\textbf{X}_u$取得，必須依賴於\n",
    "\n",
    "1. $\\textbf{Y}^T\\textbf{C}^u\\textbf{Y},$需耗時$\\mathcal{O}(f^2n)$\n",
    "2. $\\textbf{Y}^T\\textbf{C}^u P(u)$ 其中$P(u)$大部分為零，除了少數有與商品作用的$\\textit{u}_n$個人($\\textit{u}_n \\ll n$)\n",
    "3. 反矩陣$\\left( \\textbf{X}^T\\textbf{C}^i\\textbf{X}  + \\lambda \\textbf{I}\\right)^{-1}$\n",
    "\n",
    "$\\textbf{Y}^T\\textbf{C}^u\\textbf{Y}$進一步寫成$\\textbf{Y}^T\\left( \\textbf{C}^u - 1\\right)\\textbf{Y} + \\textbf{Y}^T\\textbf{Y}$後一項不依賴於$u$僅需計算一次(不需要在用戶迴圈之中)，而前一項中的$\\textbf{C}^u - 1$只有$\\textit{u}_n$個非零項，可以大幅簡化計算為$\\mathcal{O}(f^2\\textit{n}_u)$。\n",
    "\n",
    "_____"
   ]
  },
  {
   "cell_type": "markdown",
   "metadata": {},
   "source": [
    "# 實作3D模型資料\n",
    "## 前處理"
   ]
  },
  {
   "cell_type": "code",
   "execution_count": 1,
   "metadata": {
    "collapsed": true
   },
   "outputs": [],
   "source": [
    "import numpy as np \n",
    "import pandas as pd\n",
    "import csv\n",
    "import sys\n",
    "from tqdm import tqdm\n",
    "sys.path.append('../')"
   ]
  },
  {
   "cell_type": "code",
   "execution_count": 2,
   "metadata": {
    "collapsed": true
   },
   "outputs": [],
   "source": [
    "from rec_helper import *"
   ]
  },
  {
   "cell_type": "code",
   "execution_count": 3,
   "metadata": {
    "collapsed": false
   },
   "outputs": [
    {
     "name": "stdout",
     "output_type": "stream",
     "text": [
      "modelname    632832\n",
      "mid          632832\n",
      "uid          632832\n",
      "dtype: int64\n",
      "modelname    632677\n",
      "mid          632677\n",
      "uid          632677\n",
      "dtype: int64\n",
      "Starting interactions info\n",
      "Number of rows: 62583\n",
      "Number of cols: 28806\n",
      "Sparsity: 0.04%\n",
      "Ending interactions info\n",
      "Number of rows: 13496\n",
      "Number of columns: 13618\n",
      "Sparsity: 0.25%\n"
     ]
    }
   ],
   "source": [
    "df = pd.read_csv('../rec-a-sketch/model_likes_anon.psv',\n",
    "                 sep='|',quotechar='\\\\',quoting=csv.QUOTE_MINIMAL)\n",
    "print(df.count())\n",
    "df.drop_duplicates(inplace=True)\n",
    "print(df.count())\n",
    "df = threshold_interaction(df,rowname='uid',colname='mid',row_min=5,col_min=10)\n",
    "inter,uid_to_idx,idx_to_uid,mid_to_idx,idx_to_mid=df_to_spmatrix(df,'uid','mid')\n",
    "train,test, user_idxs = train_test_split(inter,split_count=1,fraction=0.2)"
   ]
  },
  {
   "cell_type": "markdown",
   "metadata": {},
   "source": [
    "## implicit ALS算法"
   ]
  },
  {
   "cell_type": "code",
   "execution_count": 4,
   "metadata": {
    "collapsed": true
   },
   "outputs": [],
   "source": [
    "def alternating_least_squares(Cui, factors, regularization, iterations=20):\n",
    "    users, items = Cui.shape\n",
    "\n",
    "    X = np.random.rand(users, factors) * 0.01\n",
    "    Y = np.random.rand(items, factors) * 0.01\n",
    "\n",
    "    Ciu = Cui.T.tocsr()\n",
    "    for iteration in range(iterations):\n",
    "        X,Y = least_squares(Cui, X, Y, regularization)\n",
    "        Y,X = least_squares(Ciu, Y, X, regularization)\n",
    "        print('iter:{}'.format(iteration))\n",
    "\n",
    "    return X, Y"
   ]
  },
  {
   "cell_type": "code",
   "execution_count": 5,
   "metadata": {
    "collapsed": true
   },
   "outputs": [],
   "source": [
    "def least_squares(Cui, X, Y, regularization):\n",
    "    users, factors = X.shape\n",
    "    YtY = Y.T.dot(Y)\n",
    "\n",
    "    for u in range(users):\n",
    "        # accumulate YtCuY + regularization * I in A\n",
    "        A = YtY + regularization * np.eye(factors)\n",
    "\n",
    "        # accumulate YtCuPu in b\n",
    "        b = np.zeros(factors)\n",
    "#         if u % 1000 == 0:\n",
    "#             print(u)\n",
    "        for i in Cui[u,:].indices:\n",
    "            confidence = Cui[u,i]\n",
    "            factor = Y[i]\n",
    "            A += (confidence - 1) * np.outer(factor, factor)\n",
    "            b += confidence * factor\n",
    "\n",
    "        # Xu = (YtCuY + regularization * I)^-1 (YtCuPu)\n",
    "        X[u] = np.linalg.solve(A, b)\n",
    "    return X,Y"
   ]
  },
  {
   "cell_type": "code",
   "execution_count": 6,
   "metadata": {
    "collapsed": false
   },
   "outputs": [
    {
     "name": "stdout",
     "output_type": "stream",
     "text": [
      "iter:0\n",
      "iter:1\n",
      "iter:2\n",
      "iter:3\n",
      "iter:4\n",
      "iter:5\n",
      "iter:6\n",
      "iter:7\n",
      "iter:8\n",
      "iter:9\n"
     ]
    }
   ],
   "source": [
    "users_embedding, items_embedding = alternating_least_squares(train,50,regularization=1,iterations=10) # time consuming : 15~20 min"
   ]
  },
  {
   "cell_type": "code",
   "execution_count": 18,
   "metadata": {
    "collapsed": false
   },
   "outputs": [
    {
     "data": {
      "text/plain": [
       "(13618, 50)"
      ]
     },
     "execution_count": 18,
     "metadata": {},
     "output_type": "execute_result"
    }
   ],
   "source": [
    "items_embedding.shape"
   ]
  },
  {
   "cell_type": "code",
   "execution_count": 34,
   "metadata": {
    "collapsed": false
   },
   "outputs": [],
   "source": [
    "class TopRelated:\n",
    "    ## 利用向量內積，查找最鄰近的物品(cosine based)\n",
    "    def __init__(self, items_factors):\n",
    "        ## 初始化需要正規化物品向量\n",
    "        norms = np.linalg.norm(items_factors, axis=1)\n",
    "        self.factors = items_factors / norms[:, np.newaxis]\n",
    "\n",
    "    def get_related(self, itemid, N=10):\n",
    "        scores = self.factors.dot(self.factors[itemid]) # cosine \n",
    "        best = np.argpartition(scores, -N)[-N:] # partion --> 小於此的放在左側\n",
    "        return sorted(zip(best, scores[best]), key=lambda x: -x[1])"
   ]
  },
  {
   "cell_type": "code",
   "execution_count": 36,
   "metadata": {
    "collapsed": false
   },
   "outputs": [
    {
     "data": {
      "text/plain": [
       "[(10, 1.0),\n",
       " (73, 0.83722254921943251),\n",
       " (7, 0.70723078351642843),\n",
       " (56, 0.68384343958434157),\n",
       " (11590, 0.67578306681303246),\n",
       " (51, 0.65851161702060046),\n",
       " (13005, 0.6338764151864773),\n",
       " (107, 0.54557463003883366),\n",
       " (11270, 0.54491236766180307),\n",
       " (4070, 0.53480604964234091)]"
      ]
     },
     "execution_count": 36,
     "metadata": {},
     "output_type": "execute_result"
    }
   ],
   "source": [
    "top_related = TopRelated(items_embedding)\n",
    "top_related.get_related(10)"
   ]
  },
  {
   "cell_type": "code",
   "execution_count": 7,
   "metadata": {
    "collapsed": false
   },
   "outputs": [],
   "source": [
    "import annoy"
   ]
  },
  {
   "cell_type": "code",
   "execution_count": 8,
   "metadata": {
    "collapsed": false
   },
   "outputs": [],
   "source": [
    "class ApproximateTopRelated:\n",
    "    def __init__(self, items_factors, treecount=20):\n",
    "        index = annoy.AnnoyIndex(items_factors.shape[1], 'angular')\n",
    "        for i, row in enumerate(items_factors):\n",
    "            index.add_item(i, row)\n",
    "        index.build(treecount)\n",
    "        self.index = index\n",
    "\n",
    "    def get_related(self, itemid, N=10):\n",
    "        neighbours = self.index.get_nns_by_item(itemid, N)\n",
    "        return sorted(((other, 1 - self.index.get_distance(itemid, other))\n",
    "                      for other in neighbours), key=lambda x: -x[1])"
   ]
  },
  {
   "cell_type": "code",
   "execution_count": 9,
   "metadata": {
    "collapsed": false
   },
   "outputs": [],
   "source": [
    "approx_topRelated_item = ApproximateTopRelated(items_embedding)"
   ]
  },
  {
   "cell_type": "code",
   "execution_count": 10,
   "metadata": {
    "collapsed": false
   },
   "outputs": [
    {
     "data": {
      "text/plain": [
       "[(10, 1.0),\n",
       " (73, 0.42942583560943604),\n",
       " (7, 0.23479491472244263),\n",
       " (56, 0.2048189640045166),\n",
       " (51, 0.17357587814331055),\n",
       " (13005, 0.14428550004959106),\n",
       " (107, 0.04666334390640259),\n",
       " (11270, 0.04596894979476929),\n",
       " (4070, 0.03543400764465332),\n",
       " (184, 0.026452183723449707)]"
      ]
     },
     "execution_count": 10,
     "metadata": {},
     "output_type": "execute_result"
    }
   ],
   "source": [
    "approx_topRelated_item.get_related(10)"
   ]
  },
  {
   "cell_type": "code",
   "execution_count": 11,
   "metadata": {
    "collapsed": true
   },
   "outputs": [],
   "source": [
    "import requests\n",
    "def get_thumbnails(approx_top_related_items, idx, idx_to_mid, N=10):\n",
    "#     row = sim[idx, :].A.ravel()\n",
    "    topNitems,scores = zip(*approx_top_related_items.get_related(idx))\n",
    "    thumbs = []\n",
    "    for x in topNitems:\n",
    "        response = requests.get('https://sketchfab.com/i/models/{}'.format(idx_to_mid[x])).json()\n",
    "        thumb = [x['url'] for x in response['thumbnails']['images'] if x['width'] == 200 and x['height']==200]\n",
    "        if not thumb:\n",
    "            print('no thumbnail')\n",
    "        else:\n",
    "            thumb = thumb[0]\n",
    "        thumbs.append(thumb)\n",
    "    return thumbs"
   ]
  },
  {
   "cell_type": "code",
   "execution_count": 12,
   "metadata": {
    "collapsed": false
   },
   "outputs": [
    {
     "name": "stdout",
     "output_type": "stream",
     "text": [
      "no thumbnail\n"
     ]
    }
   ],
   "source": [
    "thumbs = get_thumbnails(approx_topRelated_item, idx=0, idx_to_mid=idx_to_mid)"
   ]
  },
  {
   "cell_type": "code",
   "execution_count": 13,
   "metadata": {
    "collapsed": true
   },
   "outputs": [],
   "source": [
    "from IPython.display import HTML, display"
   ]
  },
  {
   "cell_type": "code",
   "execution_count": 14,
   "metadata": {
    "collapsed": true
   },
   "outputs": [],
   "source": [
    "def display_item(thumbs,N=5):\n",
    "    try: \n",
    "        thumb_html = '<img src='+ '\\\"'+thumbs[0]+'\\\">' \n",
    "    except TypeError:\n",
    "        print('No thumbnail...origin')\n",
    "        thumb_html= \"\"\n",
    "    for url in thumbs[1:]:\n",
    "        if url:\n",
    "            thumb_html = thumb_html + '<img src='+ '\\\"'+  url + '\\\">'     \n",
    "    return thumb_html"
   ]
  },
  {
   "cell_type": "code",
   "execution_count": 15,
   "metadata": {
    "collapsed": true
   },
   "outputs": [
    {
     "name": "stdout",
     "output_type": "stream",
     "text": [
      "No thumbnail...origin\n"
     ]
    },
    {
     "data": {
      "text/html": [
       "<img src=\"https://media.sketchfab.com/urls/18d38b440a9647059983c0e064b54948/dist/thumbnails/4cf3dbf1096d4d299c6181ec8f67a149/200x200.jpeg\"><img src=\"https://media.sketchfab.com/urls/ebc929ad5e814a22a9acf295a3d2c73b/dist/thumbnails/0ccc5d368b57471a9e1161e69e94500e/200x200.jpeg\"><img src=\"https://media.sketchfab.com/urls/93d3937e89ba48ea93623e0252387c0a/dist/thumbnails/bdd20344d9934036b8216fe4ce00e88e/200x200.jpeg\"><img src=\"https://media.sketchfab.com/urls/33758bb5159d4cd3b177dd3242362897/dist/thumbnails/436f770df22448a8b9427d449a8b04fe/200x200.jpeg\"><img src=\"https://media.sketchfab.com/urls/385300315c5246499d61171f1ad32c40/dist/thumbnails/7d78becd0bed499785fbc8922cae75bb/200x200.jpeg\"><img src=\"https://media.sketchfab.com/urls/e9e650d385c24d6a944324b055326621/dist/thumbnails/feb0cde04fb24d27babd53270dc2895a/200x200.jpeg\"><img src=\"https://media.sketchfab.com/urls/70c80ee04379476eb0f131840fee4217/dist/thumbnails/5e5c49cdc6d14d4d8d1d0c3c385cf0ca/200x200.jpeg\"><img src=\"https://media.sketchfab.com/urls/bf3b946f6dbb448eb25811e87e006f08/dist/thumbnails/35a9043224b34064895d2eb5f6a89a34/200x200.jpeg\"><img src=\"https://media.sketchfab.com/urls/0ad160d8515949169e2f09e912879a20/dist/thumbnails/6e85aeecf94c4ebb90b7127b7b9e819d/200x200.jpeg\">"
      ],
      "text/plain": [
       "<IPython.core.display.HTML object>"
      ]
     },
     "execution_count": 15,
     "metadata": {},
     "output_type": "execute_result"
    }
   ],
   "source": [
    "HTML(display_item(thumbs))"
   ]
  },
  {
   "cell_type": "markdown",
   "metadata": {},
   "source": [
    "# 評估"
   ]
  },
  {
   "cell_type": "markdown",
   "metadata": {},
   "source": [
    "## item based"
   ]
  },
  {
   "cell_type": "code",
   "execution_count": 45,
   "metadata": {
    "collapsed": false
   },
   "outputs": [
    {
     "data": {
      "text/plain": [
       "array([   0,   40,   48,   60,   63,  110,  111,  131,  167,  258,  308,\n",
       "        315,  331,  404,  431,  445,  464,  504,  560,  741,  812,  821,\n",
       "       1347, 1410, 1778, 1909, 2253, 2723, 3545, 3762, 4134, 4713, 4861,\n",
       "       8093, 8780])"
      ]
     },
     "execution_count": 45,
     "metadata": {},
     "output_type": "execute_result"
    }
   ],
   "source": [
    "train[0,].indices"
   ]
  },
  {
   "cell_type": "code",
   "execution_count": 46,
   "metadata": {
    "collapsed": true
   },
   "outputs": [],
   "source": [
    "from collections import defaultdict"
   ]
  },
  {
   "cell_type": "code",
   "execution_count": 79,
   "metadata": {
    "collapsed": true
   },
   "outputs": [],
   "source": [
    "def topNrecommend_ibcf(uid, items_factor, inter,nn=10,topN=10):\n",
    "    top_related = TopRelated(items_factor)\n",
    "    topN_dict = defaultdict(int)\n",
    "    for item in inter[uid,].indices:\n",
    "        topn_items = top_related.get_related(item,N=nn) ## cosine 相似\n",
    "        for k,v in topn_items:\n",
    "            topN_dict[k] += v\n",
    "            \n",
    "    sort_ids = sorted(topN_dict, key=topN_dict.get, reverse=True)[:topN] # sorted itemid by scores\n",
    "    scores = [topN_dict[e] for e in sort_ids]\n",
    "    return zip(sort_ids,scores)"
   ]
  },
  {
   "cell_type": "markdown",
   "metadata": {},
   "source": [
    "用戶0推薦..."
   ]
  },
  {
   "cell_type": "code",
   "execution_count": 84,
   "metadata": {
    "collapsed": false
   },
   "outputs": [],
   "source": [
    "topn_items= topNrecommend_ibcf(uid=0,items_factor=items_embedding,inter=train)"
   ]
  },
  {
   "cell_type": "code",
   "execution_count": 85,
   "metadata": {
    "collapsed": false
   },
   "outputs": [
    {
     "data": {
      "text/plain": [
       "[(76, 1.9885427605999371),\n",
       " (167, 1.8300551168211536),\n",
       " (431, 1.8300551168211532),\n",
       " (504, 1.6000263741203253),\n",
       " (741, 1.6000263741203253),\n",
       " (1778, 1.5854873534861316),\n",
       " (3038, 1.5041741719969881),\n",
       " (622, 1.3763505956410715),\n",
       " (165, 1.3727802040546124),\n",
       " (1207, 1.3237047021343349)]"
      ]
     },
     "execution_count": 85,
     "metadata": {},
     "output_type": "execute_result"
    }
   ],
   "source": [
    "list(topn_items)"
   ]
  },
  {
   "cell_type": "code",
   "execution_count": 78,
   "metadata": {
    "collapsed": false
   },
   "outputs": [
    {
     "data": {
      "text/plain": [
       "76"
      ]
     },
     "execution_count": 78,
     "metadata": {},
     "output_type": "execute_result"
    }
   ],
   "source": [
    "def evaluate(items_factor,train, test,user_idxs):\n",
    "    for user in user_idxs:\n",
    "        ## recommend topn items\n",
    "        topn_items = topNrecommend_ibcf(user, items_factor, inter=train)\n",
    "        ## real(test) item -- only 1\n",
    "        y_item = test[user].indices\n",
    "#         for e in\n",
    "        "
   ]
  },
  {
   "cell_type": "code",
   "execution_count": 93,
   "metadata": {
    "collapsed": false
   },
   "outputs": [
    {
     "data": {
      "text/plain": [
       "<2699x13618 sparse matrix of type '<class 'numpy.float64'>'\n",
       "\twith 2699 stored elements in Compressed Sparse Row format>"
      ]
     },
     "execution_count": 93,
     "metadata": {},
     "output_type": "execute_result"
    }
   ],
   "source": [
    "test[user_idxs]"
   ]
  },
  {
   "cell_type": "code",
   "execution_count": 94,
   "metadata": {
    "collapsed": false
   },
   "outputs": [
    {
     "data": {
      "text/plain": [
       "<13496x13618 sparse matrix of type '<class 'numpy.float64'>'\n",
       "\twith 2699 stored elements in Compressed Sparse Row format>"
      ]
     },
     "execution_count": 94,
     "metadata": {},
     "output_type": "execute_result"
    }
   ],
   "source": [
    "test"
   ]
  }
 ],
 "metadata": {
  "anaconda-cloud": {},
  "kernelspec": {
   "display_name": "Python [conda env:py36]",
   "language": "python",
   "name": "conda-env-py36-py"
  },
  "language_info": {
   "codemirror_mode": {
    "name": "ipython",
    "version": 3
   },
   "file_extension": ".py",
   "mimetype": "text/x-python",
   "name": "python",
   "nbconvert_exporter": "python",
   "pygments_lexer": "ipython3",
   "version": "3.6.3"
  }
 },
 "nbformat": 4,
 "nbformat_minor": 2
}
