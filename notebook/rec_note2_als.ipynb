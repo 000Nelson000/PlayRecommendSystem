{
 "cells": [
  {
   "cell_type": "markdown",
   "metadata": {},
   "source": [
    "# 推薦模型 - 矩陣分解\n",
    "\n",
    "在之前的介紹裡面，相似度關係是利用交易資料所形成的向量空間，而對兩兩用戶(或物品)來求得的。但是實務上使用這個方法會碰到問題：\n",
    "\n",
    "1. 維度過於龐大與稀疏，例如電子商務網站會有上百萬個用品。而單一用戶往往只有很少量(數個）與物品的交互關係(交易紀錄interaction data)此時會形成[維度災難](https://zh.wikipedia.org/wiki/%E7%BB%B4%E6%95%B0%E7%81%BE%E9%9A%BE)，亦即在維度過大的情況下，所有的東西(人)相似度趨近於0(距離無窮遠)\n",
    "2. 計算用戶（或物品)的兩兩關係會隨著用戶(物品）增加而耗時成指數增加\n",
    "\n",
    "矩陣分解目的是解決**維度災難**的手法\n",
    "## 矩陣分解\n",
    "\n",
    "在矩陣分解的想法裡面，把用戶與物品的交易矩陣，用一種線性關係來逼近，\n",
    "\n",
    "$$r_{ui} = \\textbf{x}_u^T \\cdot \\textbf{y}_i $$\n",
    "\n",
    "代表的意思為，用戶購買某商品的背後，有一種隱性特徵來決定購買的權重。而每個商品有關於這個隱性特徵的比例。這樣的線性關係，恰恰決定了用戶對某商品的打分。\n",
    "\n",
    "- 舉例來說: 小明會給**超人特攻隊** `評分=5`, 原因可能是這部片背後有三種特徵: $\\textbf{y}_{超人特攻隊}=$ `{ 恐怖：0, 喜劇：2, 卡通:3 }`,而小明對這三種特徵的喜好程度分別是: $\\textbf{x}_{小明}$ = `{喜愛恐怖:0, 喜愛喜劇:0.9, 喜愛卡通: 1}`。按照矩陣分解的想法：\n",
    "\n",
    "$$r_{小明-超人特攻隊} = \\textbf{x}_{小明}^T \\cdot \\textbf{y}_{超人特攻隊} = 1.8 + 3 = 4.8 \\approx 5$$\n",
    "\n",
    "- 損失函數可寫成 \n",
    "$$\n",
    "L = \\sum_{u,i \\in S} \\left(r_{ui} - \\textbf{x}_u \\cdot \\textbf{y}_i\\right)^2 + \\lambda_x \\sum_u \\left\\Vert \\textbf{x}_u \\right\\Vert ^2  + \\lambda_y \\sum_i \\left\\Vert \\textbf{y}_i \\right\\Vert ^2 $$\n",
    "\n",
    "> 集合$s$表示有評分的物件(交互作用),$x_u,y_i$分別表示用戶$u$(物品$i$)的向量表示,$\\lambda_x,\\lambda_y$表示regularization\n",
    "\n",
    "## explicit ALS 算法\n",
    "\n",
    "- 要最小化此損失函數，可以先固定 $\\textbf{y}_i$為常數對另一變數$\\textbf{x}_u$進行微分，並另其為0求得關係...\n",
    "- 相似的固定 $\\textbf{x}_u$為常數，對另一變數$\\textbf{y}_i$進行微分。\n",
    "- 重複上述動作直到收斂\n",
    "\n",
    "上述過程稱為Alternative Least Square (ALS)算法，由於物標函數是評價分數(1-5)的明顯用戶回饋分數，所以稱為explicit ALS算法。概念上的框架是基於矩陣分解，而針對兩組方程用交互迭代的方式取得收斂。"
   ]
  },
  {
   "cell_type": "markdown",
   "metadata": {},
   "source": [
    "## Implicit ALS 算法\n",
    "\n",
    "其實很常見的狀況是無從知道到底用戶對商品的評價是什麼，只能隱約猜測有買過的東西，對其偏好(preference)程度較高。但是對於沒有買過的商品，沒有購買存有兩種可能性\n",
    "1. 不喜歡此類商品\n",
    "2. 未察覺此商品\n",
    "\n",
    "在此篇[論文](http://yifanhu.net/PUB/cf.pdf)中提出信心程度的想法，將explicit ALS做進一步的改良。\n",
    "\n",
    "\n",
    "\\begin{equation}\n",
    "L = \\sum_{u,i \\in all} c_{ui}\\left(p_{ui} - \\textbf{x}_u \\cdot \\textbf{y}_i\\right)^2 + \\lambda_x \\sum_u \\left\\Vert \\textbf{x}_u \\right\\Vert ^2  + \\lambda_y \\sum_i \\left\\Vert \\textbf{y}_i \\right\\Vert ^2 \n",
    "\\end{equation}\n",
    "\n",
    "\n",
    "其中$p_{ui}$為喜歡或不喜歡${0,1}$之偏好，而$c_{ui}$代表說明用戶$u$對商品$i$之說明喜歡(或不喜歡)的信心程度，數值愈高代表信心程度愈大。與之前僅考慮有交互作用($\\in S$)的情況不同，需要考慮所有未購買的狀況($\\in all_{ui}$)。類似explicit解法，可以透過固定其中一個變數$\\textbf{Y}_i$，微分後為零求得解析解(此解代表能使目標函數最小化)\n",
    "\n",
    "\n",
    "$$\n",
    "\\textbf{X}_u = \\left( \\textbf{Y}^T\\textbf{C}^u\\textbf{Y}  + \\lambda \\textbf{I}\\right)^{-1} \\textbf{Y}^T\\textbf{C}^uP(u)\n",
    "$$\n",
    "\n",
    ">若用戶有$m$個,商品有$n$個\n",
    "\n",
    "> $\\textbf{X}_u$代表用戶u的特徵向量($\\in f\\times 1$)\n",
    "\n",
    "> $\\textbf{Y}$為物品特徵向量縱向堆疊(`vstack`)的矩陣($\\in n\\times f$)\n",
    "\n",
    "> $\\textbf{C}^u$為對角線上才有值的$n \\times n$矩陣\n",
    "\n",
    "> $P(u)\\in\\mathbf{R}^{n\\times 1}$包含每個用戶的喜好(1 or 0)二元結果\n",
    "\n",
    "同理可以取得\n",
    "$$\n",
    "\\textbf{Y}_i = \\left( \\textbf{X}^T\\textbf{C}^i\\textbf{X}  + \\lambda \\textbf{I}\\right)^{-1} \\textbf{X}^T\\textbf{C}^iP(i)\n",
    "$$\n",
    "\n",
    "\n",
    "\n",
    "### 計算效能:\n",
    "\n",
    "在上式中每個用戶的特徵向量$\\textbf{X}_u$取得，必須依賴於\n",
    "\n",
    "1. $\\textbf{Y}^T\\textbf{C}^u\\textbf{Y},$需耗時$\\mathcal{O}(f^2n)$\n",
    "2. $\\textbf{Y}^T\\textbf{C}^u P(u)$ 其中$P(u)$大部分為零，除了少數有與商品作用的$\\textit{u}_n$個人($\\textit{u}_n \\ll n$)\n",
    "3. 反矩陣$\\left( \\textbf{X}^T\\textbf{C}^i\\textbf{X}  + \\lambda \\textbf{I}\\right)^{-1}$\n",
    "\n",
    "$\\textbf{Y}^T\\textbf{C}^u\\textbf{Y}$進一步寫成$\\textbf{Y}^T\\left( \\textbf{C}^u - 1\\right)\\textbf{Y} + \\textbf{Y}^T\\textbf{Y}$後一項不依賴於$u$僅需計算一次(不需要在用戶迴圈之中)，而前一項中的$\\textbf{C}^u - 1$只有$\\textit{u}_n$個非零項，可以大幅簡化計算為$\\mathcal{O}(f^2\\textit{n}_u)$。\n",
    "\n",
    "\n",
    "* 詳細推倒看[這裡](http://datamusing.info/blog/2015/01/07/implicit-feedback-and-collaborative-filtering/)使用Dirac notation,或[這裡](https://math.stackexchange.com/questions/1072451/analytic-solution-for-matrix-factorization-using-alternating-least-squares/1073170#1073170)\n",
    "_____"
   ]
  },
  {
   "cell_type": "markdown",
   "metadata": {},
   "source": [
    "# 實作3D模型資料\n",
    "## 前處理"
   ]
  },
  {
   "cell_type": "code",
   "execution_count": 1,
   "metadata": {
    "collapsed": true
   },
   "outputs": [],
   "source": [
    "import numpy as np \n",
    "import pandas as pd\n",
    "import csv\n",
    "import sys\n",
    "from tqdm import tqdm\n",
    "sys.path.append('../')"
   ]
  },
  {
   "cell_type": "code",
   "execution_count": 2,
   "metadata": {
    "collapsed": true
   },
   "outputs": [],
   "source": [
    "from rec_helper import *"
   ]
  },
  {
   "cell_type": "code",
   "execution_count": 3,
   "metadata": {
    "collapsed": false
   },
   "outputs": [
    {
     "name": "stdout",
     "output_type": "stream",
     "text": [
      "modelname    632832\n",
      "mid          632832\n",
      "uid          632832\n",
      "dtype: int64\n",
      "modelname    632677\n",
      "mid          632677\n",
      "uid          632677\n",
      "dtype: int64\n",
      "Starting interactions info\n",
      "Number of rows: 62583\n",
      "Number of cols: 28806\n",
      "Sparsity: 0.04%\n",
      "Ending interactions info\n",
      "Number of rows: 13496\n",
      "Number of columns: 13618\n",
      "Sparsity: 0.25%\n"
     ]
    }
   ],
   "source": [
    "df = pd.read_csv('../rec-a-sketch/model_likes_anon.psv',\n",
    "                 sep='|',quotechar='\\\\',quoting=csv.QUOTE_MINIMAL)\n",
    "print(df.count())\n",
    "df.drop_duplicates(inplace=True)\n",
    "print(df.count())\n",
    "df = threshold_interaction(df,rowname='uid',colname='mid',row_min=5,col_min=10)\n",
    "inter,uid_to_idx,idx_to_uid,mid_to_idx,idx_to_mid=df_to_spmatrix(df,'uid','mid')\n",
    "train,test, user_idxs = train_test_split(inter,split_count=1,fraction=0.2)"
   ]
  },
  {
   "cell_type": "markdown",
   "metadata": {},
   "source": [
    "## implicit ALS算法"
   ]
  },
  {
   "cell_type": "code",
   "execution_count": 4,
   "metadata": {
    "collapsed": true
   },
   "outputs": [],
   "source": [
    "def alternating_least_squares(Cui, factors, regularization, iterations=20):\n",
    "    users, items = Cui.shape\n",
    "\n",
    "    X = np.random.rand(users, factors) * 0.01\n",
    "    Y = np.random.rand(items, factors) * 0.01\n",
    "\n",
    "    Ciu = Cui.T.tocsr()\n",
    "    for iteration in range(iterations):\n",
    "        X,Y = least_squares(Cui, X, Y, regularization)\n",
    "        Y,X = least_squares(Ciu, Y, X, regularization)\n",
    "        print('iter:{}'.format(iteration))\n",
    "\n",
    "    return X, Y"
   ]
  },
  {
   "cell_type": "code",
   "execution_count": 5,
   "metadata": {
    "collapsed": true
   },
   "outputs": [],
   "source": [
    "def least_squares(Cui, X, Y, regularization):\n",
    "    users, factors = X.shape\n",
    "    YtY = Y.T.dot(Y)\n",
    "\n",
    "    for u in range(users):\n",
    "        # accumulate YtCuY + regularization * I in A\n",
    "        A = YtY + regularization * np.eye(factors)\n",
    "\n",
    "        # accumulate YtCuPu in b\n",
    "        b = np.zeros(factors)\n",
    "#         if u % 1000 == 0:\n",
    "#             print(u)\n",
    "        for i in Cui[u,:].indices:\n",
    "            confidence = Cui[u,i]\n",
    "            factor = Y[i]\n",
    "            A += (confidence - 1) * np.outer(factor, factor)\n",
    "            b += confidence * factor\n",
    "\n",
    "        # Xu = (YtCuY + regularization * I)^-1 (YtCuPu)\n",
    "        X[u] = np.linalg.solve(A, b)\n",
    "    return X,Y"
   ]
  },
  {
   "cell_type": "code",
   "execution_count": 6,
   "metadata": {
    "collapsed": false
   },
   "outputs": [
    {
     "name": "stdout",
     "output_type": "stream",
     "text": [
      "iter:0\n",
      "iter:1\n",
      "iter:2\n",
      "iter:3\n",
      "iter:4\n",
      "iter:5\n",
      "iter:6\n",
      "iter:7\n",
      "iter:8\n",
      "iter:9\n"
     ]
    }
   ],
   "source": [
    "users_embedding, items_embedding = alternating_least_squares(train,50,regularization=1,iterations=10) # time consuming : 15~20 min"
   ]
  },
  {
   "cell_type": "code",
   "execution_count": 7,
   "metadata": {
    "collapsed": false
   },
   "outputs": [
    {
     "data": {
      "text/plain": [
       "(13618, 50)"
      ]
     },
     "execution_count": 7,
     "metadata": {},
     "output_type": "execute_result"
    }
   ],
   "source": [
    "items_embedding.shape"
   ]
  },
  {
   "cell_type": "code",
   "execution_count": 9,
   "metadata": {
    "collapsed": true
   },
   "outputs": [],
   "source": [
    "class TopRelated:\n",
    "    ## 利用向量內積，查找最鄰近的物品(cosine based)\n",
    "    def __init__(self, items_factors):\n",
    "        ## 初始化需要正規化物品向量\n",
    "        norms = np.linalg.norm(items_factors, axis=1)\n",
    "        self.factors = items_factors / norms[:, np.newaxis]\n",
    "\n",
    "    def get_related(self, itemid, N=10):\n",
    "        scores = self.factors.dot(self.factors[itemid]) # cosine \n",
    "        best = np.argpartition(scores, -N)[-N:] # partion --> 小於此的放在左側\n",
    "        return sorted(zip(best, scores[best]), key=lambda x: -x[1])"
   ]
  },
  {
   "cell_type": "code",
   "execution_count": 9,
   "metadata": {
    "collapsed": false
   },
   "outputs": [
    {
     "data": {
      "text/plain": [
       "[(10, 1.0000000000000002),\n",
       " (73, 0.8333870013907535),\n",
       " (51, 0.64537707303043956),\n",
       " (11590, 0.62598405351397579),\n",
       " (56, 0.62092298718015437),\n",
       " (7, 0.61313760379281323),\n",
       " (19, 0.58468685040231083),\n",
       " (13005, 0.58408578340083528),\n",
       " (145, 0.56861429220694504),\n",
       " (11270, 0.5640808270205353)]"
      ]
     },
     "execution_count": 9,
     "metadata": {},
     "output_type": "execute_result"
    }
   ],
   "source": [
    "top_related = TopRelated(items_embedding)\n",
    "top_related.get_related(10)"
   ]
  },
  {
   "cell_type": "code",
   "execution_count": 10,
   "metadata": {
    "collapsed": true
   },
   "outputs": [],
   "source": [
    "import annoy"
   ]
  },
  {
   "cell_type": "code",
   "execution_count": 11,
   "metadata": {
    "collapsed": true
   },
   "outputs": [],
   "source": [
    "class ApproximateTopRelated:\n",
    "    def __init__(self, items_factors, treecount=20):\n",
    "        index = annoy.AnnoyIndex(items_factors.shape[1], 'angular')\n",
    "        for i, row in enumerate(items_factors):\n",
    "            index.add_item(i, row)\n",
    "        index.build(treecount)\n",
    "        self.index = index\n",
    "\n",
    "    def get_related(self, itemid, N=10):\n",
    "        neighbours = self.index.get_nns_by_item(itemid, N)\n",
    "        return sorted(((other, 1 - self.index.get_distance(itemid, other))\n",
    "                      for other in neighbours), key=lambda x: -x[1])"
   ]
  },
  {
   "cell_type": "code",
   "execution_count": 12,
   "metadata": {
    "collapsed": true
   },
   "outputs": [],
   "source": [
    "approx_topRelated_item = ApproximateTopRelated(items_embedding)"
   ]
  },
  {
   "cell_type": "code",
   "execution_count": 13,
   "metadata": {
    "collapsed": false
   },
   "outputs": [
    {
     "data": {
      "text/plain": [
       "[(10, 1.0),\n",
       " (73, 0.42274248600006104),\n",
       " (51, 0.15783262252807617),\n",
       " (56, 0.12927967309951782),\n",
       " (7, 0.12038373947143555),\n",
       " (19, 0.08861315250396729),\n",
       " (13005, 0.08795374631881714),\n",
       " (11270, 0.0662771463394165),\n",
       " (1152, 0.05169880390167236),\n",
       " (107, 0.02649134397506714)]"
      ]
     },
     "execution_count": 13,
     "metadata": {},
     "output_type": "execute_result"
    }
   ],
   "source": [
    "approx_topRelated_item.get_related(10)"
   ]
  },
  {
   "cell_type": "markdown",
   "metadata": {},
   "source": [
    "# 評估"
   ]
  },
  {
   "cell_type": "markdown",
   "metadata": {},
   "source": [
    "## item based"
   ]
  },
  {
   "cell_type": "code",
   "execution_count": 14,
   "metadata": {
    "collapsed": false
   },
   "outputs": [
    {
     "data": {
      "text/plain": [
       "array([   0,   40,   48,   60,   63,  110,  111,  131,  167,  258,  308,\n",
       "        315,  331,  404,  431,  445,  464,  504,  560,  741,  812,  821,\n",
       "       1347, 1410, 1778, 1909, 2253, 2723, 3545, 3762, 4134, 4713, 4861,\n",
       "       8093, 8780], dtype=int32)"
      ]
     },
     "execution_count": 14,
     "metadata": {},
     "output_type": "execute_result"
    }
   ],
   "source": [
    "train[0,].indices"
   ]
  },
  {
   "cell_type": "code",
   "execution_count": 15,
   "metadata": {
    "collapsed": true
   },
   "outputs": [],
   "source": [
    "from collections import defaultdict"
   ]
  },
  {
   "cell_type": "code",
   "execution_count": 16,
   "metadata": {
    "collapsed": true
   },
   "outputs": [],
   "source": [
    "def topNrecommend_ibcf(uid, items_factor, inter,nn=10,topN=10):\n",
    "    top_related = TopRelated(items_factor)\n",
    "    topN_dict = defaultdict(int)\n",
    "    for item in inter[uid,].indices:\n",
    "        topn_items = top_related.get_related(item,N=nn) ## cosine 相似\n",
    "        for k,v in topn_items:\n",
    "            topN_dict[k] += v\n",
    "            \n",
    "    sort_ids = sorted(topN_dict, key=topN_dict.get, reverse=True)[:topN] # sorted itemid by scores\n",
    "    scores = [topN_dict[e] for e in sort_ids]\n",
    "    return zip(sort_ids,scores)"
   ]
  },
  {
   "cell_type": "markdown",
   "metadata": {},
   "source": [
    "用戶0推薦..."
   ]
  },
  {
   "cell_type": "code",
   "execution_count": 17,
   "metadata": {
    "collapsed": true
   },
   "outputs": [],
   "source": [
    "topn_items= topNrecommend_ibcf(uid=0,items_factor=items_embedding,inter=train)"
   ]
  },
  {
   "cell_type": "code",
   "execution_count": 18,
   "metadata": {
    "collapsed": false
   },
   "outputs": [
    {
     "data": {
      "text/plain": [
       "[(76, 2.7163962787377449),\n",
       " (79, 1.8501942739938391),\n",
       " (167, 1.8205602844097419),\n",
       " (431, 1.8205602844097419),\n",
       " (756, 1.8147976840556201),\n",
       " (308, 1.6252744135161303),\n",
       " (504, 1.6214821746618866),\n",
       " (741, 1.6214821746618866),\n",
       " (1778, 1.5858867473992451),\n",
       " (622, 1.4542721502363598)]"
      ]
     },
     "execution_count": 18,
     "metadata": {},
     "output_type": "execute_result"
    }
   ],
   "source": [
    "list(topn_items)"
   ]
  },
  {
   "cell_type": "code",
   "execution_count": 19,
   "metadata": {
    "collapsed": true
   },
   "outputs": [],
   "source": [
    "def evaluate(train, test,user_idxs,items_factors=None,users_factors=None,nn=50, kind='ibcf'):\n",
    "    hits = 0\n",
    "    for user in tqdm(user_idxs):\n",
    "        ## recommend topn items\n",
    "        if kind == 'ibcf':\n",
    "            topn_items = topNrecommend_ibcf(user, items_factors, inter=train,nn=nn)\n",
    "        elif kind =='ubcf':\n",
    "            topn_items = topNrecommend_ubcf(user, users_factors, inter=train, nn=nn)\n",
    "        elif kind == 'inner':\n",
    "            innerProduct = items_factors.dot(users_factors[user])\n",
    "            topn_k = np.argsort(-innerProduct)[:10]\n",
    "            topn_v = [innerProduct[e] for e in topn_k]\n",
    "            topn_items = zip(topn_k,topn_v)\n",
    "        ## real(test) item -- only 1 data exist in each test user\n",
    "        y_item = test[user].indices\n",
    "        score = 1 if y_item in list(zip(*topn_items))[0] else 0\n",
    "        hits += score\n",
    "    return hits/len(user_idxs)"
   ]
  },
  {
   "cell_type": "code",
   "execution_count": 20,
   "metadata": {
    "collapsed": false
   },
   "outputs": [
    {
     "name": "stderr",
     "output_type": "stream",
     "text": [
      "100%|██████████| 2699/2699 [01:09<00:00, 39.09it/s]\n"
     ]
    },
    {
     "data": {
      "text/plain": [
       "0.05557613931085587"
      ]
     },
     "execution_count": 20,
     "metadata": {},
     "output_type": "execute_result"
    }
   ],
   "source": [
    "evaluate(train, test, user_idxs, items_factors=items_embedding,kind='ibcf') ## 5.4 %"
   ]
  },
  {
   "cell_type": "markdown",
   "metadata": {},
   "source": [
    "## user based"
   ]
  },
  {
   "cell_type": "code",
   "execution_count": 21,
   "metadata": {
    "collapsed": true
   },
   "outputs": [],
   "source": [
    "def topNrecommend_ubcf(uid, users_factor, inter,nn=10,topN=10):\n",
    "    top_related = TopRelated(users_factor)\n",
    "    topN_dict = defaultdict(float)           \n",
    "    topn_users = top_related.get_related(uid,N=nn) ## cosine 相似\n",
    "    for top_u,v in topn_users:\n",
    "        ## top_u買什麼\n",
    "        for item in inter[top_u,].indices:\n",
    "            topN_dict[item] += v\n",
    "\n",
    "    sort_ids = sorted(topN_dict, key=topN_dict.get, reverse=True)[:topN] # sorted itemid by scores\n",
    "    scores = [topN_dict[e] for e in sort_ids]\n",
    "    return zip(sort_ids,scores)"
   ]
  },
  {
   "cell_type": "code",
   "execution_count": 22,
   "metadata": {
    "collapsed": false
   },
   "outputs": [
    {
     "data": {
      "text/plain": [
       "[(0, 34.410089672904441),\n",
       " (44, 12.561978619472963),\n",
       " (18, 7.5103976826143359),\n",
       " (28, 6.9053208293802317),\n",
       " (84, 6.3513422315909036),\n",
       " (31, 6.0606690420704021),\n",
       " (131, 5.9223405961915061),\n",
       " (11, 4.6633340311155704),\n",
       " (167, 4.4891150115483809),\n",
       " (48, 4.3329760554714234)]"
      ]
     },
     "execution_count": 22,
     "metadata": {},
     "output_type": "execute_result"
    }
   ],
   "source": [
    "list(topNrecommend_ubcf(0,users_embedding, train, nn=50, topN=10))"
   ]
  },
  {
   "cell_type": "code",
   "execution_count": 23,
   "metadata": {
    "collapsed": false
   },
   "outputs": [
    {
     "name": "stderr",
     "output_type": "stream",
     "text": [
      "100%|██████████| 2699/2699 [00:35<00:00, 76.42it/s]\n"
     ]
    },
    {
     "data": {
      "text/plain": [
       "0.09447943682845499"
      ]
     },
     "execution_count": 23,
     "metadata": {},
     "output_type": "execute_result"
    }
   ],
   "source": [
    "evaluate(train,test,user_idxs,users_factors=users_embedding, kind='ubcf', nn=50) # 8.1 %"
   ]
  },
  {
   "cell_type": "markdown",
   "metadata": {},
   "source": [
    "## Inner Product "
   ]
  },
  {
   "cell_type": "code",
   "execution_count": 24,
   "metadata": {
    "collapsed": false
   },
   "outputs": [
    {
     "name": "stderr",
     "output_type": "stream",
     "text": [
      "100%|██████████| 2699/2699 [00:04<00:00, 542.85it/s]\n"
     ]
    },
    {
     "data": {
      "text/plain": [
       "0.07336050389032975"
      ]
     },
     "execution_count": 24,
     "metadata": {},
     "output_type": "execute_result"
    }
   ],
   "source": [
    "evaluate(train,test,user_idxs,users_factors=users_embedding,items_factors=items_embedding, kind='inner', nn=50) # 8.1 %"
   ]
  },
  {
   "cell_type": "markdown",
   "metadata": {},
   "source": [
    "____"
   ]
  },
  {
   "cell_type": "markdown",
   "metadata": {},
   "source": [
    "## Implicit\n",
    "利用[implicit](https://github.com/benfred/implicit)套件來做"
   ]
  },
  {
   "cell_type": "code",
   "execution_count": 4,
   "metadata": {
    "collapsed": true
   },
   "outputs": [],
   "source": [
    "train64 = train.astype(np.float64)"
   ]
  },
  {
   "cell_type": "code",
   "execution_count": 5,
   "metadata": {
    "collapsed": true
   },
   "outputs": [],
   "source": [
    "import implicit\n",
    "# initialize a model\n",
    "model = implicit.als.AlternatingLeastSquares(factors=50,regularization=0.01)\n",
    "\n",
    "# train the model on a sparse matrix of item/user/confidence weights\n",
    "model.fit(train64.T)"
   ]
  },
  {
   "cell_type": "code",
   "execution_count": 6,
   "metadata": {
    "collapsed": true
   },
   "outputs": [],
   "source": [
    "# recommend items for a user\n",
    "user_items = train64.tocsr()\n",
    "recommendations = model.recommend(0, user_items)\n",
    "\n",
    "# find related items\n",
    "related = model.similar_items(itemid=0)"
   ]
  },
  {
   "cell_type": "code",
   "execution_count": 7,
   "metadata": {
    "collapsed": false
   },
   "outputs": [
    {
     "data": {
      "text/plain": [
       "[(5, 0.20515807627064975),\n",
       " (18, 0.1918636748483562),\n",
       " (28, 0.14988751674773698),\n",
       " (9, 0.14595963433612891),\n",
       " (31, 0.14067785135181021),\n",
       " (11, 0.13030475993688759),\n",
       " (4, 0.11807272315328837),\n",
       " (44, 0.11471354006636585),\n",
       " (76, 0.10809321407142497),\n",
       " (38, 0.10488577635996862)]"
      ]
     },
     "execution_count": 7,
     "metadata": {},
     "output_type": "execute_result"
    }
   ],
   "source": [
    "recommendations"
   ]
  },
  {
   "cell_type": "code",
   "execution_count": 29,
   "metadata": {
    "collapsed": false
   },
   "outputs": [
    {
     "data": {
      "text/plain": [
       "[(0, 0.99999999999999978),\n",
       " (28, 0.83579808129182787),\n",
       " (8246, 0.73776182575596472),\n",
       " (170, 0.72493331824975293),\n",
       " (45, 0.713338619042862),\n",
       " (53, 0.65034504543970606),\n",
       " (89, 0.64663699468764868),\n",
       " (12196, 0.63310832187945953),\n",
       " (38, 0.6325378694017737),\n",
       " (31, 0.60813921551971239)]"
      ]
     },
     "execution_count": 29,
     "metadata": {},
     "output_type": "execute_result"
    }
   ],
   "source": [
    "related"
   ]
  },
  {
   "cell_type": "code",
   "execution_count": 30,
   "metadata": {
    "collapsed": false
   },
   "outputs": [
    {
     "name": "stderr",
     "output_type": "stream",
     "text": [
      "100%|██████████| 2699/2699 [00:04<00:00, 551.27it/s]\n"
     ]
    },
    {
     "data": {
      "text/plain": [
       "0.07224898110411264"
      ]
     },
     "execution_count": 30,
     "metadata": {},
     "output_type": "execute_result"
    }
   ],
   "source": [
    "## evaluate \n",
    "evaluate(train,test,user_idxs,items_factors=model.item_factors, users_factors=model.user_factors,nn=50,kind='inner') # 6.26%"
   ]
  },
  {
   "cell_type": "code",
   "execution_count": 31,
   "metadata": {
    "collapsed": false
   },
   "outputs": [
    {
     "data": {
      "text/plain": [
       "(0.19693425851085267,\n",
       " [(111, 0.0300435060968114),\n",
       "  (0, 0.028031677280523037),\n",
       "  (48, 0.024779612468137559),\n",
       "  (167, 0.019750762877051669),\n",
       "  (60, 0.01781029803664547),\n",
       "  (431, 0.015441959379479299),\n",
       "  (40, 0.015085249725167314),\n",
       "  (404, 0.011380698781046616),\n",
       "  (331, 0.0062267935471592767),\n",
       "  (2253, 0.0060957748716609994)],\n",
       " (array([[ 1.77798619,  0.25830302,  0.34579991, ...,  0.31545459,\n",
       "           0.20913901,  0.337622  ],\n",
       "         [ 0.45925921,  1.95950158,  0.29607366, ...,  0.40830768,\n",
       "           0.45751832,  0.32250159],\n",
       "         [ 0.61482746,  0.66947797,  1.7959922 , ...,  0.2782589 ,\n",
       "           0.18997199,  0.24979609],\n",
       "         ..., \n",
       "         [ 0.56087391,  0.88156242,  0.72972414, ...,  1.67936275,\n",
       "           0.07193199,  0.05288486],\n",
       "         [ 0.37184627,  0.95052911,  0.54896758, ...,  0.72735494,\n",
       "           1.6755984 ,  0.02354348],\n",
       "         [ 0.60028725,  0.71915116,  0.66086571, ...,  0.69419078,\n",
       "           0.5268558 ,  1.71609497]]), False))"
      ]
     },
     "execution_count": 31,
     "metadata": {},
     "output_type": "execute_result"
    }
   ],
   "source": [
    "exp = model.explain(userid=0,user_items=user_items,itemid=18)\n",
    "exp"
   ]
  },
  {
   "cell_type": "code",
   "execution_count": 32,
   "metadata": {
    "collapsed": true
   },
   "outputs": [],
   "source": [
    "def evaluate_model(train,test,model,user_idxs):\n",
    "    hits = 0\n",
    "    for user in tqdm(user_idxs):\n",
    "        topn_items = model.recommend(user,train)\n",
    "        y_item = test[user].indices\n",
    "        score = 1 if y_item in list(zip(*topn_items))[0] else 0\n",
    "        hits += score\n",
    "    return hits/len(user_idxs)"
   ]
  },
  {
   "cell_type": "code",
   "execution_count": 33,
   "metadata": {
    "collapsed": false
   },
   "outputs": [
    {
     "name": "stderr",
     "output_type": "stream",
     "text": [
      "100%|██████████| 2699/2699 [00:02<00:00, 1015.34it/s]\n"
     ]
    },
    {
     "data": {
      "text/plain": [
       "0.09040385327899222"
      ]
     },
     "execution_count": 33,
     "metadata": {},
     "output_type": "execute_result"
    }
   ],
   "source": [
    "## 移除已推薦過的\n",
    "evaluate_model(train,test,model,user_idxs) # 7.3%"
   ]
  },
  {
   "cell_type": "markdown",
   "metadata": {},
   "source": [
    "___"
   ]
  },
  {
   "cell_type": "markdown",
   "metadata": {},
   "source": [
    "## 調參數\n",
    "grid search"
   ]
  },
  {
   "cell_type": "code",
   "execution_count": 34,
   "metadata": {
    "collapsed": true
   },
   "outputs": [],
   "source": [
    "from sklearn.metrics import mean_squared_error\n",
    "import itertools\n",
    "import copy"
   ]
  },
  {
   "cell_type": "code",
   "execution_count": 35,
   "metadata": {
    "collapsed": true
   },
   "outputs": [],
   "source": [
    "def calculate_recall(model,train,test,user_idxs):\n",
    "    \"\"\"\n",
    "    train: (csr_matrix) -- should be float64 \n",
    "        u-i sparse matrix for training \n",
    "    model: (implicit)\n",
    "        implicit model \n",
    "    user_idxs: (list)\n",
    "        user idxs for test \n",
    "    \"\"\"\n",
    "    hits = 0\n",
    "    for user in user_idxs:\n",
    "        topn_items = model.recommend(user,train)\n",
    "        y_item = test[user].indices ##  1 data each user (in my case)\n",
    "        score = 1 if y_item in list(zip(*topn_items))[0] else 0\n",
    "        hits += score\n",
    "    return hits/len(user_idxs)\n",
    "\n",
    "def grid_search_learning_curve(model,train,test,param_grids,user_idxs):\n",
    "    curves = []\n",
    "    keys,values = zip(*param_grids.items())\n",
    "    for value in itertools.product(*values):\n",
    "        params = dict(zip(keys,value))\n",
    "        this_model = copy.deepcopy(model)\n",
    "        for k,v in params.items():\n",
    "            setattr(this_model,k,v)\n",
    "        this_model.fit(train64.T)\n",
    "        recall = calculate_recall(this_model,train,test,user_idxs)\n",
    "        print('factors:{}, regularization:{}, recall:{:.2f}%'.format(this_model.factors,this_model.regularization,recall*100))\n",
    "        curves.append({'params': params,                       \n",
    "                       'recall@test': recall})\n",
    "    return curves"
   ]
  },
  {
   "cell_type": "code",
   "execution_count": 36,
   "metadata": {
    "collapsed": false
   },
   "outputs": [
    {
     "name": "stdout",
     "output_type": "stream",
     "text": [
      "factors:50, regularization:0, recall:9.26%\n",
      "factors:50, regularization:0.001, recall:9.26%\n",
      "factors:50, regularization:0.01, recall:9.30%\n",
      "factors:50, regularization:0.1, recall:9.26%\n",
      "factors:50, regularization:10.0, recall:9.04%\n",
      "factors:50, regularization:100.0, recall:3.45%\n",
      "factors:75, regularization:0, recall:9.26%\n",
      "factors:75, regularization:0.001, recall:9.26%\n",
      "factors:75, regularization:0.01, recall:9.30%\n",
      "factors:75, regularization:0.1, recall:9.26%\n",
      "factors:75, regularization:10.0, recall:9.04%\n",
      "factors:75, regularization:100.0, recall:3.45%\n",
      "factors:100, regularization:0, recall:9.26%\n",
      "factors:100, regularization:0.001, recall:9.26%\n",
      "factors:100, regularization:0.01, recall:9.30%\n",
      "factors:100, regularization:0.1, recall:9.26%\n",
      "factors:100, regularization:10.0, recall:9.04%\n",
      "factors:100, regularization:100.0, recall:3.45%\n"
     ]
    }
   ],
   "source": [
    "param_grids = {\n",
    "    'factors':[50,75,100],\n",
    "    'regularization':[0,1e-3,1e-2,1e-1,1e1,1e2]\n",
    "}\n",
    "curves = grid_search_learning_curve(model,train,test,param_grids,user_idxs)"
   ]
  },
  {
   "cell_type": "code",
   "execution_count": 37,
   "metadata": {
    "collapsed": false
   },
   "outputs": [
    {
     "data": {
      "text/plain": [
       "[{'params': {'factors': 50, 'regularization': 0.01},\n",
       "  'recall@test': 0.09299740644683216},\n",
       " {'params': {'factors': 75, 'regularization': 0.01},\n",
       "  'recall@test': 0.09299740644683216},\n",
       " {'params': {'factors': 100, 'regularization': 0.01},\n",
       "  'recall@test': 0.09299740644683216},\n",
       " {'params': {'factors': 50, 'regularization': 0},\n",
       "  'recall@test': 0.09262689885142646},\n",
       " {'params': {'factors': 50, 'regularization': 0.001},\n",
       "  'recall@test': 0.09262689885142646},\n",
       " {'params': {'factors': 50, 'regularization': 0.1},\n",
       "  'recall@test': 0.09262689885142646},\n",
       " {'params': {'factors': 75, 'regularization': 0},\n",
       "  'recall@test': 0.09262689885142646},\n",
       " {'params': {'factors': 75, 'regularization': 0.001},\n",
       "  'recall@test': 0.09262689885142646},\n",
       " {'params': {'factors': 75, 'regularization': 0.1},\n",
       "  'recall@test': 0.09262689885142646},\n",
       " {'params': {'factors': 100, 'regularization': 0},\n",
       "  'recall@test': 0.09262689885142646},\n",
       " {'params': {'factors': 100, 'regularization': 0.001},\n",
       "  'recall@test': 0.09262689885142646},\n",
       " {'params': {'factors': 100, 'regularization': 0.1},\n",
       "  'recall@test': 0.09262689885142646},\n",
       " {'params': {'factors': 50, 'regularization': 10.0},\n",
       "  'recall@test': 0.09040385327899222},\n",
       " {'params': {'factors': 75, 'regularization': 10.0},\n",
       "  'recall@test': 0.09040385327899222},\n",
       " {'params': {'factors': 100, 'regularization': 10.0},\n",
       "  'recall@test': 0.09040385327899222},\n",
       " {'params': {'factors': 50, 'regularization': 100.0},\n",
       "  'recall@test': 0.03445720637273064},\n",
       " {'params': {'factors': 75, 'regularization': 100.0},\n",
       "  'recall@test': 0.03445720637273064},\n",
       " {'params': {'factors': 100, 'regularization': 100.0},\n",
       "  'recall@test': 0.03445720637273064}]"
      ]
     },
     "execution_count": 37,
     "metadata": {},
     "output_type": "execute_result"
    }
   ],
   "source": [
    "sorted(curves,key=lambda x:x['recall@test'], reverse=True)"
   ]
  },
  {
   "cell_type": "code",
   "execution_count": 38,
   "metadata": {
    "collapsed": true
   },
   "outputs": [],
   "source": [
    "# At the beginning of the notebook\n",
    "## https://stackoverflow.com/questions/18786912/get-output-from-the-logging-module-in-ipython-notebook/28195348\n",
    "import logging\n",
    "logger = logging.getLogger()\n",
    "logger.setLevel(logging.INFO)"
   ]
  },
  {
   "cell_type": "code",
   "execution_count": 68,
   "metadata": {
    "collapsed": true
   },
   "outputs": [],
   "source": [
    "model = implicit.als.AlternatingLeastSquares(factors=50,regularization=0.01,calculate_training_loss=True)\n",
    "model.fit(train64.T)"
   ]
  },
  {
   "cell_type": "markdown",
   "metadata": {},
   "source": [
    "____"
   ]
  },
  {
   "cell_type": "markdown",
   "metadata": {},
   "source": [
    "## 工人智慧\n",
    "看看結果"
   ]
  },
  {
   "cell_type": "code",
   "execution_count": 10,
   "metadata": {
    "collapsed": true
   },
   "outputs": [],
   "source": [
    "top_related = TopRelated(model.item_factors)\n",
    "top_related_itmes = top_related.get_related(itemid=0)"
   ]
  },
  {
   "cell_type": "code",
   "execution_count": 11,
   "metadata": {
    "collapsed": true
   },
   "outputs": [],
   "source": [
    "import requests\n",
    "def get_thumbnails(top_related_items, idx, idx_to_mid, N=10):\n",
    "#     row = sim[idx, :].A.ravel()\n",
    "    topNitems,scores = zip(*top_related_items.get_related(idx))\n",
    "    thumbs = []\n",
    "    for x in topNitems:         \n",
    "        response = requests.get('https://sketchfab.com/i/models/{}'.format(idx_to_mid[x])).json()\n",
    "        thumb = [x['url'] for x in response['thumbnails']['images']]\n",
    "#         print(thumb)\n",
    "#         thumb = [x['url'] for x in response['thumbnails']['images'] if x['width'] == 200 and x['height']==200]\n",
    "        if not thumb:\n",
    "            print('no thumbnail')\n",
    "        else:\n",
    "            thumb = thumb[-2]\n",
    "        thumbs.append(thumb)\n",
    "    return thumbs"
   ]
  },
  {
   "cell_type": "code",
   "execution_count": 13,
   "metadata": {
    "collapsed": true
   },
   "outputs": [],
   "source": [
    "thumbs = get_thumbnails(top_related, idx=0, idx_to_mid=idx_to_mid)"
   ]
  },
  {
   "cell_type": "code",
   "execution_count": 14,
   "metadata": {
    "collapsed": true
   },
   "outputs": [],
   "source": [
    "from IPython.display import HTML, display"
   ]
  },
  {
   "cell_type": "code",
   "execution_count": 15,
   "metadata": {
    "collapsed": true
   },
   "outputs": [],
   "source": [
    "def display_item(thumbs,origin_id,N=5):\n",
    "    try: \n",
    "        print('原圖======')\n",
    "        thumb_html = '<img src='+ '\\\"'+thumbs[0]+'\\\">' \n",
    "        \n",
    "    except TypeError:\n",
    "        print('oops, 找不到小圖!!!')\n",
    "        response = requests.get('https://sketchfab.com/i/models/{}'.format(idx_to_mid[origin_id])).json()\n",
    "        thumb = [x['url'] for x in response['thumbnails']['images']][-2]\n",
    "        thumb_html = '<img src= \"{}\"/>'.format(thumb)\n",
    "        print('稍大的圖====')\n",
    "    for url in thumbs[1:]:        \n",
    "        if url:\n",
    "            thumb_html += \"\"\" <img style='width:120px;margin:0px;float:left;border:1px solid black;' src='{}' />\"\"\".format(url)            \n",
    "    return thumb_html"
   ]
  },
  {
   "cell_type": "code",
   "execution_count": 16,
   "metadata": {
    "collapsed": false
   },
   "outputs": [
    {
     "name": "stdout",
     "output_type": "stream",
     "text": [
      "原圖======\n"
     ]
    },
    {
     "data": {
      "text/html": [
       "<img src=\"https://media.sketchfab.com/urls/5dcebcfaedbd4e7b8a27bd1ae55f1ac3/dist/thumbnails/42158696f2c24e63b5c22b57f7b79739/256x144.jpeg\"> <img style='width:120px;margin:0px;float:left;border:1px solid black;' src='https://media.sketchfab.com/urls/9120703a4aee4c2cb0313a9ca3e1e1a3/dist/thumbnails/52eb1132bd61459eb0983bd1e3fd256c/256x144.jpeg' /> <img style='width:120px;margin:0px;float:left;border:1px solid black;' src='https://media.sketchfab.com/urls/efe433deeeba4588bc089bba71fef9a5/dist/thumbnails/8bbd97ec0c3f481787694ca8d33211c4/854.jpeg' /> <img style='width:120px;margin:0px;float:left;border:1px solid black;' src='https://media.sketchfab.com/urls/18d38b440a9647059983c0e064b54948/dist/thumbnails/4cf3dbf1096d4d299c6181ec8f67a149/100x100.jpeg' /> <img style='width:120px;margin:0px;float:left;border:1px solid black;' src='https://media.sketchfab.com/urls/07f6a9a06db44bdb89b67a41f1fd72c2/dist/thumbnails/55ab6aa136e64643a5afa9f472bfdea0/864x486.jpeg' /> <img style='width:120px;margin:0px;float:left;border:1px solid black;' src='https://media.sketchfab.com/urls/93d3937e89ba48ea93623e0252387c0a/dist/thumbnails/bdd20344d9934036b8216fe4ce00e88e/640.jpeg' /> <img style='width:120px;margin:0px;float:left;border:1px solid black;' src='https://media.sketchfab.com/urls/f628b75a1a4c40188fa8d6de224276ec/dist/thumbnails/43b1aac22a5443e39e4299032e3dddf8/bd729eb3c67e4976914927a113a1dcfc.jpeg' /> <img style='width:120px;margin:0px;float:left;border:1px solid black;' src='https://media.sketchfab.com/urls/5d2f4e1c07bf4c61a6d49c3b10907b5b/dist/thumbnails/6d8396c874994608a66e437076aeca4d/854.jpeg' /> <img style='width:120px;margin:0px;float:left;border:1px solid black;' src='https://media.sketchfab.com/urls/40b77087a494482082c6380ec13c24be/dist/thumbnails/74f61150140849dbb424129bf21a7c91/640x360.jpeg' /> <img style='width:120px;margin:0px;float:left;border:1px solid black;' src='https://media.sketchfab.com/urls/ebc929ad5e814a22a9acf295a3d2c73b/dist/thumbnails/0ccc5d368b57471a9e1161e69e94500e/854.jpeg' />"
      ],
      "text/plain": [
       "<IPython.core.display.HTML object>"
      ]
     },
     "execution_count": 16,
     "metadata": {},
     "output_type": "execute_result"
    }
   ],
   "source": [
    "HTML(display_item(thumbs,0))"
   ]
  },
  {
   "cell_type": "code",
   "execution_count": 25,
   "metadata": {
    "collapsed": true
   },
   "outputs": [],
   "source": [
    "idx2 = 200\n",
    "thumbs2 = get_thumbnails(top_related,idx=idx2,idx_to_mid=idx_to_mid)"
   ]
  },
  {
   "cell_type": "code",
   "execution_count": 26,
   "metadata": {
    "collapsed": false
   },
   "outputs": [
    {
     "name": "stdout",
     "output_type": "stream",
     "text": [
      "原圖======\n"
     ]
    },
    {
     "data": {
      "text/html": [
       "<img src=\"https://media.sketchfab.com/urls/c4a8045933a84d389b688c135f2a1206/dist/thumbnails/61f3ab3840ee4a838433eb5231085130/864x486.jpeg\"> <img style='width:120px;margin:0px;float:left;border:1px solid black;' src='https://media.sketchfab.com/urls/da8321b4083448c3a63968a4916160c8/dist/thumbnails/f4ee820bc2e642cea42ff3b991a2cec6/6ad862261dbe4a14bd98529e1f00c2f8.jpeg' /> <img style='width:120px;margin:0px;float:left;border:1px solid black;' src='https://media.sketchfab.com/urls/b713b4f8776f4d659cf8f3184defe098/dist/thumbnails/cb4ded1da5f04139942c17da64c74e68/864x486.jpeg' /> <img style='width:120px;margin:0px;float:left;border:1px solid black;' src='https://media.sketchfab.com/urls/58eea0327d844fc9a245058b61b54c84/dist/thumbnails/ebc200a5b23e47098804098e43aa2dc7/2e11b882371146d399051d1750b6b39e.jpeg' /> <img style='width:120px;margin:0px;float:left;border:1px solid black;' src='https://media.sketchfab.com/urls/babbd1d498824d08bf181281c0175c13/dist/thumbnails/940d8e3370cb4330beec6a9d53345c91/864x486.jpeg' /> <img style='width:120px;margin:0px;float:left;border:1px solid black;' src='https://media.sketchfab.com/urls/fcb6df18bc7f41d5a53dfe95ebbf99e9/dist/thumbnails/117022cefda74e8aa7a3540165099167/864x486.jpeg' /> <img style='width:120px;margin:0px;float:left;border:1px solid black;' src='https://media.sketchfab.com/urls/c4cef084ea6e4827a11463ec484e99fe/dist/thumbnails/d91320f1e3b04ba7a74e0398cd2818e7/640x360.jpeg' /> <img style='width:120px;margin:0px;float:left;border:1px solid black;' src='https://media.sketchfab.com/urls/746358badc874c4991afa0f0f53d051b/dist/thumbnails/798e620a54bc4fc789b828ccff060760/864x486.jpeg' /> <img style='width:120px;margin:0px;float:left;border:1px solid black;' src='https://media.sketchfab.com/urls/52d59603ae3b44afaca1b531fda9ebb6/dist/thumbnails/e251fc17249147c69c41c7090e4886b7/864x486.jpeg' /> <img style='width:120px;margin:0px;float:left;border:1px solid black;' src='https://media.sketchfab.com/urls/ef0a847fd1df44e4a1d3d827c7f0bed9/dist/thumbnails/801635a0d4cc45d5924562ae1d17ba74/864x486.jpeg' />"
      ],
      "text/plain": [
       "<IPython.core.display.HTML object>"
      ]
     },
     "execution_count": 26,
     "metadata": {},
     "output_type": "execute_result"
    }
   ],
   "source": [
    "HTML(display_item(thumbs2,idx2))"
   ]
  },
  {
   "cell_type": "markdown",
   "metadata": {},
   "source": [
    "# 小結\n",
    "\n",
    "矩陣分解利用一組用戶特徵向量與物品特徵向量之內積 $\\textbf{X}_u \\cdot \\textbf{y}_i $，來推測每個人對商品的喜好程度，對於物品集較大的問題能有效解決維度爆炸的問題。但是在小樣本（$<10^5$）中的3D模型的問題集裡面，上一次的暴力解法卻更為準確。利用`implicit`套件能很快的取得特徵向量與建立模型，還有兩個實務上需要提及的問題:\n",
    "\n",
    "1. 儘管能取得特徵向量，在計算最近鄰的商品/人時候，常會遇到必須把N個物品遍歷一次,才能找到最相似的人/商品。\n",
    "2. 在給用戶推薦的時候，需要作內積計算，再對所有商品作排序。這個過程對百萬級別的在線實時推薦商品，會變成不可行（效能問題）。\n",
    "3. 只有透過用戶的交易行為來推薦，對於物品的特徵（特性）完全忽視。\n",
    "\n",
    "這三個問題將會放在下回來說明討論。"
   ]
  }
 ],
 "metadata": {
  "anaconda-cloud": {},
  "kernelspec": {
   "display_name": "Python [default]",
   "language": "python",
   "name": "python3"
  },
  "language_info": {
   "codemirror_mode": {
    "name": "ipython",
    "version": 3
   },
   "file_extension": ".py",
   "mimetype": "text/x-python",
   "name": "python",
   "nbconvert_exporter": "python",
   "pygments_lexer": "ipython3",
   "version": "3.5.2"
  }
 },
 "nbformat": 4,
 "nbformat_minor": 2
}
