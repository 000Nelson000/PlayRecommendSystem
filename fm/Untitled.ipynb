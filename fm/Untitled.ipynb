{
 "cells": [
  {
   "cell_type": "markdown",
   "metadata": {},
   "source": [
    "script from [here](https://getstream.io/blog/factorization-recommendation-systems/)"
   ]
  },
  {
   "cell_type": "code",
   "execution_count": 1,
   "metadata": {},
   "outputs": [
    {
     "name": "stderr",
     "output_type": "stream",
     "text": [
      "C:\\ProgramData\\Anaconda3\\lib\\site-packages\\h5py\\__init__.py:36: FutureWarning: Conversion of the second argument of issubdtype from `float` to `np.floating` is deprecated. In future, it will be treated as `np.float64 == np.dtype(float).type`.\n",
      "  from ._conv import register_converters as _register_converters\n"
     ]
    }
   ],
   "source": [
    "import pandas as pd \n",
    "import numpy as np\n",
    "import tensorflow as tf\n",
    "from collections import Counter \n",
    "\n",
    "from tffm import TFFMRegressor\n",
    "from sklearn.metrics import mean_squared_error\n",
    "from sklearn.model_selection import train_test_split\n"
   ]
  },
  {
   "cell_type": "code",
   "execution_count": 2,
   "metadata": {},
   "outputs": [],
   "source": [
    "buys = open('yoochoose-buys.dat')\n",
    "clicks = open('yoochoose-clicks.dat')\n",
    "\n",
    "initial_buys_df = pd.read_csv(buys, \n",
    "                              names=['Session ID', 'Timestamp', 'Item ID', 'Category', 'Quantity'],\n",
    "                              dtype={\n",
    "                                  'Session ID': 'int32',\n",
    "                                  'Timestamp': 'str',\n",
    "                                  'Item ID': 'int32',\n",
    "                                  'Category': 'category'\n",
    "                              })\n",
    "initial_buys_df.set_index('Session ID', inplace=True)\n",
    "\n",
    "\n",
    "initial_clicks_df = pd.read_csv(clicks, \n",
    "                                names=['Session ID', 'Timestamp', 'Item ID', 'Category'],\n",
    "                                dtype={'Category': 'category'})\n",
    "initial_clicks_df.set_index('Session ID', inplace=True)\n",
    "\n",
    "initial_buys_df = initial_buys_df.drop('Timestamp', 1)\n",
    "initial_clicks_df = initial_clicks_df.drop('Timestamp', 1)"
   ]
  },
  {
   "cell_type": "code",
   "execution_count": 5,
   "metadata": {},
   "outputs": [
    {
     "data": {
      "text/plain": [
       "Item ID        int32\n",
       "Category    category\n",
       "Quantity       int64\n",
       "dtype: object"
      ]
     },
     "execution_count": 5,
     "metadata": {},
     "output_type": "execute_result"
    }
   ],
   "source": [
    "initial_buys_df.dtypes"
   ]
  },
  {
   "cell_type": "code",
   "execution_count": 6,
   "metadata": {},
   "outputs": [
    {
     "data": {
      "text/html": [
       "<div>\n",
       "<style scoped>\n",
       "    .dataframe tbody tr th:only-of-type {\n",
       "        vertical-align: middle;\n",
       "    }\n",
       "\n",
       "    .dataframe tbody tr th {\n",
       "        vertical-align: top;\n",
       "    }\n",
       "\n",
       "    .dataframe thead th {\n",
       "        text-align: right;\n",
       "    }\n",
       "</style>\n",
       "<table border=\"1\" class=\"dataframe\">\n",
       "  <thead>\n",
       "    <tr style=\"text-align: right;\">\n",
       "      <th></th>\n",
       "      <th>Item ID</th>\n",
       "      <th>Category</th>\n",
       "      <th>Quantity</th>\n",
       "    </tr>\n",
       "    <tr>\n",
       "      <th>Session ID</th>\n",
       "      <th></th>\n",
       "      <th></th>\n",
       "      <th></th>\n",
       "    </tr>\n",
       "  </thead>\n",
       "  <tbody>\n",
       "    <tr>\n",
       "      <th>420374</th>\n",
       "      <td>214537888</td>\n",
       "      <td>12462</td>\n",
       "      <td>1</td>\n",
       "    </tr>\n",
       "    <tr>\n",
       "      <th>420374</th>\n",
       "      <td>214537850</td>\n",
       "      <td>10471</td>\n",
       "      <td>1</td>\n",
       "    </tr>\n",
       "    <tr>\n",
       "      <th>281626</th>\n",
       "      <td>214535653</td>\n",
       "      <td>1883</td>\n",
       "      <td>1</td>\n",
       "    </tr>\n",
       "    <tr>\n",
       "      <th>420368</th>\n",
       "      <td>214530572</td>\n",
       "      <td>6073</td>\n",
       "      <td>1</td>\n",
       "    </tr>\n",
       "    <tr>\n",
       "      <th>420368</th>\n",
       "      <td>214835025</td>\n",
       "      <td>2617</td>\n",
       "      <td>1</td>\n",
       "    </tr>\n",
       "  </tbody>\n",
       "</table>\n",
       "</div>"
      ],
      "text/plain": [
       "              Item ID Category  Quantity\n",
       "Session ID                              \n",
       "420374      214537888    12462         1\n",
       "420374      214537850    10471         1\n",
       "281626      214535653     1883         1\n",
       "420368      214530572     6073         1\n",
       "420368      214835025     2617         1"
      ]
     },
     "execution_count": 6,
     "metadata": {},
     "output_type": "execute_result"
    }
   ],
   "source": [
    "initial_buys_df.head()"
   ]
  },
  {
   "cell_type": "code",
   "execution_count": 7,
   "metadata": {},
   "outputs": [],
   "source": [
    "# mask = initial_buys_df.Quantity==0\n",
    "# initial_buys_df[~mask]"
   ]
  },
  {
   "cell_type": "code",
   "execution_count": 8,
   "metadata": {},
   "outputs": [
    {
     "data": {
      "text/plain": [
       "Item ID        int64\n",
       "Category    category\n",
       "dtype: object"
      ]
     },
     "execution_count": 8,
     "metadata": {},
     "output_type": "execute_result"
    }
   ],
   "source": [
    "initial_clicks_df.dtypes"
   ]
  },
  {
   "cell_type": "code",
   "execution_count": 9,
   "metadata": {},
   "outputs": [
    {
     "data": {
      "text/html": [
       "<div>\n",
       "<style scoped>\n",
       "    .dataframe tbody tr th:only-of-type {\n",
       "        vertical-align: middle;\n",
       "    }\n",
       "\n",
       "    .dataframe tbody tr th {\n",
       "        vertical-align: top;\n",
       "    }\n",
       "\n",
       "    .dataframe thead th {\n",
       "        text-align: right;\n",
       "    }\n",
       "</style>\n",
       "<table border=\"1\" class=\"dataframe\">\n",
       "  <thead>\n",
       "    <tr style=\"text-align: right;\">\n",
       "      <th></th>\n",
       "      <th>Item ID</th>\n",
       "      <th>Category</th>\n",
       "    </tr>\n",
       "    <tr>\n",
       "      <th>Session ID</th>\n",
       "      <th></th>\n",
       "      <th></th>\n",
       "    </tr>\n",
       "  </thead>\n",
       "  <tbody>\n",
       "    <tr>\n",
       "      <th>1</th>\n",
       "      <td>214536502</td>\n",
       "      <td>0</td>\n",
       "    </tr>\n",
       "    <tr>\n",
       "      <th>1</th>\n",
       "      <td>214536500</td>\n",
       "      <td>0</td>\n",
       "    </tr>\n",
       "    <tr>\n",
       "      <th>1</th>\n",
       "      <td>214536506</td>\n",
       "      <td>0</td>\n",
       "    </tr>\n",
       "    <tr>\n",
       "      <th>1</th>\n",
       "      <td>214577561</td>\n",
       "      <td>0</td>\n",
       "    </tr>\n",
       "    <tr>\n",
       "      <th>2</th>\n",
       "      <td>214662742</td>\n",
       "      <td>0</td>\n",
       "    </tr>\n",
       "  </tbody>\n",
       "</table>\n",
       "</div>"
      ],
      "text/plain": [
       "              Item ID Category\n",
       "Session ID                    \n",
       "1           214536502        0\n",
       "1           214536500        0\n",
       "1           214536506        0\n",
       "1           214577561        0\n",
       "2           214662742        0"
      ]
     },
     "execution_count": 9,
     "metadata": {},
     "output_type": "execute_result"
    }
   ],
   "source": [
    "initial_clicks_df.head()"
   ]
  },
  {
   "cell_type": "markdown",
   "metadata": {},
   "source": [
    "pick most common session (top 10000 in `initial_buy_df`), reconstruct smaller df"
   ]
  },
  {
   "cell_type": "code",
   "execution_count": 10,
   "metadata": {},
   "outputs": [],
   "source": [
    "x = Counter(initial_buys_df.index).most_common(10000)\n",
    "top_k = dict(x).keys()"
   ]
  },
  {
   "cell_type": "code",
   "execution_count": 11,
   "metadata": {},
   "outputs": [],
   "source": [
    "top_k_idx = initial_buys_df[['Item ID']].groupby(initial_buys_df.index).count().rename(columns={'Item ID':'cnt'}).sort_values(by='cnt',ascending=False).index[:10000]"
   ]
  },
  {
   "cell_type": "code",
   "execution_count": 12,
   "metadata": {},
   "outputs": [],
   "source": [
    "temp = set(top_k_idx ) and set(top_k)\n",
    "assert len(temp)==10000, 'oops, not the same '"
   ]
  },
  {
   "cell_type": "code",
   "execution_count": 13,
   "metadata": {},
   "outputs": [],
   "source": [
    "initial_buys_df   = initial_buys_df.loc[top_k_idx]\n",
    "initial_clicks_df = initial_clicks_df.loc[top_k_idx]"
   ]
  },
  {
   "cell_type": "code",
   "execution_count": 14,
   "metadata": {},
   "outputs": [
    {
     "data": {
      "text/plain": [
       "(106956, 3)"
      ]
     },
     "execution_count": 14,
     "metadata": {},
     "output_type": "execute_result"
    }
   ],
   "source": [
    "initial_buys_df.shape"
   ]
  },
  {
   "cell_type": "code",
   "execution_count": 15,
   "metadata": {},
   "outputs": [
    {
     "data": {
      "text/plain": [
       "(207783, 2)"
      ]
     },
     "execution_count": 15,
     "metadata": {},
     "output_type": "execute_result"
    }
   ],
   "source": [
    "initial_clicks_df.shape"
   ]
  },
  {
   "cell_type": "code",
   "execution_count": 16,
   "metadata": {},
   "outputs": [],
   "source": [
    "initial_buys_df['_Session ID'] = initial_buys_df.index"
   ]
  },
  {
   "cell_type": "markdown",
   "metadata": {},
   "source": [
    " we can introduce historical engagement data into our FM model. "
   ]
  },
  {
   "cell_type": "code",
   "execution_count": 17,
   "metadata": {},
   "outputs": [],
   "source": [
    "transformed_buys = pd.get_dummies(initial_buys_df)\n",
    "transformed_clicks = pd.get_dummies(initial_clicks_df)"
   ]
  },
  {
   "cell_type": "code",
   "execution_count": 18,
   "metadata": {},
   "outputs": [],
   "source": [
    "filtered_buys = transformed_buys.filter(regex=\"Item.*|Category.*\")\n",
    "filtered_clicks = transformed_clicks.filter(regex=\"Item.*|Category.*\")"
   ]
  },
  {
   "cell_type": "code",
   "execution_count": 19,
   "metadata": {},
   "outputs": [
    {
     "data": {
      "text/plain": [
       "<pandas.core.groupby.groupby.DataFrameGroupBy object at 0x00000082BAE35D30>"
      ]
     },
     "execution_count": 19,
     "metadata": {},
     "output_type": "execute_result"
    }
   ],
   "source": [
    "filtered_buys.groupby(filtered_buys.index)"
   ]
  },
  {
   "cell_type": "code",
   "execution_count": 21,
   "metadata": {},
   "outputs": [
    {
     "data": {
      "text/plain": [
       "Category_1360    2\n",
       "Category_187     2\n",
       "Category_523     2\n",
       "Category_680     2\n",
       "Category_732     2\n",
       "dtype: int64"
      ]
     },
     "execution_count": 21,
     "metadata": {},
     "output_type": "execute_result"
    }
   ],
   "source": [
    "tmp = filtered_buys.loc[932,].filter(regex='Category.*')\n",
    "tmp.sum()[tmp.sum()!=0]"
   ]
  },
  {
   "cell_type": "code",
   "execution_count": 22,
   "metadata": {},
   "outputs": [
    {
     "data": {
      "text/html": [
       "<div>\n",
       "<style scoped>\n",
       "    .dataframe tbody tr th:only-of-type {\n",
       "        vertical-align: middle;\n",
       "    }\n",
       "\n",
       "    .dataframe tbody tr th {\n",
       "        vertical-align: top;\n",
       "    }\n",
       "\n",
       "    .dataframe thead th {\n",
       "        text-align: right;\n",
       "    }\n",
       "</style>\n",
       "<table border=\"1\" class=\"dataframe\">\n",
       "  <thead>\n",
       "    <tr style=\"text-align: right;\">\n",
       "      <th></th>\n",
       "      <th>Category_1360</th>\n",
       "      <th>Category_187</th>\n",
       "      <th>Category_523</th>\n",
       "    </tr>\n",
       "    <tr>\n",
       "      <th>Session ID</th>\n",
       "      <th></th>\n",
       "      <th></th>\n",
       "      <th></th>\n",
       "    </tr>\n",
       "  </thead>\n",
       "  <tbody>\n",
       "    <tr>\n",
       "      <th>932</th>\n",
       "      <td>1</td>\n",
       "      <td>0</td>\n",
       "      <td>0</td>\n",
       "    </tr>\n",
       "    <tr>\n",
       "      <th>932</th>\n",
       "      <td>0</td>\n",
       "      <td>0</td>\n",
       "      <td>1</td>\n",
       "    </tr>\n",
       "    <tr>\n",
       "      <th>932</th>\n",
       "      <td>0</td>\n",
       "      <td>0</td>\n",
       "      <td>0</td>\n",
       "    </tr>\n",
       "    <tr>\n",
       "      <th>932</th>\n",
       "      <td>0</td>\n",
       "      <td>0</td>\n",
       "      <td>0</td>\n",
       "    </tr>\n",
       "    <tr>\n",
       "      <th>932</th>\n",
       "      <td>0</td>\n",
       "      <td>1</td>\n",
       "      <td>0</td>\n",
       "    </tr>\n",
       "    <tr>\n",
       "      <th>932</th>\n",
       "      <td>0</td>\n",
       "      <td>0</td>\n",
       "      <td>0</td>\n",
       "    </tr>\n",
       "    <tr>\n",
       "      <th>932</th>\n",
       "      <td>1</td>\n",
       "      <td>0</td>\n",
       "      <td>0</td>\n",
       "    </tr>\n",
       "    <tr>\n",
       "      <th>932</th>\n",
       "      <td>0</td>\n",
       "      <td>0</td>\n",
       "      <td>1</td>\n",
       "    </tr>\n",
       "    <tr>\n",
       "      <th>932</th>\n",
       "      <td>0</td>\n",
       "      <td>0</td>\n",
       "      <td>0</td>\n",
       "    </tr>\n",
       "    <tr>\n",
       "      <th>932</th>\n",
       "      <td>0</td>\n",
       "      <td>1</td>\n",
       "      <td>0</td>\n",
       "    </tr>\n",
       "  </tbody>\n",
       "</table>\n",
       "</div>"
      ],
      "text/plain": [
       "            Category_1360  Category_187  Category_523\n",
       "Session ID                                           \n",
       "932                     1             0             0\n",
       "932                     0             0             1\n",
       "932                     0             0             0\n",
       "932                     0             0             0\n",
       "932                     0             1             0\n",
       "932                     0             0             0\n",
       "932                     1             0             0\n",
       "932                     0             0             1\n",
       "932                     0             0             0\n",
       "932                     0             1             0"
      ]
     },
     "execution_count": 22,
     "metadata": {},
     "output_type": "execute_result"
    }
   ],
   "source": [
    "tmp.loc[:,['Category_1360','Category_187','Category_523']]"
   ]
  },
  {
   "cell_type": "code",
   "execution_count": 23,
   "metadata": {},
   "outputs": [],
   "source": [
    "historical_buy_data = filtered_buys.groupby(filtered_buys.index).sum()\n",
    "historical_buy_data = historical_buy_data.rename(columns=lambda column_name: 'buy history:' + column_name)\n",
    "\n",
    "historical_click_data = filtered_clicks.groupby(filtered_clicks.index).sum()\n",
    "historical_click_data = historical_click_data.rename(columns=lambda column_name: 'click history:' + column_name)"
   ]
  },
  {
   "cell_type": "code",
   "execution_count": 24,
   "metadata": {},
   "outputs": [
    {
     "name": "stdout",
     "output_type": "stream",
     "text": [
      "shape of history buy: (10000, 736)\n",
      "shape of filtered buy: (106956, 736)\n",
      "shape of history click: (10000, 340)\n"
     ]
    }
   ],
   "source": [
    "print('shape of history buy:',historical_buy_data.shape)\n",
    "print('shape of filtered buy:',filtered_buys.shape)\n",
    "\n",
    "print('shape of history click:',historical_click_data.shape)"
   ]
  },
  {
   "cell_type": "code",
   "execution_count": 25,
   "metadata": {},
   "outputs": [
    {
     "data": {
      "text/html": [
       "<div>\n",
       "<style scoped>\n",
       "    .dataframe tbody tr th:only-of-type {\n",
       "        vertical-align: middle;\n",
       "    }\n",
       "\n",
       "    .dataframe tbody tr th {\n",
       "        vertical-align: top;\n",
       "    }\n",
       "\n",
       "    .dataframe thead th {\n",
       "        text-align: right;\n",
       "    }\n",
       "</style>\n",
       "<table border=\"1\" class=\"dataframe\">\n",
       "  <thead>\n",
       "    <tr style=\"text-align: right;\">\n",
       "      <th></th>\n",
       "      <th>buy history:Item ID</th>\n",
       "      <th>buy history:Category_0</th>\n",
       "      <th>buy history:Category_10052</th>\n",
       "      <th>buy history:Category_1015</th>\n",
       "      <th>buy history:Category_10157</th>\n",
       "      <th>buy history:Category_1024</th>\n",
       "      <th>buy history:Category_10261</th>\n",
       "      <th>buy history:Category_1036</th>\n",
       "      <th>buy history:Category_10366</th>\n",
       "      <th>buy history:Category_10367</th>\n",
       "      <th>...</th>\n",
       "      <th>buy history:Category_61</th>\n",
       "      <th>buy history:Category_69010</th>\n",
       "      <th>buy history:Category_75</th>\n",
       "      <th>buy history:Category_750</th>\n",
       "      <th>buy history:Category_771</th>\n",
       "      <th>buy history:Category_787</th>\n",
       "      <th>buy history:Category_83</th>\n",
       "      <th>buy history:Category_868</th>\n",
       "      <th>buy history:Category_915</th>\n",
       "      <th>buy history:Category_973</th>\n",
       "    </tr>\n",
       "    <tr>\n",
       "      <th>Session ID</th>\n",
       "      <th></th>\n",
       "      <th></th>\n",
       "      <th></th>\n",
       "      <th></th>\n",
       "      <th></th>\n",
       "      <th></th>\n",
       "      <th></th>\n",
       "      <th></th>\n",
       "      <th></th>\n",
       "      <th></th>\n",
       "      <th></th>\n",
       "      <th></th>\n",
       "      <th></th>\n",
       "      <th></th>\n",
       "      <th></th>\n",
       "      <th></th>\n",
       "      <th></th>\n",
       "      <th></th>\n",
       "      <th></th>\n",
       "      <th></th>\n",
       "      <th></th>\n",
       "    </tr>\n",
       "  </thead>\n",
       "  <tbody>\n",
       "    <tr>\n",
       "      <th>932</th>\n",
       "      <td>2.148020e+09</td>\n",
       "      <td>0</td>\n",
       "      <td>0</td>\n",
       "      <td>0</td>\n",
       "      <td>0</td>\n",
       "      <td>0</td>\n",
       "      <td>0</td>\n",
       "      <td>0</td>\n",
       "      <td>0</td>\n",
       "      <td>0</td>\n",
       "      <td>...</td>\n",
       "      <td>0</td>\n",
       "      <td>0</td>\n",
       "      <td>0</td>\n",
       "      <td>0</td>\n",
       "      <td>0</td>\n",
       "      <td>0</td>\n",
       "      <td>0</td>\n",
       "      <td>0</td>\n",
       "      <td>0</td>\n",
       "      <td>0</td>\n",
       "    </tr>\n",
       "    <tr>\n",
       "      <th>3302</th>\n",
       "      <td>1.716957e+09</td>\n",
       "      <td>0</td>\n",
       "      <td>0</td>\n",
       "      <td>0</td>\n",
       "      <td>0</td>\n",
       "      <td>0</td>\n",
       "      <td>0</td>\n",
       "      <td>0</td>\n",
       "      <td>0</td>\n",
       "      <td>0</td>\n",
       "      <td>...</td>\n",
       "      <td>0</td>\n",
       "      <td>0</td>\n",
       "      <td>0</td>\n",
       "      <td>0</td>\n",
       "      <td>0</td>\n",
       "      <td>0</td>\n",
       "      <td>0</td>\n",
       "      <td>0</td>\n",
       "      <td>0</td>\n",
       "      <td>0</td>\n",
       "    </tr>\n",
       "    <tr>\n",
       "      <th>3687</th>\n",
       "      <td>1.717444e+09</td>\n",
       "      <td>0</td>\n",
       "      <td>0</td>\n",
       "      <td>0</td>\n",
       "      <td>0</td>\n",
       "      <td>0</td>\n",
       "      <td>0</td>\n",
       "      <td>0</td>\n",
       "      <td>0</td>\n",
       "      <td>0</td>\n",
       "      <td>...</td>\n",
       "      <td>0</td>\n",
       "      <td>0</td>\n",
       "      <td>0</td>\n",
       "      <td>0</td>\n",
       "      <td>0</td>\n",
       "      <td>0</td>\n",
       "      <td>0</td>\n",
       "      <td>0</td>\n",
       "      <td>0</td>\n",
       "      <td>0</td>\n",
       "    </tr>\n",
       "    <tr>\n",
       "      <th>3889</th>\n",
       "      <td>2.148006e+09</td>\n",
       "      <td>0</td>\n",
       "      <td>0</td>\n",
       "      <td>0</td>\n",
       "      <td>0</td>\n",
       "      <td>0</td>\n",
       "      <td>0</td>\n",
       "      <td>0</td>\n",
       "      <td>0</td>\n",
       "      <td>0</td>\n",
       "      <td>...</td>\n",
       "      <td>0</td>\n",
       "      <td>0</td>\n",
       "      <td>0</td>\n",
       "      <td>0</td>\n",
       "      <td>0</td>\n",
       "      <td>0</td>\n",
       "      <td>0</td>\n",
       "      <td>0</td>\n",
       "      <td>0</td>\n",
       "      <td>0</td>\n",
       "    </tr>\n",
       "    <tr>\n",
       "      <th>4451</th>\n",
       "      <td>1.718581e+09</td>\n",
       "      <td>0</td>\n",
       "      <td>0</td>\n",
       "      <td>0</td>\n",
       "      <td>0</td>\n",
       "      <td>0</td>\n",
       "      <td>0</td>\n",
       "      <td>0</td>\n",
       "      <td>0</td>\n",
       "      <td>0</td>\n",
       "      <td>...</td>\n",
       "      <td>0</td>\n",
       "      <td>0</td>\n",
       "      <td>0</td>\n",
       "      <td>0</td>\n",
       "      <td>0</td>\n",
       "      <td>0</td>\n",
       "      <td>0</td>\n",
       "      <td>0</td>\n",
       "      <td>0</td>\n",
       "      <td>0</td>\n",
       "    </tr>\n",
       "  </tbody>\n",
       "</table>\n",
       "<p>5 rows × 736 columns</p>\n",
       "</div>"
      ],
      "text/plain": [
       "            buy history:Item ID  buy history:Category_0  \\\n",
       "Session ID                                                \n",
       "932                2.148020e+09                       0   \n",
       "3302               1.716957e+09                       0   \n",
       "3687               1.717444e+09                       0   \n",
       "3889               2.148006e+09                       0   \n",
       "4451               1.718581e+09                       0   \n",
       "\n",
       "            buy history:Category_10052  buy history:Category_1015  \\\n",
       "Session ID                                                          \n",
       "932                                  0                          0   \n",
       "3302                                 0                          0   \n",
       "3687                                 0                          0   \n",
       "3889                                 0                          0   \n",
       "4451                                 0                          0   \n",
       "\n",
       "            buy history:Category_10157  buy history:Category_1024  \\\n",
       "Session ID                                                          \n",
       "932                                  0                          0   \n",
       "3302                                 0                          0   \n",
       "3687                                 0                          0   \n",
       "3889                                 0                          0   \n",
       "4451                                 0                          0   \n",
       "\n",
       "            buy history:Category_10261  buy history:Category_1036  \\\n",
       "Session ID                                                          \n",
       "932                                  0                          0   \n",
       "3302                                 0                          0   \n",
       "3687                                 0                          0   \n",
       "3889                                 0                          0   \n",
       "4451                                 0                          0   \n",
       "\n",
       "            buy history:Category_10366  buy history:Category_10367  \\\n",
       "Session ID                                                           \n",
       "932                                  0                           0   \n",
       "3302                                 0                           0   \n",
       "3687                                 0                           0   \n",
       "3889                                 0                           0   \n",
       "4451                                 0                           0   \n",
       "\n",
       "                      ...             buy history:Category_61  \\\n",
       "Session ID            ...                                       \n",
       "932                   ...                                   0   \n",
       "3302                  ...                                   0   \n",
       "3687                  ...                                   0   \n",
       "3889                  ...                                   0   \n",
       "4451                  ...                                   0   \n",
       "\n",
       "            buy history:Category_69010  buy history:Category_75  \\\n",
       "Session ID                                                        \n",
       "932                                  0                        0   \n",
       "3302                                 0                        0   \n",
       "3687                                 0                        0   \n",
       "3889                                 0                        0   \n",
       "4451                                 0                        0   \n",
       "\n",
       "            buy history:Category_750  buy history:Category_771  \\\n",
       "Session ID                                                       \n",
       "932                                0                         0   \n",
       "3302                               0                         0   \n",
       "3687                               0                         0   \n",
       "3889                               0                         0   \n",
       "4451                               0                         0   \n",
       "\n",
       "            buy history:Category_787  buy history:Category_83  \\\n",
       "Session ID                                                      \n",
       "932                                0                        0   \n",
       "3302                               0                        0   \n",
       "3687                               0                        0   \n",
       "3889                               0                        0   \n",
       "4451                               0                        0   \n",
       "\n",
       "            buy history:Category_868  buy history:Category_915  \\\n",
       "Session ID                                                       \n",
       "932                                0                         0   \n",
       "3302                               0                         0   \n",
       "3687                               0                         0   \n",
       "3889                               0                         0   \n",
       "4451                               0                         0   \n",
       "\n",
       "            buy history:Category_973  \n",
       "Session ID                            \n",
       "932                                0  \n",
       "3302                               0  \n",
       "3687                               0  \n",
       "3889                               0  \n",
       "4451                               0  \n",
       "\n",
       "[5 rows x 736 columns]"
      ]
     },
     "execution_count": 25,
     "metadata": {},
     "output_type": "execute_result"
    }
   ],
   "source": [
    "historical_buy_data.head()"
   ]
  },
  {
   "cell_type": "code",
   "execution_count": 26,
   "metadata": {},
   "outputs": [
    {
     "data": {
      "text/plain": [
       "array([10.])"
      ]
     },
     "execution_count": 26,
     "metadata": {},
     "output_type": "execute_result"
    }
   ],
   "source": [
    "tmp = historical_buy_data.loc[932,].filter(regex='Category.*')\n",
    "tmp.sum()[tmp.sum()!=0]\n",
    "\n"
   ]
  },
  {
   "cell_type": "code",
   "execution_count": 27,
   "metadata": {},
   "outputs": [
    {
     "data": {
      "text/plain": [
       "buy history:Category_1360    2.0\n",
       "buy history:Category_187     2.0\n",
       "buy history:Category_523     2.0\n",
       "buy history:Category_680     2.0\n",
       "buy history:Category_732     2.0\n",
       "Name: 932, dtype: float64"
      ]
     },
     "execution_count": 27,
     "metadata": {},
     "output_type": "execute_result"
    }
   ],
   "source": [
    "tmp[tmp!=0]"
   ]
  },
  {
   "cell_type": "code",
   "execution_count": 28,
   "metadata": {},
   "outputs": [],
   "source": [
    "merged1 = pd.merge(transformed_buys, historical_buy_data, left_index=True, right_index=True)\n",
    "merged2 = pd.merge(merged1, historical_click_data, left_index=True, right_index=True)\n",
    "\n",
    "merged2.drop(['Item ID', '_Session ID', 'click history:Item ID', 'buy history:Item ID'], 1, inplace=True)"
   ]
  },
  {
   "cell_type": "code",
   "execution_count": 29,
   "metadata": {},
   "outputs": [
    {
     "data": {
      "text/plain": [
       "Index(['click history:Category_6', 'click history:Category_7',\n",
       "       'click history:Category_9', 'click history:Category_S',\n",
       "       'click history:Category_2088894828',\n",
       "       'click history:Category_2088900589',\n",
       "       'click history:Category_2088901091',\n",
       "       'click history:Category_2088903330',\n",
       "       'click history:Category_2088918545',\n",
       "       'click history:Category_2088918717',\n",
       "       ...\n",
       "       'click history:Category_2089251022',\n",
       "       'click history:Category_2089084275',\n",
       "       'click history:Category_2089759631',\n",
       "       'click history:Category_2089314197',\n",
       "       'click history:Category_2088970021', 'click history:Category_8',\n",
       "       'click history:Category_2089580928', 'click history:Category_193469695',\n",
       "       'click history:Category_2089573539',\n",
       "       'click history:Category_2089314263'],\n",
       "      dtype='object', length=310)"
      ]
     },
     "execution_count": 29,
     "metadata": {},
     "output_type": "execute_result"
    }
   ],
   "source": [
    "merged2.columns[1500:]"
   ]
  },
  {
   "cell_type": "code",
   "execution_count": 30,
   "metadata": {},
   "outputs": [
    {
     "data": {
      "text/html": [
       "<div>\n",
       "<style scoped>\n",
       "    .dataframe tbody tr th:only-of-type {\n",
       "        vertical-align: middle;\n",
       "    }\n",
       "\n",
       "    .dataframe tbody tr th {\n",
       "        vertical-align: top;\n",
       "    }\n",
       "\n",
       "    .dataframe thead th {\n",
       "        text-align: right;\n",
       "    }\n",
       "</style>\n",
       "<table border=\"1\" class=\"dataframe\">\n",
       "  <thead>\n",
       "    <tr style=\"text-align: right;\">\n",
       "      <th></th>\n",
       "      <th>Quantity</th>\n",
       "      <th>Category_0</th>\n",
       "      <th>Category_10052</th>\n",
       "      <th>Category_1015</th>\n",
       "      <th>Category_10157</th>\n",
       "      <th>Category_1024</th>\n",
       "      <th>Category_10261</th>\n",
       "      <th>Category_1036</th>\n",
       "      <th>Category_10366</th>\n",
       "      <th>Category_10367</th>\n",
       "      <th>...</th>\n",
       "      <th>click history:Category_2089251022</th>\n",
       "      <th>click history:Category_2089084275</th>\n",
       "      <th>click history:Category_2089759631</th>\n",
       "      <th>click history:Category_2089314197</th>\n",
       "      <th>click history:Category_2088970021</th>\n",
       "      <th>click history:Category_8</th>\n",
       "      <th>click history:Category_2089580928</th>\n",
       "      <th>click history:Category_193469695</th>\n",
       "      <th>click history:Category_2089573539</th>\n",
       "      <th>click history:Category_2089314263</th>\n",
       "    </tr>\n",
       "    <tr>\n",
       "      <th>Session ID</th>\n",
       "      <th></th>\n",
       "      <th></th>\n",
       "      <th></th>\n",
       "      <th></th>\n",
       "      <th></th>\n",
       "      <th></th>\n",
       "      <th></th>\n",
       "      <th></th>\n",
       "      <th></th>\n",
       "      <th></th>\n",
       "      <th></th>\n",
       "      <th></th>\n",
       "      <th></th>\n",
       "      <th></th>\n",
       "      <th></th>\n",
       "      <th></th>\n",
       "      <th></th>\n",
       "      <th></th>\n",
       "      <th></th>\n",
       "      <th></th>\n",
       "      <th></th>\n",
       "    </tr>\n",
       "  </thead>\n",
       "  <tbody>\n",
       "    <tr>\n",
       "      <th>932</th>\n",
       "      <td>2</td>\n",
       "      <td>0</td>\n",
       "      <td>0</td>\n",
       "      <td>0</td>\n",
       "      <td>0</td>\n",
       "      <td>0</td>\n",
       "      <td>0</td>\n",
       "      <td>0</td>\n",
       "      <td>0</td>\n",
       "      <td>0</td>\n",
       "      <td>...</td>\n",
       "      <td>0</td>\n",
       "      <td>0</td>\n",
       "      <td>0</td>\n",
       "      <td>0</td>\n",
       "      <td>0</td>\n",
       "      <td>0</td>\n",
       "      <td>0</td>\n",
       "      <td>0</td>\n",
       "      <td>0</td>\n",
       "      <td>0</td>\n",
       "    </tr>\n",
       "    <tr>\n",
       "      <th>932</th>\n",
       "      <td>2</td>\n",
       "      <td>0</td>\n",
       "      <td>0</td>\n",
       "      <td>0</td>\n",
       "      <td>0</td>\n",
       "      <td>0</td>\n",
       "      <td>0</td>\n",
       "      <td>0</td>\n",
       "      <td>0</td>\n",
       "      <td>0</td>\n",
       "      <td>...</td>\n",
       "      <td>0</td>\n",
       "      <td>0</td>\n",
       "      <td>0</td>\n",
       "      <td>0</td>\n",
       "      <td>0</td>\n",
       "      <td>0</td>\n",
       "      <td>0</td>\n",
       "      <td>0</td>\n",
       "      <td>0</td>\n",
       "      <td>0</td>\n",
       "    </tr>\n",
       "    <tr>\n",
       "      <th>932</th>\n",
       "      <td>1</td>\n",
       "      <td>0</td>\n",
       "      <td>0</td>\n",
       "      <td>0</td>\n",
       "      <td>0</td>\n",
       "      <td>0</td>\n",
       "      <td>0</td>\n",
       "      <td>0</td>\n",
       "      <td>0</td>\n",
       "      <td>0</td>\n",
       "      <td>...</td>\n",
       "      <td>0</td>\n",
       "      <td>0</td>\n",
       "      <td>0</td>\n",
       "      <td>0</td>\n",
       "      <td>0</td>\n",
       "      <td>0</td>\n",
       "      <td>0</td>\n",
       "      <td>0</td>\n",
       "      <td>0</td>\n",
       "      <td>0</td>\n",
       "    </tr>\n",
       "    <tr>\n",
       "      <th>932</th>\n",
       "      <td>2</td>\n",
       "      <td>0</td>\n",
       "      <td>0</td>\n",
       "      <td>0</td>\n",
       "      <td>0</td>\n",
       "      <td>0</td>\n",
       "      <td>0</td>\n",
       "      <td>0</td>\n",
       "      <td>0</td>\n",
       "      <td>0</td>\n",
       "      <td>...</td>\n",
       "      <td>0</td>\n",
       "      <td>0</td>\n",
       "      <td>0</td>\n",
       "      <td>0</td>\n",
       "      <td>0</td>\n",
       "      <td>0</td>\n",
       "      <td>0</td>\n",
       "      <td>0</td>\n",
       "      <td>0</td>\n",
       "      <td>0</td>\n",
       "    </tr>\n",
       "    <tr>\n",
       "      <th>932</th>\n",
       "      <td>1</td>\n",
       "      <td>0</td>\n",
       "      <td>0</td>\n",
       "      <td>0</td>\n",
       "      <td>0</td>\n",
       "      <td>0</td>\n",
       "      <td>0</td>\n",
       "      <td>0</td>\n",
       "      <td>0</td>\n",
       "      <td>0</td>\n",
       "      <td>...</td>\n",
       "      <td>0</td>\n",
       "      <td>0</td>\n",
       "      <td>0</td>\n",
       "      <td>0</td>\n",
       "      <td>0</td>\n",
       "      <td>0</td>\n",
       "      <td>0</td>\n",
       "      <td>0</td>\n",
       "      <td>0</td>\n",
       "      <td>0</td>\n",
       "    </tr>\n",
       "  </tbody>\n",
       "</table>\n",
       "<p>5 rows × 1810 columns</p>\n",
       "</div>"
      ],
      "text/plain": [
       "            Quantity  Category_0  Category_10052  Category_1015  \\\n",
       "Session ID                                                        \n",
       "932                2           0               0              0   \n",
       "932                2           0               0              0   \n",
       "932                1           0               0              0   \n",
       "932                2           0               0              0   \n",
       "932                1           0               0              0   \n",
       "\n",
       "            Category_10157  Category_1024  Category_10261  Category_1036  \\\n",
       "Session ID                                                                 \n",
       "932                      0              0               0              0   \n",
       "932                      0              0               0              0   \n",
       "932                      0              0               0              0   \n",
       "932                      0              0               0              0   \n",
       "932                      0              0               0              0   \n",
       "\n",
       "            Category_10366  Category_10367                ...                  \\\n",
       "Session ID                                                ...                   \n",
       "932                      0               0                ...                   \n",
       "932                      0               0                ...                   \n",
       "932                      0               0                ...                   \n",
       "932                      0               0                ...                   \n",
       "932                      0               0                ...                   \n",
       "\n",
       "            click history:Category_2089251022  \\\n",
       "Session ID                                      \n",
       "932                                         0   \n",
       "932                                         0   \n",
       "932                                         0   \n",
       "932                                         0   \n",
       "932                                         0   \n",
       "\n",
       "            click history:Category_2089084275  \\\n",
       "Session ID                                      \n",
       "932                                         0   \n",
       "932                                         0   \n",
       "932                                         0   \n",
       "932                                         0   \n",
       "932                                         0   \n",
       "\n",
       "            click history:Category_2089759631  \\\n",
       "Session ID                                      \n",
       "932                                         0   \n",
       "932                                         0   \n",
       "932                                         0   \n",
       "932                                         0   \n",
       "932                                         0   \n",
       "\n",
       "            click history:Category_2089314197  \\\n",
       "Session ID                                      \n",
       "932                                         0   \n",
       "932                                         0   \n",
       "932                                         0   \n",
       "932                                         0   \n",
       "932                                         0   \n",
       "\n",
       "            click history:Category_2088970021  click history:Category_8  \\\n",
       "Session ID                                                                \n",
       "932                                         0                         0   \n",
       "932                                         0                         0   \n",
       "932                                         0                         0   \n",
       "932                                         0                         0   \n",
       "932                                         0                         0   \n",
       "\n",
       "            click history:Category_2089580928  \\\n",
       "Session ID                                      \n",
       "932                                         0   \n",
       "932                                         0   \n",
       "932                                         0   \n",
       "932                                         0   \n",
       "932                                         0   \n",
       "\n",
       "            click history:Category_193469695  \\\n",
       "Session ID                                     \n",
       "932                                        0   \n",
       "932                                        0   \n",
       "932                                        0   \n",
       "932                                        0   \n",
       "932                                        0   \n",
       "\n",
       "            click history:Category_2089573539  \\\n",
       "Session ID                                      \n",
       "932                                         0   \n",
       "932                                         0   \n",
       "932                                         0   \n",
       "932                                         0   \n",
       "932                                         0   \n",
       "\n",
       "            click history:Category_2089314263  \n",
       "Session ID                                     \n",
       "932                                         0  \n",
       "932                                         0  \n",
       "932                                         0  \n",
       "932                                         0  \n",
       "932                                         0  \n",
       "\n",
       "[5 rows x 1810 columns]"
      ]
     },
     "execution_count": 30,
     "metadata": {},
     "output_type": "execute_result"
    }
   ],
   "source": [
    "merged2.head()"
   ]
  },
  {
   "cell_type": "markdown",
   "metadata": {},
   "source": [
    "tffm"
   ]
  },
  {
   "cell_type": "code",
   "execution_count": 31,
   "metadata": {},
   "outputs": [],
   "source": [
    "model = TFFMRegressor(\n",
    "    order=2,\n",
    "    rank=7,\n",
    "    optimizer=tf.train.AdamOptimizer(learning_rate=0.1),\n",
    "    n_epochs=100,\n",
    "    batch_size=-1,\n",
    "    init_std=0.001,\n",
    "    input_type='dense'\n",
    ")"
   ]
  },
  {
   "cell_type": "code",
   "execution_count": 32,
   "metadata": {},
   "outputs": [],
   "source": [
    "X = np.array(merged2.iloc[:,1:])\n",
    "X = np.nan_to_num(X)\n",
    "y = np.array(merged2['Quantity'].values)"
   ]
  },
  {
   "cell_type": "code",
   "execution_count": 33,
   "metadata": {},
   "outputs": [],
   "source": [
    "X_tr, X_te, y_tr, y_te = train_test_split(X, y, test_size=0.2)"
   ]
  },
  {
   "cell_type": "code",
   "execution_count": 34,
   "metadata": {},
   "outputs": [
    {
     "data": {
      "text/plain": [
       "(106956, 1810)"
      ]
     },
     "execution_count": 34,
     "metadata": {},
     "output_type": "execute_result"
    }
   ],
   "source": [
    "merged2.shape"
   ]
  },
  {
   "cell_type": "code",
   "execution_count": 35,
   "metadata": {},
   "outputs": [],
   "source": [
    "X_te, X_te_cs, y_te, y_te_cs = train_test_split(X_te, y_te, test_size=0.5)"
   ]
  },
  {
   "cell_type": "code",
   "execution_count": 36,
   "metadata": {},
   "outputs": [],
   "source": [
    "cold_start = pd.DataFrame(X_te_cs, columns=merged2.columns[1:])"
   ]
  },
  {
   "cell_type": "code",
   "execution_count": 37,
   "metadata": {},
   "outputs": [],
   "source": [
    "for column in cold_start.columns:\n",
    "    if ('buy' in column or 'click' in column) and ('Category' not in column):\n",
    "        cold_start[column] = 0"
   ]
  },
  {
   "cell_type": "code",
   "execution_count": 51,
   "metadata": {},
   "outputs": [],
   "source": [
    "# for column in cold_start.columns:\n",
    "#     if ('buy' in column or 'click' in column): #and ('Category' not in column):\n",
    "#         print(column)"
   ]
  },
  {
   "cell_type": "code",
   "execution_count": 49,
   "metadata": {},
   "outputs": [
    {
     "data": {
      "text/plain": [
       "Index(['Category_0', 'Category_10052', 'Category_1015', 'Category_10157',\n",
       "       'Category_1024', 'Category_10261', 'Category_1036', 'Category_10366',\n",
       "       'Category_10367', 'Category_1037',\n",
       "       ...\n",
       "       'click history:Category_2089251022',\n",
       "       'click history:Category_2089084275',\n",
       "       'click history:Category_2089759631',\n",
       "       'click history:Category_2089314197',\n",
       "       'click history:Category_2088970021', 'click history:Category_8',\n",
       "       'click history:Category_2089580928', 'click history:Category_193469695',\n",
       "       'click history:Category_2089573539',\n",
       "       'click history:Category_2089314263'],\n",
       "      dtype='object', length=1809)"
      ]
     },
     "execution_count": 49,
     "metadata": {},
     "output_type": "execute_result"
    }
   ],
   "source": [
    "cold_start.columns"
   ]
  },
  {
   "cell_type": "code",
   "execution_count": 38,
   "metadata": {},
   "outputs": [
    {
     "data": {
      "text/plain": [
       "(85564, 1809)"
      ]
     },
     "execution_count": 38,
     "metadata": {},
     "output_type": "execute_result"
    }
   ],
   "source": [
    "X_tr.shape"
   ]
  },
  {
   "cell_type": "code",
   "execution_count": 39,
   "metadata": {},
   "outputs": [
    {
     "data": {
      "text/plain": [
       "(85564,)"
      ]
     },
     "execution_count": 39,
     "metadata": {},
     "output_type": "execute_result"
    }
   ],
   "source": [
    "y_tr.shape"
   ]
  },
  {
   "cell_type": "code",
   "execution_count": 40,
   "metadata": {},
   "outputs": [
    {
     "data": {
      "text/plain": [
       "True"
      ]
     },
     "execution_count": 40,
     "metadata": {},
     "output_type": "execute_result"
    }
   ],
   "source": [
    "X_tr.shape[0] == y_tr.shape[0]"
   ]
  },
  {
   "cell_type": "code",
   "execution_count": 41,
   "metadata": {},
   "outputs": [
    {
     "name": "stdout",
     "output_type": "stream",
     "text": [
      "WARNING:tensorflow:Variable += will be deprecated. Use variable.assign_add if you want assignment to the variable value or 'x = x + y' if you want a new python Tensor object.\n"
     ]
    },
    {
     "name": "stderr",
     "output_type": "stream",
     "text": [
      "100%|█████████████████████████████████████| 100/100 [02:04<00:00,  1.25s/epoch]\n"
     ]
    }
   ],
   "source": [
    "model.fit(X_tr, y_tr, show_progress=True)"
   ]
  },
  {
   "cell_type": "code",
   "execution_count": 42,
   "metadata": {},
   "outputs": [
    {
     "name": "stdout",
     "output_type": "stream",
     "text": [
      "MSE: 1.1836070140113997\n",
      "Cold-start MSE: 1.197469593890877\n"
     ]
    }
   ],
   "source": [
    "# model.fit(X_tr, y_tr, show_progress=True)\n",
    "predictions = model.predict(X_te)\n",
    "\n",
    "cold_start_predictions = model.predict(X_te_cs)\n",
    "print('MSE: {}'.format(mean_squared_error(y_te, predictions)))\n",
    "print('Cold-start MSE: {}'.format(mean_squared_error(y_te_cs, cold_start_predictions)))\n",
    "# model.destroy()"
   ]
  }
 ],
 "metadata": {
  "kernelspec": {
   "display_name": "Python 3",
   "language": "python",
   "name": "python3"
  },
  "language_info": {
   "codemirror_mode": {
    "name": "ipython",
    "version": 3
   },
   "file_extension": ".py",
   "mimetype": "text/x-python",
   "name": "python",
   "nbconvert_exporter": "python",
   "pygments_lexer": "ipython3",
   "version": "3.6.5"
  }
 },
 "nbformat": 4,
 "nbformat_minor": 2
}
