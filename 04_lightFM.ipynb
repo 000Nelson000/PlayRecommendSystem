{
 "cells": [
  {
   "cell_type": "markdown",
   "metadata": {},
   "source": [
    "# Light FM\n",
    "\n",
    "use items' and users' features "
   ]
  },
  {
   "cell_type": "code",
   "execution_count": 2,
   "metadata": {
    "collapsed": false
   },
   "outputs": [
    {
     "name": "stdout",
     "output_type": "stream",
     "text": [
      " 磁碟區 C 中的磁碟是 SYSTEM\n",
      " 磁碟區序號:  7CDE-EF88\n",
      "\n",
      " C:\\Info_Center\\DBMTeam\\DBM個人資料\\Ihong\\RS\\PlayRecommendSystem 的目錄\n",
      "\n",
      "2017/10/06  下午 02:34    <DIR>          .\n",
      "2017/10/06  下午 02:34    <DIR>          ..\n",
      "2017/10/05  下午 04:19                40 .gitignore\n",
      "2017/10/06  下午 02:25    <DIR>          .ipynb_checkpoints\n",
      "2017/10/05  下午 04:19             4,434 01_explict_CF_intro.ipynb\n",
      "2017/10/05  下午 02:41           116,025 02_explicit_ALS_SGD.ipynb\n",
      "2017/10/06  下午 02:08            36,805 03_implict_ALS_sketchlab.ipynb\n",
      "2017/10/06  下午 02:31             2,638 04_lightFM.ipynb\n",
      "2017/10/05  下午 04:19            12,046 explict_CF.py\n",
      "2017/10/05  下午 03:05             6,517 helpers.py\n",
      "2017/10/06  下午 02:27    <DIR>          implicit\n",
      "2017/10/05  下午 04:19    <DIR>          ml-100k\n",
      "2017/10/05  下午 04:19               228 README.md\n",
      "2017/10/05  下午 04:28    <DIR>          rec-a-sketch\n",
      "               8 個檔案         178,733 位元組\n",
      "               6 個目錄  66,611,601,408 位元組可用\n"
     ]
    }
   ],
   "source": [
    "!dir"
   ]
  },
  {
   "cell_type": "code",
   "execution_count": 21,
   "metadata": {
    "collapsed": false
   },
   "outputs": [],
   "source": [
    "%matplotlib inline\n",
    "import matplotlib.pyplot as plt \n",
    "import numpy as np \n",
    "import pandas as pd\n",
    "import scipy.sparse as sp\n",
    "from scipy.special import expit ## ??\n",
    "import pickle\n",
    "import csv\n",
    "import copy \n",
    "import itertools\n",
    "from lightfm import LightFM\n",
    "import lightfm.evaluation\n",
    "import sys\n",
    "import helpers\n",
    "plt.style.use('ggplot')"
   ]
  },
  {
   "cell_type": "code",
   "execution_count": 2,
   "metadata": {
    "collapsed": false
   },
   "outputs": [
    {
     "data": {
      "text/html": [
       "<div>\n",
       "<table border=\"1\" class=\"dataframe\">\n",
       "  <thead>\n",
       "    <tr style=\"text-align: right;\">\n",
       "      <th></th>\n",
       "      <th>modelname</th>\n",
       "      <th>mid</th>\n",
       "      <th>uid</th>\n",
       "    </tr>\n",
       "  </thead>\n",
       "  <tbody>\n",
       "    <tr>\n",
       "      <th>0</th>\n",
       "      <td>3D fanart Noel From Sora no Method</td>\n",
       "      <td>5dcebcfaedbd4e7b8a27bd1ae55f1ac3</td>\n",
       "      <td>7ac1b40648fff523d7220a5d07b04d9b</td>\n",
       "    </tr>\n",
       "    <tr>\n",
       "      <th>1</th>\n",
       "      <td>3D fanart Noel From Sora no Method</td>\n",
       "      <td>5dcebcfaedbd4e7b8a27bd1ae55f1ac3</td>\n",
       "      <td>2b4ad286afe3369d39f1bb7aa2528bc7</td>\n",
       "    </tr>\n",
       "    <tr>\n",
       "      <th>2</th>\n",
       "      <td>3D fanart Noel From Sora no Method</td>\n",
       "      <td>5dcebcfaedbd4e7b8a27bd1ae55f1ac3</td>\n",
       "      <td>1bf0993ebab175a896ac8003bed91b4b</td>\n",
       "    </tr>\n",
       "    <tr>\n",
       "      <th>3</th>\n",
       "      <td>3D fanart Noel From Sora no Method</td>\n",
       "      <td>5dcebcfaedbd4e7b8a27bd1ae55f1ac3</td>\n",
       "      <td>6484211de8b9a023a7d9ab1641d22e7c</td>\n",
       "    </tr>\n",
       "    <tr>\n",
       "      <th>4</th>\n",
       "      <td>3D fanart Noel From Sora no Method</td>\n",
       "      <td>5dcebcfaedbd4e7b8a27bd1ae55f1ac3</td>\n",
       "      <td>1109ee298494fbd192e27878432c718a</td>\n",
       "    </tr>\n",
       "  </tbody>\n",
       "</table>\n",
       "</div>"
      ],
      "text/plain": [
       "                            modelname                               mid  \\\n",
       "0  3D fanart Noel From Sora no Method  5dcebcfaedbd4e7b8a27bd1ae55f1ac3   \n",
       "1  3D fanart Noel From Sora no Method  5dcebcfaedbd4e7b8a27bd1ae55f1ac3   \n",
       "2  3D fanart Noel From Sora no Method  5dcebcfaedbd4e7b8a27bd1ae55f1ac3   \n",
       "3  3D fanart Noel From Sora no Method  5dcebcfaedbd4e7b8a27bd1ae55f1ac3   \n",
       "4  3D fanart Noel From Sora no Method  5dcebcfaedbd4e7b8a27bd1ae55f1ac3   \n",
       "\n",
       "                                uid  \n",
       "0  7ac1b40648fff523d7220a5d07b04d9b  \n",
       "1  2b4ad286afe3369d39f1bb7aa2528bc7  \n",
       "2  1bf0993ebab175a896ac8003bed91b4b  \n",
       "3  6484211de8b9a023a7d9ab1641d22e7c  \n",
       "4  1109ee298494fbd192e27878432c718a  "
      ]
     },
     "execution_count": 2,
     "metadata": {},
     "output_type": "execute_result"
    }
   ],
   "source": [
    "df = pd.read_csv('rec-a-sketch/model_likes_anon.psv',\n",
    "                sep='|', quoting=csv.QUOTE_MINIMAL,\n",
    "                quotechar = '\\\\')\n",
    "df.drop_duplicates(inplace=True)\n",
    "df.head()"
   ]
  },
  {
   "cell_type": "code",
   "execution_count": 3,
   "metadata": {
    "collapsed": false
   },
   "outputs": [
    {
     "name": "stdout",
     "output_type": "stream",
     "text": [
      "Starting interactions info\n",
      "Number of rows: 62583\n",
      "Number of cols: 28806\n",
      "Sparsity: 0.035%\n",
      "Ending interactions info\n",
      "Number of rows: 15274\n",
      "Number of columns: 25655\n",
      "Sparsity: 0.140%\n"
     ]
    }
   ],
   "source": [
    "# Threshold data to only include users and models with min 5 likes\n",
    "df = helpers.threshold_interactions_df(df,'uid','mid',5,5)"
   ]
  },
  {
   "cell_type": "code",
   "execution_count": 4,
   "metadata": {
    "collapsed": false
   },
   "outputs": [
    {
     "data": {
      "text/plain": [
       "<15274x25655 sparse matrix of type '<class 'numpy.float64'>'\n",
       "\twith 547477 stored elements in Compressed Sparse Row format>"
      ]
     },
     "execution_count": 4,
     "metadata": {},
     "output_type": "execute_result"
    }
   ],
   "source": [
    "# Go from dataframe to likes matrix \n",
    "# Also buid index to ID mappers.\n",
    "likes, uid_to_idx, idx_to_uid, \\\n",
    "mid_to_idx, idx_to_mid = helpers.df_to_matrix(df,'uid','mid')\n",
    "\n",
    "likes"
   ]
  },
  {
   "cell_type": "code",
   "execution_count": 5,
   "metadata": {
    "collapsed": true
   },
   "outputs": [],
   "source": [
    "train,test,user_index = helpers.train_test_split(likes,5,0.2)"
   ]
  },
  {
   "cell_type": "code",
   "execution_count": 6,
   "metadata": {
    "collapsed": false
   },
   "outputs": [
    {
     "name": "stdout",
     "output_type": "stream",
     "text": [
      "<15274x25655 sparse matrix of type '<class 'numpy.float64'>'\n",
      "\twith 532207 stored elements in Compressed Sparse Row format> \n",
      " <15274x25655 sparse matrix of type '<class 'numpy.float64'>'\n",
      "\twith 15270 stored elements in Compressed Sparse Row format>\n"
     ]
    }
   ],
   "source": [
    "print(repr(train),'\\n',repr(test))"
   ]
  },
  {
   "cell_type": "markdown",
   "metadata": {},
   "source": [
    "To copy the training data to only include users with data in the test set."
   ]
  },
  {
   "cell_type": "code",
   "execution_count": 7,
   "metadata": {
    "collapsed": false
   },
   "outputs": [],
   "source": [
    "eval_train = train.copy()\n",
    "non_eval_users = list(set(range(train.shape[0])) - set(user_index))\n",
    "\n",
    "eval_train = eval_train.tolil()\n",
    "for u in non_eval_users:\n",
    "    eval_train[u, :] = 0.0\n",
    "eval_train = eval_train.tocsr()"
   ]
  },
  {
   "cell_type": "markdown",
   "metadata": {},
   "source": [
    "## one-hot-encode  side information"
   ]
  },
  {
   "cell_type": "code",
   "execution_count": 8,
   "metadata": {
    "collapsed": false
   },
   "outputs": [
    {
     "data": {
      "text/html": [
       "<div>\n",
       "<table border=\"1\" class=\"dataframe\">\n",
       "  <thead>\n",
       "    <tr style=\"text-align: right;\">\n",
       "      <th></th>\n",
       "      <th>mid</th>\n",
       "      <th>type</th>\n",
       "      <th>value</th>\n",
       "    </tr>\n",
       "  </thead>\n",
       "  <tbody>\n",
       "    <tr>\n",
       "      <th>0</th>\n",
       "      <td>5dcebcfaedbd4e7b8a27bd1ae55f1ac3</td>\n",
       "      <td>category</td>\n",
       "      <td>Characters</td>\n",
       "    </tr>\n",
       "    <tr>\n",
       "      <th>1</th>\n",
       "      <td>5dcebcfaedbd4e7b8a27bd1ae55f1ac3</td>\n",
       "      <td>category</td>\n",
       "      <td>Gaming</td>\n",
       "    </tr>\n",
       "    <tr>\n",
       "      <th>2</th>\n",
       "      <td>5dcebcfaedbd4e7b8a27bd1ae55f1ac3</td>\n",
       "      <td>tag</td>\n",
       "      <td>3dsmax</td>\n",
       "    </tr>\n",
       "  </tbody>\n",
       "</table>\n",
       "</div>"
      ],
      "text/plain": [
       "                                mid      type       value\n",
       "0  5dcebcfaedbd4e7b8a27bd1ae55f1ac3  category  Characters\n",
       "1  5dcebcfaedbd4e7b8a27bd1ae55f1ac3  category      Gaming\n",
       "2  5dcebcfaedbd4e7b8a27bd1ae55f1ac3       tag      3dsmax"
      ]
     },
     "execution_count": 8,
     "metadata": {},
     "output_type": "execute_result"
    }
   ],
   "source": [
    "sideinfo = pd.read_csv('./rec-a-sketch/model_feats.psv',\n",
    "                      sep = '|', quoting=csv.QUOTE_MINIMAL,\n",
    "                      quotechar='\\\\')\n",
    "sideinfo.head(3)"
   ]
  },
  {
   "cell_type": "code",
   "execution_count": 9,
   "metadata": {
    "collapsed": false
   },
   "outputs": [
    {
     "name": "stdout",
     "output_type": "stream",
     "text": [
      "category Characters\n",
      "category Gaming\n",
      "tag 3dsmax\n",
      "tag noel\n",
      "tag loli\n",
      "tag anime\n"
     ]
    }
   ],
   "source": [
    "for idx,row in sideinfo.iterrows():\n",
    "    if idx > 5 :\n",
    "        break\n",
    "    else :\n",
    "        print(row.type,row.value)"
   ]
  },
  {
   "cell_type": "code",
   "execution_count": 10,
   "metadata": {
    "collapsed": false
   },
   "outputs": [],
   "source": [
    "# Build list of dictionaries containing features and \n",
    "# weights in same order as idx_to_mid prescribes\n",
    "feat_dlist = [{} for _ in idx_to_mid]\n",
    "for idx, row in sideinfo.iterrows():\n",
    "    feat_key = '{}_{}'.format(row.type, str(row.value).lower())\n",
    "    idx = mid_to_idx.get(row.mid)\n",
    "    if idx is not None:\n",
    "        feat_dlist[idx][feat_key] = 1\n"
   ]
  },
  {
   "cell_type": "code",
   "execution_count": 11,
   "metadata": {
    "collapsed": false
   },
   "outputs": [
    {
     "data": {
      "text/plain": [
       "{'category_characters': 1,\n",
       " 'category_gaming': 1,\n",
       " 'tag_leagueoflegends': 1,\n",
       " 'tag_lol': 1}"
      ]
     },
     "execution_count": 11,
     "metadata": {},
     "output_type": "execute_result"
    }
   ],
   "source": [
    "feat_dlist[1]"
   ]
  },
  {
   "cell_type": "code",
   "execution_count": 12,
   "metadata": {
    "collapsed": true
   },
   "outputs": [],
   "source": [
    "from sklearn.feature_extraction import DictVectorizer"
   ]
  },
  {
   "cell_type": "code",
   "execution_count": 13,
   "metadata": {
    "collapsed": true
   },
   "outputs": [],
   "source": [
    "dv = DictVectorizer()\n",
    "item_features = dv.fit_transform(feat_dlist)"
   ]
  },
  {
   "cell_type": "markdown",
   "metadata": {},
   "source": [
    "`items - features`"
   ]
  },
  {
   "cell_type": "code",
   "execution_count": 14,
   "metadata": {
    "collapsed": false
   },
   "outputs": [
    {
     "data": {
      "text/plain": [
       "<25655x20352 sparse matrix of type '<class 'numpy.float64'>'\n",
       "\twith 161510 stored elements in Compressed Sparse Row format>"
      ]
     },
     "execution_count": 14,
     "metadata": {},
     "output_type": "execute_result"
    }
   ],
   "source": [
    "item_features"
   ]
  },
  {
   "cell_type": "markdown",
   "metadata": {},
   "source": [
    "## Training\n",
    "\n",
    "Weighted Approximated Rank Pairwise on LightFM on default setting and ignore item features to start."
   ]
  },
  {
   "cell_type": "code",
   "execution_count": 15,
   "metadata": {
    "collapsed": true
   },
   "outputs": [],
   "source": [
    "def print_log(row, header=False, spacing=12):\n",
    "    top = ''\n",
    "    middle = ''\n",
    "    bottom = ''\n",
    "    for r in row:\n",
    "        top += '+{}'.format('-'*spacing)\n",
    "        if isinstance(r, str):\n",
    "            middle += '| {0:^{1}} '.format(r, spacing-2)\n",
    "        elif isinstance(r, int):\n",
    "            middle += '| {0:^{1}} '.format(r, spacing-2)\n",
    "        elif (isinstance(r, float)\n",
    "              or isinstance(r, np.float32)\n",
    "              or isinstance(r, np.float64)):\n",
    "            middle += '| {0:^{1}.5f} '.format(r, spacing-2)\n",
    "        bottom += '+{}'.format('='*spacing)\n",
    "    top += '+'\n",
    "    middle += '|'\n",
    "    bottom += '+'\n",
    "    if header:\n",
    "        print(top)\n",
    "        print(middle)\n",
    "        print(bottom)\n",
    "    else:\n",
    "        print(middle)\n",
    "        print(top)\n",
    "        \n",
    "def patk_learning_curve(model, train, test, eval_train,\n",
    "                        iterarray, user_features=None,\n",
    "                        item_features=None, k=5,\n",
    "                        **fit_params):\n",
    "    old_epoch = 0\n",
    "    train_patk = []\n",
    "    test_patk = []\n",
    "    headers = ['Epoch', 'train p@5', 'test p@5']\n",
    "    print_log(headers, header=True)\n",
    "    for epoch in iterarray:\n",
    "        more = epoch - old_epoch\n",
    "        model.fit_partial(train, user_features=user_features,\n",
    "                          item_features=item_features,\n",
    "                          epochs=more, **fit_params)\n",
    "        this_test = lightfm.evaluation.precision_at_k(model, test, train_interactions=None, k=k)\n",
    "        this_train = lightfm.evaluation.precision_at_k(model, eval_train, train_interactions=None, k=k)\n",
    "\n",
    "        train_patk.append(np.mean(this_train))\n",
    "        test_patk.append(np.mean(this_test))\n",
    "        row = [epoch, train_patk[-1], test_patk[-1]]\n",
    "        print_log(row)\n",
    "    return model, train_patk, test_patk"
   ]
  },
  {
   "cell_type": "code",
   "execution_count": 16,
   "metadata": {
    "collapsed": false
   },
   "outputs": [
    {
     "name": "stdout",
     "output_type": "stream",
     "text": [
      "+------------+------------+------------+\n",
      "|   Epoch    | train p@5  |  test p@5  |\n",
      "+============+============+============+\n",
      "|     10     |  0.14231   |  0.02423   |\n",
      "+------------+------------+------------+\n",
      "|     20     |  0.16320   |  0.03078   |\n",
      "+------------+------------+------------+\n",
      "|     30     |  0.17420   |  0.03176   |\n",
      "+------------+------------+------------+\n",
      "|     40     |  0.17636   |  0.03274   |\n",
      "+------------+------------+------------+\n",
      "|     50     |  0.17420   |  0.03392   |\n",
      "+------------+------------+------------+\n",
      "|     60     |  0.17583   |  0.03353   |\n",
      "+------------+------------+------------+\n",
      "|     70     |  0.17453   |  0.03307   |\n",
      "+------------+------------+------------+\n",
      "|     80     |  0.17531   |  0.03255   |\n",
      "+------------+------------+------------+\n",
      "|     90     |  0.17367   |  0.03215   |\n",
      "+------------+------------+------------+\n",
      "|    100     |  0.17420   |  0.03229   |\n",
      "+------------+------------+------------+\n"
     ]
    }
   ],
   "source": [
    "model = LightFM(loss='warp', random_state=2016)\n",
    "# Initialize model.\n",
    "model.fit(train,epochs=0);\n",
    "iterarray = range(10,110,10)\n",
    "\n",
    "model, train_patk, test_patk = patk_learning_curve(\n",
    "    model, train, test, eval_train, iterarray, k=5, **{'num_threads': 1}\n",
    ")"
   ]
  },
  {
   "cell_type": "code",
   "execution_count": 27,
   "metadata": {
    "collapsed": false
   },
   "outputs": [
    {
     "data": {
      "image/png": "[encoded data removed]",
      "text/plain": [
       "<matplotlib.figure.Figure at 0x4f54f7e10>"
      ]
     },
     "metadata": {},
     "output_type": "display_data"
    }
   ],
   "source": [
    "import seaborn as sns\n",
    "sns.set_style('white')\n",
    "# ?sns.set_style\n",
    "def plot_patk(iterarray, patk,\n",
    "              title, k=5):\n",
    "    plt.plot(iterarray, patk);\n",
    "    plt.title(title, fontsize=20);\n",
    "    plt.xlabel('Epochs', fontsize=24);\n",
    "    plt.ylabel('p@{}'.format(k), fontsize=24);\n",
    "    plt.xticks(fontsize=10);\n",
    "    plt.yticks(fontsize=10);\n",
    "\n",
    "# Plot train on left\n",
    "ax = plt.subplot(1, 2, 1)\n",
    "fig = ax.get_figure();\n",
    "sns.despine(fig);\n",
    "plot_patk(iterarray, train_patk,\n",
    "         'Train', k=5)\n",
    "\n",
    "# Plot test on right\n",
    "ax = plt.subplot(1, 2, 2)\n",
    "fig = ax.get_figure();\n",
    "sns.despine(fig);\n",
    "plot_patk(iterarray, test_patk,\n",
    "         'Test', k=5)\n",
    "\n",
    "plt.tight_layout();"
   ]
  },
  {
   "cell_type": "markdown",
   "metadata": {
    "collapsed": true
   },
   "source": [
    "## Optimizing Hyperparameters with \n",
    "`scikit-optimize`\n",
    "\n",
    "skip"
   ]
  },
  {
   "cell_type": "markdown",
   "metadata": {},
   "source": [
    "# Learning to Rank + Side information"
   ]
  },
  {
   "cell_type": "code",
   "execution_count": 36,
   "metadata": {
    "collapsed": false
   },
   "outputs": [],
   "source": [
    "eye = sp.eye(item_features.shape[0],item_features.shape[0]).tocsr()\n",
    "item_features_concat = sp.hstack((eye,item_features))\n",
    "item_features_concat = item_features_concat.tocsr().astype(np.float32)"
   ]
  },
  {
   "cell_type": "code",
   "execution_count": 40,
   "metadata": {
    "collapsed": false
   },
   "outputs": [
    {
     "ename": "ImportError",
     "evalue": "No module named 'skopt'",
     "output_type": "error",
     "traceback": [
      "\u001b[0;31m---------------------------------------------------------------------------\u001b[0m",
      "\u001b[0;31mImportError\u001b[0m                               Traceback (most recent call last)",
      "\u001b[0;32m<ipython-input-40-dd0f11e1688c>\u001b[0m in \u001b[0;36m<module>\u001b[0;34m()\u001b[0m\n\u001b[0;32m----> 1\u001b[0;31m \u001b[1;32mfrom\u001b[0m \u001b[0mskopt\u001b[0m \u001b[1;32mimport\u001b[0m \u001b[0mforest_minimize\u001b[0m\u001b[1;33m\u001b[0m\u001b[0m\n\u001b[0m",
      "\u001b[0;31mImportError\u001b[0m: No module named 'skopt'"
     ]
    }
   ],
   "source": [
    "from skopt import forest_minimize"
   ]
  },
  {
   "cell_type": "code",
   "execution_count": 39,
   "metadata": {
    "collapsed": false
   },
   "outputs": [],
   "source": [
    "def objective_wsideinfo(params):\n",
    "    # unpack\n",
    "    epochs, learning_rate,\\\n",
    "    no_components, item_alpha,\\\n",
    "    scale = params\n",
    "    \n",
    "    user_alpha = item_alpha * scale\n",
    "    model = LightFM(loss='warp',\n",
    "                    random_state=2016,\n",
    "                    learning_rate=learning_rate,\n",
    "                    no_components=no_components,\n",
    "                    user_alpha=user_alpha,\n",
    "                    item_alpha=item_alpha)\n",
    "    model.fit(train, epochs=epochs,\n",
    "              item_features=item_features_concat,\n",
    "              num_threads=4, verbose=True)\n",
    "    \n",
    "    patks = lightfm.evaluation.precision_at_k(model, test,\n",
    "                                              item_features=item_features_concat,\n",
    "                                              train_interactions=None,\n",
    "                                              k=5, num_threads=3)\n",
    "    mapatk = np.mean(patks)\n",
    "    # Make negative because we want to _minimize_ objective\n",
    "    out = -mapatk\n",
    "    # Weird shit going on\n",
    "    if np.abs(out + 1) < 0.01 or out < -1.0:\n",
    "        return 0.0\n",
    "    else:\n",
    "        return out"
   ]
  },
  {
   "cell_type": "code",
   "execution_count": null,
   "metadata": {
    "collapsed": true
   },
   "outputs": [],
   "source": []
  }
 ],
 "metadata": {
  "anaconda-cloud": {},
  "kernelspec": {
   "display_name": "Python [conda root]",
   "language": "python",
   "name": "conda-root-py"
  },
  "language_info": {
   "codemirror_mode": {
    "name": "ipython",
    "version": 3
   },
   "file_extension": ".py",
   "mimetype": "text/x-python",
   "name": "python",
   "nbconvert_exporter": "python",
   "pygments_lexer": "ipython3",
   "version": "3.5.2"
  }
 },
 "nbformat": 4,
 "nbformat_minor": 1
}
